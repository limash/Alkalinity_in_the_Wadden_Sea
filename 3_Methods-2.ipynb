{
 "cells": [
  {
   "cell_type": "code",
   "execution_count": 12,
   "metadata": {},
   "outputs": [],
   "source": [
    "import numpy as np\n",
    "import plot_functions as pf\n",
    "import utilities2 as ut2\n",
    "import brom_functions as bf"
   ]
  },
  {
   "cell_type": "markdown",
   "metadata": {},
   "source": [
    "### Methods 2 - the biogeochemical model"
   ]
  },
  {
   "cell_type": "markdown",
   "metadata": {},
   "source": [
    "The biogeochemical model contains the following state variables: autotrophs,\n",
    "$\\text{Phy}\\ \\lbrack\\text{mg C m}^{- 3}\\rbrack$; heterotrophs,\n",
    "$\\text{Het}\\ \\lbrack\\text{mg C m}^{- 3}\\rbrack$;\n",
    "$\\text{NH}_{4}^{+}\\ \\lbrack\\text{mM N m}^{- 3}\\rbrack$;\n",
    "$\\text{NO}_{2}^{-}\\ \\lbrack\\text{mM N m}^{- 3}\\rbrack$;\n",
    "$\\text{NO}_{3}^{-}\\ \\lbrack\\text{mM N m}^{- 3}\\rbrack$;\n",
    "$\\text{Si}\\ \\lbrack\\text{mM Si m}^{- 3}\\rbrack$;\n",
    "$\\text{PO}_{4}^{3 -}\\ \\lbrack\\text{mM P m}^{- 3}\\rbrack$;\n",
    "$O_{2}\\ \\lbrack\\text{mM O}_{2}\\ m^{- 3}\\rbrack$;\n",
    "$\\text{SO}_{4}^{2 -}\\ \\lbrack\\text{mM S m}^{- 3}\\rbrack$;\n",
    "$S_{2}O_{3}^{2 -}\\ \\lbrack\\text{mM S m}^{- 3}\\rbrack$;\n",
    "$S^{0}\\ \\lbrack\\text{mM S m}^{- 3}\\rbrack$;\n",
    "$H_{2}S\\ \\lbrack\\text{mM S m}^{- 3}\\rbrack$; dissolved inorganic\n",
    "carbon, $\\text{DIC}\\ \\lbrack\\text{mM C m}^{- 3}\\rbrack$; particulate\n",
    "OM ($\\text{POM}\\ \\lbrack\\text{mg C m}^{- 3}\\rbrack$) ; dissolved OM\n",
    "($\\text{DOM}\\ \\lbrack\\text{mg C m}^{- 3}\\rbrack$);\n",
    "$\\text{TA}\\ \\lbrack\\text{mM}m^{- 3}\\rbrack$. $P\\text{OM}$ and\n",
    "$D\\text{OM}$ have a Redfield stoichiometry of $106C:16N:1P$."
   ]
  },
  {
   "cell_type": "markdown",
   "metadata": {},
   "source": [
    "#### Phototrophic producers\n",
    "\n",
    "Phototrophic producers' growth $\\text{Phy}_{\\text{growth}} = \\mu \\cdot \\lbrack\\text{Phy}\\rbrack$ is parametrized according to the empirical equation that describes the phytoplankton daily specific growth rate $\\mu\\ \\lbrack d^{- 1}\\rbrack$ as a function of the specific photosynthetic rate of biomass\n",
    "$P^{B}\\ \\lbrack{mg\\ C\\ (mg\\ Chl\\ a\\ d)}^{- 1}\\rbrack$ and the $\\frac{\\text{Chl a}}{C}$ ratio $\\lbrack{mg\\ Chl\\ a\\ (mg\\ C)}^{- 1}\\rbrack$ (Cloern et al., 1995):"
   ]
  },
  {
   "cell_type": "markdown",
   "metadata": {},
   "source": [
    "$\\mu = 0.85P^{B}\\frac{\\text{Chl a}}{C} - 0.015$,\n",
    "\n",
    "$P^{B} = Dp_{m}^{B}(1 - \\exp\\frac{I_{t}\\alpha}{p_{m}^{B}})$,\n",
    "\n",
    "$\\frac{\\text{Chl a}}{C} = 0.003 + 0.0154e^{0.050T}e^{- 0.059I}\\tau$."
   ]
  },
  {
   "cell_type": "markdown",
   "metadata": {},
   "source": [
    "Here, $D$ is the photoperiod $\\lbrack h\\rbrack$ , calculated according to (Fennel and Neumann, 2014),\n",
    "$p_{m}^{B}$ is the maximum hourly rate of photosynthesis normalized to chlorophyll biomass $\\lbrack\\text{mg}\\ C\\ (\\text{mg}\\ \\text{Chl a}\\ h)^{- 1}\\rbrack$,\n",
    "$I_{t}$ is the instantaneous photosynthetically active radiation ($\\text{PAR}$) $\\lbrack\\mu\\text{M quanta m}^{- 2}\\ s^{- 1}\\rbrack$,\n",
    "and $\\alpha$ defines photosynthetic efficiency at low irradiance $\\lbrack\\text{mg}\\ C\\ (\\text{mg}\\ \\text{Chl a}\\ h)^{- 1}\\ (\\mu M\\ \\text{quanta}\\ m^{- 2}\\ s^{- 1})^{- 1}\\rbrack$.\n",
    "$T$ is the temperature $\\lbrack^{\\circ}C\\rbrack$,\n",
    "$I$ is the daily irradiance $\\lbrack\\text{M quanta m}^{- 2}\\ d^{- 1}\\rbrack$,\n",
    "and $\\tau$ is the nutrient-limited growth rate $\\lbrack d^{- 1}\\rbrack$.\n",
    "$\\tau = \\tau_{N}\\tau_{\\text{Si}}\\tau_{PO_{4}^{3 -}}$ where \n",
    "$\\tau_{N}$ is the nitrogen-limited growth rate,\n",
    "$\\tau_{\\text{Si}}$ is the silicon-limited growth rate,\n",
    "and $\\tau_{P}$ is the phosphorus-limited growth rate: $\\tau_{N} = \\tau_{NH_{4}^{+}} + \\tau_{NO_{x}}$,\n",
    "$\\tau_{NH_{4}^{+}} = f_{r}(Ks_{NH_{4}^{+}},\\lbrack$NH$_{4}^{+}\\rbrack)$,\n",
    "$\\tau_{NO_{x}} = f_{r}(Ks_{NO_{x}},\\lbrack\\text{NO}_{2}^{-}\\rbrack + \\lbrack\\text{NO}_{3}^{-}\\rbrack) \\cdot f_{i} (Ks_{NH_{4}^{+}},\\lbrack\\text{NH}_{4}^{+}\\rbrack)$;\n",
    "$\\tau_{\\text{Si}} = f_{r}(Ks_{\\text{Si}},\\lbrack$Si$\\rbrack)$;\n",
    "$\\tau_{PO_{4}^{3 -}} = f_{r}(Ks_{PO_{4}^{3 -}},\\lbrack$PO$_{4}^{3 -}\\rbrack)$.\n",
    "$f_{r}$ and $f_{i}$ are the sigmoid type functional response and inhibitor function, respectively, of the following forms:\n",
    "$f_{r}(Ks_{R},R) = \\frac{R^{2}}{Ks_{R}^{2} + R^{2}}$ and\n",
    "$f_{i}(Ks_{R},R) = \\frac{Ks_{R}^{2}}{Ks_{R}^{2} + R^{2}}$ where\n",
    "R is the limiting or inhibiting resource concentration and $Ks_{R}$ is the corresponding half-saturation constant.\n",
    "Therefore, for example in case of high availability of ammonium\n",
    "($\\lbrack\\text{NH}_{4}^{+}\\rbrack > > Ks_{NH_{4}^{+}}$),\n",
    "$\\tau_{NH_{4}^{+}}$ tends to converge to a value of one while the nitrate and nitrite limiting term $\\tau_{NO_{x}}$ inhibited by ammonium tends to converge to a value of zero."
   ]
  },
  {
   "cell_type": "markdown",
   "metadata": {},
   "source": [
    "For example there is a sigmoid type functional response function:"
   ]
  },
  {
   "cell_type": "code",
   "execution_count": 13,
   "metadata": {},
   "outputs": [],
   "source": [
    "def sigmoid_powered(ks, r):\n",
    "    \"\"\"ks - half-saturation constant\n",
    "       r  - limiting resource\"\"\"\n",
    "    return np.power(r, 2)/(np.power(ks, 2)+np.power(r, 2))"
   ]
  },
  {
   "cell_type": "code",
   "execution_count": 14,
   "metadata": {},
   "outputs": [
    {
     "data": {
      "image/png": "[encoded data removed]",
      "text/plain": [
       "<Figure size 576x144 with 1 Axes>"
      ]
     },
     "metadata": {},
     "output_type": "display_data"
    }
   ],
   "source": [
    "resource = np.arange(0, 300, 0.1)\n",
    "pf.plot_range('$Resource, R$', '$f_r$', 'Sigmoid functional response with R (limiting resource) = 100', resource, sigmoid_powered(100, resource))"
   ]
  },
  {
   "cell_type": "markdown",
   "metadata": {},
   "source": [
    "The sygmoid type functional response function returns values close to 1 when the resource values are much higher then a half-saturation constant, it equals 0.5 when the resouce value matches a half-saturation constant value, and tends to zero when the resource values are much less then a half-saturation constant.\n",
    "Thus using this function we can regulate the limitation of autotrophs' growth by nutrients."
   ]
  },
  {
   "cell_type": "markdown",
   "metadata": {},
   "source": [
    "Get some data of the averaged year and check how functional responses and inhibitors would work together.\n",
    "Here we use the data of the averaged year to calculate ammonium $\\tau_{NH_{4}^{+}}$, nitrates $\\tau_{NO_{x}}$ and a resulting nitrogen $\\tau_{N}$ limiters during a year with the half-saturation constants $Ks_{NH_{4}^{+}} = 7$ $Ks_{NO_{x}}=15$:"
   ]
  },
  {
   "cell_type": "code",
   "execution_count": 15,
   "metadata": {},
   "outputs": [
    {
     "data": {
      "image/png": "[encoded data removed]",
      "text/plain": [
       "<Figure size 576x216 with 1 Axes>"
      ]
     },
     "metadata": {},
     "output_type": "display_data"
    }
   ],
   "source": [
    "par, temperature, no3, nh4, po4, si, irradiance = ut2.get_data() # get data\n",
    "nh4_limiter = bf.phy_nh4_limiter(knh4_lim=7, nh4=nh4) # the ammonium limiter with a half-saturation constant = 7\n",
    "no3_limiter = bf.phy_no3_limiter(knox_lim=15, knh4_lim=7, no3=no3, no2=0, nh4=nh4) # the no3 limiter\n",
    "pf.plot_year_multi((nh4_limiter, 'nh4 limiter'),(no3_limiter, 'no3 limiter'),(no3_limiter+nh4_limiter, 'nitrogen limiter'))"
   ]
  },
  {
   "cell_type": "code",
   "execution_count": 16,
   "metadata": {},
   "outputs": [],
   "source": [
    "ChlCratio = bf.ChlCratio(temperature, irradiance, no3_limiter+nh4_limiter)\n",
    "#pf.plot_year_multi((ChlCratio, 'Chl to C ratio'))"
   ]
  },
  {
   "cell_type": "code",
   "execution_count": 17,
   "metadata": {},
   "outputs": [],
   "source": [
    "PhyBioRate = bf.phy_biorate(D=bf.photoperiod2(55), pbm=3, alpha=0.09, I=par)\n",
    "#pf.plot_year_multi((PhyBioRate, 'Autotrophs biomass specific photosyntethic rate'))"
   ]
  },
  {
   "cell_type": "code",
   "execution_count": 18,
   "metadata": {},
   "outputs": [],
   "source": [
    "def phy_daily_growth(phy_biorate, ChlCratio):\n",
    "    \"\"\"\n",
    "    Coefficiens inside evaluate respiration;\n",
    "    biorate is the daily rate of photosynthesis, [mg C (mg Chl a d)-1]\n",
    "    \"\"\"\n",
    "    answer = 0.85*phy_biorate*ChlCratio-0.015\n",
    "\n",
    "    return answer"
   ]
  },
  {
   "cell_type": "code",
   "execution_count": 19,
   "metadata": {},
   "outputs": [
    {
     "data": {
      "image/png": "[encoded data removed]",
      "text/plain": [
       "<Figure size 576x216 with 1 Axes>"
      ]
     },
     "metadata": {},
     "output_type": "display_data"
    }
   ],
   "source": [
    "daily_growth = phy_daily_growth(PhyBioRate, ChlCratio)\n",
    "pf.plot_year_multi((daily_growth, 'Daily growth of autothrophs'))"
   ]
  },
  {
   "cell_type": "markdown",
   "metadata": {},
   "source": [
    "The phototrophic producers excretion is parametrized as\n",
    "$\\text{Phy}_{\\text{excrete}} = K_{phy\\_ excrete} \\cdot \\lbrack\\text{Phy}\\rbrack$\n",
    "and the phototrophic producers mortality as\n",
    "$\\text{Phy}_{\\text{mortality}} = K_{phy\\_ mortality} \\cdot \\lbrack\\text{Phy}\\rbrack \\cdot \\lbrack\\text{Phy}\\rbrack$\n",
    "where $K_{phy\\_ excrete}$ is the phytoplankton excretion coefficient and\n",
    "$K_{phy\\_ mortality}$ is the phytoplankton mortality coefficient."
   ]
  },
  {
   "cell_type": "markdown",
   "metadata": {},
   "source": [
    "#### Heterotrophs\n",
    "\n",
    "The heterotroph growth parametrization is based on the feeding of\n",
    "heterotrophs on $\\text{Phy}$ and $\\text{POM}$ following (Yakushev et\n",
    "al., 2007) approach, where the carnivore feeding rate depends on the\n",
    "prey to predator ratio:\n",
    "\n",
    "$\\text{Het}_{grazing\\_ phy} = K_{het\\_ phy} \\cdot f_{r}(Ks_{het\\_ phy\\_ ratio},\\frac{\\lbrack Phy\\rbrack}{\\lbrack Het\\rbrack}) \\cdot \\lbrack\\text{Het}\\rbrack$,\n",
    "\n",
    "$\\text{Het}_{grazing\\_ pom} = K_{het\\_ pom} \\cdot f_{r}(Ks_{het\\_ pom\\_ ratio},\\frac{\\lbrack POM\\rbrack}{\\lbrack Het\\rbrack}) \\cdot \\lbrack\\text{Het}\\rbrack$.\n",
    "\n",
    "Here, $K_{het\\_ phy}$ and $K_{het\\_ pom}$ are the coefficients for the\n",
    "feeding of heterotrophs on $\\text{Phy}$ and $\\text{POM}$, respectively.\n",
    "$Ks_{het\\_ phy\\_ ratio}$ and $Ks_{het\\_ pom\\_ ratio}$ are the\n",
    "half-saturation constants which determine the prey to predator ratio\n",
    "where the consumption rate attains 50$\\%$ of its maximal value. $f_{r}$\n",
    "is the sigmoid type functional response.\n",
    "\n",
    "Heterotroph biomass loss consists of respiration and mortality parts:\n",
    "\n",
    "$\\text{Het}_{\\text{respiration}} = K_{het\\_ respiration} \\cdot f_{r\\_ hyperbolic}(Ks_{het\\_ oxygen},\\lbrack O_{2}\\rbrack) \\cdot \\lbrack\\text{Het}\\rbrack$,\n",
    "\n",
    "$\\text{Het}_{\\text{mortality}} = (K_{het\\_ mortality} + f_{i\\_ hyperbolic}(Ks_{het\\_ oxygen},\\lbrack O_{2}\\rbrack) \\cdot (1 - K_{het\\_ mortality})) \\cdot \\lbrack\\text{Het}\\rbrack$.\n",
    "\n",
    "Here $f_{r\\_ hyperbolic}(Ks_{R},R) = 0.5 + 0.5 \\cdot \\tanh(R - Ks_{R})$\n",
    "is the sigmoid hyperbolic type functional response and\n",
    "$f_{i\\_ hyperbolic}(Ks_{R},R) = 0.5 - 0.5 \\cdot \\tanh(R - Ks_{R})$ is\n",
    "the sigmoid hyperbolic type inhibitor function where $R$ is the limiting\n",
    "or inhibiting resource concentration and $Ks_{R}$ is the corresponding\n",
    "half-saturation constant as introduced previously. Comparing with the\n",
    "functions $f_{r}$ and $f_{i}$, $f_{r\\_ hyperbolic}$ and\n",
    "$f_{i\\_ hyperbolic}$ provide a steeper gradient with the resource\n",
    "concentration (R) changing. $K_{het\\_ respiration}$ and\n",
    "$K_{het\\_ mortality}$ are the coefficients of heterotroph respiration\n",
    "and mortality, respectively. Therefore, with sufficient oxygen\n",
    "concentrations ($\\lbrack O_{2}\\rbrack > Ks_{het\\_ oxygen}$), respiration\n",
    "and mortality of heterotrophs depend on the corresponding coefficients\n",
    "$K_{het\\_ respiration}$ and $K_{het\\_ mortality}$, otherwise respiration\n",
    "tends to converge to a value of zero and mortality tends to converge to\n",
    "a value of the heterotroph biomass $\\lbrack Het\\rbrack$."
   ]
  },
  {
   "cell_type": "markdown",
   "metadata": {},
   "source": [
    "#### Organic matter degradation\n",
    "\n",
    "OM degradation via oxygen respiration, denitrification, and sulfate\n",
    "reduction is parametrized. Also, an autolysis process is introduced as a\n",
    "first order reaction\n",
    "$\\text{OM}_{\\text{autolysis}} = K_{pom\\_ dom} \\cdot \\lbrack\\text{POM}\\rbrack$.\n",
    "Here, for the sake of simplicity we represent OM as $\\text{CH}_{2}O$\n",
    "while in the model it is assumed to have the Redfield stoichiometry\n",
    "mentioned above. The OM oxygen respiration\n",
    "($\\text{CH}_{2}O + O_{2} \\rightarrow \\text{CO}_{2} + H_{2}O$) is\n",
    "parametrized as functions:\n",
    "\n",
    "$K_{om\\_ respiration} = f_{r}(Ks_{O_{2}},\\lbrack O_{2}\\rbrack) \\cdot \\tau_{10}(T,q_{10},T_{\\text{ref}})$,\n",
    "\n",
    "$\\text{DOM}_{O_{2}\\text{oxidation}} = K_{O_{2}dom\\_ oxidation} \\cdot K_{om_{\\text{respiration}}} \\cdot \\lbrack\\text{DOM}\\rbrack$,\n",
    "\n",
    "$\\text{POM}_{O_{2}\\text{oxidation}} = K_{O_{2}pom\\_ oxidation} \\cdot K_{om_{\\text{respiration}}} \\cdot \\lbrack\\text{POM}\\rbrack$.\n",
    "\n",
    "Here $K_{O_{2}dom\\_ oxidation}$, $K_{O_{2}pom\\_ oxidation}$ are the\n",
    "rates of the corresponding processes, $f_{r}$ is the sigmoid type\n",
    "functional response (see section 5.1) with the half-saturation constant\n",
    "$Ks_{O_{2}}$, and\n",
    "$\\tau_{10}(T,q_{10},T_{\\text{ref}}) = \\exp(\\frac{T - T_{\\text{ref}}}{10} \\cdot \\ln q_{10})$\n",
    "being the reaction rate modulator (Soetaert and Herman, 2009) where $T$\n",
    "is temperature, $q_{10}$ is the q10 factor of a rate increase for every\n",
    "temperature increase by 10 $^{\\circ}C$, and $T_{\\text{ref}}$ is\n",
    "reference temperature at which $\\tau_{10} = 1$. Therefore, these\n",
    "processes rates are the first order temperature dependent reactions\n",
    "which are not about equal zero when and where approximately\n",
    "$\\lbrack O_{2}\\rbrack > Ks_{\\text{oxygen}}$."
   ]
  },
  {
   "cell_type": "markdown",
   "metadata": {},
   "source": [
    "The OM denitrification is split in two stages, oxidation with nitrates\n",
    "on the first and oxidation with nitrites on the second stage. The first\n",
    "stage\n",
    "($0.5\\text{CH}_{2}O + \\text{NO}_{3}^{-} \\rightarrow \\text{NO}_{2}^{-} + 0.5H_{2}O + 0.5\\text{CO}_{2}$)\n",
    "is:\n",
    "\n",
    "$K_{om\\_ denitrification1} = f_{r}(Ks_{NO_{3}^{-}},\\lbrack\\text{NO}_{3}^{-}\\rbrack) \\cdot f_{i\\_ hyperbolic}(Ks_{O_{2}\\text{forN}O_{3}^{-}},\\lbrack O_{2}\\rbrack)$,\n",
    "\n",
    "$\\text{DOM}_{NO_{3}^{-}\\text{oxidation}} = K_{NO_{3}^{-}dom\\_ oxidation} \\cdot K_{om_{denitrification1}} \\cdot \\lbrack\\text{DOM}\\rbrack$,\n",
    "\n",
    "$\\text{POM}_{NO_{3}^{-}\\text{oxidation}} = K_{NO_{3}^{-}pom\\_ oxidation} \\cdot K_{om_{denitrification1}} \\cdot \\left\\lbrack \\text{POM} \\right\\rbrack$.\n",
    "\n",
    "The second stage\n",
    "($0.75\\text{CH}_{2}O + H^{+} + \\text{NO}_{2}^{-} \\rightarrow 0.5N_{2} + 1.25H_{2}O + 0.75\\text{CO}_{2}$)\n",
    "is:\n",
    "\n",
    "$K_{om\\_ denitrification2} = f_{r}(Ks_{NO_{2}^{-}},\\lbrack\\text{NO}_{2}^{-}\\rbrack) \\cdot f_{i\\_ hyperbolic}(Ks_{O_{2}\\text{forN}O_{3}^{-}},\\lbrack O_{2}\\rbrack) \\cdot f_{i\\_ hyperbolic}(Ks_{NO_{3}^{-}},\\lbrack\\text{NO}_{3}^{-}\\rbrack)$,\n",
    "\n",
    "$\\text{DOM}_{NO_{2}^{-}\\text{oxidation}} = K_{NO_{2}^{-}dom\\_ oxidation} \\cdot K_{om_{denitrification2}} \\cdot \\lbrack\\text{DOM}\\rbrack$,\n",
    "\n",
    "$\\text{POM}_{NO_{2}^{-}\\text{oxidation}} = K_{NO_{2}^{-}pom\\_ oxidation} \\cdot K_{om_{denitrification2}} \\cdot \\lbrack\\text{POM}\\rbrack$.\n",
    "\n",
    "Here again $K_{NO_{3}^{-}dom\\_ oxidation}$,\n",
    "$K_{NO_{3}^{-}pom\\_ oxidation}$, $K_{NO_{2}^{-}dom\\_ oxidation}$,\n",
    "$K_{NO_{2}^{-}pom\\_ oxidation}$ are the process rates, $f_{r}$ is the\n",
    "sigmoid type functional response, and $f_{i\\_ hyperbolic}$ is the\n",
    "sigmoid hyperbolic type inhibitor function. $Ks_{NO_{3}^{-}}$,\n",
    "$Ks_{NO_{2}^{-}}$, and $Ks_{O_{2}\\text{forN}O_{3}^{-}}$ are the\n",
    "respective half-saturation constants. Therefore, the processes for\n",
    "example of the first stage of denitrification are inhibited in presence\n",
    "of oxygen and occur when and where approximately\n",
    "$\\lbrack\\text{NO}_{3}^{-}\\rbrack > Ks_{NO_{3}^{-}}$.\n",
    "\n",
    "The $\\text{OM\\ sulfate}$ reduction\n",
    "($2\\text{CH}_{2}O + \\text{SO}_{4}^{2 -} \\rightarrow H_{2}S + 2\\text{HCO}_{3}^{-}$)\n",
    "is parameterized as functions:\n",
    "\n",
    "$K_{om\\_ reduction} = f_{r}(Ks_{SO_{4}^{2 -}},\\lbrack\\text{SO}_{4}^{2 -}\\rbrack) \\cdot \\tau_{10}(T,q_{10},T_{\\text{ref}}) \\cdot f_{i\\_ hyperbolic}(Ks_{O_{2}\\text{forS}O_{4}^{2 -}},\\lbrack O_{2}\\rbrack) \\cdot f_{i\\_ hyperbolic}(Ks_{NO_{3}\\text{forS}O_{4}^{2 -}},\\lbrack\\text{NO}_{3}^{-}\\rbrack)$,\n",
    "\n",
    "$\\text{DOM}_{SO_{4}^{2 -}\\text{oxidation}} = K_{SO_{4}^{2 -}dom\\_ oxidation} \\cdot K_{om_{\\text{reduction}}} \\cdot \\lbrack\\text{DOM}\\rbrack$,\n",
    "\n",
    "$\\text{POM}_{SO_{4}^{2 -}\\text{oxidation}} = K_{SO_{4}^{2 -}pom\\_ oxidation} \\cdot K_{om_{\\text{reduction}}} \\cdot \\lbrack\\text{POM}\\rbrack$.\n",
    "\n",
    "$K_{SO_{4}^{2 -}dom\\_ oxidation}$, $K_{SO_{4}^{2 -}pom\\_ oxidation}$ are\n",
    "the process rates. Sulfate reduction rates are inhibited in the presence\n",
    "of more favorable electron acceptors (O$_{2}$ or/and NO$_{3}^{-}$).\n"
   ]
  },
  {
   "cell_type": "markdown",
   "metadata": {},
   "source": [
    "#### Nitrogen cycle\n",
    "\n",
    "Apart from denitrification described previously the biogeochemical model\n",
    "contains nitrification implemented as a two-step process and anammox.\n",
    "The first stage of nitrification\n",
    "($\\text{NH}_{4}^{+} + \\frac{3}{2}O_{2} \\rightarrow \\text{NO}_{2}^{-} + 2H^{+} + H_{2}O$):\n",
    "\n",
    "$N_{nitrification1} = K_{n1} \\cdot f_{r\\_ hyperbolic}(Ks_{O_{2}\\text{forN}},\\lbrack O_{2}\\rbrack) \\cdot \\lbrack\\text{NH}_{4}^{+}\\rbrack$.\n",
    "\n",
    "The second stage of nitrification\n",
    "($\\text{NO}_{2}^{-} + \\frac{1}{2}O_{2} \\rightarrow \\text{NO}_{3}^{-}$):\n",
    "\n",
    "$N_{nitrification2} = K_{n2} \\cdot f_{r\\_ hyperbolic}(Ks_{O_{2}\\text{forN}},\\lbrack O_{2}\\rbrack) \\cdot \\lbrack\\text{NO}_{2}^{-}\\rbrack$.\n",
    "\n",
    "Anammox\n",
    "($\\text{NO}_{2}^{-} + \\text{NH}_{4}^{+} \\rightarrow N_{2} + 2H_{2}O$):\n",
    "\n",
    "$N_{\\text{anammox}} = K_{\\text{anammox}} \\cdot f_{i\\_ hyperbolic}(Ks_{O_{2}\\text{forN}O_{3}},\\lbrack O_{2}\\rbrack) \\cdot \\lbrack\\text{NH}_{4}^{+}\\rbrack \\cdot \\lbrack\\text{NO}_{2}^{-}\\rbrack$.\n",
    "\n",
    "Here $K_{n1}$, $K_{n2}$, and $K_{\\text{anammox}}$ are the reaction\n",
    "rates."
   ]
  },
  {
   "cell_type": "markdown",
   "metadata": {},
   "source": [
    "#### Sulfur cycle\n",
    "\n",
    "Sulfur cycle reactions were implemented according to (Yakushev et al.,\n",
    "2017) as the second order reactions (except disproportionation which is\n",
    "the first order reaction) with adding functional responses to yield\n",
    "better sustainability. $S^{0}$ disproportionation\n",
    "($4S^{0} + 3H_{2}O \\rightarrow 2H_{2}S + S_{2}O_{3}^{2 -} + 2H^{+}$):\n",
    "\n",
    "$S_{\\text{disproportionation}}^{0} = K_{S\\_ disp} \\cdot \\lbrack S^{0}\\rbrack$.\n",
    "\n",
    "$H_{2}S$ oxidation with $O_{2}$\n",
    "($2H_{2}S + O_{2} \\rightarrow 2S^{0} + 2H_{2}O$ ):\n",
    "\n",
    "$H_{2}S_{O_{2}\\text{oxidation}} = K_{H_{2}\\text{Swith}O_{2}} \\cdot f_{r\\_ hyperbolic}(Ks_{O_{2}\\text{forS}},\\lbrack O_{2}\\rbrack) \\cdot f_{r\\_ hyperbolic}(Ks_{H_{2}\\text{SforS}},\\lbrack H_{2}S\\rbrack) \\cdot \\lbrack H_{2}S\\rbrack \\cdot \\lbrack O_{2}\\rbrack$.\n",
    "\n",
    "$S^{0}$ oxidation with $O_{2}$\n",
    "($2S^{0} + O_{2} + H_{2}O \\rightarrow S_{2}O_{3}^{2 -} + 2H^{+}$):\n",
    "\n",
    "$S_{O_{2}\\text{oxidation}}^{0} = K_{S^{0}\\text{Swith}O_{2}} \\cdot f_{r\\_ hyperbolic}(Ks_{O_{2}\\text{forS}},\\lbrack O_{2}\\rbrack) \\cdot \\lbrack S^{0}\\rbrack \\cdot \\lbrack O_{2}\\rbrack$.\n",
    "\n",
    "$S_{2}O_{3}^{2 -}$ oxidation with $O_{2}$\n",
    "($S_{2}O_{3}^{2 -} + 2O_{2} + 2\\text{OH}^{-} \\rightarrow 2\\text{SO}_{4}^{2 -} + H_{2}O$):\n",
    "\n",
    "$S_{2}O_{3\\_ O_{2}\\text{oxidation}}^{2 -} = K_{S_{2}O_{3}^{2 -}\\text{with}O_{2}} \\cdot f_{r\\_ hyperbolic}(Ks_{O_{2}\\text{forS}},\\lbrack O_{2}\\rbrack) \\cdot \\lbrack S_{2}O_{3}^{2 -}\\rbrack \\cdot \\lbrack O_{2}\\rbrack$.\n",
    "\n",
    "Thiodenitrification\n",
    "($5H_{2}S + 8\\text{NO}_{3}^{-} + 2\\text{OH}^{-} \\rightarrow 5\\text{SO}_{4}^{2 -} + 4N_{2} + 6H_{2}O$):\n",
    "\n",
    "$H_{2}S_{NO_{3}^{-}\\text{oxidation}} = K_{H_{2}\\text{SwithN}O_{3}^{-}} \\cdot f_{r\\_ hyperbolic}(Ks_{NO_{3}^{-}\\text{forS}},\\lbrack\\text{NO}_{3}^{-}\\rbrack) \\cdot f_{r\\_ hyperbolic}(Ks_{H_{2}\\text{SforS}},\\lbrack H_{2}S\\rbrack) \\cdot \\lbrack H_{2}S\\rbrack \\cdot \\lbrack\\text{NO}_{3}^{-}\\rbrack$.\n",
    "\n",
    "$S^{0}$ oxidation with $\\text{NO}_{3}^{-}$\n",
    "($4S^{0} + 3\\text{NO}_{3}^{-} + 7H_{2}O \\rightarrow 4\\text{SO}_{4}^{2 -} + 3\\text{NH}_{4}^{+} + 2H^{+}$):\n",
    "\n",
    "$S_{NO_{3}^{-}\\text{oxidation}}^{0} = K_{S^{0}\\text{SwithN}O_{3}^{-}} \\cdot f_{r\\_ hyperbolic}(Ks_{NO_{3}^{-}\\text{forS}},\\lbrack\\text{NO}_{3}^{-}\\rbrack) \\cdot \\lbrack S^{0}\\rbrack \\cdot \\lbrack\\text{NO}_{3}^{-}\\rbrack$.\n",
    "\n",
    "$S_{2}O_{3}^{2 -}$ oxidation with $\\text{NO}_{3}^{-}$\n",
    "($S_{2}O_{3}^{2 -} + \\text{NO}_{3}^{-} + 2H_{2}O \\rightarrow 2\\text{SO}_{4}^{2 -} + \\text{NH}_{4}^{+}$):\n",
    "\n",
    "$S_{2}O_{3\\_ NO_{3}^{-}\\text{oxidation}}^{2 -} = K_{S_{2}O_{3}^{2 -}\\text{withN}O_{3}^{-}} \\cdot f_{r\\_ hyperbolic}(Ks_{NO_{3}^{-}\\text{forS}},\\lbrack\\text{NO}_{3}^{-}\\rbrack) \\cdot \\lbrack S_{2}O_{3}^{2 -}\\rbrack \\cdot \\lbrack\\text{NO}_{3}^{-}\\rbrack$\n"
   ]
  },
  {
   "cell_type": "markdown",
   "metadata": {},
   "source": [
    "#### Mass balance equations\n",
    "\n",
    "The resulting change of concentration of each state variable is a sum of\n",
    "the relevant processes. We introduce some new notations:\n",
    "$\\text{DOM}_{N\\_ oxidation} = \\text{DOM}_{NO_{3}^{-}\\text{oxidation}} + \\text{DOM}_{NO_{2}^{-}\\text{oxidation}}$,\n",
    "$\\text{POM}_{N\\_ oxidation} = \\text{POM}_{NO_{3}^{-}\\text{oxidation}} + \\text{POM}_{NO_{2}^{-}\\text{oxidation}}$\n",
    "and\n",
    "$N_{denitrification1} = 2 \\cdot (\\text{DOM}_{NO_{3}^{-}\\text{oxidation}} + \\text{POM}_{NO_{3}^{-}\\text{oxidation}})$,\n",
    "$N_{denitrification2} = \\frac{4}{3} \\cdot (\\text{DOM}_{NO_{2}^{-}\\text{oxidation}} + \\text{POM}_{NO_{2}^{-}\\text{oxidation}})$.\n",
    "The introduction of the coefficients is necessary due to the\n",
    "stoichiometry mentioned in the section 5.3.\n",
    "\n",
    "Below we will mark with superscript $'$ the processes with\n",
    "concentrations converted to molar, for example\n",
    "${Phy’}_{\\text{growth}}\\ \\lbrack\\text{mM\\:C\\:}m^{- 3}\\ d^{- 1}\\rbrack = \\frac{1}{12.011}\\text{Phy}_{\\text{growth}}\\ \\lbrack\\text{mg\\:C\\:}m^{- 3}\\ d^{- 1}\\rbrack$.\n",
    "Also we will mark with superscript $''$ the processes with\n",
    "concentrations converted according to the Redfield stoichiometry\n",
    "(quantity is marked with a respective subscript, carbon to silicon ratio\n",
    "is 106 to 15), for example\n",
    "${DOM\"}_{\\text{N\\:}O_{2}\\text{oxydation}}\\ \\lbrack\\text{mM\\:N\\:}m^{- 3}\\ d^{- 1}\\rbrack = \\frac{1}{12.011}\\frac{16}{106}\\text{DOM}_{O_{2}\\text{oxydation}}\\ \\lbrack\\text{mg\\:C\\:}m^{- 3}\\ d^{- 1}\\rbrack$.\n",
    "\n",
    "The consumption of nitrogen species by phototrophic producers depends on\n",
    "the respective nitrogen-limited growth rate compounds. Recall that\n",
    "$\\tau_{N} = \\tau_{NH_{4}^{+}} + \\tau_{NO_{x}}$ where $\\tau_{N}$ can not\n",
    "exceed 1 and $\\tau_{NO_{x}}$ depends on sum of nitrites and nitrates\n",
    "(see section 5.1). Therefore, ammonium by phototrophic producers\n",
    "consumption is\n",
    "${Phy\"}_{NH_{4}^{+}} = {Phy\"}_{\\text{growth}}\\frac{\\tau_{NH_{4}^{+}}}{\\tau_{N}}$,\n",
    "nitrite consumption is\n",
    "${Phy\"}_{NO_{2}^{-}} = {Phy\"}_{\\text{growth}}\\frac{\\tau_{NO_{x}}}{\\tau_{N}}\\frac{\\lbrack\\text{NO}_{2}^{-}\\rbrack}{\\lbrack\\text{NO}_{2}^{-}\\rbrack + \\lbrack\\text{NO}_{3}^{-}\\rbrack}$,\n",
    "and nitrate consumption is\n",
    "${Phy\"}_{NO_{3}^{-}} = {Phy\"}_{\\text{growth}}\\frac{\\tau_{NO_{x}}}{\\tau_{N}}\\frac{\\lbrack\\text{NO}_{3}^{-}\\rbrack}{\\lbrack\\text{NO}_{2}^{-}\\rbrack + \\lbrack\\text{NO}_{3}^{-}\\rbrack}$.\n",
    "\n",
    "We assume that only a part ($\\text{Uz}$) of total OM consumed by\n",
    "heterotrophs is absorbed. $\\text{Hz}$ is the ratio between dissolved and\n",
    "particulate parts of OM excreted by heterotrophs. Therefore,\n",
    "$\\text{Het}_{grazing\\_ raw} = \\text{Het}_{grazing\\_ phy} + \\text{Het}_{grazing\\_ pom}$\n",
    "and the amount of organic matter consumed by heterotrophs is\n",
    "$\\text{Het}_{\\text{grazing}} = Uz \\cdot \\text{Het}_{grazing\\_ raw}$.\n",
    "Corresponding $\\text{DOM}$ input is\n",
    "$\\text{Het}_{dom\\_ excrete} = \\text{Het}_{grazing\\_ raw} \\cdot (1 - Uz) \\cdot Hz$\n",
    "and $\\text{POM}$ input is\n",
    "$\\text{Het}_{pom\\_ excrete} = \\text{Het}_{grazing\\_ raw} \\cdot (1 - Uz) \\cdot (1 - Hz)$.\n",
    "\n",
    "Model mass balance equations:\n",
    "\n",
    "$\\delta\\lbrack\\text{Phy}\\rbrack = \\text{Phy}_{\\text{growth}} - \\text{Phy}_{\\text{mortality}} - \\text{Phy}_{\\text{excrete}} - \\text{Het}_{grazing\\_ phy}$,\n",
    "\n",
    "$\\delta\\lbrack\\text{Het}\\rbrack = \\text{Het}_{\\text{grazing}} - \\text{Het}_{\\text{respiration}} - \\text{Het}_{\\text{mortality}}$,\n",
    "\n",
    "$\\delta\\lbrack\\text{DOM}\\rbrack = \\text{OM}_{\\text{autolysis}} + \\text{Het}_{dom\\_ excrete} + \\text{Phy}_{\\text{excrete}} - \\text{DOM}_{O_{2}\\text{oxidation}} - \\text{DOM}_{N\\_ oxidation} - \\text{DOM}_{SO_{4}\\text{oxidation}}$,\n",
    "\n",
    "$\\delta\\lbrack\\text{POM}\\rbrack = \\text{Phy}_{\\text{mortality}} + \\text{Het}_{\\text{mortality}} + \\text{Het}_{pom\\_ excrete} - \\text{OM}_{\\text{autolysis}} - \\text{Het}_{grazing\\_ pom} - \\text{POM}_{O_{2}\\text{oxidation}} - \\text{POM}_{N\\_ oxidation} - \\text{POM}_{SO_{4}\\text{oxidation}}$,\n",
    "\n",
    "$\\delta\\lbrack\\text{DIC}\\rbrack = {Het’}_{\\text{respiration}} + {DOM’}_{O_{2}\\text{oxidation}} + {POM’}_{O_{2}\\text{oxidation}} + {DOM’}_{N\\_ oxidation} + {POM’}_{N\\_ oxidation} + {DOM’}_{SO_{4}\\text{oxidation}} + {POM’}_{SO_{4}\\text{oxidation}} - {Phy’}_{\\text{growth}}$,\n",
    "\n",
    "$\\delta\\lbrack O_{2}\\rbrack = {Phy’}_{\\text{growth}} - {Het’}_{\\text{respiration}} - {DOM’}_{O_{2}\\text{oxidation}} - {POM’}_{O_{2}\\text{oxidation}} - \\frac{3}{2}N_{nitrification1} - \\frac{1}{2}N_{nitrification2} - \\frac{1}{2}H_{2}S_{O_{2}\\text{oxidation}} - \\frac{1}{2}S_{O_{2}\\text{oxidation}}^{0} - 2S_{2}O_{3\\_ O_{2}\\text{oxidation}}^{2 -}$,\n",
    "\n",
    "$\\delta\\lbrack\\text{NH}_{4}^{+}\\rbrack = {Het\"}_{\\text{N\\:respiration}} + {DOM\"}_{\\text{N\\:}O_{2}\\text{oxydation}} + {POM\"}_{\\text{N\\:}O_{2}\\text{oxydation}} + {DOM\"}_{N\\ N\\_ oxydation} + {POM\"}_{N\\ N\\_ oxydation} + {DOM\"}_{\\text{N\\:S}O_{4}\\text{oxydation}} + {POM\"}_{\\text{N\\:S}O_{4}\\text{oxydation}} + \\frac{3}{4}S_{NO_{3}^{-}\\text{oxidation}}^{0} + S_{2}O_{3\\_ NO_{3}^{-}\\text{oxidation}}^{2 -} - N_{nitrification1} - N_{\\text{anammox}} - {Phy\"}_{NH_{4}^{+}}$,\n",
    "\n",
    "$\\delta\\lbrack\\text{NO}_{2}^{-}\\rbrack = N_{nitrification1} + N_{denitrification1} - N_{nitrification2} - N_{denitrification2} - N_{\\text{anammox}} - {Phy\"}_{NO_{2}^{-}}$,\n",
    "\n",
    "$\\delta\\lbrack\\text{NO}_{3}^{-}\\rbrack = N_{nitrification2} - N_{denitrification1} - {Phy\"}_{NO_{3}^{-}} - \\frac{8}{5}H_{2}S_{NO_{3}^{-}\\text{oxidation}} - \\frac{3}{4}S_{NO_{3}^{-}\\text{oxidation}}^{0} - S_{2}O_{3\\_ NO_{3}^{-}\\text{oxidation}}^{2 -}$,\n",
    "\n",
    "$\\delta\\lbrack\\text{PO}_{4}^{3 -}\\rbrack = {Het\"}_{\\text{P\\:respiration}} + {DOM\"}_{\\text{P\\:}O_{2}\\text{oxydation}} + {POM\"}_{\\text{P\\:}O_{2}\\text{oxydation}} + {DOM\"}_{P\\ N\\_ oxydation} + {POM\"}_{P\\ N\\_ oxydation} + {DOM\"}_{\\text{P\\:S}O_{4}\\text{oxydation}} + {POM\"}_{\\text{P\\:S}O_{4}\\text{oxydation}} - {Phy\"}_{\\text{P\\:growth}}$,\n",
    "\n",
    "$\\delta\\lbrack\\text{Si}\\rbrack = {Het\"}_{\\text{Si\\:respiration}} + {DOM\"}_{\\text{Si\\:}O_{2}\\text{oxydation}} + {POM\"}_{\\text{Si\\:}O_{2}\\text{oxydation}} + {DOM\"}_{Si\\ N\\_ oxydation} + {POM\"}_{Si\\ N\\_ oxydation} + {DOM\"}_{\\text{Si\\:S}O_{4}\\text{oxydation}} + {POM\"}_{\\text{Si\\:S}O_{4}\\text{oxydation}} - {Phy\"}_{\\text{Si\\:growth}}$,\n",
    "\n",
    "$\\delta\\lbrack\\text{SO}_{4}^{2 -}\\rbrack = 2S_{2}O_{3\\_ O_{2}\\text{oxidation}}^{2 -} + H_{2}S_{NO_{3}^{-}\\text{oxidation}} + S_{NO_{3}^{-}\\text{oxidation}}^{0} + 2S_{2}O_{3\\_ NO_{3}^{-}\\text{oxidation}}^{2 -} - \\frac{1}{2}{DOM’}_{SO_{4}\\text{oxidation}} - \\frac{1}{2}{POM’}_{SO_{4}\\text{oxidation}}$,\n",
    "\n",
    "$\\delta\\lbrack S_{2}O_{3}^{2 -}\\rbrack = \\frac{1}{4}S_{\\text{disproportionation}}^{0} + \\frac{1}{2}S_{O_{2}\\text{oxidation}}^{0} - S_{2}O_{3\\_ O_{2}\\text{oxidation}}^{2 -} - S_{2}O_{3\\_ NO_{3}^{-}\\text{oxidation}}^{2 -}$,\n",
    "\n",
    "$\\delta\\lbrack S^{0}\\rbrack = H_{2}S_{O_{2}\\text{oxidation}} - S_{\\text{disproportionation}}^{0} - S_{O_{2}\\text{oxidation}}^{0} - S_{NO_{3}^{-}\\text{oxidation}}^{0}$,\n",
    "\n",
    "$\\delta\\lbrack H_{2}S\\rbrack = \\frac{1}{2}S_{\\text{disproportionation}}^{0} + \\frac{1}{2}{DOM’}_{SO_{4}\\text{oxidation}} + \\frac{1}{2}{POM’}_{SO_{4}\\text{oxidation}} - H_{2}S_{O_{2}\\text{oxidation}} - H_{2}S_{NO_{3}^{-}\\text{oxidation}}$,\n",
    "\n",
    "$\\delta\\lbrack\\text{TA}\\rbrack = \\delta\\lbrack\\text{NH}_{4}^{+}\\rbrack - \\delta\\lbrack\\text{NO}_{2}^{-}\\rbrack - \\delta\\lbrack\\text{NO}_{3}^{-}\\rbrack - \\delta\\lbrack\\text{PO}_{4}^{3 -}\\rbrack - 2\\delta\\lbrack\\text{SO}_{4}^{2 -}\\rbrack$.\n",
    "\n",
    "We calculate the resulting $\\text{TA}$ change as the sum of increments\n",
    "of ammonium, nitrites, nitrates, phosphates, and sulfates.\n"
   ]
  },
  {
   "cell_type": "code",
   "execution_count": null,
   "metadata": {},
   "outputs": [],
   "source": []
  }
 ],
 "metadata": {
  "file_extension": ".py",
  "kernelspec": {
   "display_name": "Python 3",
   "language": "python",
   "name": "python3"
  },
  "language_info": {
   "codemirror_mode": {
    "name": "ipython",
    "version": 3
   },
   "file_extension": ".py",
   "mimetype": "text/x-python",
   "name": "python",
   "nbconvert_exporter": "python",
   "pygments_lexer": "ipython3",
   "version": "3.7.3"
  },
  "mimetype": "text/x-python",
  "name": "python",
  "npconvert_exporter": "python",
  "pygments_lexer": "ipython3",
  "version": 3
 },
 "nbformat": 4,
 "nbformat_minor": 4
}
