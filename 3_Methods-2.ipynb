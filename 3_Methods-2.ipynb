{
 "cells": [
  {
   "cell_type": "markdown",
   "metadata": {},
   "source": [
    "### Methods 2 - the biogeochemical model"
   ]
  },
  {
   "cell_type": "markdown",
   "metadata": {},
   "source": [
    "The biogeochemical model contains the following state variables (and the transport model SPBM operates with them):\n",
    "autotrophs, $\\text{Phy}\\ \\lbrack\\text{mg C m}^{- 3}\\rbrack$;\n",
    "heterotrophs, $\\text{Het}\\ \\lbrack\\text{mg C m}^{- 3}\\rbrack$;\n",
    "$\\text{NH}_{4}^{+}\\ \\lbrack\\text{mM N m}^{- 3}\\rbrack$;\n",
    "$\\text{NO}_{2}^{-}\\ \\lbrack\\text{mM N m}^{- 3}\\rbrack$;\n",
    "$\\text{NO}_{3}^{-}\\ \\lbrack\\text{mM N m}^{- 3}\\rbrack$;\n",
    "$\\text{Si}\\ \\lbrack\\text{mM Si m}^{- 3}\\rbrack$;\n",
    "$\\text{PO}_{4}^{3 -}\\ \\lbrack\\text{mM P m}^{- 3}\\rbrack$;\n",
    "$\\text{O}_{2}\\ \\lbrack\\text{mM O}_{2}\\ m^{- 3}\\rbrack$;\n",
    "$\\text{SO}_{4}^{2 -}\\ \\lbrack\\text{mM S m}^{- 3}\\rbrack$;\n",
    "$\\text{S}_{2}\\text{O}_{3}^{2 -}\\ \\lbrack\\text{mM S m}^{- 3}\\rbrack$;\n",
    "$\\text{S}^{0}\\ \\lbrack\\text{mM S m}^{- 3}\\rbrack$;\n",
    "$\\text{H}_{2}\\text{S}\\ \\lbrack\\text{mM S m}^{- 3}\\rbrack$;\n",
    "dissolved inorganic carbon, $\\text{DIC}\\ \\lbrack\\text{mM C m}^{- 3}\\rbrack$;\n",
    "particulate OM ($\\text{POM}\\ \\lbrack\\text{mg C m}^{- 3}\\rbrack$);\n",
    "dissolved OM ($\\text{DOM}\\ \\lbrack\\text{mg C m}^{- 3}\\rbrack$);\n",
    "$\\text{TA}\\ \\lbrack\\text{mM}\\ m^{- 3}\\rbrack$. \n",
    "$\\text{POM}$ and $\\text{DOM}$ have a Redfield stoichiometry of $106\\text{C}:16\\text{N}:1\\text{P}$."
   ]
  },
  {
   "cell_type": "markdown",
   "metadata": {},
   "source": [
    "#### Phototrophic producers\n",
    "\n",
    "Phototrophic producers' growth $\\text{Phy}_{\\text{growth}} = \\mu \\cdot \\lbrack\\text{Phy}\\rbrack$ is parametrized according to the empirical equation that describes the phytoplankton daily specific growth rate $\\mu\\ \\lbrack d^{- 1}\\rbrack$ as a function of the specific photosynthetic rate of biomass\n",
    "$P^{B}\\ \\lbrack{\\text{mg C (mg Chl a d)}}^{- 1}\\rbrack$ and the $\\frac{Chl a}{C}$ ratio $\\lbrack{\\text{mg Chl a (mg C)}}^{- 1}\\rbrack$ [(Cloern et al., 1995)]:\n",
    "\n",
    "[(Cloern et al., 1995)]: https://doi.org/10.4319/lo.1995.40.7.1313"
   ]
  },
  {
   "cell_type": "markdown",
   "metadata": {},
   "source": [
    "$\\mu = 0.85P^{B}\\frac{Chl a}{C} - 0.015$,\n",
    "\n",
    "$P^{B} = Dp_{m}^{B}(1 - \\exp\\frac{I_{t}\\alpha}{p_{m}^{B}})$,\n",
    "\n",
    "$\\frac{Chl a}{C} = 0.003 + 0.0154e^{0.050T}e^{- 0.059I}\\tau$."
   ]
  },
  {
   "cell_type": "markdown",
   "metadata": {},
   "source": [
    "Here, $D$ is the photoperiod [h] , calculated according to [(Fennel and Neumann, 2014)],\n",
    "$p_{m}^{B}$ is the maximum hourly rate of photosynthesis normalized to chlorophyll biomass $\\lbrack\\text{mg C}\\ (\\text{mg}\\ \\text{Chl a h})^{- 1}\\rbrack$,\n",
    "$I_{t}$ is the instantaneous photosynthetically active radiation ($\\text{PAR}$) $\\lbrack\\mu\\text{M quanta m}^{- 2}\\ s^{- 1}\\rbrack$,\n",
    "and $\\alpha$ defines photosynthetic efficiency at low irradiance $\\lbrack\\text{mg C}\\ (\\text{mg}\\ \\text{Chl a}\\ \\text{h})^{- 1}\\ (\\mu \\text{M}\\ \\text{quanta m}^{- 2}\\ \\text{s}^{- 1})^{- 1}\\rbrack$.\n",
    "$T$ is the temperature $\\lbrack^{\\circ}\\text{C}\\rbrack$,\n",
    "$I$ is the daily irradiance $\\lbrack\\text{M quanta m}^{- 2}\\ \\text{d}^{- 1}\\rbrack$,\n",
    "and $\\tau$ is the nutrient-limited growth rate $\\lbrack \\text{d}^{- 1}\\rbrack$.\n",
    "$\\tau = \\tau_{N}\\tau_{\\text{Si}}\\tau_{PO_{4}^{3 -}}$ where \n",
    "$\\tau_{N}$ is the nitrogen-limited growth rate,\n",
    "$\\tau_{\\text{Si}}$ is the silicon-limited growth rate,\n",
    "and $\\tau_{P}$ is the phosphorus-limited growth rate: $\\tau_{N} = \\tau_{NH_{4}^{+}} + \\tau_{NO_{x}}$,\n",
    "$\\tau_{NH_{4}^{+}} = f_{r}(Ks_{NH_{4}^{+}},\\lbrack$NH$_{4}^{+}\\rbrack)$,\n",
    "$\\tau_{NO_{x}} = f_{r}(Ks_{NO_{x}},\\lbrack\\text{NO}_{2}^{-}\\rbrack + \\lbrack\\text{NO}_{3}^{-}\\rbrack) \\cdot f_{i} (Ks_{NH_{4}^{+}},\\lbrack\\text{NH}_{4}^{+}\\rbrack)$;\n",
    "$\\tau_{\\text{Si}} = f_{r}(Ks_{\\text{Si}},\\lbrack$Si$\\rbrack)$;\n",
    "$\\tau_{PO_{4}^{3 -}} = f_{r}(Ks_{PO_{4}^{3 -}},\\lbrack$PO$_{4}^{3 -}\\rbrack)$.\n",
    "$f_{r}$ and $f_{i}$ are the sigmoid type functional response and inhibitor function, respectively, of the following forms:\n",
    "$f_{r}(Ks_{R},R) = \\frac{R^{2}}{Ks_{R}^{2} + R^{2}}$ and\n",
    "$f_{i}(Ks_{R},R) = \\frac{Ks_{R}^{2}}{Ks_{R}^{2} + R^{2}}$ where\n",
    "R is the limiting or inhibiting resource concentration and $Ks_{R}$ is the corresponding half-saturation constant.\n",
    "Therefore, for example in case of high availability of ammonium\n",
    "($\\lbrack\\text{NH}_{4}^{+}\\rbrack > > Ks_{NH_{4}^{+}}$),\n",
    "$\\tau_{NH_{4}^{+}}$ tends to converge to a value of one while the nitrate and nitrite limiting term $\\tau_{NO_{x}}$ inhibited by ammonium tends to converge to a value of zero.\n",
    "\n",
    "[(Fennel and Neumann, 2014)]: https://www.elsevier.com/books/introduction-to-the-modelling-of-marine-ecosystems/fennel/978-0-444-63363-7"
   ]
  },
  {
   "cell_type": "markdown",
   "metadata": {},
   "source": [
    "For example there is a sigmoid type functional response function:"
   ]
  },
  {
   "cell_type": "code",
   "execution_count": 1,
   "metadata": {},
   "outputs": [],
   "source": [
    "import numpy as np\n",
    "import plot_functions as pf\n",
    "import utilities2 as ut2\n",
    "import brom_functions as bf"
   ]
  },
  {
   "cell_type": "code",
   "execution_count": 2,
   "metadata": {},
   "outputs": [],
   "source": [
    "def sigmoid_powered(ks, r):\n",
    "    \"\"\"ks - half-saturation constant\n",
    "       r  - limiting resource\"\"\"\n",
    "    return np.power(r, 2)/(np.power(ks, 2)+np.power(r, 2))"
   ]
  },
  {
   "cell_type": "code",
   "execution_count": 3,
   "metadata": {},
   "outputs": [
    {
     "data": {
      "image/png": "[encoded data removed]",
      "text/plain": [
       "<Figure size 576x144 with 1 Axes>"
      ]
     },
     "metadata": {},
     "output_type": "display_data"
    }
   ],
   "source": [
    "resource = np.arange(0, 300, 0.1)\n",
    "pf.plot_range('$Resource, R$', '$f_r$', 'Sigmoid functional response with R (limiting resource) = 100', \n",
    "              resource, sigmoid_powered(100, resource))"
   ]
  },
  {
   "cell_type": "markdown",
   "metadata": {},
   "source": [
    "**Figure M2-1**. Sigmoid functional response."
   ]
  },
  {
   "cell_type": "markdown",
   "metadata": {},
   "source": [
    "The sygmoid type functional response function returns values close to 1 when the resource values are much higher then a half-saturation constant, it equals 0.5 when the resouce value matches a half-saturation constant value, and tends to zero when the resource values are much less then a half-saturation constant.\n",
    "Thus using this function we can regulate the limitation of autotrophs' growth by nutrients."
   ]
  },
  {
   "cell_type": "markdown",
   "metadata": {},
   "source": [
    "Let's get some data of the averaged year and check how functional responses and inhibitors would work together.\n",
    "Here we use the data of the averaged year to calculate ammonium $\\tau_{NH_{4}^{+}}$, nitrates $\\tau_{NO_{x}}$ and a resulting nitrogen $\\tau_{N}$ limiters during a year with the half-saturation constants $Ks_{NH_{4}^{+}} = 7$ and $Ks_{NO_{x}}=15$:"
   ]
  },
  {
   "cell_type": "code",
   "execution_count": 4,
   "metadata": {},
   "outputs": [
    {
     "data": {
      "image/png": "[encoded data removed]",
      "text/plain": [
       "<Figure size 576x216 with 1 Axes>"
      ]
     },
     "metadata": {},
     "output_type": "display_data"
    }
   ],
   "source": [
    "par, temperature, no3, nh4, po4, si, irradiance = ut2.get_data() # get data\n",
    "nh4_limiter = bf.phy_nh4_limiter(knh4_lim=7, nh4=nh4) # the ammonium limiter with a half-saturation constant = 7\n",
    "no3_limiter = bf.phy_no3_limiter(knox_lim=15, knh4_lim=7, no3=no3, no2=0, nh4=nh4) # the no3 limiter\n",
    "pf.plot_year_multi((nh4_limiter, 'nh4 limiter'),(no3_limiter, 'no3 limiter'),(no3_limiter+nh4_limiter, 'nitrogen limiter'))"
   ]
  },
  {
   "cell_type": "markdown",
   "metadata": {},
   "source": [
    "**Figure M2-2**. Different nutrients limiters."
   ]
  },
  {
   "cell_type": "markdown",
   "metadata": {},
   "source": [
    "We see that using the proposed values of the half-saturation constants autotrophs growth is limited by $\\text{NO}_{3}^{-}$ in the spring and by $\\text{NH}_{4}^{+}$ in the autumn.\n",
    "Futher we can calculate $\\frac{Chl a}{C}$ ratio, the specific photosynthetic rate of biomass $P^{B}$, and finally the daily growth of autotrophs."
   ]
  },
  {
   "cell_type": "code",
   "execution_count": 5,
   "metadata": {},
   "outputs": [],
   "source": [
    "ChlCratio = bf.ChlCratio(temperature, irradiance, no3_limiter+nh4_limiter)\n",
    "#pf.plot_year_multi((ChlCratio, 'Chl to C ratio'))"
   ]
  },
  {
   "cell_type": "code",
   "execution_count": 6,
   "metadata": {},
   "outputs": [],
   "source": [
    "PhyBioRate = bf.phy_biorate(D=bf.photoperiod2(55), pbm=3, alpha=0.09, I=par)\n",
    "#pf.plot_year_multi((PhyBioRate, 'Autotrophs biomass specific photosyntethic rate'))"
   ]
  },
  {
   "cell_type": "code",
   "execution_count": 7,
   "metadata": {},
   "outputs": [],
   "source": [
    "def phy_daily_growth(phy_biorate, ChlCratio):\n",
    "    \"\"\"\n",
    "    Coefficiens inside evaluate respiration;\n",
    "    biorate is the daily rate of photosynthesis, [mg C (mg Chl a d)-1]\n",
    "    \"\"\"\n",
    "    answer = 0.85*phy_biorate*ChlCratio-0.015\n",
    "\n",
    "    return answer"
   ]
  },
  {
   "cell_type": "code",
   "execution_count": 8,
   "metadata": {},
   "outputs": [
    {
     "data": {
      "image/png": "[encoded data removed]",
      "text/plain": [
       "<Figure size 576x216 with 1 Axes>"
      ]
     },
     "metadata": {},
     "output_type": "display_data"
    }
   ],
   "source": [
    "daily_growth = phy_daily_growth(PhyBioRate, ChlCratio)\n",
    "pf.plot_year_multi((daily_growth, 'Daily growth of autotrophs'))"
   ]
  },
  {
   "cell_type": "markdown",
   "metadata": {},
   "source": [
    "**Figure M2-3**. Daily growth of autotrophs."
   ]
  },
  {
   "cell_type": "markdown",
   "metadata": {},
   "source": [
    "The phototrophic producers excretion is parametrized as\n",
    "$\\text{Phy}_{\\text{excrete}} = K_{phy\\_ excrete} \\cdot \\lbrack\\text{Phy}\\rbrack$\n",
    "and the phototrophic producers mortality as\n",
    "$\\text{Phy}_{\\text{mortality}} = K_{phy\\_ mortality} \\cdot \\lbrack\\text{Phy}\\rbrack \\cdot \\lbrack\\text{Phy}\\rbrack$\n",
    "where $K_{phy\\_ excrete}$ is the phytoplankton excretion coefficient and $K_{phy\\_ mortality}$ is the phytoplankton mortality coefficient."
   ]
  },
  {
   "cell_type": "markdown",
   "metadata": {},
   "source": [
    "#### Heterotrophs\n",
    "\n",
    "The heterotroph growth parametrization is based on the feeding of heterotrophs on $\\text{Phy}$ and $\\text{POM}$ following ([Yakushev et al., 2007]) approach, where the carnivore feeding rate depends on the prey to predator ratio:\n",
    "\n",
    "[Yakushev et al., 2007]: https://doi.org/10.1016/j.marchem.2007.06.003"
   ]
  },
  {
   "cell_type": "markdown",
   "metadata": {},
   "source": [
    "$\\text{Het}_{\\text{grazing-phy}} = K_{het\\_ phy} \\cdot f_{r}(Ks_{het\\_ phy\\_ ratio},\\frac{\\lbrack \\text{Phy}\\rbrack}{\\lbrack \\text{Het}\\rbrack}) \\cdot \\lbrack\\text{Het}\\rbrack$,\n",
    "\n",
    "$\\text{Het}_{\\text{grazing-pom}} = K_{het\\_ pom} \\cdot f_{r}(Ks_{het\\_ pom\\_ ratio},\\frac{\\lbrack \\text{POM}\\rbrack}{\\lbrack \\text{Het}\\rbrack}) \\cdot \\lbrack\\text{Het}\\rbrack$.\n",
    "\n",
    "Here, $K_{het\\_ phy}$ and $K_{het\\_ pom}$ are the coefficients for the feeding of heterotrophs on $\\text{Phy}$ and $\\text{POM}$, respectively.\n",
    "$Ks_{het\\_ phy\\_ ratio}$ and $Ks_{het\\_ pom\\_ ratio}$ are the half-saturation constants which determine the prey to predator ratio where the consumption rate attains 50$\\%$ of its maximal value.\n",
    "$f_{r}$ is the sigmoid type functional response."
   ]
  },
  {
   "cell_type": "markdown",
   "metadata": {},
   "source": [
    "Heterotroph biomass loss consists of respiration and mortality parts:\n",
    "\n",
    "$\\text{Het}_{\\text{respiration}} = K_{het\\_ respiration} \\cdot f_{r\\_ hyperbolic}(Ks_{het\\_ oxygen},\\lbrack \\text{O}_{2}\\rbrack) \\cdot \\lbrack\\text{Het}\\rbrack$,\n",
    "\n",
    "$\\text{Het}_{\\text{mortality}} = (K_{het\\_ mortality} + f_{i\\_ hyperbolic}(Ks_{het\\_ oxygen},\\lbrack \\text{O}_{2}\\rbrack) \\cdot (1 - K_{het\\_ mortality})) \\cdot \\lbrack\\text{Het}\\rbrack$.\n",
    "\n",
    "Here $f_{r\\_ hyperbolic}(Ks_{R},R) = 0.5 + 0.5 \\cdot \\tanh(R - Ks_{R})$ is the sigmoid hyperbolic type functional response and\n",
    "$f_{i\\_ hyperbolic}(Ks_{R},R) = 0.5 - 0.5 \\cdot \\tanh(R - Ks_{R})$ is the sigmoid hyperbolic type inhibitor function where $R$ is the limiting or inhibiting resource concentration and $Ks_{R}$ is the corresponding half-saturation constant as introduced previously.\n",
    "Comparing with the functions $f_{r}$ and $f_{i}$, $f_{r\\_ hyperbolic}$ and $f_{i\\_ hyperbolic}$ provide a steeper gradient with the resource concentration (R) changing.\n",
    "$K_{het\\_ respiration}$ and $K_{het\\_ mortality}$ are the coefficients of heterotroph respiration and mortality, respectively.\n",
    "Therefore, with sufficient oxygen concentrations ($\\lbrack \\text{O}_{2}\\rbrack > Ks_{het\\_ oxygen}$), respiration and mortality of heterotrophs depend on the corresponding coefficients $K_{het\\_ respiration}$ and $K_{het\\_ mortality}$, otherwise respiration\n",
    "tends to converge to a value of zero and mortality tends to converge to a value of the heterotroph biomass $\\lbrack \\text{Het}\\rbrack$."
   ]
  },
  {
   "cell_type": "markdown",
   "metadata": {},
   "source": [
    "#### Organic matter degradation\n",
    "\n",
    "OM degradation via oxygen respiration, denitrification, and sulfate reduction is parametrized.\n",
    "Also, an autolysis process is introduced as a first order reaction\n",
    "$\\text{OM}_{\\text{autolysis}} = K_{pom\\_ dom} \\cdot \\lbrack\\text{POM}\\rbrack$.\n",
    "Here, for the sake of simplicity we represent OM as $\\text{CH}_{2}\\text{O}$ while in the model it is assumed to have the Redfield stoichiometry mentioned above.\n",
    "The OM oxygen respiration\n",
    "($\\text{CH}_{2}\\text{O} + \\text{O}_{2} \\rightarrow \\text{CO}_{2} + \\text{H}_{2}\\text{O}$) is\n",
    "parametrized as functions:"
   ]
  },
  {
   "cell_type": "markdown",
   "metadata": {},
   "source": [
    "$K_{om\\_ respiration} = f_{r}(Ks_{\\text{O}_{2}},\\lbrack \\text{O}_{2}\\rbrack) \\cdot \\tau_{10}(T,q_{10},T_{\\text{ref}})$,\n",
    "\n",
    "$\\text{DOM}_{O_{2}\\text{oxidation}} = K_{O_{2}dom\\_ oxidation} \\cdot K_{om_{\\text{respiration}}} \\cdot \\lbrack\\text{DOM}\\rbrack$,\n",
    "\n",
    "$\\text{POM}_{O_{2}\\text{oxidation}} = K_{O_{2}pom\\_ oxidation} \\cdot K_{om_{\\text{respiration}}} \\cdot \\lbrack\\text{POM}\\rbrack$.\n",
    "\n",
    "Here $K_{O_{2}dom\\_ oxidation}$, $K_{O_{2}pom\\_ oxidation}$ are the rates of the corresponding processes,\n",
    "$f_{r}$ is the sigmoid type functional response with the half-saturation constant $Ks_{O_{2}}$,\n",
    "and $\\tau_{10}(T,q_{10},T_{\\text{ref}}) = \\exp(\\frac{T - T_{\\text{ref}}}{10} \\cdot \\ln q_{10})$\n",
    "being the reaction rate modulator ([Soetaert and Herman, 2009]) where $T$ is temperature,\n",
    "$q_{10}$ is the q10 factor of a rate increase for every temperature increase by 10 $^{\\circ}C$,\n",
    "and $T_{\\text{ref}}$ is reference temperature at which $\\tau_{10} = 1$.\n",
    "Therefore, these processes rates are the first order temperature dependent reactions which are not about equal zero when and where approximately $\\lbrack \\text{O}_{2}\\rbrack > Ks_{\\text{oxygen}}$.\n",
    "\n",
    "[Soetaert and Herman, 2009]: https://www.springer.com/gp/book/9781402086236"
   ]
  },
  {
   "cell_type": "markdown",
   "metadata": {},
   "source": [
    "The OM denitrification is split in two stages, oxidation with nitrates on the first and oxidation with nitrites on the second stage.\n",
    "The first stage\n",
    "($0.5\\text{CH}_{2}\\text{O} + \\text{NO}_{3}^{-} \\rightarrow \\text{NO}_{2}^{-} + 0.5\\text{H}_{2}\\text{O} + 0.5\\text{CO}_{2}$)\n",
    "is:\n",
    "\n",
    "$K_{om\\_ denitrification1} = f_{r}(Ks_{NO_{3}^{-}},\\lbrack\\text{NO}_{3}^{-}\\rbrack) \\cdot f_{i\\_ hyperbolic}(Ks_{O_{2}\\text{for}NO_{3}^{-}},\\lbrack \\text{O}_{2}\\rbrack)$,\n",
    "\n",
    "$\\text{DOM}_{NO_{3}^{-}\\text{oxidation}} = K_{NO_{3}^{-}dom\\_ oxidation} \\cdot K_{om_{denitrification1}} \\cdot \\lbrack\\text{DOM}\\rbrack$,\n",
    "\n",
    "$\\text{POM}_{NO_{3}^{-}\\text{oxidation}} = K_{NO_{3}^{-}pom\\_ oxidation} \\cdot K_{om_{denitrification1}} \\cdot \\left\\lbrack \\text{POM} \\right\\rbrack$.\n",
    "\n",
    "The second stage\n",
    "($0.75\\text{CH}_{2}\\text{O} + \\text{H}^{+} + \\text{NO}_{2}^{-} \\rightarrow 0.5\\text{N}_{2} + 1.25\\text{H}_{2}\\text{O} + 0.75\\text{CO}_{2}$)\n",
    "is:\n",
    "\n",
    "$K_{om\\_ denitrification2} = f_{r}(Ks_{NO_{2}^{-}},\\lbrack\\text{NO}_{2}^{-}\\rbrack) \\cdot f_{i\\_ hyperbolic}(Ks_{O_{2}\\text{for}NO_{3}^{-}},\\lbrack \\text{O}_{2}\\rbrack) \\cdot f_{i\\_ hyperbolic}(Ks_{NO_{3}^{-}},\\lbrack\\text{NO}_{3}^{-}\\rbrack)$,\n",
    "\n",
    "$\\text{DOM}_{NO_{2}^{-}\\text{oxidation}} = K_{NO_{2}^{-}dom\\_ oxidation} \\cdot K_{om_{denitrification2}} \\cdot \\lbrack\\text{DOM}\\rbrack$,\n",
    "\n",
    "$\\text{POM}_{NO_{2}^{-}\\text{oxidation}} = K_{NO_{2}^{-}pom\\_ oxidation} \\cdot K_{om_{denitrification2}} \\cdot \\lbrack\\text{POM}\\rbrack$.\n",
    "\n",
    "Here again $K_{NO_{3}^{-}dom\\_ oxidation}$, $K_{NO_{3}^{-}pom\\_ oxidation}$, $K_{NO_{2}^{-}dom\\_ oxidation}$,\n",
    "$K_{NO_{2}^{-}pom\\_ oxidation}$ are the process rates,\n",
    "$f_{r}$ is the sigmoid type functional response,\n",
    "and $f_{i\\_ hyperbolic}$ is the sigmoid hyperbolic type inhibitor function.\n",
    "$Ks_{NO_{3}^{-}}$, $Ks_{NO_{2}^{-}}$, and $Ks_{O_{2}\\text{for}NO_{3}^{-}}$ are the respective half-saturation constants.\n",
    "Therefore, the processes for example of the first stage of denitrification are inhibited in presence of oxygen and occur when and where approximately\n",
    "$\\lbrack\\text{NO}_{3}^{-}\\rbrack > Ks_{NO_{3}^{-}}$."
   ]
  },
  {
   "cell_type": "markdown",
   "metadata": {},
   "source": [
    "The $\\text{OM}$ sulfate reduction\n",
    "($2\\text{CH}_{2}\\text{O} + \\text{SO}_{4}^{2 -} \\rightarrow \\text{H}_{2}\\text{S} + 2\\text{HCO}_{3}^{-}$)\n",
    "is parameterized as functions:\n",
    "\n",
    "$K_{om\\_ reduction} = f_{r}(Ks_{SO_{4}^{2 -}},\\lbrack\\text{SO}_{4}^{2 -}\\rbrack) \\cdot \\tau_{10}(T,q_{10},T_{\\text{ref}}) \\cdot f_{i\\_ hyperbolic}(Ks_{O_{2}\\text{for}SO_{4}^{2 -}},\\lbrack \\text{O}_{2}\\rbrack) \\cdot f_{i\\_ hyperbolic}(Ks_{NO_{3}\\text{for}SO_{4}^{2 -}},\\lbrack\\text{NO}_{3}^{-}\\rbrack)$,\n",
    "\n",
    "$\\text{DOM}_{SO_{4}^{2 -}\\text{oxidation}} = K_{SO_{4}^{2 -}dom\\_ oxidation} \\cdot K_{om_{\\text{reduction}}} \\cdot \\lbrack\\text{DOM}\\rbrack$,\n",
    "\n",
    "$\\text{POM}_{SO_{4}^{2 -}\\text{oxidation}} = K_{SO_{4}^{2 -}pom\\_ oxidation} \\cdot K_{om_{\\text{reduction}}} \\cdot \\lbrack\\text{POM}\\rbrack$.\n",
    "\n",
    "$K_{SO_{4}^{2 -}dom\\_ oxidation}$, $K_{SO_{4}^{2 -}pom\\_ oxidation}$ are the process rates.\n",
    "Sulfate reduction is inhibited in the presence of more favorable electron acceptors ($\\text{O}_{2}$ or/and $\\text{NO}_{3}^{-}$)."
   ]
  },
  {
   "cell_type": "markdown",
   "metadata": {},
   "source": [
    "#### Nitrogen cycle\n",
    "\n",
    "Apart from denitrification described previously the biogeochemical model\n",
    "contains nitrification implemented as a two-step process and anammox.\n",
    "The first stage of nitrification\n",
    "($\\text{NH}_{4}^{+} + \\frac{3}{2}\\text{O}_{2} \\rightarrow \\text{NO}_{2}^{-} + 2\\text{H}^{+} + \\text{H}_{2}\\text{O}$):\n",
    "\n",
    "$\\text{N}_{\\text{nitrification}1} = K_{n1} \\cdot f_{r\\_ hyperbolic}(Ks_{O_{2}\\text{forN}},\\lbrack \\text{O}_{2}\\rbrack) \\cdot \\lbrack\\text{NH}_{4}^{+}\\rbrack$.\n",
    "\n",
    "The second stage of nitrification\n",
    "($\\text{NO}_{2}^{-} + \\frac{1}{2}\\text{O}_{2} \\rightarrow \\text{NO}_{3}^{-}$):\n",
    "\n",
    "$\\text{N}_{\\text{nitrification}2} = K_{n2} \\cdot f_{r\\_ hyperbolic}(Ks_{O_{2}\\text{forN}},\\lbrack \\text{O}_{2}\\rbrack) \\cdot \\lbrack\\text{NO}_{2}^{-}\\rbrack$.\n",
    "\n",
    "Anammox\n",
    "($\\text{NO}_{2}^{-} + \\text{NH}_{4}^{+} \\rightarrow \\text{N}_{2} + 2\\text{H}_{2}\\text{O}$):\n",
    "\n",
    "$\\text{N}_{\\text{anammox}} = K_{\\text{anammox}} \\cdot f_{i\\_ hyperbolic}(Ks_{O_{2}\\text{for}NO_{3}},\\lbrack \\text{O}_{2}\\rbrack) \\cdot \\lbrack\\text{NH}_{4}^{+}\\rbrack \\cdot \\lbrack\\text{NO}_{2}^{-}\\rbrack$.\n",
    "\n",
    "Here $K_{n1}$, $K_{n2}$, and $K_{\\text{anammox}}$ are the reaction rates."
   ]
  },
  {
   "cell_type": "markdown",
   "metadata": {},
   "source": [
    "#### Sulfur cycle\n",
    "\n",
    "Sulfur cycle reactions are implemented according to ([Yakushev et al., 2017]) as the second order reactions (except disproportionation which is the first order reaction) with adding functional responses to yield better sustainability.\n",
    "\n",
    "[Yakushev et al., 2017]: https://doi.org/10.5194/gmd-10-453-2017"
   ]
  },
  {
   "cell_type": "markdown",
   "metadata": {},
   "source": [
    "$\\text{S}^{0}$ disproportionation\n",
    "($4\\text{S}^{0} + 3\\text{H}_{2}\\text{O} \\rightarrow 2\\text{H}_{2}\\text{S} + \\text{S}_{2}\\text{O}_{3}^{2 -} + 2\\text{H}^{+}$):\n",
    "\n",
    "$\\text{S}_{\\text{disproportionation}}^{0} = K_{S\\_ disp} \\cdot \\lbrack \\text{S}^{0}\\rbrack$.\n",
    "\n",
    "$\\text{H}_{2}\\text{S}$ oxidation with $\\text{O}_{2}$\n",
    "($2\\text{H}_{2}\\text{S} + \\text{O}_{2} \\rightarrow 2\\text{S}^{0} + 2\\text{H}_{2}\\text{O}$ ):\n",
    "\n",
    "$\\text{H}_{2}\\text{S}_{O_{2}\\text{oxidation}} = K_{H_{2}S\\text{with}O_{2}} \\cdot f_{r\\_ hyperbolic}(Ks_{O_{2}\\text{for}S},\\lbrack \\text{O}_{2}\\rbrack) \\cdot f_{r\\_ hyperbolic}(Ks_{H_{2}S\\text{for}S},\\lbrack \\text{H}_{2}\\text{S}\\rbrack) \\cdot \\lbrack \\text{H}_{2}\\text{S}\\rbrack \\cdot \\lbrack \\text{O}_{2}\\rbrack$.\n",
    "\n",
    "$\\text{S}^{0}$ oxidation with $\\text{O}_{2}$\n",
    "($2\\text{S}^{0} + \\text{O}_{2} + \\text{H}_{2}\\text{O} \\rightarrow \\text{S}_{2}\\text{O}_{3}^{2 -} + 2\\text{H}^{+}$):\n",
    "\n",
    "$\\text{S}_{\\text{O}_{2}\\text{oxidation}}^{0} = K_{S^{0}S\\text{with}O_{2}} \\cdot f_{r\\_ hyperbolic}(Ks_{O_{2}\\text{for}S},\\lbrack \\text{O}_{2}\\rbrack) \\cdot \\lbrack \\text{S}^{0}\\rbrack \\cdot \\lbrack \\text{O}_{2}\\rbrack$.\n",
    "\n",
    "$\\text{S}_{2}\\text{O}_{3}^{2 -}$ oxidation with $\\text{O}_{2}$\n",
    "($\\text{S}_{2}\\text{O}_{3}^{2 -} + 2\\text{O}_{2} + 2\\text{OH}^{-} \\rightarrow 2\\text{SO}_{4}^{2 -} + \\text{H}_{2}\\text{O}$):\n",
    "\n",
    "$\\text{S}_{2}\\text{O}_{3\\_ O_{2}\\text{oxidation}}^{2 -} = K_{S_{2}O_{3}^{2 -}\\text{with}O_{2}} \\cdot f_{r\\_ hyperbolic}(Ks_{O_{2}\\text{forS}},\\lbrack \\text{O}_{2}\\rbrack) \\cdot \\lbrack \\text{S}_{2}\\text{O}_{3}^{2 -}\\rbrack \\cdot \\lbrack \\text{O}_{2}\\rbrack$."
   ]
  },
  {
   "cell_type": "markdown",
   "metadata": {},
   "source": [
    "Thiodenitrification\n",
    "($5\\text{H}_{2}\\text{S} + 8\\text{NO}_{3}^{-} + 2\\text{OH}^{-} \\rightarrow 5\\text{SO}_{4}^{2 -} + 4\\text{N}_{2} + 6\\text{H}_{2}\\text{O}$):\n",
    "\n",
    "$\\text{H}_{2}\\text{S}_{NO_{3}^{-}\\text{oxidation}} = K_{H_{2}S\\text{with}NO_{3}^{-}} \\cdot f_{r\\_ hyperbolic}(Ks_{NO_{3}^{-}\\text{for}S},\\lbrack\\text{NO}_{3}^{-}\\rbrack) \\cdot f_{r\\_ hyperbolic}(Ks_{H_{2}S\\text{for}S},\\lbrack \\text{H}_{2}\\text{S}\\rbrack) \\cdot \\lbrack \\text{H}_{2}\\text{S}\\rbrack \\cdot \\lbrack\\text{NO}_{3}^{-}\\rbrack$.\n",
    "\n",
    "$\\text{S}^{0}$ oxidation with $\\text{NO}_{3}^{-}$\n",
    "($4\\text{S}^{0} + 3\\text{NO}_{3}^{-} + 7\\text{H}_{2}\\text{O} \\rightarrow 4\\text{SO}_{4}^{2 -} + 3\\text{NH}_{4}^{+} + 2\\text{H}^{+}$):\n",
    "\n",
    "$\\text{S}_{NO_{3}^{-}\\text{oxidation}}^{0} = K_{S^{0}S\\text{with}NO_{3}^{-}} \\cdot f_{r\\_ hyperbolic}(Ks_{NO_{3}^{-}\\text{for}S},\\lbrack\\text{NO}_{3}^{-}\\rbrack) \\cdot \\lbrack \\text{S}^{0}\\rbrack \\cdot \\lbrack\\text{NO}_{3}^{-}\\rbrack$.\n",
    "\n",
    "$\\text{S}_{2}\\text{O}_{3}^{2 -}$ oxidation with $\\text{NO}_{3}^{-}$\n",
    "($\\text{S}_{2}\\text{O}_{3}^{2 -} + \\text{NO}_{3}^{-} + 2\\text{H}_{2}\\text{O} \\rightarrow 2\\text{SO}_{4}^{2 -} + \\text{NH}_{4}^{+}$):\n",
    "\n",
    "$\\text{S}_{2}\\text{O}_{3\\_ NO_{3}^{-}\\text{oxidation}}^{2 -} = K_{S_{2}O_{3}^{2 -}\\text{with}NO_{3}^{-}} \\cdot f_{r\\_ hyperbolic}(Ks_{NO_{3}^{-}\\text{for}S},\\lbrack\\text{NO}_{3}^{-}\\rbrack) \\cdot \\lbrack \\text{S}_{2}\\text{O}_{3}^{2 -}\\rbrack \\cdot \\lbrack\\text{NO}_{3}^{-}\\rbrack$"
   ]
  },
  {
   "cell_type": "markdown",
   "metadata": {},
   "source": [
    "#### Mass balance equations\n",
    "\n",
    "The resulting change of concentration of each state variable is a sum of the relevant processes.\n",
    "We introduce some new notations:\n",
    "$\\text{DOM}_{N\\_ \\text{oxidation}} = \\text{DOM}_{NO_{3}^{-}\\text{oxidation}} + \\text{DOM}_{NO_{2}^{-}\\text{oxidation}}$,\n",
    "$\\text{POM}_{N\\_ \\text{oxidation}} = \\text{POM}_{NO_{3}^{-}\\text{oxidation}} + \\text{POM}_{NO_{2}^{-}\\text{oxidation}}$\n",
    "and\n",
    "$\\text{N}_{\\text{denitrification}1} = 2 \\cdot (\\text{DOM}_{NO_{3}^{-}\\text{oxidation}} + \\text{POM}_{NO_{3}^{-}\\text{oxidation}})$,\n",
    "$\\text{N}_{\\text{denitrification2}} = \\frac{4}{3} \\cdot (\\text{DOM}_{NO_{2}^{-}\\text{oxidation}} + \\text{POM}_{NO_{2}^{-}\\text{oxidation}})$.\n",
    "The introduction of the coefficients is necessary due to the corresponding stoichiometry."
   ]
  },
  {
   "cell_type": "markdown",
   "metadata": {},
   "source": [
    "Below we mark with superscript $'$ the processes with concentrations converted to molar, for example\n",
    "${\\text{Phy}’}_{\\text{growth}}\\ \\lbrack\\text{mM C m}^{- 3}\\ \\text{d}^{- 1}\\rbrack = \\frac{1}{12.011}\\text{Phy}_{\\text{growth}}\\ \\lbrack\\text{mg C m}^{- 3}\\ \\text{d}^{- 1}\\rbrack$.\n",
    "Also, the processes with superscript $''$ are concentrations converted according to the Redfield stoichiometry\n",
    "(quantity is marked with a respective subscript, carbon to silicon ratio is 106 to 15), for example\n",
    "${\\text{DOM}\"}_{\\text{N } O_{2}\\text{oxydation}}\\ \\lbrack\\text{mM N m}^{- 3}\\ \\text{d}^{- 1}\\rbrack = \\frac{1}{12.011}\\frac{16}{106}\\text{DOM}_{O_{2}\\text{oxydation}}\\ \\lbrack\\text{mg C m}^{- 3}\\ \\text{d}^{- 1}\\rbrack$."
   ]
  },
  {
   "cell_type": "markdown",
   "metadata": {},
   "source": [
    "The consumption of nitrogen species by phototrophic producers depends on the respective nitrogen-limited growth rate compounds.\n",
    "Recall that\n",
    "$\\tau_{N} = \\tau_{NH_{4}^{+}} + \\tau_{NO_{x}}$ where $\\tau_{N}$\n",
    "can not exceed 1 and $\\tau_{NO_{x}}$ depends on sum of nitrites and nitrates.\n",
    "Therefore, ammonium by phototrophic producers consumption is\n",
    "$\\text{Phy}\"_{NH_{4}^{+}} = \\text{Phy\"}_{\\text{growth}}\\frac{\\tau_{NH_{4}^{+}}}{\\tau_{N}}$,\n",
    "nitrite consumption is\n",
    "$\\text{Phy}\"_{NO_{2}^{-}} = \\text{Phy\"}_{\\text{growth}}\\frac{\\tau_{NO_{x}}}{\\tau_{N}}\\frac{\\lbrack\\text{NO}_{2}^{-}\\rbrack}{\\lbrack\\text{NO}_{2}^{-}\\rbrack + \\lbrack\\text{NO}_{3}^{-}\\rbrack}$,\n",
    "and nitrate consumption is\n",
    "$\\text{Phy}\"_{NO_{3}^{-}} = \\text{Phy\"}_{\\text{growth}}\\frac{\\tau_{NO_{x}}}{\\tau_{N}}\\frac{\\lbrack\\text{NO}_{3}^{-}\\rbrack}{\\lbrack\\text{NO}_{2}^{-}\\rbrack + \\lbrack\\text{NO}_{3}^{-}\\rbrack}$."
   ]
  },
  {
   "cell_type": "markdown",
   "metadata": {},
   "source": [
    "We assume that only a part ($\\text{Uz}$) of total OM consumed by heterotrophs is absorbed.\n",
    "$\\text{Hz}$ is the ratio between dissolved and particulate parts of OM excreted by heterotrophs.\n",
    "Therefore, $\\text{Het}_{\\text{grazing-raw}} = \\text{Het}_{\\text{grazing-phy}} + \\text{Het}_{\\text{grazing-pom}}$\n",
    "and the amount of organic matter consumed by heterotrophs is\n",
    "$\\text{Het}_{\\text{grazing}} = Uz \\cdot \\text{Het}_{\\text{grazing-raw}}$.\n",
    "Corresponding $\\text{DOM}$ input is\n",
    "$\\text{Het}_{\\text{dom-excrete}} = \\text{Het}_{\\text{grazing-raw}} \\cdot (1 - Uz) \\cdot Hz$\n",
    "and $\\text{POM}$ input is\n",
    "$\\text{Het}_{\\text{pom-excrete}} = \\text{Het}_{\\text{grazing-raw}} \\cdot (1 - Uz) \\cdot (1 - Hz)$."
   ]
  },
  {
   "cell_type": "markdown",
   "metadata": {},
   "source": [
    "Model mass balance equations:\n",
    "\n",
    "$\\delta\\lbrack\\text{Phy}\\rbrack = \\text{Phy}_{\\text{growth}} - \\text{Phy}_{\\text{mortality}} - \\text{Phy}_{\\text{excrete}} - \\text{Het}_{\\text{grazing-phy}}$,\n",
    "\n",
    "$\\delta\\lbrack\\text{Het}\\rbrack = \\text{Het}_{\\text{grazing}} - \\text{Het}_{\\text{respiration}} - \\text{Het}_{\\text{mortality}}$,\n",
    "\n",
    "$\\delta\\lbrack\\text{DOM}\\rbrack = \\text{OM}_{\\text{autolysis}} + \\text{Het}_{\\text{dom-excrete}} + \\text{Phy}_{\\text{excrete}} - \\text{DOM}_{O_{2}\\text{oxidation}} - \\text{DOM}_{N\\_ \\text{oxidation}} - \\text{DOM}_{SO_{4}\\text{oxidation}}$,\n",
    "\n",
    "$\\delta\\lbrack\\text{POM}\\rbrack = \\text{Phy}_{\\text{mortality}} + \\text{Het}_{\\text{mortality}} + \\text{Het}_{\\text{pom-excrete}} - \\text{OM}_{\\text{autolysis}} - \\text{Het}_{\\text{grazing-pom}} - \\text{POM}_{O_{2}\\text{oxidation}} - \\text{POM}_{N\\_ \\text{oxidation}} - \\text{POM}_{SO_{4}\\text{oxidation}}$,\n",
    "\n",
    "$\\delta\\lbrack\\text{DIC}\\rbrack = {\\text{Het}’}_{\\text{respiration}} + {\\text{DOM}’}_{O_{2}\\text{oxidation}} + {\\text{POM}’}_{O_{2}\\text{oxidation}} + {\\text{DOM}’}_{N\\_ \\text{oxidation}} + {\\text{POM}’}_{N\\_ \\text{oxidation}} + {\\text{DOM}’}_{SO_{4}\\text{oxidation}} + {\\text{POM}’}_{SO_{4}\\text{oxidation}} - {\\text{Phy}’}_{\\text{growth}}$,"
   ]
  },
  {
   "cell_type": "markdown",
   "metadata": {},
   "source": [
    "$\\delta\\lbrack \\text{O}_{2}\\rbrack = \\text{Phy}’_{\\text{growth}} - \\text{Het}’_{\\text{respiration}} - {\\text{DOM}’}_{O_{2}\\text{oxidation}} - {\\text{POM}’}_{O_{2}\\text{oxidation}} - \\frac{3}{2}\\text{N}_{\\text{nitrification}1} - \\frac{1}{2}\\text{N}_{\\text{nitrification}2} - \\frac{1}{2}\\text{H}_{2}\\text{S}_{O_{2}\\text{oxidation}} - \\frac{1}{2}\\text{S}_{O_{2}\\text{oxidation}}^{0} - 2\\text{S}_{2}\\text{O}_{3\\_ O_{2}\\text{oxidation}}^{2 -}$,\n",
    "\n",
    "$\\delta\\lbrack\\text{NH}_{4}^{+}\\rbrack = \\text{Het\"}_{\\text{N respiration}} + \\text{DOM\"}_{\\text{N }O_{2}\\text{oxydation}} + \\text{POM\"}_{\\text{N }O_{2}\\text{oxydation}} + \\text{DOM\"}_{\\text{N}\\ N\\_ \\text{oxydation}} + \\text{POM\"}_{\\text{N}\\ N\\_ \\text{oxydation}} + \\text{DOM\"}_{\\text{N }SO_{4}\\text{oxydation}} + \\text{POM\"}_{\\text{N }SO_{4}\\text{oxydation}} + \\frac{3}{4}\\text{S}_{NO_{3}^{-}\\text{oxidation}}^{0} + \\text{S}_{2}\\text{O}_{3\\_ NO_{3}^{-}\\text{oxidation}}^{2 -} - \\text{N}_{\\text{nitrification}1} - \\text{N}_{\\text{anammox}} - \\text{Phy\"}_{NH_{4}^{+}}$,\n",
    "\n",
    "$\\delta\\lbrack\\text{NO}_{2}^{-}\\rbrack = \\text{N}_{\\text{nitrification}1} + \\text{N}_{\\text{denitrification}1} - \\text{N}_{\\text{nitrification}2} - \\text{N}_{\\text{denitrification}2} - \\text{N}_{\\text{anammox}} - \\text{Phy\"}_{NO_{2}^{-}}$,\n",
    "\n",
    "$\\delta\\lbrack\\text{NO}_{3}^{-}\\rbrack = \\text{N}_{\\text{nitrification}2} - \\text{N}_{\\text{denitrification}1} - \\text{Phy\"}_{NO_{3}^{-}} - \\frac{8}{5}\\text{H}_{2}\\text{S}_{NO_{3}^{-}\\text{oxidation}} - \\frac{3}{4}\\text{S}_{NO_{3}^{-}\\text{oxidation}}^{0} - \\text{S}_{2}\\text{O}_{3\\_ NO_{3}^{-}\\text{oxidation}}^{2 -}$,"
   ]
  },
  {
   "cell_type": "markdown",
   "metadata": {},
   "source": [
    "$\\delta\\lbrack\\text{PO}_{4}^{3 -}\\rbrack = {\\text{Het}\"}_{\\text{P respiration}} + \\text{DOM\"}_{\\text{P }O_{2}\\text{oxydation}} + \\text{POM\"}_{\\text{P }O_{2}\\text{oxydation}} + \\text{DOM\"}_{\\text{P}\\ N\\_ \\text{oxydation}} + \\text{POM\"}_{\\text{P}\\ N\\_ \\text{oxydation}} + \\text{DOM\"}_{\\text{P }SO_{4}\\text{oxydation}} + \\text{POM\"}_{\\text{P }SO_{4}\\text{oxydation}} - \\text{Phy\"}_{\\text{P growth}}$,\n",
    "\n",
    "$\\delta\\lbrack\\text{Si}\\rbrack = \\text{Het\"}_{\\text{Si respiration}} + \\text{DOM\"}_{\\text{Si }O_{2}\\text{oxydation}} + \\text{POM\"}_{\\text{Si }O_{2}\\text{oxydation}} + \\text{DOM\"}_{\\text{Si}\\ N\\_ \\text{oxydation}} + \\text{POM\"}_{\\text{Si}\\ N\\_ \\text{oxydation}} + \\text{DOM\"}_{\\text{Si }SO_{4}\\text{oxydation}} + \\text{POM\"}_{\\text{Si }SO_{4}\\text{oxydation}} - \\text{Phy\"}_{\\text{Si growth}}$,\n",
    "\n",
    "$\\delta\\lbrack\\text{SO}_{4}^{2 -}\\rbrack = 2\\text{S}_{2}\\text{O}_{3\\_ O_{2}\\text{oxidation}}^{2 -} + \\text{H}_{2}\\text{S}_{NO_{3}^{-}\\text{oxidation}} + \\text{S}_{NO_{3}^{-}\\text{oxidation}}^{0} + 2\\text{S}_{2}\\text{O}_{3\\_ NO_{3}^{-}\\text{oxidation}}^{2 -} - \\frac{1}{2}\\text{DOM’}_{SO_{4}\\text{oxidation}} - \\frac{1}{2}\\text{POM’}_{SO_{4}\\text{oxidation}}$,\n",
    "\n",
    "$\\delta\\lbrack \\text{S}_{2}\\text{O}_{3}^{2 -}\\rbrack = \\frac{1}{4}\\text{S}_{\\text{disproportionation}}^{0} + \\frac{1}{2}\\text{S}_{O_{2}\\text{oxidation}}^{0} - \\text{S}_{2}\\text{O}_{3\\_ O_{2}\\text{oxidation}}^{2 -} - \\text{S}_{2}\\text{O}_{3\\_ NO_{3}^{-}\\text{oxidation}}^{2 -}$,\n",
    "\n",
    "$\\delta\\lbrack \\text{S}^{0}\\rbrack = \\text{H}_{2}\\text{S}_{O_{2}\\text{oxidation}} - \\text{S}_{\\text{disproportionation}}^{0} - \\text{S}_{O_{2}\\text{oxidation}}^{0} - \\text{S}_{NO_{3}^{-}\\text{oxidation}}^{0}$,\n",
    "\n",
    "$\\delta\\lbrack \\text{H}_{2}\\text{S}\\rbrack = \\frac{1}{2}\\text{S}_{\\text{disproportionation}}^{0} + \\frac{1}{2}\\text{DOM’}_{SO_{4}\\text{oxidation}} + \\frac{1}{2}\\text{POM’}_{SO_{4}\\text{oxidation}} - \\text{H}_{2}\\text{S}_{O_{2}\\text{oxidation}} - \\text{H}_{2}\\text{S}_{NO_{3}^{-}\\text{oxidation}}$,\n",
    "\n",
    "$\\delta\\lbrack\\text{TA}\\rbrack = \\delta\\lbrack\\text{NH}_{4}^{+}\\rbrack - \\delta\\lbrack\\text{NO}_{2}^{-}\\rbrack - \\delta\\lbrack\\text{NO}_{3}^{-}\\rbrack - \\delta\\lbrack\\text{PO}_{4}^{3 -}\\rbrack - 2\\delta\\lbrack\\text{SO}_{4}^{2 -}\\rbrack$."
   ]
  },
  {
   "cell_type": "markdown",
   "metadata": {},
   "source": [
    "The resulting $\\text{TA}$ change is the sum of increments of ammonium, nitrites, nitrates, phosphates, and sulfates."
   ]
  }
 ],
 "metadata": {
  "file_extension": ".py",
  "kernelspec": {
   "display_name": "Python 3",
   "language": "python",
   "name": "python3"
  },
  "language_info": {
   "codemirror_mode": {
    "name": "ipython",
    "version": 3
   },
   "file_extension": ".py",
   "mimetype": "text/x-python",
   "name": "python",
   "nbconvert_exporter": "python",
   "pygments_lexer": "ipython3",
   "version": "3.7.6"
  },
  "mimetype": "text/x-python",
  "name": "python",
  "npconvert_exporter": "python",
  "pygments_lexer": "ipython3",
  "version": 3
 },
 "nbformat": 4,
 "nbformat_minor": 4
}
