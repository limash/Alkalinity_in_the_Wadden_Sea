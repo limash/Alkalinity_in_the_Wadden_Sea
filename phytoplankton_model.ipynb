{
 "cells": [
  {
   "cell_type": "code",
   "execution_count": 1,
   "metadata": {},
   "outputs": [],
   "source": [
    "import numpy as np\n",
    "import pandas as pd\n",
    "import xarray as xr\n",
    "import brom_functions as bf\n",
    "import plot_functions as pf\n",
    "import linear_fit_functions as lff"
   ]
  },
  {
   "cell_type": "markdown",
   "metadata": {},
   "source": [
    "#### Open an initial dataset (observed values)"
   ]
  },
  {
   "cell_type": "code",
   "execution_count": 2,
   "metadata": {},
   "outputs": [
    {
     "data": {
      "text/html": [
       "<div>\n",
       "<style scoped>\n",
       "    .dataframe tbody tr th:only-of-type {\n",
       "        vertical-align: middle;\n",
       "    }\n",
       "\n",
       "    .dataframe tbody tr th {\n",
       "        vertical-align: top;\n",
       "    }\n",
       "\n",
       "    .dataframe thead th {\n",
       "        text-align: right;\n",
       "    }\n",
       "</style>\n",
       "<table border=\"1\" class=\"dataframe\">\n",
       "  <thead>\n",
       "    <tr style=\"text-align: right;\">\n",
       "      <th></th>\n",
       "      <th>par</th>\n",
       "      <th>hice</th>\n",
       "      <th>snowthick</th>\n",
       "      <th>icesurft</th>\n",
       "      <th>temperature</th>\n",
       "      <th>salinity</th>\n",
       "      <th>sigma</th>\n",
       "      <th>turbulence</th>\n",
       "      <th>nitrate</th>\n",
       "      <th>silicate</th>\n",
       "      <th>phosphate</th>\n",
       "      <th>oxygen</th>\n",
       "      <th>donflux</th>\n",
       "      <th>gpp</th>\n",
       "      <th>chl_a</th>\n",
       "    </tr>\n",
       "  </thead>\n",
       "  <tbody>\n",
       "    <tr>\n",
       "      <th>count</th>\n",
       "      <td>365.000000</td>\n",
       "      <td>365.0</td>\n",
       "      <td>365.0</td>\n",
       "      <td>365.0</td>\n",
       "      <td>365.000000</td>\n",
       "      <td>365.000000</td>\n",
       "      <td>365.000000</td>\n",
       "      <td>365.000000</td>\n",
       "      <td>365.000000</td>\n",
       "      <td>365.000000</td>\n",
       "      <td>365.000000</td>\n",
       "      <td>365.000000</td>\n",
       "      <td>365.000000</td>\n",
       "      <td>365.000000</td>\n",
       "      <td>365.000000</td>\n",
       "    </tr>\n",
       "    <tr>\n",
       "      <th>mean</th>\n",
       "      <td>35.069321</td>\n",
       "      <td>0.0</td>\n",
       "      <td>0.0</td>\n",
       "      <td>0.0</td>\n",
       "      <td>10.813757</td>\n",
       "      <td>30.490284</td>\n",
       "      <td>23.956172</td>\n",
       "      <td>0.000035</td>\n",
       "      <td>15.759448</td>\n",
       "      <td>10.699419</td>\n",
       "      <td>0.600309</td>\n",
       "      <td>331.889431</td>\n",
       "      <td>1.895625</td>\n",
       "      <td>5.326875</td>\n",
       "      <td>17.024940</td>\n",
       "    </tr>\n",
       "    <tr>\n",
       "      <th>std</th>\n",
       "      <td>31.230162</td>\n",
       "      <td>0.0</td>\n",
       "      <td>0.0</td>\n",
       "      <td>0.0</td>\n",
       "      <td>5.574554</td>\n",
       "      <td>0.697100</td>\n",
       "      <td>0.836899</td>\n",
       "      <td>0.000030</td>\n",
       "      <td>13.483072</td>\n",
       "      <td>8.122721</td>\n",
       "      <td>0.375671</td>\n",
       "      <td>47.993865</td>\n",
       "      <td>1.193110</td>\n",
       "      <td>3.352747</td>\n",
       "      <td>8.762977</td>\n",
       "    </tr>\n",
       "    <tr>\n",
       "      <th>min</th>\n",
       "      <td>0.074468</td>\n",
       "      <td>0.0</td>\n",
       "      <td>0.0</td>\n",
       "      <td>0.0</td>\n",
       "      <td>2.277187</td>\n",
       "      <td>29.160912</td>\n",
       "      <td>22.598359</td>\n",
       "      <td>0.000009</td>\n",
       "      <td>0.196964</td>\n",
       "      <td>0.885625</td>\n",
       "      <td>0.111622</td>\n",
       "      <td>252.691004</td>\n",
       "      <td>0.210641</td>\n",
       "      <td>0.591919</td>\n",
       "      <td>0.000000</td>\n",
       "    </tr>\n",
       "    <tr>\n",
       "      <th>25%</th>\n",
       "      <td>3.119514</td>\n",
       "      <td>0.0</td>\n",
       "      <td>0.0</td>\n",
       "      <td>0.0</td>\n",
       "      <td>5.860116</td>\n",
       "      <td>29.966954</td>\n",
       "      <td>23.212432</td>\n",
       "      <td>0.000018</td>\n",
       "      <td>1.158780</td>\n",
       "      <td>3.862690</td>\n",
       "      <td>0.244642</td>\n",
       "      <td>291.622372</td>\n",
       "      <td>0.706717</td>\n",
       "      <td>1.985937</td>\n",
       "      <td>11.037168</td>\n",
       "    </tr>\n",
       "    <tr>\n",
       "      <th>50%</th>\n",
       "      <td>29.455765</td>\n",
       "      <td>0.0</td>\n",
       "      <td>0.0</td>\n",
       "      <td>0.0</td>\n",
       "      <td>10.534888</td>\n",
       "      <td>30.591089</td>\n",
       "      <td>23.889275</td>\n",
       "      <td>0.000025</td>\n",
       "      <td>15.044345</td>\n",
       "      <td>5.976488</td>\n",
       "      <td>0.558698</td>\n",
       "      <td>325.981203</td>\n",
       "      <td>1.895625</td>\n",
       "      <td>5.326875</td>\n",
       "      <td>17.788178</td>\n",
       "    </tr>\n",
       "    <tr>\n",
       "      <th>75%</th>\n",
       "      <td>63.477306</td>\n",
       "      <td>0.0</td>\n",
       "      <td>0.0</td>\n",
       "      <td>0.0</td>\n",
       "      <td>16.323988</td>\n",
       "      <td>31.004769</td>\n",
       "      <td>24.501101</td>\n",
       "      <td>0.000040</td>\n",
       "      <td>27.230134</td>\n",
       "      <td>19.984896</td>\n",
       "      <td>0.938452</td>\n",
       "      <td>362.082079</td>\n",
       "      <td>3.084533</td>\n",
       "      <td>8.667813</td>\n",
       "      <td>22.475982</td>\n",
       "    </tr>\n",
       "    <tr>\n",
       "      <th>max</th>\n",
       "      <td>100.457275</td>\n",
       "      <td>0.0</td>\n",
       "      <td>0.0</td>\n",
       "      <td>0.0</td>\n",
       "      <td>19.207354</td>\n",
       "      <td>32.490208</td>\n",
       "      <td>26.365789</td>\n",
       "      <td>0.000289</td>\n",
       "      <td>40.905059</td>\n",
       "      <td>25.445419</td>\n",
       "      <td>1.247792</td>\n",
       "      <td>427.340630</td>\n",
       "      <td>3.580609</td>\n",
       "      <td>10.061831</td>\n",
       "      <td>40.770156</td>\n",
       "    </tr>\n",
       "  </tbody>\n",
       "</table>\n",
       "</div>"
      ],
      "text/plain": [
       "              par   hice  snowthick  icesurft  temperature    salinity  \\\n",
       "count  365.000000  365.0      365.0     365.0   365.000000  365.000000   \n",
       "mean    35.069321    0.0        0.0       0.0    10.813757   30.490284   \n",
       "std     31.230162    0.0        0.0       0.0     5.574554    0.697100   \n",
       "min      0.074468    0.0        0.0       0.0     2.277187   29.160912   \n",
       "25%      3.119514    0.0        0.0       0.0     5.860116   29.966954   \n",
       "50%     29.455765    0.0        0.0       0.0    10.534888   30.591089   \n",
       "75%     63.477306    0.0        0.0       0.0    16.323988   31.004769   \n",
       "max    100.457275    0.0        0.0       0.0    19.207354   32.490208   \n",
       "\n",
       "            sigma  turbulence     nitrate    silicate   phosphate      oxygen  \\\n",
       "count  365.000000  365.000000  365.000000  365.000000  365.000000  365.000000   \n",
       "mean    23.956172    0.000035   15.759448   10.699419    0.600309  331.889431   \n",
       "std      0.836899    0.000030   13.483072    8.122721    0.375671   47.993865   \n",
       "min     22.598359    0.000009    0.196964    0.885625    0.111622  252.691004   \n",
       "25%     23.212432    0.000018    1.158780    3.862690    0.244642  291.622372   \n",
       "50%     23.889275    0.000025   15.044345    5.976488    0.558698  325.981203   \n",
       "75%     24.501101    0.000040   27.230134   19.984896    0.938452  362.082079   \n",
       "max     26.365789    0.000289   40.905059   25.445419    1.247792  427.340630   \n",
       "\n",
       "          donflux         gpp       chl_a  \n",
       "count  365.000000  365.000000  365.000000  \n",
       "mean     1.895625    5.326875   17.024940  \n",
       "std      1.193110    3.352747    8.762977  \n",
       "min      0.210641    0.591919    0.000000  \n",
       "25%      0.706717    1.985937   11.037168  \n",
       "50%      1.895625    5.326875   17.788178  \n",
       "75%      3.084533    8.667813   22.475982  \n",
       "max      3.580609   10.061831   40.770156  "
      ]
     },
     "execution_count": 2,
     "metadata": {},
     "output_type": "execute_result"
    }
   ],
   "source": [
    "ds = xr.open_dataset('wadden_sea_out.nc')\n",
    "df = ds.to_dataframe()\n",
    "levelcntr = df.groupby('levelcntr').get_group(0.625)\n",
    "levelface = levelcntr.groupby('levelface').get_group(0)\n",
    "levelface.describe()"
   ]
  },
  {
   "cell_type": "code",
   "execution_count": 3,
   "metadata": {},
   "outputs": [],
   "source": [
    "par = levelface['par'].values.astype(np.float64)\n",
    "temperature = levelface['temperature'].values.astype(np.float64)\n",
    "no3_data = levelface['nitrate'].values.astype(np.float64)\n",
    "po4_data = levelface['phosphate'].values.astype(np.float64)\n",
    "si_data = levelface['silicate'].values.astype(np.float64)\n",
    "o2_data = levelface['oxygen'].values.astype(np.float64)\n",
    "chl_a_data = levelface['chl_a'].values.astype(np.float64)\n",
    "# daily irradiance\n",
    "irradiance = par*86400/1000000 # convertion microM per second to M per day"
   ]
  },
  {
   "cell_type": "markdown",
   "metadata": {},
   "source": [
    "#### Parameters"
   ]
  },
  {
   "cell_type": "code",
   "execution_count": 4,
   "metadata": {},
   "outputs": [],
   "source": [
    "depth = 0.625; k=0.04; latitude=54.88; days = np.arange(0,364,1)\n",
    "\n",
    "nh4 = np.zeros(365); nh4[0] = 0.1 \n",
    "no2 = np.zeros(365); no2[0] = 0.1\n",
    "no3 = np.zeros(365); no3[0] = no3_data[0] \n",
    "si = np.zeros(365); si[0] = si_data[0] \n",
    "po4 = np.zeros(365); po4[0] = po4_data[0] \n",
    "o2 = np.zeros(365); o2[0] = o2_data[0] \n",
    "\n",
    "phy = np.zeros(365); phy[0] = 1\n",
    "# daily irradiance, convertion microM per second to M per day\n",
    "irradiance = par*86400/1000000\n",
    "knh4_lim=0.5; knox_lim=0.5; ksi_lim=0.5; kpo4_lim=0.5; pbm=8; alpha=0.05; kexc=0.015; kmortality=0.0001\n",
    "\n",
    "het = np.zeros(365); het[0] = 1\n",
    "k_het_phy_gro=0.1; k_het_phy_lim=1.1; k_het_pom_gro=0.1; k_het_pom_lim=1.1\n",
    "k_het_res=0.015; k_het_mort=0.01; uz=0.5; hz=0.5\n",
    "\n",
    "k_nfix = 0.4; k_nitrif1=0.1; k_nitrif2=0.1; o2s_nf=5; k_anammox=0.8; o2s_dn=10\n",
    "\n",
    "poml = np.zeros(365); poml[0] = 1; pomr = np.zeros(365); pomr[0] = 1\n",
    "doml = np.zeros(365); domr = np.zeros(365)\n",
    "k_poml_doml=0.15; k_pomr_domr=0.00001; k_omox_o2=1; tref=0\n",
    "k_doml_ox=0.1; k_poml_ox=0.02; k_domr_ox=0.1; k_pomr_ox=0.002"
   ]
  },
  {
   "cell_type": "markdown",
   "metadata": {},
   "source": [
    "#### Run simulation"
   ]
  },
  {
   "cell_type": "code",
   "execution_count": 5,
   "metadata": {},
   "outputs": [
    {
     "ename": "SystemExit",
     "evalue": "po4 is negative",
     "output_type": "error",
     "traceback": [
      "An exception has occurred, use %tb to see the full traceback.\n",
      "\u001b[0;31mSystemExit\u001b[0m\u001b[0;31m:\u001b[0m po4 is negative\n"
     ]
    },
    {
     "name": "stderr",
     "output_type": "stream",
     "text": [
      "/home/shamil/anaconda3/lib/python3.6/site-packages/IPython/core/interactiveshell.py:2971: UserWarning: To exit: use 'exit', 'quit', or Ctrl-D.\n",
      "  warn(\"To exit: use 'exit', 'quit', or Ctrl-D.\", stacklevel=1)\n"
     ]
    }
   ],
   "source": [
    "chl_a = bf.calculate(\n",
    "    depth, k, latitude, \n",
    "    days, temperature, \n",
    "    nh4, no2, no3, si, po4, o2,\n",
    "    phy, par, irradiance, \n",
    "    knh4_lim, knox_lim, ksi_lim, kpo4_lim, pbm, alpha, kexc, kmortality,\n",
    "    het, k_het_phy_gro, k_het_phy_lim, k_het_pom_gro, k_het_pom_lim, k_het_res, k_het_mort, uz, hz,\n",
    "    k_nfix, k_nitrif1, k_nitrif2, o2s_nf, k_anammox, o2s_dn,\n",
    "    poml, doml, pomr, domr, \n",
    "    k_poml_doml, k_pomr_domr, k_omox_o2, tref, k_doml_ox, k_poml_ox, k_domr_ox, k_pomr_ox)"
   ]
  },
  {
   "cell_type": "code",
   "execution_count": 6,
   "metadata": {},
   "outputs": [
    {
     "data": {
      "image/png": "[encoded data removed]",
      "text/plain": [
       "<Figure size 720x288 with 1 Axes>"
      ]
     },
     "metadata": {},
     "output_type": "display_data"
    }
   ],
   "source": [
    "pf.plot_triple(phy,'phy',doml,'doml',domr,'domr')"
   ]
  },
  {
   "cell_type": "code",
   "execution_count": 7,
   "metadata": {},
   "outputs": [
    {
     "data": {
      "image/png": "[encoded data removed]",
      "text/plain": [
       "<Figure size 720x288 with 1 Axes>"
      ]
     },
     "metadata": {},
     "output_type": "display_data"
    }
   ],
   "source": [
    "pf.plot_triple(nh4,'nh4',no2,'no2',no3,'no3')"
   ]
  },
  {
   "cell_type": "code",
   "execution_count": 10,
   "metadata": {},
   "outputs": [
    {
     "data": {
      "image/png": "[encoded data removed]",
      "text/plain": [
       "<Figure size 800x320 with 1 Axes>"
      ]
     },
     "metadata": {},
     "output_type": "display_data"
    }
   ],
   "source": [
    "pf.plot_triple(o2,'o2',o2,'o2',o2,'o2')"
   ]
  },
  {
   "cell_type": "code",
   "execution_count": 11,
   "metadata": {},
   "outputs": [
    {
     "ename": "NameError",
     "evalue": "name 'chl_a' is not defined",
     "output_type": "error",
     "traceback": [
      "\u001b[0;31m---------------------------------------------------------------------------\u001b[0m",
      "\u001b[0;31mNameError\u001b[0m                                 Traceback (most recent call last)",
      "\u001b[0;32m<ipython-input-11-aa98a19c996b>\u001b[0m in \u001b[0;36m<module>\u001b[0;34m()\u001b[0m\n\u001b[0;32m----> 1\u001b[0;31m \u001b[0mpf\u001b[0m\u001b[0;34m.\u001b[0m\u001b[0mplot_over_year\u001b[0m\u001b[0;34m(\u001b[0m\u001b[0;34m'Day'\u001b[0m\u001b[0;34m,\u001b[0m \u001b[0;34m'Chl a'\u001b[0m\u001b[0;34m,\u001b[0m \u001b[0;34m'Chl a, $mg\\,Chl\\,a\\,m^{-3}$'\u001b[0m\u001b[0;34m,\u001b[0m \u001b[0mchl_a\u001b[0m\u001b[0;34m)\u001b[0m\u001b[0;34m\u001b[0m\u001b[0m\n\u001b[0m",
      "\u001b[0;31mNameError\u001b[0m: name 'chl_a' is not defined"
     ]
    }
   ],
   "source": [
    "pf.plot_over_year('Day', 'Chl a', 'Chl a, $mg\\,Chl\\,a\\,m^{-3}$', chl_a)"
   ]
  },
  {
   "cell_type": "code",
   "execution_count": null,
   "metadata": {},
   "outputs": [],
   "source": [
    "pf.plot_over_year('Day', 'Chl a', 'Chl a from data, $mg\\,Chl\\,a\\,m^{-3}$', chl_a_data)"
   ]
  },
  {
   "cell_type": "code",
   "execution_count": null,
   "metadata": {},
   "outputs": [],
   "source": [
    "foo = lff.run_least_squares(lff.construct_least_squares(depth, k, latitude,\n",
    "        days, temperature,\n",
    "        nh4, no2, no3, si, po4, o2,\n",
    "        phy, par, irradiance, \n",
    "        het, uz, hz,\n",
    "        k_nfix, k_nitrif1, k_nitrif2, o2s_nf, k_anammox, o2s_dn,\n",
    "        poml, doml, pomr, domr, \n",
    "        k_poml_doml, k_pomr_domr, k_omox_o2, tref, k_doml_ox, k_poml_ox, k_domr_ox, k_pomr_ox,\n",
    "        chl_a_data))"
   ]
  },
  {
   "cell_type": "code",
   "execution_count": null,
   "metadata": {},
   "outputs": [],
   "source": [
    "lff.report_values(foo)"
   ]
  },
  {
   "cell_type": "code",
   "execution_count": null,
   "metadata": {},
   "outputs": [],
   "source": [
    "knh4_lim = lff.return_par_values(foo, 'knh4_lim')\n",
    "knox_lim = lff.return_par_values(foo, 'knox_lim')\n",
    "ksi_lim  = lff.return_par_values(foo, 'ksi_lim')\n",
    "kpo4_lim = lff.return_par_values(foo, 'kpo4_lim')\n",
    "pbm      = lff.return_par_values(foo, 'pbm')\n",
    "alpha    = lff.return_par_values(foo, 'alpha')\n",
    "kexc     = lff.return_par_values(foo, 'kexc')\n",
    "kmort    = lff.return_par_values(foo, 'kmort')\n",
    "k_het_phy_gro = lff.return_par_values(foo, 'k_het_phy_gro')\n",
    "k_het_phy_lim = lff.return_par_values(foo, 'k_het_phy_lim')\n",
    "k_het_pom_gro = lff.return_par_values(foo, 'k_het_pom_gro')\n",
    "k_het_pom_lim = lff.return_par_values(foo, 'k_het_pom_lim')\n",
    "k_het_res     = lff.return_par_values(foo, 'k_het_res')\n",
    "k_het_mort    = lff.return_par_values(foo, 'k_het_mort')"
   ]
  },
  {
   "cell_type": "code",
   "execution_count": null,
   "metadata": {},
   "outputs": [],
   "source": [
    "chl_a = bf.calculate(\n",
    "    depth, k, latitude, \n",
    "    days, temperature, \n",
    "    nh4, no2, no3, si, po4, o2,\n",
    "    phy, par, irradiance, \n",
    "    knh4_lim, knox_lim, ksi_lim, kpo4_lim, pbm, alpha, kexc, kmortality,\n",
    "    het, k_het_phy_gro, k_het_phy_lim, k_het_pom_gro, k_het_pom_lim, k_het_res, k_het_mort, uz, hz,\n",
    "    k_nfix, k_nitrif1, k_nitrif2, o2s_nf, k_anammox, o2s_dn,\n",
    "    poml, doml, pomr, domr, \n",
    "    k_poml_doml, k_pomr_domr, k_omox_o2, tref, k_doml_ox, k_poml_ox, k_domr_ox, k_pomr_ox)"
   ]
  },
  {
   "cell_type": "code",
   "execution_count": null,
   "metadata": {},
   "outputs": [],
   "source": [
    "pf.plot_triple(phy,'phy',doml,'doml',domr,'domr')"
   ]
  },
  {
   "cell_type": "code",
   "execution_count": null,
   "metadata": {},
   "outputs": [],
   "source": []
  }
 ],
 "metadata": {
  "kernelspec": {
   "display_name": "Python 3",
   "language": "python",
   "name": "python3"
  },
  "language_info": {
   "codemirror_mode": {
    "name": "ipython",
    "version": 3
   },
   "file_extension": ".py",
   "mimetype": "text/x-python",
   "name": "python",
   "nbconvert_exporter": "python",
   "pygments_lexer": "ipython3",
   "version": "3.6.6"
  }
 },
 "nbformat": 4,
 "nbformat_minor": 2
}
