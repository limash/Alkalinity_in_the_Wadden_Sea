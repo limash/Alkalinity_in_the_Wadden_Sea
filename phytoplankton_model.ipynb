{
 "cells": [
  {
   "cell_type": "code",
   "execution_count": 1,
   "metadata": {},
   "outputs": [],
   "source": [
    "import numpy as np\n",
    "import pandas as pd\n",
    "import xarray as xr\n",
    "import brom_functions as bf\n",
    "import plot_functions as pf\n",
    "import lmfit as lf\n",
    "import non_linear_fit_functions as lff"
   ]
  },
  {
   "cell_type": "markdown",
   "metadata": {},
   "source": [
    "#### Open an initial dataset (observed values)"
   ]
  },
  {
   "cell_type": "code",
   "execution_count": 2,
   "metadata": {},
   "outputs": [],
   "source": [
    "ds = xr.open_dataset('wadden_sea_out.nc')\n",
    "df = ds.to_dataframe()"
   ]
  },
  {
   "cell_type": "code",
   "execution_count": 3,
   "metadata": {},
   "outputs": [
    {
     "data": {
      "text/html": [
       "<div>\n",
       "<style scoped>\n",
       "    .dataframe tbody tr th:only-of-type {\n",
       "        vertical-align: middle;\n",
       "    }\n",
       "\n",
       "    .dataframe tbody tr th {\n",
       "        vertical-align: top;\n",
       "    }\n",
       "\n",
       "    .dataframe thead th {\n",
       "        text-align: right;\n",
       "    }\n",
       "</style>\n",
       "<table border=\"1\" class=\"dataframe\">\n",
       "  <thead>\n",
       "    <tr style=\"text-align: right;\">\n",
       "      <th></th>\n",
       "      <th>par</th>\n",
       "      <th>hice</th>\n",
       "      <th>snowthick</th>\n",
       "      <th>icesurft</th>\n",
       "      <th>temperature</th>\n",
       "      <th>salinity</th>\n",
       "      <th>sigma</th>\n",
       "      <th>turbulence</th>\n",
       "      <th>ammonium</th>\n",
       "      <th>nitrate</th>\n",
       "      <th>silicate</th>\n",
       "      <th>phosphate</th>\n",
       "      <th>oxygen</th>\n",
       "      <th>om_flux</th>\n",
       "      <th>chl_a</th>\n",
       "    </tr>\n",
       "  </thead>\n",
       "  <tbody>\n",
       "    <tr>\n",
       "      <th>count</th>\n",
       "      <td>1095.000000</td>\n",
       "      <td>1095.0</td>\n",
       "      <td>1095.0</td>\n",
       "      <td>1095.0</td>\n",
       "      <td>1095.000000</td>\n",
       "      <td>1095.000000</td>\n",
       "      <td>1095.000000</td>\n",
       "      <td>1095.000000</td>\n",
       "      <td>1.095000e+03</td>\n",
       "      <td>1095.000000</td>\n",
       "      <td>1095.000000</td>\n",
       "      <td>1095.000000</td>\n",
       "      <td>1095.000000</td>\n",
       "      <td>1095.000000</td>\n",
       "      <td>1095.000000</td>\n",
       "    </tr>\n",
       "    <tr>\n",
       "      <th>mean</th>\n",
       "      <td>56.332397</td>\n",
       "      <td>0.0</td>\n",
       "      <td>0.0</td>\n",
       "      <td>0.0</td>\n",
       "      <td>10.700646</td>\n",
       "      <td>30.484438</td>\n",
       "      <td>25.608339</td>\n",
       "      <td>0.000036</td>\n",
       "      <td>1.000000e-01</td>\n",
       "      <td>16.124231</td>\n",
       "      <td>10.462073</td>\n",
       "      <td>0.616338</td>\n",
       "      <td>332.543217</td>\n",
       "      <td>0.001395</td>\n",
       "      <td>18.844109</td>\n",
       "    </tr>\n",
       "    <tr>\n",
       "      <th>std</th>\n",
       "      <td>23.048964</td>\n",
       "      <td>0.0</td>\n",
       "      <td>0.0</td>\n",
       "      <td>0.0</td>\n",
       "      <td>5.691322</td>\n",
       "      <td>0.708197</td>\n",
       "      <td>1.594859</td>\n",
       "      <td>0.000031</td>\n",
       "      <td>1.791053e-15</td>\n",
       "      <td>13.724963</td>\n",
       "      <td>8.133727</td>\n",
       "      <td>0.406156</td>\n",
       "      <td>47.042972</td>\n",
       "      <td>0.000877</td>\n",
       "      <td>9.769495</td>\n",
       "    </tr>\n",
       "    <tr>\n",
       "      <th>min</th>\n",
       "      <td>21.644333</td>\n",
       "      <td>0.0</td>\n",
       "      <td>0.0</td>\n",
       "      <td>0.0</td>\n",
       "      <td>2.145531</td>\n",
       "      <td>29.219625</td>\n",
       "      <td>22.645143</td>\n",
       "      <td>0.000009</td>\n",
       "      <td>1.000000e-01</td>\n",
       "      <td>0.198307</td>\n",
       "      <td>0.754375</td>\n",
       "      <td>0.094500</td>\n",
       "      <td>255.017806</td>\n",
       "      <td>0.000155</td>\n",
       "      <td>0.000000</td>\n",
       "    </tr>\n",
       "    <tr>\n",
       "      <th>25%</th>\n",
       "      <td>33.247036</td>\n",
       "      <td>0.0</td>\n",
       "      <td>0.0</td>\n",
       "      <td>0.0</td>\n",
       "      <td>5.767865</td>\n",
       "      <td>29.952813</td>\n",
       "      <td>24.353865</td>\n",
       "      <td>0.000019</td>\n",
       "      <td>1.000000e-01</td>\n",
       "      <td>0.907292</td>\n",
       "      <td>3.564215</td>\n",
       "      <td>0.241964</td>\n",
       "      <td>294.762602</td>\n",
       "      <td>0.000520</td>\n",
       "      <td>12.971875</td>\n",
       "    </tr>\n",
       "    <tr>\n",
       "      <th>50%</th>\n",
       "      <td>58.778526</td>\n",
       "      <td>0.0</td>\n",
       "      <td>0.0</td>\n",
       "      <td>0.0</td>\n",
       "      <td>10.443795</td>\n",
       "      <td>30.572593</td>\n",
       "      <td>25.663931</td>\n",
       "      <td>0.000025</td>\n",
       "      <td>1.000000e-01</td>\n",
       "      <td>16.035938</td>\n",
       "      <td>5.939955</td>\n",
       "      <td>0.563480</td>\n",
       "      <td>324.720360</td>\n",
       "      <td>0.001395</td>\n",
       "      <td>19.532812</td>\n",
       "    </tr>\n",
       "    <tr>\n",
       "      <th>75%</th>\n",
       "      <td>79.421547</td>\n",
       "      <td>0.0</td>\n",
       "      <td>0.0</td>\n",
       "      <td>0.0</td>\n",
       "      <td>16.023899</td>\n",
       "      <td>30.967065</td>\n",
       "      <td>26.740268</td>\n",
       "      <td>0.000041</td>\n",
       "      <td>1.000000e-01</td>\n",
       "      <td>28.764583</td>\n",
       "      <td>19.211458</td>\n",
       "      <td>0.918029</td>\n",
       "      <td>362.263498</td>\n",
       "      <td>0.002270</td>\n",
       "      <td>24.846443</td>\n",
       "    </tr>\n",
       "    <tr>\n",
       "      <th>max</th>\n",
       "      <td>86.162720</td>\n",
       "      <td>0.0</td>\n",
       "      <td>0.0</td>\n",
       "      <td>0.0</td>\n",
       "      <td>19.109524</td>\n",
       "      <td>32.490208</td>\n",
       "      <td>29.768699</td>\n",
       "      <td>0.000312</td>\n",
       "      <td>1.000000e-01</td>\n",
       "      <td>40.072916</td>\n",
       "      <td>26.070694</td>\n",
       "      <td>1.504752</td>\n",
       "      <td>427.340630</td>\n",
       "      <td>0.002635</td>\n",
       "      <td>40.787321</td>\n",
       "    </tr>\n",
       "  </tbody>\n",
       "</table>\n",
       "</div>"
      ],
      "text/plain": [
       "               par    hice  snowthick  icesurft  temperature     salinity  \\\n",
       "count  1095.000000  1095.0     1095.0    1095.0  1095.000000  1095.000000   \n",
       "mean     56.332397     0.0        0.0       0.0    10.700646    30.484438   \n",
       "std      23.048964     0.0        0.0       0.0     5.691322     0.708197   \n",
       "min      21.644333     0.0        0.0       0.0     2.145531    29.219625   \n",
       "25%      33.247036     0.0        0.0       0.0     5.767865    29.952813   \n",
       "50%      58.778526     0.0        0.0       0.0    10.443795    30.572593   \n",
       "75%      79.421547     0.0        0.0       0.0    16.023899    30.967065   \n",
       "max      86.162720     0.0        0.0       0.0    19.109524    32.490208   \n",
       "\n",
       "             sigma   turbulence      ammonium      nitrate     silicate  \\\n",
       "count  1095.000000  1095.000000  1.095000e+03  1095.000000  1095.000000   \n",
       "mean     25.608339     0.000036  1.000000e-01    16.124231    10.462073   \n",
       "std       1.594859     0.000031  1.791053e-15    13.724963     8.133727   \n",
       "min      22.645143     0.000009  1.000000e-01     0.198307     0.754375   \n",
       "25%      24.353865     0.000019  1.000000e-01     0.907292     3.564215   \n",
       "50%      25.663931     0.000025  1.000000e-01    16.035938     5.939955   \n",
       "75%      26.740268     0.000041  1.000000e-01    28.764583    19.211458   \n",
       "max      29.768699     0.000312  1.000000e-01    40.072916    26.070694   \n",
       "\n",
       "         phosphate       oxygen      om_flux        chl_a  \n",
       "count  1095.000000  1095.000000  1095.000000  1095.000000  \n",
       "mean      0.616338   332.543217     0.001395    18.844109  \n",
       "std       0.406156    47.042972     0.000877     9.769495  \n",
       "min       0.094500   255.017806     0.000155     0.000000  \n",
       "25%       0.241964   294.762602     0.000520    12.971875  \n",
       "50%       0.563480   324.720360     0.001395    19.532812  \n",
       "75%       0.918029   362.263498     0.002270    24.846443  \n",
       "max       1.504752   427.340630     0.002635    40.787321  "
      ]
     },
     "execution_count": 3,
     "metadata": {},
     "output_type": "execute_result"
    }
   ],
   "source": [
    "levelcntr = df.groupby('levelcntr').get_group(0.625)\n",
    "levelface = levelcntr.groupby('levelface').get_group(0)\n",
    "levelface.describe()"
   ]
  },
  {
   "cell_type": "code",
   "execution_count": 4,
   "metadata": {},
   "outputs": [],
   "source": [
    "par = levelface['par'].values[0:365].astype(np.float64)\n",
    "temperature = levelface['temperature'].values[0:365].astype(np.float64)\n",
    "nh4_data = levelface['ammonium'].values[0:365].astype(np.float64)\n",
    "no3_data = levelface['nitrate'].values[0:365].astype(np.float64)\n",
    "po4_data = levelface['phosphate'].values[0:365].astype(np.float64)\n",
    "si_data = levelface['silicate'].values[0:365].astype(np.float64)\n",
    "o2_data = levelface['oxygen'].values[0:365].astype(np.float64)\n",
    "chl_a_data = levelface['chl_a'].values[0:365].astype(np.float64)\n",
    "# daily irradiance\n",
    "irradiance = par*86400/1000000 # convertion microM per second to M per day"
   ]
  },
  {
   "cell_type": "markdown",
   "metadata": {},
   "source": [
    "#### Open a data from WOD to take the raw Chlorophyll a data"
   ]
  },
  {
   "cell_type": "code",
   "execution_count": 5,
   "metadata": {},
   "outputs": [],
   "source": [
    "ds = xr.open_dataset('wadden_sea.nc')\n",
    "df = ds.to_dataframe()\n",
    "df = df[(df.date_time > '2000-01-01 00:00:00.0') & (df.var1 < 11)]\n",
    "df = df[['longitude', 'latitude', 'date_time'\n",
    "        ,'var1', 'var2', 'var3', 'var4', 'var5', 'var6', 'var7'\n",
    "        ,'var8', 'var9', 'var10', 'var11', 'var12', 'var13', 'var14']]\n",
    "df.columns = ['longitude', 'latitude', 'date_time'\n",
    "             ,'Depth', 'Temperature', 'Salinity', 'Oxygen', 'Phosphate', 'Silicate', 'Nitrate'\n",
    "             ,'Nitrite', 'pH', 'Chlorophyll a', 'Plankton biomass', 'Alkalinity', 'NO2+NO3', 'pCO2']\n",
    "df['Oxygen'] = df['Oxygen']*44.661 # 1 ml/l = 10^3/22.391 = 44.661 μmol/l\n",
    "df['Day of year'] = df.date_time.dt.dayofyear.values\n",
    "dfyear = df[(df.date_time > '2010-01-01 00:00:00.0') & (df.date_time < '2011-01-01 00:00:00.0')]\n",
    "dfyear = dfyear.groupby(['Day of year']).mean()\n",
    "dfyear = dfyear.reindex(index=range(1,366))\n",
    "chl_rawdata = dfyear['Chlorophyll a']"
   ]
  },
  {
   "cell_type": "markdown",
   "metadata": {},
   "source": [
    "#### There are some initial data"
   ]
  },
  {
   "cell_type": "code",
   "execution_count": 6,
   "metadata": {},
   "outputs": [],
   "source": [
    "#some common variables\n",
    "depth = 0.625; k=0; latitude=54.88; days = np.arange(0,364,1)\n",
    "#nutrients\n",
    "nh4 = np.zeros(365); nh4[0] = 2 \n",
    "no2 = np.zeros(365); no2[0] = 1.5\n",
    "no3 = np.zeros(365); no3[0] = no3_data[0] \n",
    "si = np.zeros(365); si[0] = si_data[0] \n",
    "po4 = np.zeros(365); po4[0] = po4_data[0] \n",
    "o2 = np.zeros(365); o2[0] = o2_data[0] \n",
    "#phy\n",
    "phy = np.zeros(365); phy[0] = 90\n",
    "# daily irradiance, convertion microM per second to M per day\n",
    "irradiance = par*86400/1000000\n",
    "#het\n",
    "het = np.zeros(365); het[0] = 90\n",
    "#om\n",
    "poml = np.zeros(365); poml[0] = 100; pomr = np.zeros(365); pomr[0] = 100\n",
    "doml = np.zeros(365); doml[0] = 50; domr = np.zeros(365); domr[0] = 50"
   ]
  },
  {
   "cell_type": "markdown",
   "metadata": {},
   "source": [
    "#### There are some initial parameters - they are based on data and initial stable conditions derived from data"
   ]
  },
  {
   "cell_type": "code",
   "execution_count": 14,
   "metadata": {},
   "outputs": [],
   "source": [
    "#horizontal advection\n",
    "k_mix=0.1\n",
    "#phy\n",
    "knh4_lim=0.1; knox_lim=0.5; ksi_lim=0.5; kpo4_lim=0.1; pbm=8; alpha=0.04; kexc=0.015; kmortality=0.0001\n",
    "#het\n",
    "k_het_phy_gro=0.2; k_het_phy_lim=0.4; k_het_pom_gro=k_het_phy_gro; k_het_pom_lim=k_het_phy_lim\n",
    "k_het_res=0.015; k_het_mort=0.1; uz=0.5; hz=0.5\n",
    "#nitrification\n",
    "k_nfix = 0.4; k_nitrif1=0.1; k_nitrif2=0.1; o2s_nf=5; k_anammox=0.8; o2s_dn=10\n",
    "#om respiration\n",
    "k_poml_doml=0.15; k_pomr_domr=0.00001; k_omox_o2=1; tref=0\n",
    "k_doml_ox=0.1; k_poml_ox=0.02; k_domr_ox=0.1; k_pomr_ox=0.002"
   ]
  },
  {
   "cell_type": "code",
   "execution_count": 17,
   "metadata": {},
   "outputs": [],
   "source": [
    "k_mix=0.1\n",
    "knh4_lim=0.5; knox_lim=1; ksi_lim=1; kpo4_lim=0.1; pbm=8; alpha=0.04; kexc=0.015; kmortality=0.0002\n",
    "\n",
    "het = np.zeros(365); het[0] = 1\n",
    "k_het_phy_gro=0.2; k_het_phy_lim=1; k_het_pom_gro=0.2; k_het_pom_lim=1\n",
    "k_het_res=0.015; k_het_mort=0.01; uz=0.5; hz=0.5\n",
    "\n",
    "k_nfix = 0.4; k_nitrif1=0.1; k_nitrif2=0.1; o2s_nf=5; k_anammox=0.8; o2s_dn=10\n",
    "\n",
    "poml = np.zeros(365); poml[0] = 1; pomr = np.zeros(365); pomr[0] = 1\n",
    "doml = np.zeros(365); domr = np.zeros(365)\n",
    "k_poml_doml=0.15; k_pomr_domr=0.0001; k_omox_o2=1; tref=0\n",
    "k_doml_ox=0.1; k_poml_ox=0.02; k_domr_ox=0.1; k_pomr_ox=0.002"
   ]
  },
  {
   "cell_type": "markdown",
   "metadata": {},
   "source": [
    "#### Run simulation"
   ]
  },
  {
   "cell_type": "code",
   "execution_count": 18,
   "metadata": {},
   "outputs": [],
   "source": [
    "chl_a, phy_dgrate, rations = bf.calculate(\n",
    "    depth, k, k_mix, latitude, days, temperature, \n",
    "    nh4, no2, no3, si, po4, o2,\n",
    "    nh4_data, no3_data, si_data, po4_data,\n",
    "    phy, par, irradiance, \n",
    "    knh4_lim, knox_lim, ksi_lim, kpo4_lim, pbm, alpha, kexc, kmortality,\n",
    "    het,\n",
    "    k_het_phy_gro, k_het_phy_lim, k_het_pom_gro, k_het_pom_lim, k_het_res, k_het_mort, uz, hz,\n",
    "    k_nfix, k_nitrif1, k_nitrif2, o2s_nf, k_anammox, o2s_dn,\n",
    "    poml, doml, pomr, domr, \n",
    "    k_poml_doml, k_pomr_domr, k_omox_o2, tref, k_doml_ox, k_poml_ox, k_domr_ox, k_pomr_ox)"
   ]
  },
  {
   "cell_type": "code",
   "execution_count": 19,
   "metadata": {},
   "outputs": [
    {
     "data": {
      "image/png": "[encoded data removed]",
      "text/plain": [
       "<matplotlib.figure.Figure at 0x7fa26166cb00>"
      ]
     },
     "metadata": {},
     "output_type": "display_data"
    }
   ],
   "source": [
    "pf.plot_double(chl_a,'Chlorophyll a',chl_a_data,'Chlorophyll a - data')"
   ]
  },
  {
   "cell_type": "markdown",
   "metadata": {},
   "source": [
    "#### Run least squares for phytoplankton - resudial function is constructed according to chl_a_data"
   ]
  },
  {
   "cell_type": "code",
   "execution_count": 11,
   "metadata": {},
   "outputs": [],
   "source": [
    "params = lf.Parameters()\n",
    "#horizontal advection\n",
    "params.add('k_mix', value=k_mix)\n",
    "#phy\n",
    "params.add('knh4_lim', value=knh4_lim)\n",
    "params.add('knox_lim', value=knox_lim)\n",
    "params.add('ksi_lim', value=ksi_lim)\n",
    "params.add('kpo4_lim', value=kpo4_lim)\n",
    "params.add('pbm', value=pbm, vary=False)\n",
    "params.add('alpha', value=alpha, vary=False)\n",
    "params.add('kexc', value=kexc, vary=False)\n",
    "params.add('kmort', value=kmortality, vary=False)\n",
    "#het\n",
    "params.add('k_het_phy_gro', value=k_het_phy_gro, vary=False)\n",
    "params.add('k_het_phy_lim', value=k_het_phy_lim, vary=False)\n",
    "params.add('k_het_pom_gro', value=k_het_pom_gro, vary=False)\n",
    "params.add('k_het_pom_lim', value=k_het_pom_lim, vary=False)\n",
    "params.add('k_het_res', value=k_het_res, vary=False)\n",
    "params.add('k_het_mort', value=k_het_mort, vary=False)\n",
    "params.add('uz', value=uz, vary=False)\n",
    "params.add('hz', value=hz, vary=False)\n",
    "#nitrification\n",
    "params.add('k_nfix', value=k_nfix, vary=False)\n",
    "params.add('k_nitrif1', value=k_nitrif1, vary=False)\n",
    "params.add('k_nitrif2', value=k_nitrif2, vary=False)\n",
    "params.add('o2s_nf', value=o2s_nf, vary=False)\n",
    "params.add('k_anammox', value=k_anammox, vary=False)\n",
    "params.add('o2s_dn', value=o2s_dn,vary=False)\n",
    "#OM\n",
    "params.add('k_poml_doml', value=k_poml_doml, vary=False)\n",
    "params.add('k_pomr_domr', value=k_pomr_domr, vary=False)\n",
    "params.add('k_omox_o2', value=k_omox_o2, vary=False)\n",
    "params.add('tref', value=tref, vary=False)\n",
    "params.add('k_doml_ox', value=k_doml_ox, vary=False)\n",
    "params.add('k_poml_ox', value=k_poml_ox, vary=False)\n",
    "params.add('k_domr_ox', value=k_domr_ox, vary=False)\n",
    "params.add('k_pomr_ox', value=k_pomr_ox, vary=False)"
   ]
  },
  {
   "cell_type": "code",
   "execution_count": 12,
   "metadata": {},
   "outputs": [],
   "source": [
    "mini = lf.Minimizer(lff.residual_phy, params,\n",
    "                    fcn_args=(depth, k, latitude, days, temperature,\n",
    "                              nh4, no2, no3, si, po4, o2,\n",
    "                              nh4_data, no3_data, si_data, po4_data,\n",
    "                              phy, par, irradiance,\n",
    "                              het,\n",
    "                              poml, doml, pomr, domr,\n",
    "                              chl_a_data))"
   ]
  },
  {
   "cell_type": "code",
   "execution_count": 13,
   "metadata": {},
   "outputs": [
    {
     "ename": "SystemExit",
     "evalue": "po4 is negative",
     "output_type": "error",
     "traceback": [
      "An exception has occurred, use %tb to see the full traceback.\n",
      "\u001b[0;31mSystemExit\u001b[0m\u001b[0;31m:\u001b[0m po4 is negative\n"
     ]
    },
    {
     "name": "stderr",
     "output_type": "stream",
     "text": [
      "/home/shamil/anaconda3/lib/python3.6/site-packages/IPython/core/interactiveshell.py:2918: UserWarning: To exit: use 'exit', 'quit', or Ctrl-D.\n",
      "  warn(\"To exit: use 'exit', 'quit', or Ctrl-D.\", stacklevel=1)\n"
     ]
    }
   ],
   "source": [
    "foo = lff.run_least_squares(mini)"
   ]
  },
  {
   "cell_type": "code",
   "execution_count": null,
   "metadata": {},
   "outputs": [],
   "source": [
    "kmix     = lff.return_par_values(foo, 'k_mix')\n",
    "knh4_lim = lff.return_par_values(foo, 'knh4_lim')\n",
    "knox_lim = lff.return_par_values(foo, 'knox_lim')\n",
    "ksi_lim  = lff.return_par_values(foo, 'ksi_lim')\n",
    "kpo4_lim = lff.return_par_values(foo, 'kpo4_lim')\n",
    "pbm      = lff.return_par_values(foo, 'pbm')\n",
    "alpha    = lff.return_par_values(foo, 'alpha')\n",
    "kexc     = lff.return_par_values(foo, 'kexc')\n",
    "kmort    = lff.return_par_values(foo, 'kmort')\n",
    "k_het_phy_gro = lff.return_par_values(foo, 'k_het_phy_gro')\n",
    "k_het_phy_lim = lff.return_par_values(foo, 'k_het_phy_lim')\n",
    "k_het_pom_gro = lff.return_par_values(foo, 'k_het_pom_gro')\n",
    "k_het_pom_lim = lff.return_par_values(foo, 'k_het_pom_lim')\n",
    "k_het_res     = lff.return_par_values(foo, 'k_het_res')\n",
    "k_het_mort    = lff.return_par_values(foo, 'k_het_mort')"
   ]
  },
  {
   "cell_type": "code",
   "execution_count": null,
   "metadata": {},
   "outputs": [],
   "source": [
    "print(alpha);print(k_het_phy_gro);print(k_het_phy_lim)"
   ]
  },
  {
   "cell_type": "code",
   "execution_count": null,
   "metadata": {},
   "outputs": [],
   "source": [
    "chl_a, phy_dgrate, rations = bf.calculate(\n",
    "    depth, k, k_mix, latitude, \n",
    "    days, temperature, \n",
    "    nh4, no2, no3, si, po4, o2,\n",
    "    no3_data, si_data, po4_data,\n",
    "    phy, par, irradiance, \n",
    "    knh4_lim, knox_lim, ksi_lim, kpo4_lim, pbm, alpha, kexc, kmortality,\n",
    "    het, k_het_phy_gro, k_het_phy_lim, k_het_pom_gro, k_het_pom_lim, k_het_res, k_het_mort, uz, hz,\n",
    "    k_nfix, k_nitrif1, k_nitrif2, o2s_nf, k_anammox, o2s_dn,\n",
    "    poml, doml, pomr, domr, \n",
    "    k_poml_doml, k_pomr_domr, k_omox_o2, tref, k_doml_ox, k_poml_ox, k_domr_ox, k_pomr_ox)"
   ]
  },
  {
   "cell_type": "code",
   "execution_count": null,
   "metadata": {},
   "outputs": [],
   "source": [
    "pf.plot_double(chl_a,'Chlorophyll a',chl_a_data,'Chlorophyll a - data')"
   ]
  },
  {
   "cell_type": "code",
   "execution_count": null,
   "metadata": {},
   "outputs": [],
   "source": []
  }
 ],
 "metadata": {
  "kernelspec": {
   "display_name": "Python 3",
   "language": "python",
   "name": "python3"
  },
  "language_info": {
   "codemirror_mode": {
    "name": "ipython",
    "version": 3
   },
   "file_extension": ".py",
   "mimetype": "text/x-python",
   "name": "python",
   "nbconvert_exporter": "python",
   "pygments_lexer": "ipython3",
   "version": "3.6.4"
  }
 },
 "nbformat": 4,
 "nbformat_minor": 2
}
