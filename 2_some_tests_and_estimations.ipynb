{
 "cells": [
  {
   "cell_type": "code",
   "execution_count": 1,
   "metadata": {},
   "outputs": [],
   "source": [
    "%matplotlib inline \n",
    "\n",
    "import numpy as np\n",
    "import matplotlib.pyplot as plt\n",
    "import plot_functions as pf\n",
    "import pandas as pd\n",
    "import xarray as xr\n",
    "import seaborn as sns #sets up styles and gives us more plotting options\n",
    "sns.set()"
   ]
  },
  {
   "cell_type": "markdown",
   "metadata": {},
   "source": [
    "#### Open an initial dataset (observed values)"
   ]
  },
  {
   "cell_type": "code",
   "execution_count": 2,
   "metadata": {},
   "outputs": [],
   "source": [
    "ds = xr.open_dataset('wadden_sea_out.nc')\n",
    "df = ds.to_dataframe()"
   ]
  },
  {
   "cell_type": "markdown",
   "metadata": {},
   "source": [
    "take only values from the uppermost layer:"
   ]
  },
  {
   "cell_type": "code",
   "execution_count": 3,
   "metadata": {},
   "outputs": [
    {
     "data": {
      "text/html": [
       "<div>\n",
       "<style scoped>\n",
       "    .dataframe tbody tr th:only-of-type {\n",
       "        vertical-align: middle;\n",
       "    }\n",
       "\n",
       "    .dataframe tbody tr th {\n",
       "        vertical-align: top;\n",
       "    }\n",
       "\n",
       "    .dataframe thead th {\n",
       "        text-align: right;\n",
       "    }\n",
       "</style>\n",
       "<table border=\"1\" class=\"dataframe\">\n",
       "  <thead>\n",
       "    <tr style=\"text-align: right;\">\n",
       "      <th></th>\n",
       "      <th>par</th>\n",
       "      <th>hice</th>\n",
       "      <th>snowthick</th>\n",
       "      <th>icesurft</th>\n",
       "      <th>temperature</th>\n",
       "      <th>salinity</th>\n",
       "      <th>sigma</th>\n",
       "      <th>turbulence</th>\n",
       "      <th>ammonium</th>\n",
       "      <th>nitrate</th>\n",
       "      <th>sulfate</th>\n",
       "      <th>silicate</th>\n",
       "      <th>phosphate</th>\n",
       "      <th>oxygen</th>\n",
       "      <th>om_flux</th>\n",
       "      <th>chl_a</th>\n",
       "    </tr>\n",
       "  </thead>\n",
       "  <tbody>\n",
       "    <tr>\n",
       "      <th>count</th>\n",
       "      <td>1095.000000</td>\n",
       "      <td>1095.0</td>\n",
       "      <td>1095.0</td>\n",
       "      <td>1095.0</td>\n",
       "      <td>1095.000000</td>\n",
       "      <td>1095.000000</td>\n",
       "      <td>1095.000000</td>\n",
       "      <td>1095.000000</td>\n",
       "      <td>1.095000e+03</td>\n",
       "      <td>1095.000000</td>\n",
       "      <td>1095.0</td>\n",
       "      <td>1095.000000</td>\n",
       "      <td>1095.000000</td>\n",
       "      <td>1095.000000</td>\n",
       "      <td>1095.000000</td>\n",
       "      <td>1095.000000</td>\n",
       "    </tr>\n",
       "    <tr>\n",
       "      <th>mean</th>\n",
       "      <td>56.332390</td>\n",
       "      <td>0.0</td>\n",
       "      <td>0.0</td>\n",
       "      <td>0.0</td>\n",
       "      <td>10.700646</td>\n",
       "      <td>30.484438</td>\n",
       "      <td>25.608339</td>\n",
       "      <td>0.000036</td>\n",
       "      <td>1.000000e-01</td>\n",
       "      <td>16.124231</td>\n",
       "      <td>25000.0</td>\n",
       "      <td>10.462073</td>\n",
       "      <td>0.616338</td>\n",
       "      <td>332.543217</td>\n",
       "      <td>0.001395</td>\n",
       "      <td>18.844109</td>\n",
       "    </tr>\n",
       "    <tr>\n",
       "      <th>std</th>\n",
       "      <td>23.048962</td>\n",
       "      <td>0.0</td>\n",
       "      <td>0.0</td>\n",
       "      <td>0.0</td>\n",
       "      <td>5.691322</td>\n",
       "      <td>0.708197</td>\n",
       "      <td>1.594859</td>\n",
       "      <td>0.000031</td>\n",
       "      <td>1.388413e-17</td>\n",
       "      <td>13.724963</td>\n",
       "      <td>0.0</td>\n",
       "      <td>8.133727</td>\n",
       "      <td>0.406156</td>\n",
       "      <td>47.042972</td>\n",
       "      <td>0.000877</td>\n",
       "      <td>9.769495</td>\n",
       "    </tr>\n",
       "    <tr>\n",
       "      <th>min</th>\n",
       "      <td>21.644333</td>\n",
       "      <td>0.0</td>\n",
       "      <td>0.0</td>\n",
       "      <td>0.0</td>\n",
       "      <td>2.145531</td>\n",
       "      <td>29.219625</td>\n",
       "      <td>22.645143</td>\n",
       "      <td>0.000009</td>\n",
       "      <td>1.000000e-01</td>\n",
       "      <td>0.198307</td>\n",
       "      <td>25000.0</td>\n",
       "      <td>0.754375</td>\n",
       "      <td>0.094500</td>\n",
       "      <td>255.017806</td>\n",
       "      <td>0.000155</td>\n",
       "      <td>0.000000</td>\n",
       "    </tr>\n",
       "    <tr>\n",
       "      <th>25%</th>\n",
       "      <td>33.247036</td>\n",
       "      <td>0.0</td>\n",
       "      <td>0.0</td>\n",
       "      <td>0.0</td>\n",
       "      <td>5.767865</td>\n",
       "      <td>29.952813</td>\n",
       "      <td>24.353865</td>\n",
       "      <td>0.000019</td>\n",
       "      <td>1.000000e-01</td>\n",
       "      <td>0.907292</td>\n",
       "      <td>25000.0</td>\n",
       "      <td>3.564215</td>\n",
       "      <td>0.241964</td>\n",
       "      <td>294.762602</td>\n",
       "      <td>0.000520</td>\n",
       "      <td>12.971875</td>\n",
       "    </tr>\n",
       "    <tr>\n",
       "      <th>50%</th>\n",
       "      <td>58.778526</td>\n",
       "      <td>0.0</td>\n",
       "      <td>0.0</td>\n",
       "      <td>0.0</td>\n",
       "      <td>10.443795</td>\n",
       "      <td>30.572593</td>\n",
       "      <td>25.663931</td>\n",
       "      <td>0.000025</td>\n",
       "      <td>1.000000e-01</td>\n",
       "      <td>16.035938</td>\n",
       "      <td>25000.0</td>\n",
       "      <td>5.939955</td>\n",
       "      <td>0.563480</td>\n",
       "      <td>324.720360</td>\n",
       "      <td>0.001395</td>\n",
       "      <td>19.532812</td>\n",
       "    </tr>\n",
       "    <tr>\n",
       "      <th>75%</th>\n",
       "      <td>79.421547</td>\n",
       "      <td>0.0</td>\n",
       "      <td>0.0</td>\n",
       "      <td>0.0</td>\n",
       "      <td>16.023899</td>\n",
       "      <td>30.967065</td>\n",
       "      <td>26.740268</td>\n",
       "      <td>0.000041</td>\n",
       "      <td>1.000000e-01</td>\n",
       "      <td>28.764583</td>\n",
       "      <td>25000.0</td>\n",
       "      <td>19.211458</td>\n",
       "      <td>0.918029</td>\n",
       "      <td>362.263498</td>\n",
       "      <td>0.002270</td>\n",
       "      <td>24.846443</td>\n",
       "    </tr>\n",
       "    <tr>\n",
       "      <th>max</th>\n",
       "      <td>86.162720</td>\n",
       "      <td>0.0</td>\n",
       "      <td>0.0</td>\n",
       "      <td>0.0</td>\n",
       "      <td>19.109524</td>\n",
       "      <td>32.490208</td>\n",
       "      <td>29.768699</td>\n",
       "      <td>0.000312</td>\n",
       "      <td>1.000000e-01</td>\n",
       "      <td>40.072916</td>\n",
       "      <td>25000.0</td>\n",
       "      <td>26.070694</td>\n",
       "      <td>1.504752</td>\n",
       "      <td>427.340630</td>\n",
       "      <td>0.002635</td>\n",
       "      <td>40.787321</td>\n",
       "    </tr>\n",
       "  </tbody>\n",
       "</table>\n",
       "</div>"
      ],
      "text/plain": [
       "               par    hice  snowthick  icesurft  temperature     salinity  \\\n",
       "count  1095.000000  1095.0     1095.0    1095.0  1095.000000  1095.000000   \n",
       "mean     56.332390     0.0        0.0       0.0    10.700646    30.484438   \n",
       "std      23.048962     0.0        0.0       0.0     5.691322     0.708197   \n",
       "min      21.644333     0.0        0.0       0.0     2.145531    29.219625   \n",
       "25%      33.247036     0.0        0.0       0.0     5.767865    29.952813   \n",
       "50%      58.778526     0.0        0.0       0.0    10.443795    30.572593   \n",
       "75%      79.421547     0.0        0.0       0.0    16.023899    30.967065   \n",
       "max      86.162720     0.0        0.0       0.0    19.109524    32.490208   \n",
       "\n",
       "             sigma   turbulence      ammonium      nitrate  sulfate  \\\n",
       "count  1095.000000  1095.000000  1.095000e+03  1095.000000   1095.0   \n",
       "mean     25.608339     0.000036  1.000000e-01    16.124231  25000.0   \n",
       "std       1.594859     0.000031  1.388413e-17    13.724963      0.0   \n",
       "min      22.645143     0.000009  1.000000e-01     0.198307  25000.0   \n",
       "25%      24.353865     0.000019  1.000000e-01     0.907292  25000.0   \n",
       "50%      25.663931     0.000025  1.000000e-01    16.035938  25000.0   \n",
       "75%      26.740268     0.000041  1.000000e-01    28.764583  25000.0   \n",
       "max      29.768699     0.000312  1.000000e-01    40.072916  25000.0   \n",
       "\n",
       "          silicate    phosphate       oxygen      om_flux        chl_a  \n",
       "count  1095.000000  1095.000000  1095.000000  1095.000000  1095.000000  \n",
       "mean     10.462073     0.616338   332.543217     0.001395    18.844109  \n",
       "std       8.133727     0.406156    47.042972     0.000877     9.769495  \n",
       "min       0.754375     0.094500   255.017806     0.000155     0.000000  \n",
       "25%       3.564215     0.241964   294.762602     0.000520    12.971875  \n",
       "50%       5.939955     0.563480   324.720360     0.001395    19.532812  \n",
       "75%      19.211458     0.918029   362.263498     0.002270    24.846443  \n",
       "max      26.070694     1.504752   427.340630     0.002635    40.787321  "
      ]
     },
     "execution_count": 3,
     "metadata": {},
     "output_type": "execute_result"
    }
   ],
   "source": [
    "levelcntr = df.groupby('levelcntr').get_group(0.625)\n",
    "levelface = levelcntr.groupby('levelface').get_group(0)\n",
    "levelface.describe()"
   ]
  },
  {
   "cell_type": "code",
   "execution_count": 4,
   "metadata": {},
   "outputs": [],
   "source": [
    "par = levelface['par'].values[0:365].astype(np.float64)\n",
    "temperature = levelface['temperature'].values[0:365].astype(np.float64)\n",
    "no3 = levelface['nitrate'].values[0:365].astype(np.float64)\n",
    "po4 = levelface['phosphate'].values[0:365].astype(np.float64)\n",
    "si = levelface['silicate'].values[0:365].astype(np.float64)\n",
    "o2 = levelface['oxygen'].values[0:365].astype(np.float64)\n",
    "chl_a = levelface['chl_a'].values[0:365].astype(np.float64)\n",
    "om_flux = levelface['om_flux'].values[0:365].astype(np.float64)\n",
    "irradiance = par*86400/1000000 # convertion microM per second to M per day"
   ]
  },
  {
   "cell_type": "code",
   "execution_count": 5,
   "metadata": {},
   "outputs": [],
   "source": [
    "ox = np.arange(1,366,1)"
   ]
  },
  {
   "cell_type": "markdown",
   "metadata": {},
   "source": [
    "plot some data:"
   ]
  },
  {
   "cell_type": "code",
   "execution_count": 6,
   "metadata": {},
   "outputs": [
    {
     "data": {
      "image/png": "[encoded data removed]",
      "text/plain": [
       "<Figure size 720x144 with 1 Axes>"
      ]
     },
     "metadata": {
      "needs_background": "light"
     },
     "output_type": "display_data"
    }
   ],
   "source": [
    "plt.plot(ox, temperature); plt.gcf().set_size_inches(10, 2);\n",
    "plt.title('Temperature, C$^{o}$');\n",
    "plt.xlabel('Day'); plt.ylabel('Temperature');"
   ]
  },
  {
   "cell_type": "code",
   "execution_count": 7,
   "metadata": {},
   "outputs": [
    {
     "data": {
      "image/png": "[encoded data removed]",
      "text/plain": [
       "<Figure size 720x144 with 1 Axes>"
      ]
     },
     "metadata": {
      "needs_background": "light"
     },
     "output_type": "display_data"
    }
   ],
   "source": [
    "plt.plot(ox, par); plt.gcf().set_size_inches(10, 2);\n",
    "plt.title('PAR, $\\mu M\\,photons\\,m^{−2}\\,s^{−1}$');\n",
    "plt.xlabel('Day'); plt.ylabel('PAR');"
   ]
  },
  {
   "cell_type": "code",
   "execution_count": 8,
   "metadata": {},
   "outputs": [
    {
     "data": {
      "image/png": "[encoded data removed]",
      "text/plain": [
       "<Figure size 720x144 with 1 Axes>"
      ]
     },
     "metadata": {
      "needs_background": "light"
     },
     "output_type": "display_data"
    }
   ],
   "source": [
    "plt.plot(ox, chl_a); plt.gcf().set_size_inches(10, 2);\n",
    "plt.title('Chl a, $mg\\,Chl\\,a\\,m^{-3}$');\n",
    "plt.xlabel('Day'); plt.ylabel('Chl a');"
   ]
  },
  {
   "cell_type": "code",
   "execution_count": 9,
   "metadata": {},
   "outputs": [
    {
     "data": {
      "image/png": "[encoded data removed]",
      "text/plain": [
       "<Figure size 720x144 with 1 Axes>"
      ]
     },
     "metadata": {
      "needs_background": "light"
     },
     "output_type": "display_data"
    }
   ],
   "source": [
    "plt.plot(ox, om_flux); plt.gcf().set_size_inches(10, 2);\n",
    "plt.title('OM influx, $mg\\,Chl\\,a\\,m^{-3}\\,sec^{-1}$');\n",
    "plt.xlabel('Day'); plt.ylabel('Chl a');"
   ]
  },
  {
   "cell_type": "code",
   "execution_count": 10,
   "metadata": {},
   "outputs": [
    {
     "data": {
      "image/png": "[encoded data removed]",
      "text/plain": [
       "<Figure size 720x144 with 1 Axes>"
      ]
     },
     "metadata": {
      "needs_background": "light"
     },
     "output_type": "display_data"
    }
   ],
   "source": [
    "plt.plot(ox, no3); plt.gcf().set_size_inches(10, 2);\n",
    "plt.title('$NO_{3}^{-},\\,\\mu M$');\n",
    "plt.xlabel('Day'); plt.ylabel('$NO_{3}^{-}$');"
   ]
  },
  {
   "cell_type": "code",
   "execution_count": 11,
   "metadata": {},
   "outputs": [
    {
     "data": {
      "image/png": "[encoded data removed]",
      "text/plain": [
       "<Figure size 720x144 with 1 Axes>"
      ]
     },
     "metadata": {
      "needs_background": "light"
     },
     "output_type": "display_data"
    }
   ],
   "source": [
    "plt.plot(ox, po4); plt.gcf().set_size_inches(10, 2);\n",
    "plt.title('$PO_{4}^{2-},\\,\\mu M$');\n",
    "plt.xlabel('Day'); plt.ylabel('$PO_{4}^{-}$');"
   ]
  },
  {
   "cell_type": "code",
   "execution_count": 12,
   "metadata": {},
   "outputs": [
    {
     "data": {
      "image/png": "[encoded data removed]",
      "text/plain": [
       "<Figure size 720x144 with 1 Axes>"
      ]
     },
     "metadata": {
      "needs_background": "light"
     },
     "output_type": "display_data"
    }
   ],
   "source": [
    "plt.plot(ox, si); plt.gcf().set_size_inches(10, 2);\n",
    "plt.title('$Si,\\,\\mu M$');\n",
    "plt.xlabel('Day'); plt.ylabel('$Si$');"
   ]
  },
  {
   "cell_type": "code",
   "execution_count": 13,
   "metadata": {},
   "outputs": [
    {
     "data": {
      "image/png": "[encoded data removed]",
      "text/plain": [
       "<Figure size 720x144 with 1 Axes>"
      ]
     },
     "metadata": {
      "needs_background": "light"
     },
     "output_type": "display_data"
    }
   ],
   "source": [
    "plt.plot(ox, o2); plt.gcf().set_size_inches(10, 2);\n",
    "plt.title('$O_{2},\\,\\mu M$');\n",
    "plt.xlabel('Day'); plt.ylabel('$O_{2}$');"
   ]
  },
  {
   "cell_type": "markdown",
   "metadata": {},
   "source": [
    "#### Here we will test and visualize some functions we are going to use in the phytoplankton+biogeochemical model"
   ]
  },
  {
   "cell_type": "markdown",
   "metadata": {},
   "source": [
    "Universal limiters and inhibitors:"
   ]
  },
  {
   "cell_type": "code",
   "execution_count": 14,
   "metadata": {},
   "outputs": [],
   "source": [
    "def linearlimiter(k, r):\n",
    "    return np.minimum(r/k, 1)\n",
    "\n",
    "def monodlimiter(ks, r):\n",
    "    return (r/(r+ks))\n",
    "\n",
    "def monodinhibitor(ks, r):\n",
    "    return (ks/(ks+r))\n",
    "\n",
    "def hyper_limiter(threshold_value, r, coef):\n",
    "    return 0.5+0.5*np.tanh((r-threshold_value)*coef)\n",
    "\n",
    "def hyper_inhibitor(threshold_value, r, coef):\n",
    "    return 0.5-0.5*np.tanh((r-threshold_value)*coef)\n",
    "\n",
    "def exp_inhibitor(ks, r):\n",
    "    return np.exp(-ks*r)\n",
    "\n",
    "def exp_limiter(ks, r):\n",
    "    return 1-np.exp(-ks*r)\n",
    "\n",
    "def sigmoid_powered(ks, r, power):\n",
    "    return np.power(r, power)/(np.power(ks, power)+np.power(r, power))"
   ]
  },
  {
   "cell_type": "markdown",
   "metadata": {},
   "source": [
    "Compare some limiters with arbitrary input parameters"
   ]
  },
  {
   "cell_type": "code",
   "execution_count": 15,
   "metadata": {
    "scrolled": true
   },
   "outputs": [
    {
     "data": {
      "image/png": "[encoded data removed]",
      "text/plain": [
       "<Figure size 720x288 with 1 Axes>"
      ]
     },
     "metadata": {
      "needs_background": "light"
     },
     "output_type": "display_data"
    }
   ],
   "source": [
    "oxnut = np.arange(0, 300, 0.1)\n",
    "# --- get an empty Figure and add an Axes\n",
    "fig = plt.figure(figsize=(10, 4))\n",
    "ax = fig.add_subplot(1, 1, 1) # row-col-num\n",
    "# --- line plot data on the Axes\n",
    "ax.plot(oxnut, hyper_limiter(100, oxnut, 0.1), 'b-', linewidth=2, label=r'Hyperbolic')\n",
    "ax.plot(oxnut, monodlimiter(100, oxnut), 'g-', linewidth=2, label=r'Monod')\n",
    "ax.plot(oxnut, sigmoid_powered(100, oxnut, 2), 'r-', linewidth=2, label=r'Sigmoid')\n",
    "# --- add title and axis labels\n",
    "ax.set_title('Limiters')\n",
    "ax.set_ylabel(r'$ value$', fontsize=16)\n",
    "ax.set_xlabel(r'$Resource, R$', fontsize=16)\n",
    "# --- plot a legend in the best location\n",
    "ax.legend(loc='best')\n",
    "# --- add grid – not in default classic style\n",
    "ax.grid(True)\n",
    "# --- improve the layout\n",
    "fig.tight_layout(pad=1)"
   ]
  },
  {
   "cell_type": "markdown",
   "metadata": {},
   "source": [
    "Light limiters:"
   ]
  },
  {
   "cell_type": "code",
   "execution_count": 16,
   "metadata": {},
   "outputs": [],
   "source": [
    "def limlight(optimum, par):\n",
    "    return (par/optimum)*np.exp(1-par/optimum)"
   ]
  },
  {
   "cell_type": "markdown",
   "metadata": {},
   "source": [
    "Temperature limiters:"
   ]
  },
  {
   "cell_type": "code",
   "execution_count": 17,
   "metadata": {},
   "outputs": [],
   "source": [
    "# ersem temperature limiter doi:10.5194/gmd-9-1293-2016\n",
    "def limt(q10, temperature):\n",
    "    return (np.power(q10,(temperature-10)/10)\n",
    "           -np.power(q10,(temperature-32)/3 ) )"
   ]
  },
  {
   "cell_type": "markdown",
   "metadata": {},
   "source": [
    "Chl:C relationship, Cloern et al., 1995: $\\frac{Chl\\,a}{C} = A_{0} + A e^{BT}e^{-CI}\\tau$"
   ]
  },
  {
   "cell_type": "code",
   "execution_count": 18,
   "metadata": {},
   "outputs": [],
   "source": [
    "def ChlCratio(temperature, irradiance, nutrient_limiter):\n",
    "    \"\"\"temperature - [C,\n",
    "       irradiance - [mol quanta m-2 d-1]\"\"\"\n",
    "    \n",
    "    A0 = 0.003 # minimal Chl:C ratio\n",
    "    A = 0.0154; B = 0.050; C = 0.059 # achieved by experiment\n",
    "    \n",
    "    return A0+A*np.exp(B*temperature)*np.exp(-1*C*irradiance)*nutrient_limiter"
   ]
  },
  {
   "cell_type": "markdown",
   "metadata": {},
   "source": [
    "Light attenuation"
   ]
  },
  {
   "cell_type": "code",
   "execution_count": 19,
   "metadata": {},
   "outputs": [],
   "source": [
    "def light_attenuation(k, z, I):\n",
    "    \"\"\"\n",
    "    k is attenuation coefficient [m-1]\n",
    "    z is depth, [m]\n",
    "    I is the instantaneous irradiance at depth z (PAR), [microM quanta m-2 s-1]\n",
    "    or daily irradiane [mol quanta m-2 d-1]\n",
    "    \"\"\"\n",
    "    return I*np.exp(-1*k*z)"
   ]
  },
  {
   "cell_type": "markdown",
   "metadata": {},
   "source": [
    "Calculate nutrient limiters"
   ]
  },
  {
   "cell_type": "code",
   "execution_count": 20,
   "metadata": {},
   "outputs": [],
   "source": [
    "no3_limiter = sigmoid_powered(0.1, no3, 2)\n",
    "si_limiter  = sigmoid_powered(0.1, si, 2)\n",
    "po4_limiter = sigmoid_powered(0.1, po4, 2)"
   ]
  },
  {
   "cell_type": "code",
   "execution_count": 21,
   "metadata": {
    "scrolled": true
   },
   "outputs": [
    {
     "data": {
      "image/png": "[encoded data removed]",
      "text/plain": [
       "<Figure size 720x288 with 1 Axes>"
      ]
     },
     "metadata": {
      "needs_background": "light"
     },
     "output_type": "display_data"
    }
   ],
   "source": [
    "# --- get an empty Figure and add an Axes\n",
    "fig = plt.figure(figsize=(10, 4))\n",
    "ax = fig.add_subplot(1, 1, 1) # row-col-num\n",
    "# --- line plot data on the Axes\n",
    "ax.plot(ox, no3_limiter, 'b-', linewidth=2, label=r'$NO_{3}^{-}$ limiter')\n",
    "ax.plot(ox, po4_limiter, 'g-', linewidth=2, label=r'$PO_{4}^{2-}$ limiter')\n",
    "ax.plot(ox, si_limiter, 'r-', linewidth=2, label=r'$Si$ limiter')\n",
    "# --- add title and axis labels\n",
    "ax.set_title('The limiters')\n",
    "ax.set_ylabel(r'$limiters$', fontsize=16)\n",
    "ax.set_xlabel(r'$days$', fontsize=16)\n",
    "# --- plot a legend in the best location\n",
    "ax.legend(loc='best')\n",
    "# --- add grid – not in default classic style\n",
    "ax.grid(True)\n",
    "# --- improve the layout\n",
    "fig.tight_layout(pad=1)"
   ]
  },
  {
   "cell_type": "code",
   "execution_count": 22,
   "metadata": {},
   "outputs": [],
   "source": [
    "nutrient_limiter = [np.min([x, y, z]) for x, y, z in zip(no3_limiter, si_limiter, po4_limiter)];"
   ]
  },
  {
   "cell_type": "code",
   "execution_count": 23,
   "metadata": {},
   "outputs": [],
   "source": [
    "ChlCratio_array = ChlCratio(temperature, light_attenuation(k=0.4, z=0.625, I=irradiance), nutrient_limiter)"
   ]
  },
  {
   "cell_type": "code",
   "execution_count": 24,
   "metadata": {},
   "outputs": [
    {
     "data": {
      "image/png": "[encoded data removed]",
      "text/plain": [
       "<Figure size 720x144 with 1 Axes>"
      ]
     },
     "metadata": {
      "needs_background": "light"
     },
     "output_type": "display_data"
    }
   ],
   "source": [
    "ox = np.arange(1,366,1)\n",
    "plt.plot(ox,ChlCratio_array); plt.gcf().set_size_inches(10,2);\n",
    "plt.title('Chl:C'); plt.xlabel('days'); plt.ylabel('Chl:C');"
   ]
  },
  {
   "cell_type": "markdown",
   "metadata": {},
   "source": [
    "Photoperiod, hours"
   ]
  },
  {
   "cell_type": "code",
   "execution_count": 25,
   "metadata": {},
   "outputs": [],
   "source": [
    "def photoperiod():\n",
    "    import datetime\n",
    "    from astral import Astral\n",
    "    \n",
    "    city_name = 'Vilnius'\n",
    "    a = Astral()\n",
    "    a.solar_depression = 'civil'\n",
    "    city = a[city_name]\n",
    "    \n",
    "    date_list = pd.date_range(start='1/1/2018', end='31/12/2018')\n",
    "    sun = [city.sun(date=x, local=True) for x in date_list] \n",
    "    diff = [sun[x]['sunset']-sun[x]['sunrise'] for x in range(0,len(sun))]\n",
    "    \n",
    "    return [diff[x].seconds/60/60 for x in range(0,len(diff))]"
   ]
  },
  {
   "cell_type": "code",
   "execution_count": 26,
   "metadata": {},
   "outputs": [],
   "source": [
    "def photoperiod2(latitude):\n",
    "    \"\"\"\n",
    "    From the Fennel \"Marine Modelling\" - page 130 and ersem zenith_angle module\n",
    "    \"\"\"\n",
    "    \n",
    "    latitude = np.pi/180*latitude\n",
    "    \n",
    "    a0 = 0.006918\n",
    "    a1 =-0.399912\n",
    "    a2 =-0.006758\n",
    "    a3 =-0.002697\n",
    "    b1 = 0.070257\n",
    "    b2 = 0.000907\n",
    "    b3 = 0.001480\n",
    "    \n",
    "    days = np.arange(1,366,1)\n",
    "    th0 = np.pi*days/182.5\n",
    "    th02 = 2*th0\n",
    "    th03 = 3*th0\n",
    "    \n",
    "    delta =(a0\n",
    "          + a1*np.cos(th0)+b1*np.sin(th0)\n",
    "          + a2*np.cos(th02)+b2*np.sin(th02)\n",
    "          + a3*np.cos(th03)+b3*np.sin(th03))\n",
    "    \n",
    "    wh = (2*np.pi)/24\n",
    "    deltaday = (2/wh)*np.arccos(-np.tan(latitude)*np.tan(delta))\n",
    "    \n",
    "    return deltaday"
   ]
  },
  {
   "cell_type": "markdown",
   "metadata": {},
   "source": [
    "Biomass specific photosynthetic rate, $mg\\,C\\,(mg\\,Chl\\,a\\,d)^{-1}$: $P^{B} = D p^{B}_{m}(1 - \\exp{\\frac{I_{t} \\alpha}{p^{B}_{m}}})$"
   ]
  },
  {
   "cell_type": "code",
   "execution_count": 27,
   "metadata": {},
   "outputs": [],
   "source": [
    "def biorate(D, pbm, alpha, I):\n",
    "    \"\"\"\n",
    "    D is photoperiod, hours\n",
    "    pbm is the maximum hourly rate of photosynthesis, [mg C (mg Chl a h)-1], by experiment\n",
    "    alpha is photosynthetic efficiency at low irradiance, by experiment\n",
    "    I is instanteneous irradance, PAR [microM quanta m-2 s-1]\n",
    "    \"\"\"\n",
    "    return (D*pbm*(1-np.exp(-1*I*alpha/pbm)))"
   ]
  },
  {
   "cell_type": "code",
   "execution_count": 28,
   "metadata": {},
   "outputs": [],
   "source": [
    "photoperiod_array = np.array(photoperiod2(54.88))\n",
    "biorate_array = biorate(D=photoperiod_array, pbm=8, alpha=0.05, I=light_attenuation(0.5,0.625, par))"
   ]
  },
  {
   "cell_type": "code",
   "execution_count": 29,
   "metadata": {},
   "outputs": [
    {
     "data": {
      "image/png": "[encoded data removed]",
      "text/plain": [
       "<Figure size 720x144 with 1 Axes>"
      ]
     },
     "metadata": {
      "needs_background": "light"
     },
     "output_type": "display_data"
    }
   ],
   "source": [
    "plt.plot(ox, biorate_array); plt.gcf().set_size_inches(10,2);\n",
    "plt.title('Biomass specific photosynthetic rate, $mg\\,C\\,(mg\\,Chl\\,a\\,d)^{-1}$');\n",
    "plt.xlabel('days'); plt.ylabel('biorate');"
   ]
  },
  {
   "cell_type": "markdown",
   "metadata": {},
   "source": [
    "Daily specific growth rate with respiration included: $\\mu = R_{1} P^{B}\\frac{Chl\\,a}{C} - R_{0}$"
   ]
  },
  {
   "cell_type": "code",
   "execution_count": 30,
   "metadata": {},
   "outputs": [],
   "source": [
    "def daily_growth(biorate, ChlCratio):\n",
    "    \"\"\"\n",
    "    Coefficiens inside evaluate respiration;\n",
    "    biorate is the daily rate of photosynthesis, [mg C (mg Chl a d)-1]\n",
    "    ChlCratio, joint nutrients limiter\n",
    "    \"\"\"\n",
    "    answer = 0.85*biorate*ChlCratio-0.015\n",
    "    \n",
    "    return np.max([answer, 0])\n",
    "    #return [np.max([0, x]) for x in answer]"
   ]
  },
  {
   "cell_type": "code",
   "execution_count": 31,
   "metadata": {},
   "outputs": [],
   "source": [
    "def excretion(kexc, phy):\n",
    "    return kexc*phy\n",
    "\n",
    "def mortality(kmrt, phy, o2):\n",
    "    return phy*(kmrt+hyper_inhibitor(60, o2, 1)*0.45+hyper_inhibitor(20, o2, 1)*0.45)"
   ]
  },
  {
   "cell_type": "markdown",
   "metadata": {},
   "source": [
    "Gross primary production"
   ]
  },
  {
   "cell_type": "code",
   "execution_count": 32,
   "metadata": {},
   "outputs": [],
   "source": [
    "def daily_growth_rate(kno3, ksi, kpo4, \n",
    "                      k, depth,\n",
    "                      pbm, alpha,\n",
    "                      no3_d, si_d, po4_d,\n",
    "                      temperature_d, irradiance_d, photoperiod_d, par_d):\n",
    "    \"\"\"It returns net primary production, so respiration is included\n",
    "       kno3, ksi, kpo4, k, pbm, alpha - parameters\n",
    "       other ones - variables for the current day\"\"\"\n",
    "    \n",
    "    no3_limiter = sigmoid_powered(kno3, no3_d, 2)\n",
    "    si_limiter  = sigmoid_powered(ksi, si_d, 2)\n",
    "    po4_limiter = sigmoid_powered(kpo4, po4_d, 2)\n",
    "    nutrient_limiter = np.min([no3_limiter, si_limiter, po4_limiter])\n",
    "    \n",
    "    ChlCratio_d = ChlCratio(temperature_d, light_attenuation(k=k, z=depth, I=irradiance_d), nutrient_limiter)\n",
    "    biorate_d = biorate(D=photoperiod_d, pbm=pbm, alpha=alpha, I=light_attenuation(k=k, z=depth, I=par_d))\n",
    "    daily_growth_d = daily_growth(biorate_d, ChlCratio_d)\n",
    "    \n",
    "    return daily_growth_d"
   ]
  },
  {
   "cell_type": "code",
   "execution_count": 33,
   "metadata": {},
   "outputs": [
    {
     "data": {
      "image/png": "[encoded data removed]",
      "text/plain": [
       "<Figure size 720x144 with 1 Axes>"
      ]
     },
     "metadata": {
      "needs_background": "light"
     },
     "output_type": "display_data"
    }
   ],
   "source": [
    "daily_growth_array = [daily_growth_rate(\n",
    "                              kno3=1, ksi=0.5, kpo4=0.1,\n",
    "                              k=0.04, depth=0.625,\n",
    "                              pbm=8, alpha=0.05,\n",
    "                              no3_d=x1, si_d=x2, po4_d=x3,\n",
    "                              temperature_d=x4, irradiance_d=x5, photoperiod_d=x6, par_d=x7) \n",
    "                      for x1, x2, x3, x4, x5, x6, x7 in \n",
    "                      zip(no3, si, po4, temperature, irradiance, photoperiod_array, par)]\n",
    "\n",
    "plt.plot(ox,daily_growth_array); plt.gcf().set_size_inches(10,2);\n",
    "plt.title('Daily specific growth rate, $d^{-1}$');\n",
    "plt.xlabel('days'); plt.ylabel('Daily specific growth rate');"
   ]
  },
  {
   "cell_type": "markdown",
   "metadata": {},
   "source": [
    "Phytoplankton itself"
   ]
  },
  {
   "cell_type": "code",
   "execution_count": 34,
   "metadata": {},
   "outputs": [],
   "source": [
    "def c_from_ratio(chl_a, temperature, \n",
    "                 k, I, depth,\n",
    "                 kno3, ksi, kpo4,\n",
    "                 no3, si, po4):\n",
    "    \"\"\"k, depth, kno3, ksi, kpo4 - parameters\"\"\"\n",
    "    \n",
    "    no3_limiter = monodlimiter(kno3, no3)\n",
    "    si_limiter = monodlimiter(ksi, si)\n",
    "    po4_limiter = monodlimiter(kpo4, po4)\n",
    "    \n",
    "    nutrient_limiter = [np.min([x, y, z]) for x, y, z in zip(no3_limiter, si_limiter, po4_limiter)];\n",
    "    \n",
    "    return (  chl_a\n",
    "            / ChlCratio(temperature, light_attenuation(k=k, z=depth, I=I), nutrient_limiter))"
   ]
  },
  {
   "cell_type": "code",
   "execution_count": 35,
   "metadata": {},
   "outputs": [],
   "source": [
    "PhyC_array = c_from_ratio(chl_a=chl_a, temperature=temperature,\n",
    "                          k=0.04, I=irradiance, depth=0.625,\n",
    "                          kno3=1, ksi=0.5, kpo4=0.1,\n",
    "                          no3=no3, si=si, po4=po4)"
   ]
  },
  {
   "cell_type": "code",
   "execution_count": 36,
   "metadata": {},
   "outputs": [
    {
     "data": {
      "image/png": "[encoded data removed]",
      "text/plain": [
       "<Figure size 720x144 with 1 Axes>"
      ]
     },
     "metadata": {
      "needs_background": "light"
     },
     "output_type": "display_data"
    }
   ],
   "source": [
    "plt.plot(ox,PhyC_array); plt.gcf().set_size_inches(10,2);\n",
    "plt.title('Phytoplankton'); plt.xlabel('days'); plt.ylabel('Phy, $mg\\,C\\,m^{-3}$');"
   ]
  },
  {
   "cell_type": "markdown",
   "metadata": {},
   "source": [
    "####  Porosities"
   ]
  },
  {
   "cell_type": "code",
   "execution_count": 37,
   "metadata": {},
   "outputs": [],
   "source": [
    "def porosity(z, z_swi, phi_swi, phi_inf):\n",
    "    k_phi = 0.04\n",
    "    k = -(z-z_swi)/k_phi\n",
    "    return (phi_inf+(phi_swi-phi_inf)*np.exp(k))"
   ]
  },
  {
   "cell_type": "code",
   "execution_count": 38,
   "metadata": {},
   "outputs": [
    {
     "data": {
      "text/plain": [
       "0.691248451292299"
      ]
     },
     "execution_count": 38,
     "metadata": {},
     "output_type": "execute_result"
    }
   ],
   "source": [
    "porosity(2.505, 2.5, 0.75, 0.25)"
   ]
  },
  {
   "cell_type": "code",
   "execution_count": 39,
   "metadata": {},
   "outputs": [],
   "source": [
    "z = np.linspace(2.505, 2.595, 10)"
   ]
  },
  {
   "cell_type": "code",
   "execution_count": 40,
   "metadata": {},
   "outputs": [],
   "source": [
    "phi_inf_array = np.arange(0.05, 0.36, 0.01)"
   ]
  },
  {
   "cell_type": "code",
   "execution_count": 41,
   "metadata": {},
   "outputs": [],
   "source": [
    "phi_swi_array = np.arange(0.45, 0.86, 0.01)"
   ]
  },
  {
   "cell_type": "code",
   "execution_count": 42,
   "metadata": {},
   "outputs": [
    {
     "name": "stdout",
     "output_type": "stream",
     "text": [
      "0.6100000000000001 0.33\n",
      "0.6300000000000001 0.32000000000000006\n",
      "0.6800000000000002 0.29000000000000004\n",
      "0.7000000000000002 0.28\n",
      "0.7300000000000002 0.26000000000000006\n",
      "0.7500000000000002 0.25000000000000006\n",
      "0.8000000000000003 0.22000000000000003\n",
      "0.8200000000000003 0.21000000000000002\n"
     ]
    }
   ],
   "source": [
    "for phi_swi in phi_swi_array:\n",
    "    for phi_inf in phi_inf_array:\n",
    "        if (0.432 < sum(porosity(z, 2.5, phi_swi, phi_inf))/10 < 0.434):\n",
    "            print(phi_swi, phi_inf)"
   ]
  },
  {
   "cell_type": "markdown",
   "metadata": {},
   "source": [
    "#### Carbonates dissolution and precipitation estimation"
   ]
  },
  {
   "cell_type": "code",
   "execution_count": 43,
   "metadata": {},
   "outputs": [],
   "source": [
    "ds = xr.open_dataset('data/low_sulfate_reduction_rate/5_po75-25_di10e-9/water.nc')\n",
    "alkflux_df = ds['B_C_Alk   _flux'].to_dataframe()\n",
    "biogrow_df = ds['B_BIO_GrowthPhy'].to_dataframe()\n",
    "omresp_df  = ds['B_BIO_DcPOC_O2'].to_dataframe()\n",
    "alk_df     = ds['B_C_Alk'].to_dataframe()\n",
    "alkflux_bottom = alkflux_df.groupby('z_faces').get_group(2.5)\n",
    "omresp_bottom  = omresp_df.groupby('z').get_group(2.4749999046325684)\n",
    "biogrow_surfac = biogrow_df.groupby('z').get_group(0.625)\n",
    "alk_surface    = alk_df.groupby('z').get_group(0.625)\n",
    "alk_surface_year = alk_surface.loc['2011-01-01':'2011-12-31']"
   ]
  },
  {
   "cell_type": "code",
   "execution_count": 44,
   "metadata": {},
   "outputs": [],
   "source": [
    "year = (('2011-01-01','2011-01-31'), ('2011-02-01','2011-02-28'), ('2011-03-01','2011-03-31'), ('2011-04-01','2011-04-30'), \n",
    "        ('2011-05-01','2011-05-31'), ('2011-06-01','2011-06-30'), ('2011-07-01','2011-07-31'), ('2011-08-01','2011-08-31'),\n",
    "        ('2011-09-01','2011-09-30'), ('2011-10-01','2011-10-31'), ('2011-11-01','2011-11-30'), ('2011-12-01','2011-12-31'))"
   ]
  },
  {
   "cell_type": "code",
   "execution_count": 45,
   "metadata": {},
   "outputs": [],
   "source": [
    "year_days = [31, 28, 31, 30, 31, 30, 31, 31, 30, 31, 30, 31]"
   ]
  },
  {
   "cell_type": "code",
   "execution_count": 46,
   "metadata": {},
   "outputs": [
    {
     "data": {
      "text/plain": [
       "array([ 31,  59,  90, 120, 151, 181, 212, 243, 273, 304, 334, 365],\n",
       "      dtype=int32)"
      ]
     },
     "execution_count": 46,
     "metadata": {},
     "output_type": "execute_result"
    }
   ],
   "source": [
    "year_acc_days = np.cumsum(year_days)\n",
    "year_acc_days"
   ]
  },
  {
   "cell_type": "code",
   "execution_count": 47,
   "metadata": {},
   "outputs": [],
   "source": [
    "alk_year_delta = []\n",
    "alk_year = []\n",
    "bio_year = []\n",
    "res_year = []\n",
    "for month in year:\n",
    "    alk_delta_month = alk_surface.loc[month[0]:month[1]]\n",
    "    alk_month = alkflux_bottom.loc[month[0]:month[1]]\n",
    "    bio_month = biogrow_surfac.loc[month[0]:month[1]]\n",
    "    res_month =  omresp_bottom.loc[month[0]:month[1]]\n",
    "    alk_year_delta.append(alk_delta_month['B_C_Alk'][0])\n",
    "    alk_year.append(alk_month['B_C_Alk   _flux'].mean())\n",
    "    bio_year.append(bio_month['B_BIO_GrowthPhy'].mean())\n",
    "    res_year.append(res_month['B_BIO_DcPOC_O2'].mean())"
   ]
  },
  {
   "cell_type": "code",
   "execution_count": 48,
   "metadata": {},
   "outputs": [],
   "source": [
    "bio_year_quotas = np.array(bio_year)/sum(bio_year)\n",
    "alk_year_quotas = np.array(alk_year)/sum(alk_year)\n",
    "res_year_quotas = np.array(res_year)/sum(res_year)"
   ]
  },
  {
   "cell_type": "code",
   "execution_count": 49,
   "metadata": {},
   "outputs": [
    {
     "data": {
      "text/plain": [
       "array([0.06591642, 0.0761545 , 0.33281462, 4.6033076 , 4.75019836,\n",
       "       4.50845998, 4.89712574, 4.39132247, 4.0613828 , 3.49720764,\n",
       "       1.39452349, 0.15694504])"
      ]
     },
     "execution_count": 49,
     "metadata": {},
     "output_type": "execute_result"
    }
   ],
   "source": [
    "caco3_precipitation = bio_year_quotas*1000/year_days #mM\n",
    "caco3_precipitation"
   ]
  },
  {
   "cell_type": "code",
   "execution_count": 50,
   "metadata": {},
   "outputs": [
    {
     "data": {
      "text/plain": [
       "array([0.71606396, 1.6737314 , 1.9295359 , 2.77043635, 4.34911962,\n",
       "       5.93712362, 5.24333535, 3.73863466, 2.96444372, 1.73688729,\n",
       "       1.25562185, 0.52212358])"
      ]
     },
     "execution_count": 50,
     "metadata": {},
     "output_type": "execute_result"
    }
   ],
   "source": [
    "caco3_dissolution = res_year_quotas*1000/year_days\n",
    "caco3_dissolution"
   ]
  },
  {
   "cell_type": "code",
   "execution_count": 51,
   "metadata": {},
   "outputs": [],
   "source": [
    "ca_flux = caco3_dissolution - caco3_precipitation"
   ]
  },
  {
   "cell_type": "code",
   "execution_count": 52,
   "metadata": {},
   "outputs": [
    {
     "data": {
      "text/plain": [
       "array([ 0.65014755,  1.59757689,  1.59672128, -1.83287125, -0.40107875,\n",
       "        1.42866364,  0.34620962, -0.65268781, -1.09693909, -1.76032036,\n",
       "       -0.13890165,  0.36517854])"
      ]
     },
     "execution_count": 52,
     "metadata": {},
     "output_type": "execute_result"
    }
   ],
   "source": [
    "ca_flux"
   ]
  },
  {
   "cell_type": "code",
   "execution_count": 53,
   "metadata": {},
   "outputs": [],
   "source": [
    "ca_array = np.array(ca_flux)/2.5*2"
   ]
  },
  {
   "cell_type": "code",
   "execution_count": 54,
   "metadata": {},
   "outputs": [
    {
     "data": {
      "text/plain": [
       "array([ 0.52011804,  1.27806151,  1.27737702, -1.466297  , -0.320863  ,\n",
       "        1.14293091,  0.27696769, -0.52215025, -0.87755127, -1.40825628,\n",
       "       -0.11112132,  0.29214283])"
      ]
     },
     "execution_count": 54,
     "metadata": {},
     "output_type": "execute_result"
    }
   ],
   "source": [
    "ca_array"
   ]
  },
  {
   "cell_type": "code",
   "execution_count": 55,
   "metadata": {},
   "outputs": [],
   "source": [
    "alk_surface_year = alk_surface_year.reset_index()\n",
    "alk_array = np.array(alk_surface_year['B_C_Alk'])\n",
    "alkflux_bottom_year = alkflux_bottom.loc['2011-01-01':'2011-12-31']\n",
    "alkflux_bottom_year = alkflux_bottom_year.reset_index()"
   ]
  },
  {
   "cell_type": "markdown",
   "metadata": {},
   "source": [
    "#### Calculate and plot a total increment of Ca$^{2+}$ concentration changes due to fluxes previously estimated"
   ]
  },
  {
   "cell_type": "code",
   "execution_count": 56,
   "metadata": {},
   "outputs": [],
   "source": [
    "calpart = np.zeros(365)\n",
    "day = 0\n",
    "last_entry = 0\n",
    "for month, increment in zip(year_days, ca_array):\n",
    "    temp = np.linspace(last_entry+increment, last_entry+increment*month, num=month)\n",
    "    calpart[day:day+month] = temp\n",
    "    last_entry = temp[-1]\n",
    "    day += month"
   ]
  },
  {
   "cell_type": "code",
   "execution_count": 57,
   "metadata": {},
   "outputs": [],
   "source": [
    "caco3_dis = np.zeros(365)\n",
    "day = 0\n",
    "for month, increment in zip(year_days, caco3_dissolution):\n",
    "    caco3_dis[day:day+month] = increment\n",
    "    day += month"
   ]
  },
  {
   "cell_type": "code",
   "execution_count": 58,
   "metadata": {},
   "outputs": [],
   "source": [
    "caco3_pre = np.zeros(365)\n",
    "day = 0\n",
    "for month, increment in zip(year_days, caco3_precipitation):\n",
    "    caco3_pre[day:day+month] = increment\n",
    "    day += month"
   ]
  },
  {
   "cell_type": "code",
   "execution_count": 59,
   "metadata": {},
   "outputs": [],
   "source": [
    "result_array = alk_array + calpart"
   ]
  },
  {
   "cell_type": "code",
   "execution_count": 60,
   "metadata": {},
   "outputs": [
    {
     "data": {
      "image/png": "[encoded data removed]",
      "text/plain": [
       "<Figure size 1008x288 with 2 Axes>"
      ]
     },
     "metadata": {
      "needs_background": "light"
     },
     "output_type": "display_data"
    }
   ],
   "source": [
    "import matplotlib.dates as mdates\n",
    "\n",
    "fig = plt.figure(figsize=(14, 4))\n",
    "ax1 = fig.add_subplot(1, 2, 1) # row-col-num\n",
    "#ax1.xaxis_date()\n",
    "#ax1.xaxis.set_major_formatter(mdates.DateFormatter('%b'))\n",
    "ax1.plot(alk_surface_year['time'], caco3_dis*2, linewidth=2, label=r'CaCO$_3$ dissolution')\n",
    "ax1.plot(alk_surface_year['time'], caco3_pre*2, linewidth=2, label=r'CaCO$_3$ precipitation')\n",
    "ax1.plot(alk_surface_year['time'], alkflux_bottom_year['B_C_Alk   _flux'], linewidth=2, label=r'Modelled TA flux at the SWI')\n",
    "ax1.plot(alk_surface_year['time'], caco3_dis*2+alkflux_bottom_year['B_C_Alk   _flux'], linewidth=2, \n",
    "         label=r'CaCO$_3$ dissolution + TA flux at the SWI')\n",
    "# --- add title and axis labels\n",
    "#ax.set_title('Alkalinity fluxes')\n",
    "ax1.set_ylabel('TA fluxes, mmol m$^{-2}$ d$^{-1}$', fontsize=16)\n",
    "#ax.set_xlabel('Month', fontsize=16)\n",
    "# --- plot a legend in the best location\n",
    "ax1.legend(loc='upper left')#, title='Alkalinity fluxes')\n",
    "# --- add grid – not in default classic style\n",
    "ax1.grid(True)\n",
    "ax = fig.add_subplot(1, 2, 2) # row-col-num\n",
    "#ax.xaxis.set_major_formatter(mdates.DateFormatter('%b'))\n",
    "ax.plot(alk_surface_year['time'], calpart-calpart.min(), linewidth=2, label=r'Due to CaCO$_3$ dissolution/precipitation')\n",
    "ax.plot(alk_surface_year['time'], alk_array-alk_array.min(), linewidth=2, label=r'From the model calculations')\n",
    "ax.plot(alk_surface_year['time'], result_array - result_array.min(), linewidth=2, label=r'CaCO$_3$ + model calculations')\n",
    "# --- add title and axis labels\n",
    "#ax.set_title('Alkalinity fluxes')\n",
    "ax.set_ylabel('Relative TA, mmol m$^{-3}$', fontsize=16)\n",
    "#ax.set_xlabel('Month', fontsize=16)\n",
    "# --- plot a legend in the best location\n",
    "ax.legend(loc='upper left')#, title='Alkalinity increments')\n",
    "# --- add grid – not in default classic style\n",
    "#ax.grid(True)\n",
    "\n",
    "fntsz = 16\n",
    "x_text = 0.97\n",
    "y_text = 0.98\n",
    "labels = ('(A)', '(B)')\n",
    "for i,axis in enumerate((ax1,ax)):\n",
    "    axis.xaxis.set_major_formatter(mdates.DateFormatter('%b'))\n",
    "    axis.text(x_text, y_text, labels[i], transform=axis.transAxes,\n",
    "              fontsize=fntsz, fontweight='bold', va='top', ha='right')  \n",
    "fig.tight_layout(pad=1)\n",
    "plt.show()"
   ]
  },
  {
   "cell_type": "code",
   "execution_count": 61,
   "metadata": {},
   "outputs": [
    {
     "data": {
      "text/plain": [
       "array([ 0.52011804,  1.27806151,  1.27737702, -1.466297  , -0.320863  ,\n",
       "        1.14293091,  0.27696769, -0.52215025, -0.87755127, -1.40825628,\n",
       "       -0.11112132,  0.29214283])"
      ]
     },
     "execution_count": 61,
     "metadata": {},
     "output_type": "execute_result"
    }
   ],
   "source": [
    "ca_array"
   ]
  },
  {
   "cell_type": "code",
   "execution_count": 62,
   "metadata": {},
   "outputs": [
    {
     "data": {
      "text/plain": [
       "array([ 16.12365913,  35.78572235,  39.59868774, -43.98890991,\n",
       "        -9.94675293,  34.28792725,   8.58599854, -16.18665771,\n",
       "       -26.32653809, -43.65594482,  -3.33363953,   9.05642776])"
      ]
     },
     "execution_count": 62,
     "metadata": {},
     "output_type": "execute_result"
    }
   ],
   "source": [
    "ca_array_monthly = ca_array*year_days\n",
    "ca_array_monthly"
   ]
  },
  {
   "cell_type": "code",
   "execution_count": 63,
   "metadata": {},
   "outputs": [],
   "source": [
    "alk_array = np.array(alk_year_delta)"
   ]
  },
  {
   "cell_type": "code",
   "execution_count": 64,
   "metadata": {},
   "outputs": [
    {
     "data": {
      "text/plain": [
       "array([ 75.07739 ,  40.81958 ,  16.935059,   0.      ,   2.230957,\n",
       "        20.923096,  47.810547,  66.718994,  87.87427 , 105.78027 ,\n",
       "       116.468506, 104.0957  ], dtype=float32)"
      ]
     },
     "execution_count": 64,
     "metadata": {},
     "output_type": "execute_result"
    }
   ],
   "source": [
    "alk_array = alk_array - alk_array.min()\n",
    "alk_array"
   ]
  },
  {
   "cell_type": "markdown",
   "metadata": {},
   "source": [
    "#### Alkalinity fluxes compounds"
   ]
  },
  {
   "cell_type": "code",
   "execution_count": 65,
   "metadata": {},
   "outputs": [],
   "source": [
    "ds = xr.open_dataset('data/low_sulfate_reduction_rate/5_po75-25_di10e-9/water.nc')\n",
    "alkflux_df = ds['B_C_Alk   _flux'].to_dataframe()\n",
    "nh4flux_df = ds['B_NUT_NH4 _flux'].to_dataframe()\n",
    "no2flux_df = ds['B_NUT_NO2 _flux'].to_dataframe()\n",
    "no3flux_df = ds['B_NUT_NO3 _flux'].to_dataframe()\n",
    "po4flux_df = ds['B_NUT_PO4 _flux'].to_dataframe()\n",
    "so4flux_df = ds['B_S_SO4   _flux'].to_dataframe()\n",
    "alkflux_bottom = alkflux_df.groupby('z_faces').get_group(2.5)\n",
    "nh4flux_bottom = nh4flux_df.groupby('z_faces').get_group(2.5)\n",
    "no2flux_bottom = no2flux_df.groupby('z_faces').get_group(2.5)\n",
    "no3flux_bottom = no3flux_df.groupby('z_faces').get_group(2.5)\n",
    "po4flux_bottom = po4flux_df.groupby('z_faces').get_group(2.5)\n",
    "so4flux_bottom = so4flux_df.groupby('z_faces').get_group(2.5)"
   ]
  },
  {
   "cell_type": "code",
   "execution_count": 66,
   "metadata": {},
   "outputs": [],
   "source": [
    "year = (('2011-01-01','2011-01-31'), ('2011-02-01','2011-02-28'), ('2011-03-01','2011-03-31'), ('2011-04-01','2011-04-30'), \n",
    "        ('2011-05-01','2011-05-31'), ('2011-06-01','2011-06-30'), ('2011-07-01','2011-07-31'), ('2011-08-01','2011-08-31'),\n",
    "        ('2011-09-01','2011-09-30'), ('2011-10-01','2011-10-31'), ('2011-11-01','2011-11-30'), ('2011-12-01','2011-12-31'))"
   ]
  },
  {
   "cell_type": "code",
   "execution_count": 67,
   "metadata": {},
   "outputs": [],
   "source": [
    "year_days = [31, 28, 31, 30, 31, 30, 31, 31, 30, 31, 30, 31]"
   ]
  },
  {
   "cell_type": "code",
   "execution_count": 68,
   "metadata": {},
   "outputs": [],
   "source": [
    "alk_year = []\n",
    "nh4_year = []\n",
    "no2_year = []\n",
    "no3_year = []\n",
    "po4_year = []\n",
    "so4_year = []\n",
    "for month in year:\n",
    "    alk_month = alkflux_bottom.loc[month[0]:month[1]]\n",
    "    nh4_month = nh4flux_bottom.loc[month[0]:month[1]]\n",
    "    no2_month = no2flux_bottom.loc[month[0]:month[1]]\n",
    "    no3_month = no3flux_bottom.loc[month[0]:month[1]]\n",
    "    po4_month = po4flux_bottom.loc[month[0]:month[1]]\n",
    "    so4_month = so4flux_bottom.loc[month[0]:month[1]]\n",
    "    alk_year.append(alk_month['B_C_Alk   _flux'].mean())\n",
    "    nh4_year.append(nh4_month['B_NUT_NH4 _flux'].mean())\n",
    "    no2_year.append(no2_month['B_NUT_NO2 _flux'].mean())\n",
    "    no3_year.append(no3_month['B_NUT_NO3 _flux'].mean())\n",
    "    po4_year.append(po4_month['B_NUT_PO4 _flux'].mean())\n",
    "    so4_year.append(so4_month['B_S_SO4   _flux'].mean())"
   ]
  },
  {
   "cell_type": "code",
   "execution_count": 69,
   "metadata": {},
   "outputs": [],
   "source": [
    "alk = np.array(alk_year)\n",
    "nh4 = np.array(nh4_year)\n",
    "no2 = np.array(no2_year)\n",
    "no3 = np.array(no3_year)\n",
    "po4 = np.array(po4_year)\n",
    "so4 = np.array(so4_year)"
   ]
  },
  {
   "cell_type": "code",
   "execution_count": 70,
   "metadata": {},
   "outputs": [],
   "source": [
    "all_components = nh4-no2-no3-po4-2*so4"
   ]
  },
  {
   "cell_type": "code",
   "execution_count": 71,
   "metadata": {},
   "outputs": [
    {
     "data": {
      "text/plain": [
       "array([0.12761772, 0.14015885, 0.14685221, 0.14037824, 0.14172561,\n",
       "       0.11023072, 0.0972002 , 0.08789225, 0.0918569 , 0.09640037,\n",
       "       0.1047076 , 0.11332253], dtype=float32)"
      ]
     },
     "execution_count": 71,
     "metadata": {},
     "output_type": "execute_result"
    }
   ],
   "source": [
    "nh4_quota = nh4/all_components\n",
    "nh4_quota"
   ]
  },
  {
   "cell_type": "code",
   "execution_count": 72,
   "metadata": {},
   "outputs": [
    {
     "data": {
      "text/plain": [
       "array([-0.00042005, -0.00080647, -0.001686  , -0.00230512,  0.00031057,\n",
       "        0.00120826,  0.00013709,  0.00013442,  0.00033019,  0.00042988,\n",
       "        0.00280258,  0.00182244], dtype=float32)"
      ]
     },
     "execution_count": 72,
     "metadata": {},
     "output_type": "execute_result"
    }
   ],
   "source": [
    "no2_quota = -no2/all_components\n",
    "no2_quota"
   ]
  },
  {
   "cell_type": "code",
   "execution_count": 73,
   "metadata": {},
   "outputs": [
    {
     "data": {
      "text/plain": [
       "array([0.07953436, 0.11249184, 0.13687219, 0.09518523, 0.0326903 ,\n",
       "       0.00513885, 0.00082546, 0.00022191, 0.00035428, 0.00071845,\n",
       "       0.00523538, 0.03760012], dtype=float32)"
      ]
     },
     "execution_count": 73,
     "metadata": {},
     "output_type": "execute_result"
    }
   ],
   "source": [
    "no3_quota = -no3/all_components\n",
    "no3_quota"
   ]
  },
  {
   "cell_type": "code",
   "execution_count": 74,
   "metadata": {},
   "outputs": [
    {
     "data": {
      "text/plain": [
       "array([-0.00453248, -0.00367439, -0.0027573 , -0.00452861, -0.00782811,\n",
       "       -0.00693703, -0.00620746, -0.00565129, -0.0059348 , -0.00625626,\n",
       "       -0.00679275, -0.00589359], dtype=float32)"
      ]
     },
     "execution_count": 74,
     "metadata": {},
     "output_type": "execute_result"
    }
   ],
   "source": [
    "po4_quota = -po4/all_components\n",
    "po4_quota"
   ]
  },
  {
   "cell_type": "code",
   "execution_count": 75,
   "metadata": {},
   "outputs": [
    {
     "data": {
      "text/plain": [
       "array([0.7978004 , 0.7518301 , 0.72071886, 0.77127033, 0.83310163,\n",
       "       0.8903592 , 0.9080447 , 0.9174027 , 0.91339344, 0.90870756,\n",
       "       0.8940472 , 0.85314846], dtype=float32)"
      ]
     },
     "execution_count": 75,
     "metadata": {},
     "output_type": "execute_result"
    }
   ],
   "source": [
    "so4_quota = -so4*2/all_components\n",
    "so4_quota"
   ]
  },
  {
   "cell_type": "code",
   "execution_count": 76,
   "metadata": {},
   "outputs": [
    {
     "data": {
      "text/plain": [
       "array([1.        , 0.99999994, 1.        , 1.        , 1.        ,\n",
       "       1.        , 1.        , 1.        , 1.        , 1.        ,\n",
       "       1.        , 1.        ], dtype=float32)"
      ]
     },
     "execution_count": 76,
     "metadata": {},
     "output_type": "execute_result"
    }
   ],
   "source": [
    "nh4_quota+no2_quota+no3_quota+po4_quota+so4_quota"
   ]
  },
  {
   "cell_type": "markdown",
   "metadata": {},
   "source": [
    "#### Alkalinity to reduced sulfur compounds fluxes fractions"
   ]
  },
  {
   "cell_type": "code",
   "execution_count": 77,
   "metadata": {},
   "outputs": [],
   "source": [
    "ds1 = xr.open_dataset('data/low_sulfate_reduction_rate/2_po75-25_di1e-9/sediments.nc')\n",
    "ds2 = xr.open_dataset('data/low_sulfate_reduction_rate/5_po75-25_di10e-9/sediments.nc')\n",
    "ds3 = xr.open_dataset('data/low_sulfate_reduction_rate/10_po75-25_di35e-9/sediments.nc')"
   ]
  },
  {
   "cell_type": "code",
   "execution_count": 78,
   "metadata": {},
   "outputs": [],
   "source": [
    "ds3 = xr.open_dataset('data/test/sediments.nc')"
   ]
  },
  {
   "cell_type": "code",
   "execution_count": 79,
   "metadata": {},
   "outputs": [],
   "source": [
    "ds = ds3\n",
    "\n",
    "alkflux_df = ds['B_C_Alk   _flux'].to_dataframe()\n",
    "nh4flux_df = ds['B_NUT_NH4 _flux'].to_dataframe()\n",
    "no2flux_df = ds['B_NUT_NO2 _flux'].to_dataframe()\n",
    "no3flux_df = ds['B_NUT_NO3 _flux'].to_dataframe()\n",
    "po4flux_df = ds['B_NUT_PO4 _flux'].to_dataframe()\n",
    "so4flux_df = ds['B_S_SO4   _flux'].to_dataframe()\n",
    "h2s__flux_df = ds['B_S_H2S   _flux'].to_dataframe()\n",
    "s0___flux_df = ds['B_S_S0    _flux'].to_dataframe()\n",
    "s2o3_flux_df = ds['B_S_S2O3  _flux'].to_dataframe()\n",
    "\n",
    "alkflux_bottom = alkflux_df.groupby('z_faces').get_group(2.5)\n",
    "nh4flux_bottom = nh4flux_df.groupby('z_faces').get_group(2.5)\n",
    "no2flux_bottom = no2flux_df.groupby('z_faces').get_group(2.5)\n",
    "no3flux_bottom = no3flux_df.groupby('z_faces').get_group(2.5)\n",
    "po4flux_bottom = po4flux_df.groupby('z_faces').get_group(2.5)\n",
    "so4flux_bottom = so4flux_df.groupby('z_faces').get_group(2.5)\n",
    "h2sflux_bottom  = h2s__flux_df.groupby('z_faces').get_group(2.5)\n",
    "s0flux_bottom   = s0___flux_df.groupby('z_faces').get_group(2.5)\n",
    "s2o3flux_bottom = s2o3_flux_df.groupby('z_faces').get_group(2.5)"
   ]
  },
  {
   "cell_type": "code",
   "execution_count": 80,
   "metadata": {},
   "outputs": [
    {
     "data": {
      "text/plain": [
       "2.5199999809265137"
      ]
     },
     "execution_count": 80,
     "metadata": {},
     "output_type": "execute_result"
    }
   ],
   "source": [
    "alkflux_df = alkflux_df.reset_index()\n",
    "alkflux_df.z_faces[38]"
   ]
  },
  {
   "cell_type": "code",
   "execution_count": 81,
   "metadata": {},
   "outputs": [],
   "source": [
    "year = (('2011-01-01','2011-01-31'), ('2011-02-01','2011-02-28'), ('2011-03-01','2011-03-31'), ('2011-04-01','2011-04-30'), \n",
    "        ('2011-05-01','2011-05-31'), ('2011-06-01','2011-06-30'), ('2011-07-01','2011-07-31'), ('2011-08-01','2011-08-31'),\n",
    "        ('2011-09-01','2011-09-30'), ('2011-10-01','2011-10-31'), ('2011-11-01','2011-11-30'), ('2011-12-01','2011-12-31'))"
   ]
  },
  {
   "cell_type": "code",
   "execution_count": 82,
   "metadata": {},
   "outputs": [],
   "source": [
    "alk_year = []\n",
    "nh4_year = []\n",
    "no2_year = []\n",
    "no3_year = []\n",
    "po4_year = []\n",
    "so4_year = []\n",
    "h2s_year = []\n",
    "s0_year = []\n",
    "s2o3_year = []\n",
    "for month in year:\n",
    "    alk_month = alkflux_bottom.loc[month[0]:month[1]]\n",
    "    nh4_month = nh4flux_bottom.loc[month[0]:month[1]]\n",
    "    no2_month = no2flux_bottom.loc[month[0]:month[1]]\n",
    "    no3_month = no3flux_bottom.loc[month[0]:month[1]]\n",
    "    po4_month = po4flux_bottom.loc[month[0]:month[1]]\n",
    "    so4_month = so4flux_bottom.loc[month[0]:month[1]]\n",
    "    h2s_month = h2sflux_bottom.loc[month[0]:month[1]]\n",
    "    s0_month = s0flux_bottom.loc[month[0]:month[1]]\n",
    "    s2o3_month = s2o3flux_bottom.loc[month[0]:month[1]]\n",
    "    alk_year.append(alk_month['B_C_Alk   _flux'].mean())\n",
    "    nh4_year.append(nh4_month['B_NUT_NH4 _flux'].mean())\n",
    "    no2_year.append(no2_month['B_NUT_NO2 _flux'].mean())\n",
    "    no3_year.append(no3_month['B_NUT_NO3 _flux'].mean())\n",
    "    po4_year.append(po4_month['B_NUT_PO4 _flux'].mean())\n",
    "    so4_year.append(so4_month['B_S_SO4   _flux'].mean())\n",
    "    h2s_year.append(h2s_month['B_S_H2S   _flux'].mean())\n",
    "    s0_year.append(s0_month['B_S_S0    _flux'].mean())\n",
    "    s2o3_year.append(s2o3_month['B_S_S2O3  _flux'].mean())"
   ]
  },
  {
   "cell_type": "code",
   "execution_count": 83,
   "metadata": {},
   "outputs": [],
   "source": [
    "alk = np.array(alk_year)\n",
    "nh4 = np.array(nh4_year)\n",
    "no2 = np.array(no2_year)\n",
    "no3 = np.array(no3_year)\n",
    "po4 = np.array(po4_year)\n",
    "so4 = np.array(so4_year)\n",
    "h2s = np.array(h2s_year)\n",
    "s0 = np.array(s0_year)\n",
    "s2o3 = np.array(s2o3_year)"
   ]
  },
  {
   "cell_type": "code",
   "execution_count": 84,
   "metadata": {},
   "outputs": [],
   "source": [
    "s_total = h2s + s0 + 2*s2o3"
   ]
  },
  {
   "cell_type": "code",
   "execution_count": 85,
   "metadata": {},
   "outputs": [],
   "source": [
    "all_components = nh4-no2-no3-po4-2*so4"
   ]
  },
  {
   "cell_type": "code",
   "execution_count": 86,
   "metadata": {},
   "outputs": [],
   "source": [
    "alk_so4_quota = alk*so4_quota"
   ]
  },
  {
   "cell_type": "code",
   "execution_count": 87,
   "metadata": {},
   "outputs": [
    {
     "data": {
      "text/plain": [
       "array([ 2.6802871,  1.9756435,  2.3772736,  4.2949004, 10.817517 ,\n",
       "       20.554184 , 27.870405 , 29.200764 , 24.804302 , 19.153624 ,\n",
       "       13.583542 ,  6.426284 ], dtype=float32)"
      ]
     },
     "execution_count": 87,
     "metadata": {},
     "output_type": "execute_result"
    }
   ],
   "source": [
    "alk_so4_quota"
   ]
  },
  {
   "cell_type": "code",
   "execution_count": 88,
   "metadata": {},
   "outputs": [],
   "source": [
    "so4direct_quota = -2*so4"
   ]
  },
  {
   "cell_type": "code",
   "execution_count": 89,
   "metadata": {},
   "outputs": [
    {
     "data": {
      "text/plain": [
       "array([ 1.8687131,  1.5086027,  1.9602915,  3.7430675,  9.985929 ,\n",
       "       20.059141 , 27.412928 , 28.619337 , 24.10996  , 18.44495  ,\n",
       "       12.945193 ,  5.35961  ], dtype=float32)"
      ]
     },
     "execution_count": 89,
     "metadata": {},
     "output_type": "execute_result"
    }
   ],
   "source": [
    "so4direct_quota"
   ]
  },
  {
   "cell_type": "code",
   "execution_count": 90,
   "metadata": {},
   "outputs": [],
   "source": [
    "sulfurquota = s_total*2"
   ]
  },
  {
   "cell_type": "code",
   "execution_count": 91,
   "metadata": {},
   "outputs": [
    {
     "data": {
      "text/plain": [
       "array([ 3.2088008,  1.4854876,  1.3608236,  2.60213  ,  7.313583 ,\n",
       "       15.910854 , 23.552904 , 26.294119 , 23.531273 , 19.07152  ,\n",
       "       14.483865 ,  8.517903 ], dtype=float32)"
      ]
     },
     "execution_count": 91,
     "metadata": {},
     "output_type": "execute_result"
    }
   ],
   "source": [
    "sulfurquota"
   ]
  },
  {
   "cell_type": "code",
   "execution_count": 92,
   "metadata": {},
   "outputs": [
    {
     "data": {
      "text/plain": [
       "16.405463218688965"
      ]
     },
     "execution_count": 92,
     "metadata": {},
     "output_type": "execute_result"
    }
   ],
   "source": [
    "sum(alk_so4_quota)-sum(sulfurquota)"
   ]
  },
  {
   "cell_type": "code",
   "execution_count": 93,
   "metadata": {},
   "outputs": [
    {
     "data": {
      "text/plain": [
       "8.684460282325745"
      ]
     },
     "execution_count": 93,
     "metadata": {},
     "output_type": "execute_result"
    }
   ],
   "source": [
    "sum(so4direct_quota)-sum(sulfurquota)"
   ]
  },
  {
   "cell_type": "markdown",
   "metadata": {},
   "source": [
    "#### Advection TA change"
   ]
  },
  {
   "cell_type": "code",
   "execution_count": 94,
   "metadata": {},
   "outputs": [],
   "source": [
    "ds = xr.open_dataset('data/advective_ta/1_10e-9/water.nc')"
   ]
  },
  {
   "cell_type": "code",
   "execution_count": 95,
   "metadata": {},
   "outputs": [],
   "source": [
    "nh4ta_df = ds['TA_due_to_NH4'].to_dataframe()\n",
    "no3ta_df = ds['TA_due_to_NO3'].to_dataframe()\n",
    "po4ta_df = ds['TA_due_to_PO4'].to_dataframe()\n",
    "so4ta_df = ds['TA_due_to_SO4'].to_dataframe()"
   ]
  },
  {
   "cell_type": "code",
   "execution_count": 96,
   "metadata": {},
   "outputs": [],
   "source": [
    "year = (('2011-01-01','2011-01-31'), ('2011-02-01','2011-02-28'), ('2011-03-01','2011-03-31'), ('2011-04-01','2011-04-30'), \n",
    "        ('2011-05-01','2011-05-31'), ('2011-06-01','2011-06-30'), ('2011-07-01','2011-07-31'), ('2011-08-01','2011-08-31'),\n",
    "        ('2011-09-01','2011-09-30'), ('2011-10-01','2011-10-31'), ('2011-11-01','2011-11-30'), ('2011-12-01','2011-12-31'))"
   ]
  },
  {
   "cell_type": "code",
   "execution_count": 97,
   "metadata": {},
   "outputs": [],
   "source": [
    "nh4ta_year = []\n",
    "no3ta_year = []\n",
    "po4ta_year = []\n",
    "so4ta_year = []\n",
    "for month in year:\n",
    "    nh4ta_month = nh4ta_df.loc[month[0]:month[1]]\n",
    "    no3ta_month = no3ta_df.loc[month[0]:month[1]]\n",
    "    po4ta_month = po4ta_df.loc[month[0]:month[1]]\n",
    "    so4ta_month = so4ta_df.loc[month[0]:month[1]]\n",
    "    nh4ta_year.append(nh4ta_month['TA_due_to_NH4'].sum())\n",
    "    no3ta_year.append(no3ta_month['TA_due_to_NO3'].sum())\n",
    "    po4ta_year.append(po4ta_month['TA_due_to_PO4'].sum())\n",
    "    so4ta_year.append(so4ta_month['TA_due_to_SO4'].sum())"
   ]
  },
  {
   "cell_type": "code",
   "execution_count": 98,
   "metadata": {},
   "outputs": [],
   "source": [
    "nh4ta = np.array(nh4ta_year)\n",
    "no3ta = np.array(no3ta_year)\n",
    "po4ta = np.array(po4ta_year)\n",
    "so4ta = np.array(so4ta_year)\n",
    "total = nh4ta+no3ta+po4ta+so4ta"
   ]
  },
  {
   "cell_type": "code",
   "execution_count": 99,
   "metadata": {},
   "outputs": [
    {
     "data": {
      "text/plain": [
       "array([ -58.434082,  -34.839947,  -28.891422,  -20.695465,  -59.69809 ,\n",
       "        -47.582397,  -11.021524,  -11.317981,  -18.169989,  -40.851925,\n",
       "       -136.06345 , -113.192085], dtype=float32)"
      ]
     },
     "execution_count": 99,
     "metadata": {},
     "output_type": "execute_result"
    }
   ],
   "source": [
    "nh4ta"
   ]
  },
  {
   "cell_type": "code",
   "execution_count": 100,
   "metadata": {},
   "outputs": [
    {
     "data": {
      "text/plain": [
       "array([ -38.260723 ,  -31.136873 ,  -46.66596  , -210.63393  ,\n",
       "        -96.948784 ,  -44.914127 ,  -40.26404  ,   -2.0678477,\n",
       "         -4.054274 ,   -5.993298 ,  -52.6689   ,  -53.291386 ],\n",
       "      dtype=float32)"
      ]
     },
     "execution_count": 100,
     "metadata": {},
     "output_type": "execute_result"
    }
   ],
   "source": [
    "no3ta"
   ]
  },
  {
   "cell_type": "code",
   "execution_count": 101,
   "metadata": {},
   "outputs": [
    {
     "data": {
      "text/plain": [
       "array([  2.1574469 ,   1.7367815 ,   0.18063708, -12.068465  ,\n",
       "        -3.0779061 ,  -1.5248373 ,  -2.4424543 ,   0.25361025,\n",
       "         0.8648518 ,   2.453736  ,   6.1788816 ,   5.4070945 ],\n",
       "      dtype=float32)"
      ]
     },
     "execution_count": 101,
     "metadata": {},
     "output_type": "execute_result"
    }
   ],
   "source": [
    "po4ta"
   ]
  },
  {
   "cell_type": "code",
   "execution_count": 102,
   "metadata": {},
   "outputs": [
    {
     "data": {
      "text/plain": [
       "array([ 59.167492 ,  45.489746 ,  39.553375 ,  18.935743 , -17.423426 ,\n",
       "       -27.910568 , -39.046017 , -51.584404 , -41.0231   , -30.459232 ,\n",
       "        -3.6228657,  35.628235 ], dtype=float32)"
      ]
     },
     "execution_count": 102,
     "metadata": {},
     "output_type": "execute_result"
    }
   ],
   "source": [
    "so4ta"
   ]
  },
  {
   "cell_type": "code",
   "execution_count": 103,
   "metadata": {},
   "outputs": [
    {
     "data": {
      "text/plain": [
       "array([ -35.36987 ,  -18.750298,  -35.82337 , -224.46211 , -177.14822 ,\n",
       "       -121.93192 ,  -92.77404 ,  -64.71662 ,  -62.382515,  -74.85072 ,\n",
       "       -186.17633 , -125.44815 ], dtype=float32)"
      ]
     },
     "execution_count": 103,
     "metadata": {},
     "output_type": "execute_result"
    }
   ],
   "source": [
    "total"
   ]
  },
  {
   "cell_type": "code",
   "execution_count": 104,
   "metadata": {},
   "outputs": [
    {
     "data": {
      "text/plain": [
       "-12.295022964477539"
      ]
     },
     "execution_count": 104,
     "metadata": {},
     "output_type": "execute_result"
    }
   ],
   "source": [
    "sum(so4ta)"
   ]
  },
  {
   "cell_type": "code",
   "execution_count": 105,
   "metadata": {},
   "outputs": [
    {
     "data": {
      "text/plain": [
       "-1219.8341789245605"
      ]
     },
     "execution_count": 105,
     "metadata": {},
     "output_type": "execute_result"
    }
   ],
   "source": [
    "sum(total)"
   ]
  },
  {
   "cell_type": "code",
   "execution_count": null,
   "metadata": {},
   "outputs": [],
   "source": []
  }
 ],
 "metadata": {
  "jupytext": {
   "text_representation": {
    "extension": ".Rmd",
    "format_name": "rmarkdown",
    "format_version": "1.0",
    "jupytext_version": "0.8.6"
   }
  },
  "kernelspec": {
   "display_name": "Python 3",
   "language": "python",
   "name": "python3"
  },
  "language_info": {
   "codemirror_mode": {
    "name": "ipython",
    "version": 3
   },
   "file_extension": ".py",
   "mimetype": "text/x-python",
   "name": "python",
   "nbconvert_exporter": "python",
   "pygments_lexer": "ipython3",
   "version": "3.7.2"
  }
 },
 "nbformat": 4,
 "nbformat_minor": 2
}
