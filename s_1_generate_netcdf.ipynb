{
 "cells": [
  {
   "cell_type": "markdown",
   "metadata": {},
   "source": [
    "#### Generate the Wadden Sea forcing data file"
   ]
  },
  {
   "cell_type": "code",
   "execution_count": 1,
   "metadata": {},
   "outputs": [],
   "source": [
    "%matplotlib inline \n",
    "\n",
    "import numpy as np\n",
    "import matplotlib.pyplot as plt\n",
    "import pandas as pd\n",
    "import xarray as xr\n",
    "import src.utilities as ut"
   ]
  },
  {
   "cell_type": "markdown",
   "metadata": {},
   "source": [
    "Read a World Ocean Database (WOD) nc file (rectangle near to the eastern part of the Wadden Sea) which is produced by Ocean Data Viewer (ODV) and smooth through years for depths less then 11 m, var1 is depth:"
   ]
  },
  {
   "cell_type": "code",
   "execution_count": 2,
   "metadata": {},
   "outputs": [],
   "source": [
    "ds = xr.open_dataset('data/wadden_sea.nc')\n",
    "df = ds.to_dataframe()\n",
    "df = df[(df.date_time > '2000-01-01 00:00:00.0') & (df.var1 < 11)]\n",
    "df = df[['longitude', 'latitude', 'date_time'\n",
    "        ,'var1', 'var2', 'var3', 'var4', 'var5', 'var6', 'var7'\n",
    "        ,'var8', 'var9', 'var10', 'var11', 'var12', 'var13', 'var14']]\n",
    "df.columns = ['longitude', 'latitude', 'date_time'\n",
    "             ,'Depth', 'Temperature', 'Salinity', 'Oxygen', 'Phosphate', 'Silicate', 'Nitrate'\n",
    "             ,'Nitrite', 'pH', 'Chlorophyll a', 'Plankton biomass', 'Alkalinity', 'NO2+NO3', 'pCO2']\n",
    "df['Oxygen'] = df['Oxygen']*44.661 # 1 ml/l = 10^3/22.391 = 44.661 μmol/l\n",
    "df['Day of year'] = df.date_time.dt.dayofyear.values"
   ]
  },
  {
   "cell_type": "markdown",
   "metadata": {},
   "source": [
    "Make an average year from a range of 11 years:"
   ]
  },
  {
   "cell_type": "code",
   "execution_count": 3,
   "metadata": {},
   "outputs": [],
   "source": [
    "dfyear = df[(df.date_time > '2000-01-01 00:00:00.0') & (df.date_time < '2011-01-01 00:00:00.0')]\n",
    "dfyear = dfyear.groupby(['Day of year']).mean()\n",
    "dfyear = dfyear.reindex(index=range(1,366))"
   ]
  },
  {
   "cell_type": "markdown",
   "metadata": {},
   "source": [
    "Interpolate:"
   ]
  },
  {
   "cell_type": "code",
   "execution_count": 4,
   "metadata": {},
   "outputs": [],
   "source": [
    "dfyear = dfyear.interpolate(method='linear',limit_direction='forward')\n",
    "dfyear.loc[0:16,:] = dfyear[-1:].values\n",
    "dfyear.loc[0:16,'Chlorophyll a'] = 0\n",
    "dfyear = dfyear.interpolate(method='linear',limit_direction='both')\n",
    "dfyear = dfyear.rolling(window=16).mean()\n",
    "dfyear = dfyear.interpolate(method='linear',limit_direction='both')"
   ]
  },
  {
   "cell_type": "markdown",
   "metadata": {},
   "source": [
    "Make three successive years from one;\n",
    "other parameters also will be produced for 3 succesive similar years to construct a nc file with input data for a fortran model that resolves water and sediments domains:"
   ]
  },
  {
   "cell_type": "code",
   "execution_count": 5,
   "metadata": {},
   "outputs": [],
   "source": [
    "df3years = dfyear.append([dfyear, dfyear])\n",
    "df3years.index = range(1, len(df3years)+1)\n",
    "df3years.index.name = \"day\""
   ]
  },
  {
   "cell_type": "markdown",
   "metadata": {},
   "source": [
    "Chl a data is from Loebl et al. (2007) since the data from WOD is very controversial.\n",
    "We do not need high precision here so we can take some points from the graph from the article and then interpolate."
   ]
  },
  {
   "cell_type": "code",
   "execution_count": 6,
   "metadata": {},
   "outputs": [],
   "source": [
    "chl_array = np.empty(365)\n",
    "chl_array[:] = np.nan"
   ]
  },
  {
   "cell_type": "code",
   "execution_count": 7,
   "metadata": {},
   "outputs": [],
   "source": [
    "chl_array[0] = 2; chl_array[15] = 2; chl_array[80] = 3; chl_array[110] = 15;\n",
    "chl_array[130] = 25; chl_array[170] = 2; chl_array[180] = 2; chl_array[220] = 2;\n",
    "chl_array[250] = 2; chl_array[300] = 2; chl_array[364] = 2"
   ]
  },
  {
   "cell_type": "code",
   "execution_count": 8,
   "metadata": {},
   "outputs": [],
   "source": [
    "dfchl = pd.DataFrame({'Chl_a': chl_array})\n",
    "dfchl = dfchl.interpolate(method='linear',limit_direction='both')\n",
    "dfchl = dfchl.rolling(window=16).mean()\n",
    "dfchl = dfchl.interpolate(method='linear',limit_direction='both')"
   ]
  },
  {
   "cell_type": "code",
   "execution_count": 9,
   "metadata": {},
   "outputs": [],
   "source": [
    "dfchl3years = dfchl.append([dfchl, dfchl])"
   ]
  },
  {
   "cell_type": "markdown",
   "metadata": {},
   "source": [
    "Read and process a text file downloaded from http://tsdata.hzg.de/ (Pile Hoernum1 station) with photosynthetically active radiation (PAR) data.\n",
    "We do it here only to check if our theoretical function to generate PAR is legit."
   ]
  },
  {
   "cell_type": "code",
   "execution_count": 10,
   "metadata": {},
   "outputs": [],
   "source": [
    "dfpar = pd.read_csv('data/Pile_Hoernum1_PAR_20080101_20180608.dat', header=None, delim_whitespace=True\n",
    "                   , skiprows=22)\n",
    "dfpar[0] = dfpar[0] + ' ' + dfpar[1]\n",
    "dfpar = dfpar.drop(1, axis=1)\n",
    "dfpar[0] =  pd.to_datetime(dfpar[0])\n",
    "dfpar = dfpar.rename(columns={0: 'date_time', 2: 'par', 3: 'flag'})\n",
    "dfpar = dfpar[(dfpar['flag'] < 3) & (dfpar['par'] > 0)]\n",
    "dfpar = dfpar.drop('flag', axis=1)\n",
    "dfpar['Day of year'] = dfpar.date_time.dt.dayofyear.values\n",
    "dfparmean = dfpar.groupby(['Day of year']).mean()\n",
    "dfparmean = dfparmean.reindex(index=range(1,366))"
   ]
  },
  {
   "cell_type": "code",
   "execution_count": 11,
   "metadata": {},
   "outputs": [],
   "source": [
    "dfparmean = dfparmean.interpolate(method='linear',limit_direction='both')\n",
    "dfparmean = dfparmean.rolling(window=16).mean()\n",
    "dfparmean = dfparmean.interpolate(method='linear',limit_direction='both')"
   ]
  },
  {
   "cell_type": "code",
   "execution_count": 12,
   "metadata": {},
   "outputs": [],
   "source": [
    "par_generated = np.zeros(365)\n",
    "par_generated[:] = [ut.surface_radiation(x, 54) for x in range(365)]"
   ]
  },
  {
   "cell_type": "code",
   "execution_count": 13,
   "metadata": {},
   "outputs": [],
   "source": [
    "par3years_generated = np.concatenate((par_generated, par_generated, par_generated), axis=None)"
   ]
  },
  {
   "cell_type": "code",
   "execution_count": 14,
   "metadata": {},
   "outputs": [
    {
     "data": {
      "image/png": "[encoded data removed]",
      "text/plain": [
       "<Figure size 720x144 with 1 Axes>"
      ]
     },
     "metadata": {
      "needs_background": "light"
     },
     "output_type": "display_data"
    }
   ],
   "source": [
    "# visualize measured PAR\n",
    "name = 'par'; plt.plot(dfparmean.index, dfparmean[name]);\n",
    "plt.gcf().set_size_inches(10,2); plt.title(name); plt.xlabel('Day'); plt.ylabel('$\\mu M\\,s^{-1}\\,m^{-2}$');"
   ]
  },
  {
   "cell_type": "code",
   "execution_count": 15,
   "metadata": {},
   "outputs": [
    {
     "data": {
      "image/png": "[encoded data removed]",
      "text/plain": [
       "<Figure size 720x144 with 1 Axes>"
      ]
     },
     "metadata": {
      "needs_background": "light"
     },
     "output_type": "display_data"
    }
   ],
   "source": [
    "# visualize calculated PAR\n",
    "name = 'par'; plt.plot(dfparmean.index, par_generated);\n",
    "plt.gcf().set_size_inches(10,2); plt.title(name); plt.xlabel('Day'); plt.ylabel('$\\mu M\\,s^{-1}\\,m^{-2}$');"
   ]
  },
  {
   "cell_type": "markdown",
   "metadata": {},
   "source": [
    "Generate yearly organic matter (OM) influx according to Beusekom (1999):"
   ]
  },
  {
   "cell_type": "code",
   "execution_count": 16,
   "metadata": {},
   "outputs": [],
   "source": [
    "from scipy import integrate"
   ]
  },
  {
   "cell_type": "markdown",
   "metadata": {},
   "source": [
    "The original flux of OM is 110 $gC\\,m^{-2} y^{-1}$ for the total water column, the Wadden sea has an average depth 2.5 meters, so concentration is 110/2.5 for $m^2$."
   ]
  },
  {
   "cell_type": "code",
   "execution_count": 17,
   "metadata": {},
   "outputs": [],
   "source": [
    "annual_flux_om = 110/2.5 * 1000 # mg C m-2 y-1"
   ]
  },
  {
   "cell_type": "markdown",
   "metadata": {},
   "source": [
    "Function for parameter maximum 'm' identification with given total yearly value according to simplification that OM influx has an approximately sinusoidal yearly profile:"
   ]
  },
  {
   "cell_type": "code",
   "execution_count": 18,
   "metadata": {},
   "outputs": [],
   "source": [
    "def sinusoidal(fr, ti, st, var):\n",
    "    \"\"\"fr - lower bound of the parameter\n",
    "       ti - upper bound of the parameter\n",
    "       st - step for the parameter selection\n",
    "       var - the value of the assessed sinusoidal integral\"\"\"\n",
    "    for m in np.arange(fr, ti, st):\n",
    "        flux = lambda day: m/2 + (m/3)*(1+np.sin(2*np.pi*(day-20)/365))\n",
    "        sumflux = integrate.quad(flux, 0, 365)\n",
    "        if var-1 < sumflux[0] < var+1:\n",
    "            print(m)"
   ]
  },
  {
   "cell_type": "code",
   "execution_count": 19,
   "metadata": {},
   "outputs": [
    {
     "name": "stdout",
     "output_type": "stream",
     "text": [
      "144.66000000002285\n"
     ]
    }
   ],
   "source": [
    "sinusoidal(100,1000,0.01,annual_flux_om) # finds a maximum value of yearly OM influx"
   ]
  },
  {
   "cell_type": "code",
   "execution_count": 20,
   "metadata": {},
   "outputs": [],
   "source": [
    "m = 144; day = np.arange(0,1095,1)\n",
    "# use sinusoidal function to produce yearly profile of OM influx\n",
    "y_om = m/2 + (m/3)*(1+np.sin(2*np.pi*(day-20)/365))"
   ]
  },
  {
   "cell_type": "markdown",
   "metadata": {},
   "source": [
    "NH4 is from Beusekom et al. (2009).\n",
    "Again we do not need precise data here."
   ]
  },
  {
   "cell_type": "code",
   "execution_count": 21,
   "metadata": {},
   "outputs": [],
   "source": [
    "nh4year = np.zeros(365)\n",
    "nh4year[0:59] = 7; nh4year[59:90] = 4; nh4year[90:240] = 0\n",
    "nh4year[240:270] = 2; nh4year[270:305] = 5; nh4year[305:365] = 8"
   ]
  },
  {
   "cell_type": "code",
   "execution_count": 22,
   "metadata": {},
   "outputs": [],
   "source": [
    "nh4year_beusekom = np.concatenate((nh4year, nh4year, nh4year), axis=None)"
   ]
  },
  {
   "cell_type": "markdown",
   "metadata": {},
   "source": [
    "Generate a wadden_sea_out.nc file which consist of 3 successive similar years:"
   ]
  },
  {
   "cell_type": "code",
   "execution_count": 23,
   "metadata": {},
   "outputs": [],
   "source": [
    "import itertools as it\n",
    "from netCDF4 import Dataset\n",
    "\n",
    "rootgrp = Dataset(\"data/wadden_sea_out.nc\", \"w\", format='NETCDF3_CLASSIC')\n",
    "\n",
    "levelface = rootgrp.createDimension(\"levelface\", 3)\n",
    "levelcntr = rootgrp.createDimension(\"levelcntr\", 2)\n",
    "time = rootgrp.createDimension(\"time\", 1095)\n",
    "\n",
    "times = rootgrp.createVariable(\"time\",\"f8\",(\"time\",))\n",
    "times.units = \"seconds since 2010-01-01 00:00:00.0\"\n",
    "times.calendar = \"gregorian\"\n",
    "\n",
    "par = rootgrp.createVariable(\"par\",\"f4\",(\"time\",))\n",
    "par.units = \"microM photons m−2 s−1\"\n",
    "\n",
    "hice = rootgrp.createVariable(\"hice\",\"f4\",(\"time\",))\n",
    "snowthick = rootgrp.createVariable(\"snowthick\",\"f4\",(\"time\",))\n",
    "icesurft = rootgrp.createVariable(\"icesurft\",\"f4\",(\"time\",))\n",
    "\n",
    "levelsface = rootgrp.createVariable(\"levelface\",\"f4\",(\"levelface\",))\n",
    "levelsface.units = \"m\"\n",
    "levelscntr = rootgrp.createVariable(\"levelcntr\",\"f4\",(\"levelcntr\",))\n",
    "levelscntr.units = \"m\"\n",
    "temperature = rootgrp.createVariable(\"temperature\",\"f8\",(\"time\",\"levelcntr\",))\n",
    "temperature.units = \"C degrees\"\n",
    "salinity = rootgrp.createVariable(\"salinity\",\"f8\",(\"time\",\"levelcntr\",))\n",
    "salinity.units = \"psu\"\n",
    "sigma = rootgrp.createVariable(\"sigma\",\"f8\",(\"time\",\"levelcntr\",))\n",
    "sigma.units = \"kg m-1\"\n",
    "turbulence = rootgrp.createVariable(\"turbulence\",\"f8\",(\"time\",\"levelface\",))\n",
    "turbulence.units = \"m2 s-1\"\n",
    "\n",
    "ammonium = rootgrp.createVariable(\"ammonium\",\"f8\",(\"time\",\"levelcntr\",))\n",
    "ammonium.units = \"mM N m-3\"\n",
    "nitrate = rootgrp.createVariable(\"nitrate\",\"f8\",(\"time\",\"levelcntr\",))\n",
    "nitrate.units = \"mM N m-3\"\n",
    "sulfate = rootgrp.createVariable(\"sulfate\",\"f8\",(\"time\",\"levelcntr\",))\n",
    "nitrate.units = \"mM S m-3\"\n",
    "silicate = rootgrp.createVariable(\"silicate\",\"f8\",(\"time\",\"levelcntr\",))\n",
    "silicate.units = \"mM Si m-3\"\n",
    "phosphate = rootgrp.createVariable(\"phosphate\",\"f8\",(\"time\",\"levelcntr\",))\n",
    "phosphate.units = \"mM P m-3\"\n",
    "oxygen = rootgrp.createVariable(\"oxygen\",\"f8\",(\"time\",\"levelcntr\",))\n",
    "oxygen.units = \"mM O2 m-3\"\n",
    "om = rootgrp.createVariable(\"om_flux\",\"f8\",(\"time\",\"levelcntr\",))\n",
    "om.units = \"mg C m-2 s-1\"\n",
    "chl_a = rootgrp.createVariable(\"chl_a\",\"f8\",(\"time\",\"levelcntr\",))\n",
    "chl_a.units = \"mg Chl a\"\n",
    "\n",
    "# lvlface = np.array([0.5, 0.25, 0])\n",
    "# lvlcntr = np.array([0.375, 0.125])\n",
    "# lvlface = np.array([1.5, 0.75, 0])\n",
    "# lvlcntr = np.array([1.125, 0.375])\n",
    "# lvlface = np.array([2.0, 1.0, 0])\n",
    "# lvlcntr = np.array([1.5, 0.5])\n",
    "lvlface = np.array([2.5, 1.25, 0])\n",
    "lvlcntr = np.array([1.875, 0.625])\n",
    "# lvlface = np.array([3.5, 1.75, 0])\n",
    "# lvlcntr = np.array([2.625, 0.875])\n",
    "\n",
    "levelsface[:] = lvlface\n",
    "levelscntr[:] = lvlcntr\n",
    "\n",
    "times[:] = df3years.index.values * 24 * 60 * 60\n",
    "par[:] = par3years_generated\n",
    "hice[:] = 0\n",
    "snowthick[:] = 0\n",
    "icesurft[:] = 0\n",
    "temperature[:,:] = np.vstack((df3years.Temperature.values, df3years.Temperature.values)).T\n",
    "salinity[:,:] = np.vstack((df3years.Salinity.values, df3years.Salinity.values)).T"
   ]
  },
  {
   "cell_type": "markdown",
   "metadata": {},
   "source": [
    "Calculate eddy diffusivity, see utilities.py:"
   ]
  },
  {
   "cell_type": "code",
   "execution_count": 24,
   "metadata": {},
   "outputs": [],
   "source": [
    "sigma[:,0] = [ut.svan(s,t,p) for s,t,p in \n",
    "              zip(df3years.Salinity.values, df3years.Temperature.values, it.count(lvlcntr[0]))]\n",
    "sigma[:,1] = [ut.svan(s,t,p) for s,t,p in \n",
    "              zip(df3years.Salinity.values, df3years.Temperature.values, it.count(lvlcntr[1]))]"
   ]
  },
  {
   "cell_type": "code",
   "execution_count": 25,
   "metadata": {},
   "outputs": [],
   "source": [
    "sigmaface = np.zeros((1095,3))\n",
    "sigmaface[:,0] = [ut.svan(s,t,p) for s,t,p in \n",
    "              zip(df3years.Salinity.values, df3years.Temperature.values, it.count(lvlface[0]))]\n",
    "sigmaface[:,1] = [ut.svan(s,t,p) for s,t,p in \n",
    "              zip(df3years.Salinity.values, df3years.Temperature.values, it.count(lvlface[1]))]\n",
    "sigmaface[:,2] = [ut.svan(s,t,p) for s,t,p in \n",
    "              zip(df3years.Salinity.values, df3years.Temperature.values, it.count(lvlface[2]))]\n",
    "turbulence[:,0] = ut.gargett(sigmaface[:,0], 1)\n",
    "turbulence[:,1] = ut.gargett(sigmaface[:,1], 1)\n",
    "turbulence[:,2] = ut.gargett(sigmaface[:,2], 1)"
   ]
  },
  {
   "cell_type": "code",
   "execution_count": 26,
   "metadata": {},
   "outputs": [],
   "source": [
    "ammonium[:,:] = np.vstack((nh4year_beusekom, nh4year_beusekom)).T\n",
    "sulfate[:,:] = 25000\n",
    "nitrate[:,:] = np.vstack((df3years.Nitrate.values, df3years.Nitrate.values)).T\n",
    "silicate[:,:] = np.vstack((df3years.Silicate.values, df3years.Silicate.values)).T\n",
    "phosphate[:,:] = np.vstack((df3years.Phosphate.values, df3years.Phosphate.values)).T\n",
    "oxygen[:,:] = np.vstack((df3years.Oxygen.values, df3years.Oxygen.values)).T"
   ]
  },
  {
   "cell_type": "code",
   "execution_count": 27,
   "metadata": {},
   "outputs": [],
   "source": [
    "chl_a[:,:] = np.vstack((dfchl3years['Chl_a'].values, dfchl3years['Chl_a'].values)).T"
   ]
  },
  {
   "cell_type": "code",
   "execution_count": 28,
   "metadata": {},
   "outputs": [],
   "source": [
    "om[:,:] = np.vstack((y_om/86400, y_om/86400)).T"
   ]
  },
  {
   "cell_type": "code",
   "execution_count": 29,
   "metadata": {},
   "outputs": [],
   "source": [
    "rootgrp.close()"
   ]
  },
  {
   "cell_type": "code",
   "execution_count": null,
   "metadata": {},
   "outputs": [],
   "source": []
  }
 ],
 "metadata": {
  "jupytext": {
   "text_representation": {
    "extension": ".Rmd",
    "format_name": "rmarkdown",
    "format_version": "1.0",
    "jupytext_version": "0.8.6"
   }
  },
  "kernelspec": {
   "display_name": "Python 3",
   "language": "python",
   "name": "python3"
  },
  "language_info": {
   "codemirror_mode": {
    "name": "ipython",
    "version": 3
   },
   "file_extension": ".py",
   "mimetype": "text/x-python",
   "name": "python",
   "nbconvert_exporter": "python",
   "pygments_lexer": "ipython3",
   "version": "3.8.5"
  }
 },
 "nbformat": 4,
 "nbformat_minor": 4
}
