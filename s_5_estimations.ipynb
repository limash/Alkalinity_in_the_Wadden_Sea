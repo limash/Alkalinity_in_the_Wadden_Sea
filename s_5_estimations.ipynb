{
 "cells": [
  {
   "cell_type": "code",
   "execution_count": 1,
   "metadata": {},
   "outputs": [],
   "source": [
    "import numpy as np\n",
    "import pandas as pd\n",
    "import xarray as xr"
   ]
  },
  {
   "cell_type": "markdown",
   "metadata": {},
   "source": [
    "####  Porosity distribution calculations"
   ]
  },
  {
   "cell_type": "code",
   "execution_count": 2,
   "metadata": {},
   "outputs": [],
   "source": [
    "def porosity(z, z_swi, phi_swi, phi_inf):\n",
    "    \"\"\"Calculates porosity on depth z according to depth at SWI (z_swi),\n",
    "                  porosity at SWI (phi_swi),\n",
    "              and porosity at 'infinite depth' layer )phi_inf\"\"\"\n",
    "    k_phi = 0.04\n",
    "    k = -(z-z_swi)/k_phi\n",
    "    return (phi_inf+(phi_swi-phi_inf)*np.exp(k))"
   ]
  },
  {
   "cell_type": "code",
   "execution_count": 3,
   "metadata": {},
   "outputs": [
    {
     "data": {
      "text/plain": [
       "0.691248451292299"
      ]
     },
     "execution_count": 3,
     "metadata": {},
     "output_type": "execute_result"
    }
   ],
   "source": [
    "porosity(2.505, 2.5, 0.75, 0.25)"
   ]
  },
  {
   "cell_type": "code",
   "execution_count": 4,
   "metadata": {},
   "outputs": [],
   "source": [
    "z = np.linspace(2.505, 2.595, 10)\n",
    "phi_inf_array = np.arange(0.05, 0.36, 0.01)\n",
    "phi_swi_array = np.arange(0.45, 0.86, 0.01)"
   ]
  },
  {
   "cell_type": "markdown",
   "metadata": {},
   "source": [
    "which combinations of phi_swi and phi_inf match appoximately 0.43:"
   ]
  },
  {
   "cell_type": "code",
   "execution_count": 5,
   "metadata": {},
   "outputs": [
    {
     "name": "stdout",
     "output_type": "stream",
     "text": [
      "0.6100000000000001 0.33\n",
      "0.6300000000000001 0.32000000000000006\n",
      "0.6800000000000002 0.29000000000000004\n",
      "0.7000000000000002 0.28\n",
      "0.7300000000000002 0.26000000000000006\n",
      "0.7500000000000002 0.25000000000000006\n",
      "0.8000000000000003 0.22000000000000003\n",
      "0.8200000000000003 0.21000000000000002\n"
     ]
    }
   ],
   "source": [
    "for phi_swi in phi_swi_array:\n",
    "    for phi_inf in phi_inf_array:\n",
    "        if (0.432 < sum(porosity(z, 2.5, phi_swi, phi_inf))/10 < 0.434):\n",
    "            print(phi_swi, phi_inf)"
   ]
  },
  {
   "cell_type": "markdown",
   "metadata": {},
   "source": [
    "#### Alkalinity SWI fluxes compounds"
   ]
  },
  {
   "cell_type": "code",
   "execution_count": 6,
   "metadata": {},
   "outputs": [],
   "source": [
    "ds = xr.open_dataset('data/results/5_po75-25_di10e-9/water.nc')\n",
    "alkflux_df = ds['B_C_Alk   _flux'].to_dataframe()\n",
    "nh4flux_df = ds['B_NUT_NH4 _flux'].to_dataframe()\n",
    "no2flux_df = ds['B_NUT_NO2 _flux'].to_dataframe()\n",
    "no3flux_df = ds['B_NUT_NO3 _flux'].to_dataframe()\n",
    "po4flux_df = ds['B_NUT_PO4 _flux'].to_dataframe()\n",
    "so4flux_df = ds['B_S_SO4   _flux'].to_dataframe()\n",
    "alkflux_bottom = alkflux_df.groupby('z_faces').get_group(2.5)\n",
    "nh4flux_bottom = nh4flux_df.groupby('z_faces').get_group(2.5)\n",
    "no2flux_bottom = no2flux_df.groupby('z_faces').get_group(2.5)\n",
    "no3flux_bottom = no3flux_df.groupby('z_faces').get_group(2.5)\n",
    "po4flux_bottom = po4flux_df.groupby('z_faces').get_group(2.5)\n",
    "so4flux_bottom = so4flux_df.groupby('z_faces').get_group(2.5)"
   ]
  },
  {
   "cell_type": "code",
   "execution_count": 7,
   "metadata": {},
   "outputs": [],
   "source": [
    "year = (('2011-01-01','2011-01-31'), ('2011-02-01','2011-02-28'), ('2011-03-01','2011-03-31'), ('2011-04-01','2011-04-30'), \n",
    "        ('2011-05-01','2011-05-31'), ('2011-06-01','2011-06-30'), ('2011-07-01','2011-07-31'), ('2011-08-01','2011-08-31'),\n",
    "        ('2011-09-01','2011-09-30'), ('2011-10-01','2011-10-31'), ('2011-11-01','2011-11-30'), ('2011-12-01','2011-12-31'))"
   ]
  },
  {
   "cell_type": "code",
   "execution_count": 8,
   "metadata": {},
   "outputs": [],
   "source": [
    "year_days = [31, 28, 31, 30, 31, 30, 31, 31, 30, 31, 30, 31]"
   ]
  },
  {
   "cell_type": "code",
   "execution_count": 9,
   "metadata": {},
   "outputs": [],
   "source": [
    "alk_year = []\n",
    "nh4_year = []\n",
    "no2_year = []\n",
    "no3_year = []\n",
    "po4_year = []\n",
    "so4_year = []\n",
    "for month in year:\n",
    "    alk_month = alkflux_bottom.loc[month[0]:month[1]]\n",
    "    nh4_month = nh4flux_bottom.loc[month[0]:month[1]]\n",
    "    no2_month = no2flux_bottom.loc[month[0]:month[1]]\n",
    "    no3_month = no3flux_bottom.loc[month[0]:month[1]]\n",
    "    po4_month = po4flux_bottom.loc[month[0]:month[1]]\n",
    "    so4_month = so4flux_bottom.loc[month[0]:month[1]]\n",
    "    alk_year.append(alk_month['B_C_Alk   _flux'].mean())\n",
    "    nh4_year.append(nh4_month['B_NUT_NH4 _flux'].mean())\n",
    "    no2_year.append(no2_month['B_NUT_NO2 _flux'].mean())\n",
    "    no3_year.append(no3_month['B_NUT_NO3 _flux'].mean())\n",
    "    po4_year.append(po4_month['B_NUT_PO4 _flux'].mean())\n",
    "    so4_year.append(so4_month['B_S_SO4   _flux'].mean())"
   ]
  },
  {
   "cell_type": "code",
   "execution_count": 10,
   "metadata": {},
   "outputs": [],
   "source": [
    "alk = np.array(alk_year)\n",
    "nh4 = np.array(nh4_year)\n",
    "no2 = np.array(no2_year)\n",
    "no3 = np.array(no3_year)\n",
    "po4 = np.array(po4_year)\n",
    "so4 = np.array(so4_year)"
   ]
  },
  {
   "cell_type": "code",
   "execution_count": 11,
   "metadata": {},
   "outputs": [],
   "source": [
    "all_components = nh4-no2-no3-po4-2*so4"
   ]
  },
  {
   "cell_type": "code",
   "execution_count": 12,
   "metadata": {},
   "outputs": [
    {
     "data": {
      "text/plain": [
       "array([-0.01286554, -0.01438941, -0.01566453, -0.01458898, -0.01114553,\n",
       "       -0.00949001, -0.00899623, -0.00885663, -0.00889055, -0.00909168,\n",
       "       -0.00930219, -0.01058985], dtype=float32)"
      ]
     },
     "execution_count": 12,
     "metadata": {},
     "output_type": "execute_result"
    }
   ],
   "source": [
    "po4_quota = -po4/all_components\n",
    "po4_quota"
   ]
  },
  {
   "cell_type": "code",
   "execution_count": 13,
   "metadata": {},
   "outputs": [
    {
     "data": {
      "text/plain": [
       "array([0.278116  , 0.3257347 , 0.3456419 , 0.2856679 , 0.18116581,\n",
       "       0.14620319, 0.1382881 , 0.13409601, 0.13027906, 0.12835523,\n",
       "       0.13665505, 0.19144522], dtype=float32)"
      ]
     },
     "execution_count": 13,
     "metadata": {},
     "output_type": "execute_result"
    }
   ],
   "source": [
    "nh4_quota = nh4/all_components\n",
    "nh4_quota"
   ]
  },
  {
   "cell_type": "code",
   "execution_count": 14,
   "metadata": {},
   "outputs": [
    {
     "data": {
      "text/plain": [
       "array([ 0.00168417, -0.00392294, -0.01497258, -0.01415979, -0.00299552,\n",
       "       -0.00047834, -0.00031866,  0.00020852,  0.0015052 ,  0.00293007,\n",
       "        0.00639088,  0.00710906], dtype=float32)"
      ]
     },
     "execution_count": 14,
     "metadata": {},
     "output_type": "execute_result"
    }
   ],
   "source": [
    "no2_quota = -no2/all_components\n",
    "no2_quota"
   ]
  },
  {
   "cell_type": "code",
   "execution_count": 15,
   "metadata": {},
   "outputs": [
    {
     "data": {
      "text/plain": [
       "array([0.17159602, 0.2162815 , 0.2166246 , 0.1292983 , 0.0307871 ,\n",
       "       0.00402352, 0.00092519, 0.00040211, 0.00082934, 0.00190905,\n",
       "       0.01730502, 0.07807709], dtype=float32)"
      ]
     },
     "execution_count": 15,
     "metadata": {},
     "output_type": "execute_result"
    }
   ],
   "source": [
    "no3_quota = -no3/all_components\n",
    "no3_quota"
   ]
  },
  {
   "cell_type": "code",
   "execution_count": 16,
   "metadata": {},
   "outputs": [
    {
     "data": {
      "text/plain": [
       "array([0.5614694 , 0.47629616, 0.4683706 , 0.6137826 , 0.80218816,\n",
       "       0.85974157, 0.87010163, 0.87415004, 0.8762769 , 0.87589735,\n",
       "       0.8489513 , 0.7339584 ], dtype=float32)"
      ]
     },
     "execution_count": 16,
     "metadata": {},
     "output_type": "execute_result"
    }
   ],
   "source": [
    "so4_quota = -so4*2/all_components\n",
    "so4_quota"
   ]
  },
  {
   "cell_type": "code",
   "execution_count": 17,
   "metadata": {},
   "outputs": [
    {
     "data": {
      "text/plain": [
       "array([1.        , 1.        , 1.        , 1.        , 1.        ,\n",
       "       0.99999994, 1.        , 1.        , 0.99999994, 1.        ,\n",
       "       1.        , 0.99999994], dtype=float32)"
      ]
     },
     "execution_count": 17,
     "metadata": {},
     "output_type": "execute_result"
    }
   ],
   "source": [
    "nh4_quota+no2_quota+no3_quota+po4_quota+so4_quota"
   ]
  },
  {
   "cell_type": "markdown",
   "metadata": {},
   "source": [
    "#### Alkalinity to reduced sulfur compounds fluxes fractions"
   ]
  },
  {
   "cell_type": "code",
   "execution_count": 18,
   "metadata": {},
   "outputs": [],
   "source": [
    "ds1 = xr.open_dataset('data/results/2_po75-25_di1e-9/sediments.nc')\n",
    "ds2 = xr.open_dataset('data/results/5_po75-25_di10e-9/sediments.nc')\n",
    "ds3 = xr.open_dataset('data/results/10_po75-25_di35e-9/sediments.nc')"
   ]
  },
  {
   "cell_type": "code",
   "execution_count": 19,
   "metadata": {},
   "outputs": [],
   "source": [
    "ds = ds2\n",
    "\n",
    "alkflux_df = ds['B_C_Alk   _flux'].to_dataframe()\n",
    "nh4flux_df = ds['B_NUT_NH4 _flux'].to_dataframe()\n",
    "no2flux_df = ds['B_NUT_NO2 _flux'].to_dataframe()\n",
    "no3flux_df = ds['B_NUT_NO3 _flux'].to_dataframe()\n",
    "po4flux_df = ds['B_NUT_PO4 _flux'].to_dataframe()\n",
    "so4flux_df = ds['B_S_SO4   _flux'].to_dataframe()\n",
    "h2s__flux_df = ds['B_S_H2S   _flux'].to_dataframe()\n",
    "s0___flux_df = ds['B_S_S0    _flux'].to_dataframe()\n",
    "s2o3_flux_df = ds['B_S_S2O3  _flux'].to_dataframe()\n",
    "\n",
    "alkflux_bottom = alkflux_df.groupby('z_faces').get_group(2.5)\n",
    "nh4flux_bottom = nh4flux_df.groupby('z_faces').get_group(2.5)\n",
    "no2flux_bottom = no2flux_df.groupby('z_faces').get_group(2.5)\n",
    "no3flux_bottom = no3flux_df.groupby('z_faces').get_group(2.5)\n",
    "po4flux_bottom = po4flux_df.groupby('z_faces').get_group(2.5)\n",
    "so4flux_bottom = so4flux_df.groupby('z_faces').get_group(2.5)\n",
    "h2sflux_bottom  = h2s__flux_df.groupby('z_faces').get_group(2.5)\n",
    "s0flux_bottom   = s0___flux_df.groupby('z_faces').get_group(2.5)\n",
    "s2o3flux_bottom = s2o3_flux_df.groupby('z_faces').get_group(2.5)"
   ]
  },
  {
   "cell_type": "code",
   "execution_count": 20,
   "metadata": {},
   "outputs": [
    {
     "data": {
      "text/plain": [
       "2.5199999809265137"
      ]
     },
     "execution_count": 20,
     "metadata": {},
     "output_type": "execute_result"
    }
   ],
   "source": [
    "alkflux_df = alkflux_df.reset_index()\n",
    "alkflux_df.z_faces[38]"
   ]
  },
  {
   "cell_type": "code",
   "execution_count": 21,
   "metadata": {},
   "outputs": [],
   "source": [
    "year = (('2011-01-01','2011-01-31'), ('2011-02-01','2011-02-28'), ('2011-03-01','2011-03-31'), ('2011-04-01','2011-04-30'), \n",
    "        ('2011-05-01','2011-05-31'), ('2011-06-01','2011-06-30'), ('2011-07-01','2011-07-31'), ('2011-08-01','2011-08-31'),\n",
    "        ('2011-09-01','2011-09-30'), ('2011-10-01','2011-10-31'), ('2011-11-01','2011-11-30'), ('2011-12-01','2011-12-31'))"
   ]
  },
  {
   "cell_type": "code",
   "execution_count": 22,
   "metadata": {},
   "outputs": [],
   "source": [
    "alk_year = []\n",
    "nh4_year = []\n",
    "no2_year = []\n",
    "no3_year = []\n",
    "po4_year = []\n",
    "so4_year = []\n",
    "h2s_year = []\n",
    "s0_year = []\n",
    "s2o3_year = []\n",
    "for month in year:\n",
    "    alk_month = alkflux_bottom.loc[month[0]:month[1]]\n",
    "    nh4_month = nh4flux_bottom.loc[month[0]:month[1]]\n",
    "    no2_month = no2flux_bottom.loc[month[0]:month[1]]\n",
    "    no3_month = no3flux_bottom.loc[month[0]:month[1]]\n",
    "    po4_month = po4flux_bottom.loc[month[0]:month[1]]\n",
    "    so4_month = so4flux_bottom.loc[month[0]:month[1]]\n",
    "    h2s_month = h2sflux_bottom.loc[month[0]:month[1]]\n",
    "    s0_month = s0flux_bottom.loc[month[0]:month[1]]\n",
    "    s2o3_month = s2o3flux_bottom.loc[month[0]:month[1]]\n",
    "    alk_year.append(alk_month['B_C_Alk   _flux'].mean())\n",
    "    nh4_year.append(nh4_month['B_NUT_NH4 _flux'].mean())\n",
    "    no2_year.append(no2_month['B_NUT_NO2 _flux'].mean())\n",
    "    no3_year.append(no3_month['B_NUT_NO3 _flux'].mean())\n",
    "    po4_year.append(po4_month['B_NUT_PO4 _flux'].mean())\n",
    "    so4_year.append(so4_month['B_S_SO4   _flux'].mean())\n",
    "    h2s_year.append(h2s_month['B_S_H2S   _flux'].mean())\n",
    "    s0_year.append(s0_month['B_S_S0    _flux'].mean())\n",
    "    s2o3_year.append(s2o3_month['B_S_S2O3  _flux'].mean())"
   ]
  },
  {
   "cell_type": "code",
   "execution_count": 23,
   "metadata": {},
   "outputs": [],
   "source": [
    "alk = np.array(alk_year)\n",
    "nh4 = np.array(nh4_year)\n",
    "no2 = np.array(no2_year)\n",
    "no3 = np.array(no3_year)\n",
    "po4 = np.array(po4_year)\n",
    "so4 = np.array(so4_year)\n",
    "h2s = np.array(h2s_year)\n",
    "s0 = np.array(s0_year)\n",
    "s2o3 = np.array(s2o3_year)"
   ]
  },
  {
   "cell_type": "code",
   "execution_count": 24,
   "metadata": {},
   "outputs": [],
   "source": [
    "s_total = h2s + s0 + 2*s2o3"
   ]
  },
  {
   "cell_type": "code",
   "execution_count": 25,
   "metadata": {},
   "outputs": [],
   "source": [
    "so4direct_quota = -2*so4"
   ]
  },
  {
   "cell_type": "code",
   "execution_count": 26,
   "metadata": {},
   "outputs": [
    {
     "data": {
      "text/plain": [
       "array([ 1.595416 ,  1.1878378,  1.1715816,  2.2493372,  6.868154 ,\n",
       "       14.1970625, 16.871223 , 14.321139 , 10.899201 ,  8.227101 ,\n",
       "        6.5335956,  3.7610729], dtype=float32)"
      ]
     },
     "execution_count": 26,
     "metadata": {},
     "output_type": "execute_result"
    }
   ],
   "source": [
    "so4direct_quota"
   ]
  },
  {
   "cell_type": "code",
   "execution_count": 27,
   "metadata": {},
   "outputs": [],
   "source": [
    "sulfurquota = s_total*2"
   ]
  },
  {
   "cell_type": "code",
   "execution_count": 28,
   "metadata": {},
   "outputs": [
    {
     "data": {
      "text/plain": [
       "array([ 3.051776 ,  2.0339575,  1.6073511,  2.009626 ,  4.908166 ,\n",
       "       10.186014 , 13.106385 , 11.823017 ,  9.78255  ,  8.287424 ,\n",
       "        7.172136 ,  5.3432584], dtype=float32)"
      ]
     },
     "execution_count": 28,
     "metadata": {},
     "output_type": "execute_result"
    }
   ],
   "source": [
    "sulfurquota"
   ]
  },
  {
   "cell_type": "code",
   "execution_count": 29,
   "metadata": {},
   "outputs": [
    {
     "data": {
      "text/plain": [
       "8.571062088012695"
      ]
     },
     "execution_count": 29,
     "metadata": {},
     "output_type": "execute_result"
    }
   ],
   "source": [
    "sum(so4direct_quota)-sum(sulfurquota)"
   ]
  },
  {
   "cell_type": "markdown",
   "metadata": {},
   "source": [
    "#### Calculation of the average alkalinity values"
   ]
  },
  {
   "cell_type": "code",
   "execution_count": 30,
   "metadata": {},
   "outputs": [],
   "source": [
    "base_path = 'data/results'"
   ]
  },
  {
   "cell_type": "code",
   "execution_count": 31,
   "metadata": {},
   "outputs": [],
   "source": [
    "ds1 = xr.open_dataset('{}/1_po75-25_di0e-9/water.nc'.format(base_path))\n",
    "ds2 = xr.open_dataset('{}/2_po75-25_di1e-9/water.nc'.format(base_path))\n",
    "ds3 = xr.open_dataset('{}/3_po75-25_di2e-9/water.nc'.format(base_path))\n",
    "ds4 = xr.open_dataset('{}/4_po75-25_di5e-9/water.nc'.format(base_path))\n",
    "ds5 = xr.open_dataset('{}/5_po75-25_di10e-9/water.nc'.format(base_path))\n",
    "ds6 = xr.open_dataset('{}/6_po75-25_di15e-9/water.nc'.format(base_path))\n",
    "ds7 = xr.open_dataset('{}/7_po75-25_di20e-9/water.nc'.format(base_path))\n",
    "ds8 = xr.open_dataset('{}/8_po75-25_di25e-9/water.nc'.format(base_path))\n",
    "ds9 = xr.open_dataset('{}/9_po75-25_di30e-9/water.nc'.format(base_path))\n",
    "ds10 = xr.open_dataset('{}/10_po75-25_di35e-9/water.nc'.format(base_path))\n",
    "ds_no_denitr = xr.open_dataset('data/no_denitrification/water.nc'.format(base_path))"
   ]
  },
  {
   "cell_type": "code",
   "execution_count": 32,
   "metadata": {},
   "outputs": [],
   "source": [
    "ds = ds_no_denitr"
   ]
  },
  {
   "cell_type": "code",
   "execution_count": 33,
   "metadata": {},
   "outputs": [],
   "source": [
    "alk_df     = ds['B_C_Alk'].to_dataframe()\n",
    "alk_surface    = alk_df.groupby('z').get_group(0.625)\n",
    "alk_surface_year = alk_surface.loc['2011-01-01':'2011-12-31']"
   ]
  },
  {
   "cell_type": "code",
   "execution_count": 34,
   "metadata": {},
   "outputs": [],
   "source": [
    "alk_surface_year = alk_surface_year.reset_index()"
   ]
  },
  {
   "cell_type": "code",
   "execution_count": 35,
   "metadata": {},
   "outputs": [
    {
     "data": {
      "text/plain": [
       "2289.5542"
      ]
     },
     "execution_count": 35,
     "metadata": {},
     "output_type": "execute_result"
    }
   ],
   "source": [
    "alk_surface_year['B_C_Alk'].mean()"
   ]
  },
  {
   "cell_type": "code",
   "execution_count": null,
   "metadata": {},
   "outputs": [],
   "source": []
  }
 ],
 "metadata": {
  "jupytext": {
   "text_representation": {
    "extension": ".Rmd",
    "format_name": "rmarkdown",
    "format_version": "1.0",
    "jupytext_version": "0.8.6"
   }
  },
  "kernelspec": {
   "display_name": "Python 3",
   "language": "python",
   "name": "python3"
  },
  "language_info": {
   "codemirror_mode": {
    "name": "ipython",
    "version": 3
   },
   "file_extension": ".py",
   "mimetype": "text/x-python",
   "name": "python",
   "nbconvert_exporter": "python",
   "pygments_lexer": "ipython3",
   "version": "3.8.3"
  }
 },
 "nbformat": 4,
 "nbformat_minor": 4
}
