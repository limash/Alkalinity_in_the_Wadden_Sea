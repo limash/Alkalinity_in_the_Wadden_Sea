{
 "cells": [
  {
   "cell_type": "markdown",
   "metadata": {},
   "source": [
    "## Methods 1 - A model setup"
   ]
  },
  {
   "cell_type": "markdown",
   "metadata": {},
   "source": [
    "The main idea of the study is to estimate an upped bound of alkalinity generation in the Wadden Sea.\n",
    "The calculation of alkalinity changes is based on the concept of \"explicitly conservative form of total alkalinity\" ($\\text{TA}_{\\text{ec}}$) ([Wolf-Gladrow et al., 2007]):\n",
    "\n",
    "$\\text{TA}_{\\text{ec}} = \\lbrack\\text{Na}^{+}\\rbrack + 2\\lbrack\\text{Mg}^{2 +}\\rbrack + 2\\lbrack\\text{Ca}^{2 +}\\rbrack + \\lbrack \\text{K}^{+}\\rbrack + 2\\lbrack\\text{Sr}^{2 +}\\rbrack + \\text{TNH}_{3} - \\lbrack\\text{Cl}^{-}\\rbrack - \\lbrack\\text{Br}^{-}\\rbrack - \\lbrack\\text{NO}_{3}^{-}\\rbrack - \\text{TPO}_{4} - 2\\text{TSO}_{4} - \\text{THF} - \\text{THNO}_{2}$\n",
    "\n",
    ", where\n",
    "$\\text{TNH}_{3} = \\lbrack\\text{NH}_{3}\\rbrack + \\lbrack\\text{NH}_{4}^{+}\\rbrack$,\n",
    "$\\text{TPO}_{4} = \\lbrack\\text{H}_{3}\\text{PO}_{4}\\rbrack + \\lbrack \\text{H}_{2}\\text{PO}_{4}^{-}\\rbrack + \\lbrack\\text{HPO}_{4}^{2 -}\\rbrack + \\lbrack\\text{PO}_{4}^{3 -}\\rbrack$,\n",
    "$\\text{TSO}_{4} = \\lbrack\\text{SO}_{4}^{2 -}\\rbrack + \\lbrack\\text{HSO}_{4}^{-}\\rbrack$,\n",
    "$\\text{THF} = \\lbrack \\text{F}^{-}\\rbrack + \\lbrack\\text{HF}\\rbrack$, and\n",
    "$\\text{THNO}_{2} = \\lbrack\\text{NO}_{2}^{-}\\rbrack + \\lbrack\\text{HNO}_{2}\\rbrack$.\n",
    "\n",
    "[Wolf-Gladrow et al., 2007]: https://doi.org/10.1016/j.marchem.2007.01.006"
   ]
  },
  {
   "cell_type": "markdown",
   "metadata": {},
   "source": [
    "Increase or decrease of concentrations of any of the $\\text{TA}_{\\text{ec}}$ compounds will change alkalinity.\n",
    "For example, an increase of concentration of $\\lbrack\\text{Ca}^{2 +}\\rbrack$ by 1 mole will increase TA by 2 moles.\n",
    "Or an increase of concentration of $\\lbrack\\text{NO}_{3}^{-}\\rbrack$ by 1 mole will decrease TA by 1 mole.\n",
    "These changes can be caused by biogeochemical reactions or other sources like freshwater fluxes, riverine inputs, fluxes to and from sediments (see for example [Zeebe and Wolf-Gladrow (2001)], [Follows et al. (2006)], [Wolf-Gladrow et al. (2007)]).\n",
    "\n",
    "[Zeebe and Wolf-Gladrow (2001)]: https://www.elsevier.com/books/co2-in-seawater-equilibrium-kinetics-isotopes/zeebe/978-0-444-50946-8\n",
    "[Follows et al. (2006)]: https://doi.org/10.1016/j.ocemod.2005.05.004\n",
    "[Wolf-Gladrow et al. (2007)]: https://doi.org/10.1016/j.marchem.2007.01.006"
   ]
  },
  {
   "cell_type": "markdown",
   "metadata": {},
   "source": [
    "In order to estimate alkalinity generation in the Wadden Sea, we should consider all processes going on in the Wadden Sea that can change the concentrations of species in $\\text{TA}_{\\text{ec}}$.\n",
    "These processes are biogeochemical transformations listed in [Wolf-Gladrow et al. (2007)] and transport processes within and between water column and sediments of the Wadden Sea, advective exchange of the Wadden Sea with the surrounding areas.\n",
    "The reason that we have to include sediments along with the water column is the following.\n",
    "Some biogeochemical transformations in the coastal area, which can change TA, are active in the water column, others are more active and sediments.\n",
    "For example, typically denitrification takes place in the sediments, in the absence of oxygen ([Libes, 2011]).\n",
    "Primary production is often higher in the water column, where sunlight is more available ([Libes, 2011]).\n",
    "Therefore, we should consider both the water column and sediments.\n",
    "In this study, to calculate alkalinity, we consider both the water column and sediments of the Wadden Sea.\n",
    "We use a vertically resolved 1-D box as a proxy of the Wadden Sea, we split this box into different layers (to resolve a vertical resolution), calculate the necessary biogeochemical reactions increments for each layer, and evaluate the mixing between these layers.\n",
    "Also, we take into consideration the exchange of the water column of the 1-D box with an external pool (the Wadden Sea surrounding areas).\n",
    "\n",
    "[Wolf-Gladrow et al. (2007)]: https://doi.org/10.1016/j.marchem.2007.01.006\n",
    "[Libes, 2011]: https://www.elsevier.com/books/introduction-to-marine-biogeochemistry/libes/978-0-12-088530-5"
   ]
  },
  {
   "cell_type": "markdown",
   "metadata": {},
   "source": [
    "A model setup for calculations consist of:\n",
    "\n",
    "1. The 1-D Sympagic-Pelagic-Benthic transport Model, SPBM ([Yakubov et al., 2019], https://github.com/BottomRedoxModel/SPBM). It is a governing program resolving a transport equation (diffusive and vertical advective (sinking, burying) terms) between and within the water column and sediments. SPBM also parametrizes horizontal exchange with the external pool (the Wadden Sea surrounding areas).\n",
    "\n",
    "2. A biogeochemical model (https://github.com/BottomRedoxModel/brom_niva_module/tree/dev-sham). It sends sources minus sinks terms to the transport model. The biogeochemical model is explained thoroughly in the Methods 2 section.\n",
    "\n",
    "The software is written in Fortran 2003.\n",
    "The SPBM and biogeochemical model are linked through the Framework for Aquatic Biogeochemical Models, FABM ([Bruggeman and Bolding, 2014]).\n",
    "\n",
    "[Yakubov et al., 2019]: https://doi.org/10.3390/w11081582\n",
    "[Bruggeman and Bolding, 2014]: https://doi.org/10.1016/j.envsoft.2014.04.002"
   ]
  },
  {
   "cell_type": "markdown",
   "metadata": {},
   "source": [
    "### The grid"
   ]
  },
  {
   "cell_type": "markdown",
   "metadata": {},
   "source": [
    "For calculations, to study alkalinity generation in the Wadden Sea we use the vertically resolved box (the modeling domain) containing the water column (the water domain) and sediments (the sediment domain).\n",
    "This vertically resolved box is a proxy of the Wadden Sea.\n",
    "Assuming a mean depth of the Wadden Sea of 2.5 m ([van Beusekom et al., 1999]), we split the water domain into two layers of 1.25 m and 1.15 m depth.\n",
    "Near the bottom, we have a benthic boundary layer (BBL) consisting of 2 layers of 0.05 m depth each.\n",
    "The BBL is a layer with eddy diffusion coefficients decreasing linearly to zero at the SWI.\n",
    "The sediment domain has 40 layers of 0.01 m depth each.\n",
    "\n",
    "[van Beusekom et al., 1999]: https://link.springer.com/article/10.1007/BF02764176"
   ]
  },
  {
   "cell_type": "markdown",
   "metadata": {},
   "source": [
    "![Image](misc/Grid.png \"grid\")"
   ]
  },
  {
   "cell_type": "markdown",
   "metadata": {},
   "source": [
    "**Figure M1-1**. The model grid scheme."
   ]
  },
  {
   "cell_type": "markdown",
   "metadata": {},
   "source": [
    "Using the proposed grid the transport program (SPBM) updates each time step (300 sec.) the concentrations of the state variables (they are provided in the Methods 2 section) in each layer by contributions of diffusion, reaction (concentration increments from the biogeochemical model), advection, and horizontal exchange with the external pool."
   ]
  },
  {
   "cell_type": "markdown",
   "metadata": {},
   "source": [
    "### Forcing, initial and boundary conditions"
   ]
  },
  {
   "cell_type": "markdown",
   "metadata": {},
   "source": [
    "The functioning of the transport and biogeochemical models needs some forcing (for example, to calculate sources minus sinks terms the biogeochemical model requires data of seawater temperature, salinity, and photosynthetically active radiation (PAR)).\n",
    "Also, we have to establish state variables initial conditions and conditions on the boundaries of the modeling box.\n",
    "The data for forcing (seawater temperature, salinity, density) and initial conditions are averaged to one year from the World Ocean Database (WOD) for the years 2000 - 2010 from a rectangular region (the Southern North Sea, 54.35-55.37$^{\\circ}$N 6.65-8.53$^{\\circ}$E) that is adjacent to the North Frisian Wadden Sea.\n",
    "The data from WOD are stored in `wadden_sea.nc` file.\n",
    "The data of Chlorophyll a are taken from [Loebl et al. (2007)].\n",
    "The data of $\\text{NH}_{4}^{+}$ are taken from [van Beusekom et al. (2009)].\n",
    "Boundary conditions are set up for $\\text{O}_{2}$ at the surface boundary as an exchange with the atmosphere as in ([Yakushev et al., 2017]).\n",
    "For all other species, boundary conditions at the bottom and the surface interfaces of the model box are set to zero fluxes.\n",
    "\n",
    "[Loebl et al. (2007)]: https://doi.org/10.1016/j.seares.2007.06.003\n",
    "[van Beusekom et al. (2009)]: https://doi.org/10.1016/j.seares.2008.06.005\n",
    "[Yakushev et al., 2017]: https://doi.org/10.5194/gmd-10-453-2017"
   ]
  },
  {
   "cell_type": "markdown",
   "metadata": {},
   "source": [
    "For diffusive updates, SPBM needs to know the vertical diffusion coefficients in the water column and the dispersion coefficients in sediments (which are analogs to vertical diffusion coefficients in the water column).\n",
    "The vertical diffusion coefficients in the water column are calculated according to the vertical density distributions following [Gargett (1984)].\n",
    "Vertical advective updates in the water column (sinking of the particles) are calculated according to the sinking velocities of particles.\n",
    "The dispersion coefficients in sediments and sinking velocities of particles are discussed in the Methods 3 section.\n",
    "Vertical advective updates in the sediments (burying) are neglected (no burying).\n",
    "\n",
    "[Gargett (1984)]: https://doi.org/10.1357/002224084788502756"
   ]
  },
  {
   "cell_type": "markdown",
   "metadata": {},
   "source": [
    "SPBM calculates some state variables' horizontal exchange of the modeling domain with the external pool.\n",
    "To supply the model water domain with nutrients for the proper functioning of the phytoplankton model, we introduce horizontal exchange of concentration of phosphates, ammonium, nitrates, and silicates in the modeling domain with concentrations in the external pool.\n",
    "The concentrations of variables in the external pool are considered to have a permanent seasonal profile.\n",
    "The seasonal profiles of phosphates, nitrate, and silicates external pool concentrations are from the World Ocean Database from the same region as the data for forcing.\n",
    "Ammonium external pool seasonal profile concentrations are from [van Beusekom et al. (2009)].\n",
    "Horizontal exchange is controlled by the horizontal diffusivity coefficient$\\ K_{h}$ ([Okubo, 1971], [Okubo, 1976]).\n",
    "The value of the horizontal diffusivity coefficient is discussed in the Methods 3 section.\n",
    "Along with concentrations of the corresponding elements, phosphate, ammonium and nitrate exchange also affects alkalinity according to $\\text{TA}_{\\text{ec}}$ expression.\n",
    "Sulfate ion ($\\text{SO}_{4}^{2 -}$) is a compound of $\\text{TA}_{\\text{ec}}$ so it is also taken into account by horizontal exchange for the alkalinity exchange evaluation between the model water domain and the external pool.\n",
    "$\\text{SO}_{4}^{2 -}$ affects TA according to $\\text{TA}_{\\text{ec}}$ expression as well.\n",
    "It is a major ion so its concentration in the external pool is approximated by a constant value of 25000 $\\text{mM m}^{- 3}$.\n",
    "The advective exchange of other state variables is not considered (concentrations of these state variables in the external pool are assumed to be similar to the concentrations in the modeling domain).\n",
    "\n",
    "[van Beusekom et al. (2009)]: https://doi.org/10.1016/j.seares.2008.06.005\n",
    "[Okubo, 1971]: https://doi.org/10.1016/0011-7471(71)90046-5\n",
    "[Okubo, 1976]: https://doi.org/10.1016/0011-7471(76)90897-4"
   ]
  },
  {
   "cell_type": "markdown",
   "metadata": {},
   "source": [
    "SPBM calculates the allochtonous organic matter influx to the modeling domain.\n",
    "To reflect the heterotrophic nature of the Wadden Sea ([van Beusekom et al., 1999]) we add an additional advective influx of particulate OM state variable ($\\text{POM}$).\n",
    "This $\\text{POM}$ inflow is adopted from the value for the net import of OM to the Sylt-Rømø basin in the North Frisian Wadden Sea (110 $\\text{g}\\ \\text{m}^{- 2}\\ \\text{year}^{- 1}$) reported in ([van Beusekom et al., 1999]) as a sinusoidal curve with a maximum in May ([Joint and Pomroy, 1993]; [de Beer et al., 2005]).\n",
    "This value is also close to the Wadden Sea average OM input (100 $\\text{g}\\ \\text{m}^{- 2}\\ \\text{year}^{- 1}$) from the North Sea ([van Beusekom et al., 1999]).\n",
    "\n",
    "[van Beusekom et al., 1999]: https://doi.org/10.1007/BF02764176\n",
    "[Joint and Pomroy, 1993]: https://www.int-res.com/articles/meps/99/m099p169.pdf\n",
    "[de Beer et al., 2005]: https://doi.org/10.4319/lo.2005.50.1.0113"
   ]
  },
  {
   "cell_type": "markdown",
   "metadata": {},
   "source": [
    "IPython notebook `s_1_generate_netcdf.ipynb` reads the data from WOD (`wadden_sea.nc`) and forms another NetCDF data file `wadden_sea_out.nc` which contains the data filtered and averaged to one year, calculated diffusion coefficients, calculated theoretical surface PAR values for the region of the Wadden Sea, and calculated OM influx.\n",
    "The governing program SPBM uses `wadden_sea_out.nc` to get all the necessary information.\n",
    "There is an IPython notebook to check the data written in `wadden_sea_out.nc` - `s_2_check_data.ipynb`"
   ]
  },
  {
   "cell_type": "markdown",
   "metadata": {},
   "source": [
    "### Preliminary evaluations for the biogeochemical model construction"
   ]
  },
  {
   "cell_type": "markdown",
   "metadata": {},
   "source": [
    "We have a tool to calculate the transport of the state variables in the multilayer box representing the Wadden Sea, but we still missing the biogeochemical model to update the concentrations of the state variables due to biogeochemical reactions.\n",
    "Here we provide the reasoning to include some reactions and skip others.\n",
    "There are thirteen terms in $\\text{TA}_{\\text{ec}}$ expression and the most abundant biogeochemical processes in the coastal ocean change the concentrations of six of them:\n",
    "$2\\lbrack\\text{Ca}^{2 +}\\rbrack$, $\\text{TNH}_{3}$, $\\lbrack\\text{NO}_{3}^{-}\\rbrack$, $\\text{TPO}_{4}$, $2\\text{TSO}_{4}$, $\\text{THNO}_{2}$.\n",
    "Therefore, if the biogeochemical reactions change the concentration of certain terms, they also change TA.\n",
    "The influence of the biogeochemical reactions on alkalinity directly follows from $\\text{TA}_{\\text{ec}}$ expression ([Wolf-Gladrow et al., 2007], see also the definition of $\\text{TA}_{\\text{ec}}$ in the beginning of this Section):\n",
    "\n",
    "[Wolf-Gladrow et al., 2007]: https://doi.org/10.1016/j.marchem.2007.01.006"
   ]
  },
  {
   "cell_type": "markdown",
   "metadata": {},
   "source": [
    "1. Nutrient assimilation by primary producers.\n",
    "  * Assimilation of one mole of $\\text{NO}_{3}^{-}$ or  $\\text{NO}_{2}^{-}$ increases alkalinity by one mole, assimilation of one mole of $\\text{NH}_{4}^{+}$ decrease alkalinity by one mole.\n",
    "  * Assimilation of one mole of phosphate increases alkalinity by one  mole.\n",
    "2. Organic matter degradation.\n",
    "  * Oxygen respiration increases alkalinity by 15 moles ($16\\text{NH}_{3} - 1\\text{H}_{3}\\text{PO}_{4}$) per 106 moles of $\\text{CH}_{2}\\text{O}$ oxidized:\n",
    "$(\\text{CH}_{2}\\text{O})_{106}(\\text{NH}_{3})_{16}\\text{H}_{3}\\text{PO}_{4} + 106\\text{O}_{2} \\rightarrow 106\\text{CO}_{2} + 16\\text{NH}_{3} + \\text{H}_{3}\\text{PO}_{4} + 106\\text{H}_{2}\\text{O}$.\n",
    "  * Denitrification increases alkalinity by 99.8 moles ($84.8\\text{HNO}_{3} + 16\\text{NH}_{3} - 1\\text{H}_{3}\\text{PO}_{4}$) per 106 moles of $\\text{CH}_{2}\\text{O}$ oxidized:\n",
    "$(\\text{CH}_{2}\\text{O})_{106}(\\text{NH}_{3})_{16}\\text{H}_{3}\\text{PO}_{4} + 84.8\\text{HNO}_{3} \\rightarrow 106\\text{CO}_{2} + 42.4\\text{N}_{2} + 16\\text{NH}_{3} + \\text{H}_{3}\\text{PO}_{4} + 148.4\\text{H}_{2}\\text{O}$.\n",
    "  * Sulfate reduction increases alkalinity by 121 moles ($2 \\cdot 53\\text{SO}_{4}^{2 -} + 16\\text{NH}_{3} - 1\\text{H}_{3}\\text{PO}_{4}$) per 106 moles of $\\text{CH}_{2}\\text{O}$ oxidized:\n",
    "$(\\text{CH}_{2}\\text{O})_{106}(\\text{NH}_{3})_{16}\\text{H}_{3}\\text{PO}_{4} + 53\\text{SO}_{4}^{2-} \\rightarrow 106\\text{HCO}_{3}^{-} + 16\\text{NH}_{3} + \\text{H}_{3}\\text{PO}_{4} + 53\\text{H}_{2}\\text{S}$.\n",
    "  * Other OM degradation reactions.\n",
    "3. Nitrification, which decreases alkalinity by two moles per mole of $\\text{NH}_{4}^{+}$ oxidized:\n",
    "$\\text{NH}_{4}^{+} + 1.5\\text{O}_{2} \\rightarrow \\text{NO}_{3}^{-} + 2\\text{H}^{+} + \\text{H}_{2}\\text{O}$. \n",
    "4. Calcium carbonate precipitation and dissolution.\n",
    "  * Precipitation of one mole of calcium carbonate decreases alkalinity by two moles:\n",
    "$\\text{Ca}^{2+} + 2\\text{HCO}_{3}^{-} \\rightarrow \\text{CaCO}_{3} + \\text{CO}_{2} + \\text{H}_{2}\\text{O}$\n",
    "or\n",
    "$\\text{Ca}^{2+} + \\text{CO}_{3}^{-} \\rightarrow \\text{CaCO}_{3}$.\n",
    "  * Calcium carbonate dissolution increases alkalinity by two moles per one mole of calcium carbonate dissolved:\n",
    "$\\text{CaCO}_{3} + \\text{CO}_{2} + \\text{H}_{2}\\text{O} \\rightarrow \\text{Ca}^{2 +} + 2\\text{HCO}_{3}^{-}$."
   ]
  },
  {
   "cell_type": "markdown",
   "metadata": {},
   "source": [
    "Now we can try to estimate which of these processes are the most important ones for alkalinity changes in the Wadden Sea.\n",
    "At first, we write down the mean concentrations of alkalinity and the mentioned six compounds ($\\lbrack\\text{Ca}^{2 +}\\rbrack$, $\\text{TNH}_{3}$, $\\lbrack\\text{NO}_{3}^{-}\\rbrack$, $\\text{TPO}_{4}$, $\\text{TSO}_{4}$, $\\text{THNO}_{2}$, all concentration are in $\\text{mM m}^{- 3}$) in the Southern Wadden Sea.\n",
    "We use these mean concentrations from the Southern Wadden Sea as initial state of concentrations in the Wadden Sea before local biogeochemical transformations.\n",
    "So we can see the concentrations of $\\text{TA}_{\\text{ec}}$ compounds that correspond to $\\text{TA}_{\\text{ec}}$, afterwards we can track how biogeochemical transformations change alkalinity."
   ]
  },
  {
   "cell_type": "code",
   "execution_count": 1,
   "metadata": {},
   "outputs": [],
   "source": [
    "import src.fetch_data as fd\n",
    "import numpy as np\n",
    "import matplotlib.pyplot as plt\n",
    "import seaborn as sns\n",
    "sns.set()"
   ]
  },
  {
   "cell_type": "code",
   "execution_count": 2,
   "metadata": {},
   "outputs": [],
   "source": [
    "# get some data from the World Ocean Database (WOD)\n",
    "par, temperature, no3, ammonium, po4, si, irradiance = fd.get_data()"
   ]
  },
  {
   "cell_type": "code",
   "execution_count": 3,
   "metadata": {},
   "outputs": [
    {
     "data": {
      "text/plain": [
       "'NH4=3.43013698630137; NO3=16.124231302432; PO4=0.6163383757363852'"
      ]
     },
     "execution_count": 3,
     "metadata": {},
     "output_type": "execute_result"
    }
   ],
   "source": [
    "f'NH4={ammonium.mean()}; NO3={no3.mean()}; PO4={po4.mean()}'"
   ]
  },
  {
   "cell_type": "markdown",
   "metadata": {},
   "source": [
    "Nitrites' concentration is negligibly small, so we skip it.\n",
    "Also, we assume that average TA concentration equals 2300 $\\text{mM m}^{- 3}$.\n",
    "$\\text{Ca}^{2 +}$ and $\\text{TSO}_{4}$ are the major ions of seawater with the following approximate concentrations (in $\\text{mM m}^{- 3}$):"
   ]
  },
  {
   "cell_type": "code",
   "execution_count": 4,
   "metadata": {},
   "outputs": [],
   "source": [
    "Ca, SO4 = (10000, 25000)"
   ]
  },
  {
   "cell_type": "markdown",
   "metadata": {},
   "source": [
    "Initial concentrations of TA compound elements before local biogeochemical transformations:\n",
    "\n",
    "|Parameter:|$$\\lbrack\\text{Ca}^{2+}\\rbrack$$|$$\\text{TNH}_{3}$$|$$\\lbrack\\text{NO}_{3}^{-}\\rbrack$$|$$\\text{TPO}_{4}$$|$$\\text{TSO}_{4}$$|$$\\text{THNO}_{2}$$|$$\\text{TA}$$|\n",
    "|:-|:-:|:-:|:-:|:-:|:-:|:-:|:-:|\n",
    "|Values, $\\text{mM m}^{- 3}$:|10000|3.4|16.1|0.6|25000|0|2300|"
   ]
  },
  {
   "cell_type": "markdown",
   "metadata": {},
   "source": [
    "These values correspond to each other, for example, $\\text{NO}_{3}^{-}$ concentration of 16 $\\text{mM m}^{- 3}$ corresponds to TA of 2300 $\\text{mM m}^{- 3}$.\n",
    "An increase of $\\text{NO}_{3}^{-}$ by one mole will decrease TA by one mole (due to negative charge sign).\n",
    "Thus, we can track TA changes due to changes of its compound ions.\n",
    "To understand how biogeochemical reactions can affect TA we make a function calculating TA changes according to $\\text{TA}_{\\text{ec}}$ expression:\n",
    "$$\\delta [\\text{TA}] = 2\\delta [\\text{Ca}^{2 +}]\n",
    "                     - 2\\delta [\\text{TSO}_{4}] \n",
    "                     +  \\delta [\\text{NH}_{4}^{+}]\n",
    "                     -  \\delta [\\text{NO}_{3}^{-}]\n",
    "                     -  \\delta [\\text{PO}_{4}^{-}]$$\n",
    "For example, if $\\text{NO}_{3}^{-}$ drops down to zero (from 16), it will increase alkalinity by 16 $\\text{mM m}^{- 3}$.\n",
    "Providing a change of a particular compound we can track a TA change."
   ]
  },
  {
   "cell_type": "code",
   "execution_count": 5,
   "metadata": {},
   "outputs": [],
   "source": [
    "def alk_change(TA, dCa=0, dSO4=0, dNH4=0, dNO3=0, dPO4=0):\n",
    "    return TA + 2*dCa - 2*dSO4 + dNH4 - dNO3 - dPO4"
   ]
  },
  {
   "cell_type": "code",
   "execution_count": 6,
   "metadata": {},
   "outputs": [],
   "source": [
    "def sinusoidal(max_value):\n",
    "    \"\"\"Creates a sinusoidal line with a period of 365,\n",
    "       minimum value of zero,\n",
    "       and a maximum value of max_value\"\"\"\n",
    "    day=np.arange(0,365,1)\n",
    "    return (1/2)*max_value*(1+np.sin(2*np.pi*((day-90)/365)))"
   ]
  },
  {
   "cell_type": "markdown",
   "metadata": {},
   "source": [
    "Let's test a TA change due to a change of $\\text{Ca}^{2 +}$ concentration.\n",
    "For example, calcifiers consume 100 $\\text{mM m}^{- 3}$ of $\\text{Ca}^{2 +}$ during a year, and then the equal amount of calcifiers' skeletons dissolve restoring the concentration of $\\text{Ca}^{2 +}$ in the end of the year."
   ]
  },
  {
   "cell_type": "code",
   "execution_count": 7,
   "metadata": {},
   "outputs": [],
   "source": [
    "dCa = -sinusoidal(100)\n",
    "Ca_year = Ca + dCa\n",
    "TA_year = alk_change(TA = 2300, dCa = dCa)\n",
    "ox = np.arange(0,365,1)"
   ]
  },
  {
   "cell_type": "code",
   "execution_count": 8,
   "metadata": {},
   "outputs": [
    {
     "data": {
      "text/plain": [
       "Text(0.5, 0, 'day')"
      ]
     },
     "execution_count": 8,
     "metadata": {},
     "output_type": "execute_result"
    },
    {
     "data": {
      "image/png": "[encoded data removed]",
      "text/plain": [
       "<Figure size 576x432 with 2 Axes>"
      ]
     },
     "metadata": {},
     "output_type": "display_data"
    }
   ],
   "source": [
    "fig = plt.figure(figsize=(8, 6))\n",
    "ax = fig.add_subplot(2, 1, 1) # row-col-num\n",
    "ax1 = fig.add_subplot(2, 1, 2)\n",
    "ax.plot(ox, Ca_year); ax1.plot(ox, TA_year)\n",
    "ax.set_ylabel('Ca$^{2+}$'); ax1.set_ylabel('TA');\n",
    "ax1.set_xlabel('day')"
   ]
  },
  {
   "cell_type": "markdown",
   "metadata": {},
   "source": [
    "**Figure M1-2**. TA response to $\\text{Ca}^{2 +}$ change."
   ]
  },
  {
   "cell_type": "markdown",
   "metadata": {},
   "source": [
    "We see that consuming of 100 $\\text{mM m}^{- 3}$ of $\\text{Ca}^{2 +}$ decreases alkalinity by 200 $\\text{mM m}^{- 3}$, which is obvious from $\\text{TA}_{\\text{ec}}$ expression.\n",
    "The local activities of calcifiers cannot increase alkalinity above 2300 $\\text{mM m}^{- 3}$.\n",
    "To increase TA we need an input of $\\text{Ca}^{2 +}$, which can come in form of $\\text{Ca}^{2 +}$ or $\\text{CaCO}_3$.\n",
    "Additional $\\text{Ca}^{2 +}$ can come with terrestrial inflow.\n",
    "We do not consider it here since we are interested in biogeochemical transformation occurring in the Wadden Sea.\n",
    "The supply of allochtonous $\\text{CaCO}_3$ to the Wadden Sea has not yet been reported ([Thomas et al., 2009]).\n",
    "Calcium carbonate related biogeochemical processes cannot increase alkalinity in the Wadden Sea.\n",
    "As a first approximation according to the goal to calculate the maximum alkalinity generation in the Wadden Sea due to biogeochemical processes we can skip $\\text{CaCO}_3$ precipitation/dissolution while preparing the biogeochemical model.\n",
    "\n",
    "[Thomas et al., 2009]: https://doi.org/10.5194/bg-6-267-2009"
   ]
  },
  {
   "cell_type": "markdown",
   "metadata": {},
   "source": [
    "Now let's assume that sulfate reduction decreases $\\text{SO}_{4}^{2 -}$ by 100 $\\text{mM m}^{- 3}$."
   ]
  },
  {
   "cell_type": "code",
   "execution_count": 9,
   "metadata": {},
   "outputs": [],
   "source": [
    "dSO4 = -sinusoidal(100)\n",
    "SO4_year = SO4 + dSO4\n",
    "TA_year = alk_change(TA = 2300, dSO4 = dSO4)"
   ]
  },
  {
   "cell_type": "code",
   "execution_count": 11,
   "metadata": {},
   "outputs": [
    {
     "data": {
      "text/plain": [
       "Text(0.5, 0, 'day')"
      ]
     },
     "execution_count": 11,
     "metadata": {},
     "output_type": "execute_result"
    },
    {
     "data": {
      "image/png": "[encoded data removed]",
      "text/plain": [
       "<Figure size 576x432 with 2 Axes>"
      ]
     },
     "metadata": {},
     "output_type": "display_data"
    }
   ],
   "source": [
    "fig = plt.figure(figsize=(8, 6))\n",
    "ax, ax1 = (fig.add_subplot(2, 1, 1), fig.add_subplot(2, 1, 2))\n",
    "ax.plot(ox, SO4_year); ax1.plot(ox, TA_year)\n",
    "ax.set_ylabel('SO$_4^{2-}$'); ax1.set_ylabel('TA')\n",
    "ax1.set_xlabel('day')"
   ]
  },
  {
   "cell_type": "markdown",
   "metadata": {},
   "source": [
    "**Figure M1-3**. TA response to $\\text{SO}_{4}^{2 -}$ change."
   ]
  },
  {
   "cell_type": "markdown",
   "metadata": {},
   "source": [
    "The main difference from $\\text{Ca}^{2 +}$ is that $\\text{SO}_{4}^{2 -}$ is negatively charged.\n",
    "So decrease of $\\text{SO}_{4}^{2 -}$ by 100 $\\text{mM m}^{- 3}$ increases TA by 200 $\\text{mM m}^{- 3}$.\n",
    "Also, since $\\text{SO}_{4}^{2 -}$ is a major ion and very abundant in seawater sulfate reduction has a tremendous potential to increase alkalinity.\n",
    "Therefore, sulfate reduction can be the most important reaction while considering alkalinity generation due to biogeochemical processes in the coastal area."
   ]
  },
  {
   "cell_type": "markdown",
   "metadata": {},
   "source": [
    "We have another quite abundant negatively charged conservative ion in the coastal area - $\\text{NO}_{3}^{-}$.\n",
    "According to $\\text{TA}_{\\text{ec}}$ expression it changes TA by one mole per mole of $\\text{NO}_{3}^{-}$ consumed/excreted.\n",
    "The concentration of $\\text{NO}_{3}^{-}$ is far lower comparing to $\\text{SO}_{4}^{2 -}$ ion.\n",
    "The average annual $\\text{NO}_{3}^{-}$ concentration in the German Bight of 16 $\\text{mM m}^{- 3}$ corresponds to TA of 2300 $\\text{mM m}^{- 3}$, so consuming of 16 $\\text{mM m}^{- 3}$ of $\\text{NO}_{3}^{-}$ will increase alkalinity only by 16 $\\text{mM m}^{- 3}$.\n",
    "Thus, $\\text{NO}_{3}^{-}$ related biogeochemical processes cannot explain TA concentrations in the German Bight higher than 2316 $\\text{mM m}^{- 3}$.\n",
    "If there is the constant flow of $\\text{NO}_{3}^{-}$ from the North sea to the Wadden Sea, according to $\\text{TA}_{\\text{ec}}$ it means the continuous flow of TA from the Wadden Sea to the North Sea (opposite direction).\n",
    "Similarly, the constant supply of $\\text{NO}_{3}^{-}$ from terrestrial sources would cause the opposite flow of TA.\n",
    "Therefore, even though denitrification cannot be an explanation of high alkalinity values in the German Bight it still can be the most important variable to explain TA import from the Wadden Sea to the German Bight."
   ]
  },
  {
   "cell_type": "markdown",
   "metadata": {},
   "source": [
    "Denitrification and sulfate reduction are OM degradation reactions.\n",
    "OM degradation reactions have an occurrence order due to their relative energetics (see Stumm, W. S., and J. J. Morgan (1981). Aquatic Chemistry, John Wiley & Sons, Inc., p. 460).\n",
    "The most energetically valuable in this sequence is oxygen reduction (it is called oxygen respiration if OM is an electron donor).\n",
    "$\\text{MnO}_2$ and $\\text{FeOOH}$ electron acceptors are energetically preferable to $\\text{SO}_{4}^{2 -}$ for OM oxidation.\n",
    "But in the biogeochemical model, we can omit $\\text{MnO}_2$ and $\\text{FeOOH}$ electron acceptors.\n",
    "With OM oxidation with $\\text{MnO}_2$ and $\\text{FeOOH}$ (manganese and iron reduction), there will be less OM available for sulfate reduction. Since there is no $\\text{Fe}^{2+}$ and $\\text{Mn}^{2+}$ (the OM oxidation with $\\text{MnO}_2$ and $\\text{FeOOH}$  reaction products) in $\\text{TA}_{\\text{ec}}$ expression iron and manganese reduction produces less alkalinity then sulfate reduction.\n",
    "Also, $\\text{MnO}_2$ and $\\text{FeOOH}$ can oxidize reduced sulfur compounds to sulfate, it will decrease TA according to $\\text{TA}_{\\text{ec}}$ expression.\n",
    "We can omit these variables since this assumption does not underestimate TA generation what is in the scope of our goals.\n",
    "Also, the contents of both $\\text{FeOOH}$ and $\\text{MnO}_2$ in the sediments of the Wadden Sea are quite low ([de Beer et al., 2005]).\n",
    "\n",
    "[de Beer et al., 2005]: https://doi.org/10.4319/lo.2005.50.1.0113"
   ]
  },
  {
   "cell_type": "markdown",
   "metadata": {},
   "source": [
    "According to the above reasoning and to the goal of the study (to estimate the maximum value of TA that can be generated in the Wadden Sea) we should include sulfate reduction and denitrification reactions into the biogeochemical model, but we can skip $\\text{CaCO}_3$ precipitation/dissolution.\n",
    "Also, as the most energetically advantageous, we cannot skip oxygen respiration (it happens before denitrification and sulfate reduction).\n",
    "Since the alkalinity generating reactions consume OM, we should implement the opposite processes supplying OM.\n",
    "We have already taken into account the allochtonous OM coming from an external pool; we also need to add OM production into consideration.\n",
    "Moreover, to balance sulfate reduction and denitrification we should add the opposite reactions from nitrogen and sulfur cycles: nitrification reactions and sulfides oxidation reactions.\n",
    "We provide a thorough description of reactions included in the biogeochemical model in the Methods 2 section."
   ]
  }
 ],
 "metadata": {
  "file_extension": ".py",
  "kernelspec": {
   "display_name": "Python 3",
   "language": "python",
   "name": "python3"
  },
  "language_info": {
   "codemirror_mode": {
    "name": "ipython",
    "version": 3
   },
   "file_extension": ".py",
   "mimetype": "text/x-python",
   "name": "python",
   "nbconvert_exporter": "python",
   "pygments_lexer": "ipython3",
   "version": "3.9.1"
  },
  "mimetype": "text/x-python",
  "name": "python",
  "npconvert_exporter": "python",
  "pygments_lexer": "ipython3",
  "version": 3
 },
 "nbformat": 4,
 "nbformat_minor": 4
}
