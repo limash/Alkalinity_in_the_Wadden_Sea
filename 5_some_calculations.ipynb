{
 "cells": [
  {
   "cell_type": "code",
   "execution_count": 157,
   "metadata": {},
   "outputs": [],
   "source": [
    "import numpy as np\n",
    "import pandas as pd\n",
    "import xarray as xr\n",
    "import matplotlib.pyplot as plt\n",
    "import matplotlib.dates as mdates"
   ]
  },
  {
   "cell_type": "code",
   "execution_count": 158,
   "metadata": {},
   "outputs": [
    {
     "data": {
      "text/plain": [
       "2.450000047683716"
      ]
     },
     "execution_count": 158,
     "metadata": {},
     "output_type": "execute_result"
    }
   ],
   "source": [
    "ds1 = xr.open_dataset('data/low_sulfate_reduction_rate/2_po75-25_di1e-9/water.nc')\n",
    "alkflux_df = ds1['B_S_SO4   _flux'].to_dataframe()\n",
    "alkflux_df = alkflux_df.reset_index()\n",
    "alkflux_df.z_faces.values[1]"
   ]
  },
  {
   "cell_type": "code",
   "execution_count": 159,
   "metadata": {},
   "outputs": [],
   "source": [
    "ds1 = xr.open_dataset('data/low_sulfate_reduction_rate/2_po75-25_di1e-9/water.nc')\n",
    "ds2 = xr.open_dataset('data/low_sulfate_reduction_rate/3_po75-25_di2e-9/water.nc')\n",
    "ds3 = xr.open_dataset('data/low_sulfate_reduction_rate/4_po75-25_di5e-9/water.nc')\n",
    "ds4 = xr.open_dataset('data/low_sulfate_reduction_rate/5_po75-25_di10e-9/water.nc')"
   ]
  },
  {
   "cell_type": "markdown",
   "metadata": {},
   "source": [
    "#### Alkalinity quotas"
   ]
  },
  {
   "cell_type": "code",
   "execution_count": 160,
   "metadata": {},
   "outputs": [],
   "source": [
    "alkflux_bottom_july = []\n",
    "nh4flux_bottom_july = []\n",
    "no2flux_bottom_july = []\n",
    "no3flux_bottom_july = []\n",
    "po4flux_bottom_july = []\n",
    "so4flux_bottom_july = []\n",
    "\n",
    "alk_mean = []\n",
    "nh4_mean = []\n",
    "no2_mean = []\n",
    "no3_mean = []\n",
    "po4_mean = []\n",
    "so4_mean = []"
   ]
  },
  {
   "cell_type": "code",
   "execution_count": 161,
   "metadata": {},
   "outputs": [],
   "source": [
    "i = 0\n",
    "for ds in (ds1, ds2, ds3, ds4):\n",
    "    alkflux_df = ds['B_C_Alk   _flux'].to_dataframe()\n",
    "    nh4flux_df = ds['B_NUT_NH4 _flux'].to_dataframe()\n",
    "    no2flux_df = ds['B_NUT_NO2 _flux'].to_dataframe()\n",
    "    no3flux_df = ds['B_NUT_NO3 _flux'].to_dataframe()\n",
    "    po4flux_df = ds['B_NUT_PO4 _flux'].to_dataframe()\n",
    "    so4flux_df = ds['B_S_SO4   _flux'].to_dataframe()\n",
    "    \n",
    "    alkflux_bottom = alkflux_df.groupby('z_faces').get_group(2.5)\n",
    "    nh4flux_bottom = nh4flux_df.groupby('z_faces').get_group(2.5)\n",
    "    no2flux_bottom = no2flux_df.groupby('z_faces').get_group(2.5)\n",
    "    no3flux_bottom = no3flux_df.groupby('z_faces').get_group(2.5)\n",
    "    po4flux_bottom = po4flux_df.groupby('z_faces').get_group(2.5)\n",
    "    so4flux_bottom = so4flux_df.groupby('z_faces').get_group(2.5)\n",
    "    \n",
    "    alkflux_bottom_july.append(alkflux_bottom.loc['2011-07-01':'2011-08-01'])\n",
    "    nh4flux_bottom_july.append(nh4flux_bottom.loc['2011-07-01':'2011-08-01'])\n",
    "    no2flux_bottom_july.append(no2flux_bottom.loc['2011-07-01':'2011-08-01'])\n",
    "    no3flux_bottom_july.append(no3flux_bottom.loc['2011-07-01':'2011-08-01'])\n",
    "    po4flux_bottom_july.append(po4flux_bottom.loc['2011-07-01':'2011-08-01'])\n",
    "    so4flux_bottom_july.append(so4flux_bottom.loc['2011-07-01':'2011-08-01'])\n",
    "    \n",
    "    alkflux_bottom_july[i] = alkflux_bottom_july[i].reset_index()\n",
    "    nh4flux_bottom_july[i] = nh4flux_bottom_july[i].reset_index()\n",
    "    no2flux_bottom_july[i] = no2flux_bottom_july[i].reset_index()\n",
    "    no3flux_bottom_july[i] = no3flux_bottom_july[i].reset_index()\n",
    "    po4flux_bottom_july[i] = po4flux_bottom_july[i].reset_index()\n",
    "    so4flux_bottom_july[i] = so4flux_bottom_july[i].reset_index()\n",
    "    \n",
    "    alk_mean.append(alkflux_bottom_july[i]['B_C_Alk   _flux'].mean())\n",
    "    nh4_mean.append(nh4flux_bottom_july[i]['B_NUT_NH4 _flux'].mean())\n",
    "    no2_mean.append(no2flux_bottom_july[i]['B_NUT_NO2 _flux'].mean())\n",
    "    no3_mean.append(no3flux_bottom_july[i]['B_NUT_NO3 _flux'].mean())\n",
    "    po4_mean.append(po4flux_bottom_july[i]['B_NUT_PO4 _flux'].mean())\n",
    "    so4_mean.append(so4flux_bottom_july[i]['B_S_SO4   _flux'].mean())\n",
    "    \n",
    "    i += 1"
   ]
  },
  {
   "cell_type": "code",
   "execution_count": 162,
   "metadata": {},
   "outputs": [],
   "source": [
    "alk = np.array(alk_mean)\n",
    "nh4 = np.array(nh4_mean)\n",
    "no2 = np.array(no2_mean)\n",
    "no3 = np.array(no3_mean)\n",
    "po4 = np.array(po4_mean)\n",
    "so4 = np.array(so4_mean)"
   ]
  },
  {
   "cell_type": "code",
   "execution_count": 163,
   "metadata": {},
   "outputs": [
    {
     "data": {
      "text/plain": [
       "array([ 3.92297626,  6.50924492, 11.49930954, 17.17532921])"
      ]
     },
     "execution_count": 163,
     "metadata": {},
     "output_type": "execute_result"
    }
   ],
   "source": [
    "alk"
   ]
  },
  {
   "cell_type": "code",
   "execution_count": 169,
   "metadata": {},
   "outputs": [
    {
     "data": {
      "text/plain": [
       "array([ 4.65621738,  7.24341502, 12.23533618, 17.91454743])"
      ]
     },
     "execution_count": 169,
     "metadata": {},
     "output_type": "execute_result"
    }
   ],
   "source": [
    "alk_calc = nh4-no2-no3-po4-2*so4\n",
    "alk_calc"
   ]
  },
  {
   "cell_type": "code",
   "execution_count": 170,
   "metadata": {},
   "outputs": [
    {
     "data": {
      "text/plain": [
       "array([ 4.69256479,  7.30797953, 12.36895051, 18.13660784])"
      ]
     },
     "execution_count": 170,
     "metadata": {},
     "output_type": "execute_result"
    }
   ],
   "source": [
    "total = np.absolute(nh4)+np.absolute(no2)+np.absolute(no3)+np.absolute(po4)+2*np.absolute(so4)\n",
    "total"
   ]
  },
  {
   "cell_type": "code",
   "execution_count": 166,
   "metadata": {},
   "outputs": [
    {
     "data": {
      "text/plain": [
       "array([0.0616625 , 0.07086324, 0.08627272, 0.09584143])"
      ]
     },
     "execution_count": 166,
     "metadata": {},
     "output_type": "execute_result"
    }
   ],
   "source": [
    "quota_nh4 = np.absolute(nh4)/total\n",
    "quota_nh4"
   ]
  },
  {
   "cell_type": "code",
   "execution_count": 167,
   "metadata": {},
   "outputs": [
    {
     "data": {
      "text/plain": [
       "array([0.93369716, 0.92400456, 0.90753619, 0.89710119])"
      ]
     },
     "execution_count": 167,
     "metadata": {},
     "output_type": "execute_result"
    }
   ],
   "source": [
    "quota_so4 = 2*np.absolute(so4)/total\n",
    "quota_so4"
   ]
  },
  {
   "cell_type": "markdown",
   "metadata": {},
   "source": [
    "#### Sulfur compounds quotas"
   ]
  },
  {
   "cell_type": "code",
   "execution_count": 172,
   "metadata": {},
   "outputs": [],
   "source": [
    "h2s__flux_bottom_july = []\n",
    "s0___flux_bottom_july = []\n",
    "s2o3_flux_bottom_july = []\n",
    "\n",
    "h2s__mean = []\n",
    "s0___mean = []\n",
    "s2o3_mean = []"
   ]
  },
  {
   "cell_type": "code",
   "execution_count": 175,
   "metadata": {},
   "outputs": [],
   "source": [
    "i = 0\n",
    "for ds in (ds1, ds2, ds3, ds4):\n",
    "    h2s__flux_df = ds['B_S_S0    _flux'].to_dataframe()\n",
    "    s0___flux_df = ds['B_S_H2S   _flux'].to_dataframe()\n",
    "    s2o3_flux_df = ds['B_S_S2O3  _flux'].to_dataframe()\n",
    "    \n",
    "    h2s__flux_bottom = h2s__flux_df.groupby('z_faces').get_group(2.5)\n",
    "    s0___flux_bottom = s0___flux_df.groupby('z_faces').get_group(2.5)\n",
    "    s2o3_flux_bottom = s2o3_flux_df.groupby('z_faces').get_group(2.5)\n",
    "    \n",
    "    h2s__flux_bottom_july.append(h2s__flux_bottom.loc['2011-07-01':'2011-08-01'])\n",
    "    s0___flux_bottom_july.append(s0___flux_bottom.loc['2011-07-01':'2011-08-01'])\n",
    "    s2o3_flux_bottom_july.append(s2o3_flux_bottom.loc['2011-07-01':'2011-08-01'])\n",
    "    \n",
    "    h2s__flux_bottom_july[i] = h2s__flux_bottom_july[i].reset_index()\n",
    "    s0___flux_bottom_july[i] = s0___flux_bottom_july[i].reset_index()\n",
    "    s2o3_flux_bottom_july[i] = s2o3_flux_bottom_july[i].reset_index()\n",
    "    \n",
    "    h2s__mean.append(h2s__flux_bottom_july[i]['B_S_S0    _flux'].mean())\n",
    "    s0___mean.append(s0___flux_bottom_july[i]['B_S_H2S   _flux'].mean())\n",
    "    s2o3_mean.append(s2o3_flux_bottom_july[i]['B_S_S2O3  _flux'].mean())\n",
    "    \n",
    "    i += 1"
   ]
  },
  {
   "cell_type": "code",
   "execution_count": 176,
   "metadata": {},
   "outputs": [],
   "source": [
    "h2s = np.array(h2s__mean)\n",
    "s0 = np.array(s0___mean)\n",
    "s2o3 = np.array(s2o3_mean)"
   ]
  },
  {
   "cell_type": "code",
   "execution_count": 177,
   "metadata": {},
   "outputs": [
    {
     "data": {
      "text/plain": [
       "array([0.07711866, 0.16366667, 0.6179862 , 2.08352208])"
      ]
     },
     "execution_count": 177,
     "metadata": {},
     "output_type": "execute_result"
    }
   ],
   "source": [
    "h2s"
   ]
  },
  {
   "cell_type": "code",
   "execution_count": 178,
   "metadata": {},
   "outputs": [
    {
     "data": {
      "text/plain": [
       "array([1.85224807, 3.0392971 , 4.84696102, 4.74838066])"
      ]
     },
     "execution_count": 178,
     "metadata": {},
     "output_type": "execute_result"
    }
   ],
   "source": [
    "s0"
   ]
  },
  {
   "cell_type": "code",
   "execution_count": 179,
   "metadata": {},
   "outputs": [
    {
     "data": {
      "text/plain": [
       "array([0.02591891, 0.0361513 , 0.05773886, 0.15155886])"
      ]
     },
     "execution_count": 179,
     "metadata": {},
     "output_type": "execute_result"
    }
   ],
   "source": [
    "s2o3"
   ]
  },
  {
   "cell_type": "code",
   "execution_count": 181,
   "metadata": {},
   "outputs": [
    {
     "data": {
      "text/plain": [
       "array([1.95528564, 3.23911507, 5.52268608, 6.9834616 ])"
      ]
     },
     "execution_count": 181,
     "metadata": {},
     "output_type": "execute_result"
    }
   ],
   "source": [
    "total = h2s + s0 + s2o3\n",
    "total"
   ]
  },
  {
   "cell_type": "code",
   "execution_count": 182,
   "metadata": {},
   "outputs": [
    {
     "data": {
      "text/plain": [
       "array([0.03944112, 0.0505282 , 0.11189957, 0.2983509 ])"
      ]
     },
     "execution_count": 182,
     "metadata": {},
     "output_type": "execute_result"
    }
   ],
   "source": [
    "h2s/total"
   ]
  },
  {
   "cell_type": "code",
   "execution_count": 183,
   "metadata": {},
   "outputs": [
    {
     "data": {
      "text/plain": [
       "array([0.94730306, 0.93831094, 0.87764558, 0.67994656])"
      ]
     },
     "execution_count": 183,
     "metadata": {},
     "output_type": "execute_result"
    }
   ],
   "source": [
    "s0/total"
   ]
  },
  {
   "cell_type": "code",
   "execution_count": 184,
   "metadata": {},
   "outputs": [
    {
     "data": {
      "text/plain": [
       "array([0.02591891, 0.0361513 , 0.05773886, 0.15155886])"
      ]
     },
     "execution_count": 184,
     "metadata": {},
     "output_type": "execute_result"
    }
   ],
   "source": [
    "s2o3"
   ]
  },
  {
   "cell_type": "code",
   "execution_count": 185,
   "metadata": {},
   "outputs": [
    {
     "data": {
      "text/plain": [
       "array([ 4.65621738,  7.24341502, 12.23533618, 17.91454743])"
      ]
     },
     "execution_count": 185,
     "metadata": {},
     "output_type": "execute_result"
    }
   ],
   "source": [
    "alk_calc"
   ]
  },
  {
   "cell_type": "code",
   "execution_count": 187,
   "metadata": {},
   "outputs": [
    {
     "data": {
      "text/plain": [
       "array([1.95528564, 3.23911507, 5.52268608, 6.9834616 ])"
      ]
     },
     "execution_count": 187,
     "metadata": {},
     "output_type": "execute_result"
    }
   ],
   "source": [
    "total"
   ]
  },
  {
   "cell_type": "code",
   "execution_count": 196,
   "metadata": {},
   "outputs": [],
   "source": [
    "x = np.array([1e-9, 2e-9, 5e-9, 10e-9])"
   ]
  },
  {
   "cell_type": "code",
   "execution_count": 204,
   "metadata": {},
   "outputs": [
    {
     "data": {
      "image/png": "[encoded data removed]",
      "text/plain": [
       "<Figure size 400x240 with 1 Axes>"
      ]
     },
     "metadata": {},
     "output_type": "display_data"
    }
   ],
   "source": [
    "plt.style.use('classic')\n",
    "fig = plt.figure(figsize=(5, 3))\n",
    "ax = fig.add_subplot(1, 1, 1) # row-col-num\n",
    "ax.plot(x, alk_calc, linewidth=2, label=r'alkalinity flux')\n",
    "ax.plot(x, total, linewidth=2, label=r'sulfur flux')\n",
    "    \n",
    "# --- add title and axis labels\n",
    "ax.set_title('Fluxes')\n",
    "ax.set_ylabel('Flux', fontsize=16)\n",
    "ax.set_xlabel('Dispersion coefficient', fontsize=16)\n",
    "# --- plot a legend in the best location\n",
    "ax.legend(loc='upper left', title='Fluxes')\n",
    "# --- add grid – not in default classic style\n",
    "ax.grid(True)"
   ]
  },
  {
   "cell_type": "code",
   "execution_count": null,
   "metadata": {},
   "outputs": [],
   "source": []
  }
 ],
 "metadata": {
  "jupytext": {
   "text_representation": {
    "extension": ".Rmd",
    "format_name": "rmarkdown",
    "format_version": "1.0",
    "jupytext_version": "0.8.6"
   }
  },
  "kernelspec": {
   "display_name": "Python 3",
   "language": "python",
   "name": "python3"
  },
  "language_info": {
   "codemirror_mode": {
    "name": "ipython",
    "version": 3
   },
   "file_extension": ".py",
   "mimetype": "text/x-python",
   "name": "python",
   "nbconvert_exporter": "python",
   "pygments_lexer": "ipython3",
   "version": "3.7.2"
  }
 },
 "nbformat": 4,
 "nbformat_minor": 2
}
