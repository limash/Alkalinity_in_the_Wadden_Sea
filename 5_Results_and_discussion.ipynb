{
 "cells": [
  {
   "cell_type": "markdown",
   "metadata": {},
   "source": [
    "### Results and discussion\n",
    "\n",
    "#### Alkalinity fluxes at SWI and relative alkalinity values in the water column\n",
    "\n",
    "According to the goal of the study for the different dispersion\n",
    "coefficients representing different vertical mixing conditions in\n",
    "sediments two quantities are calculated: $\\text{TA}$ fluxes at the SWI\n",
    "and relative $\\text{TA}$ concentrations in the water column (Fig. 3).\n",
    "$\\text{TA}$ fluxes at the SWI increase with the dispersion coefficients\n",
    "values, more advective regimes correspond to higher$\\text{\\ TA}$ fluxes\n",
    "(Fig. 3 **A**). In general, relative $\\text{TA}$ concentration values in\n",
    "the water column also grow with the values of the dispersion\n",
    "coefficients, with the exception of\n",
    "$kz_{\\text{dispersion}} \\geq 30 \\cdot 10^{- 9}\\ \\text{\\ m}^{2}\\ s^{- 1}$\n",
    "where this relation does not hold and $\\text{TA}$ maximum values stop\n",
    "growing with dispersion coefficients (Fig. 3 **B**). Therefore, we do\n",
    "not calculate $\\text{TA}$ fluxes at the SWI and relative $\\text{TA}$\n",
    "concentrations in the water column for the dispersion coefficients\n",
    "higher than $35 \\cdot 10^{- 9}\\text{\\ m}^{2}\\ s^{- 1}$ since they do not\n",
    "result in higher alkalinity concentrations in the water column. The\n",
    "maximum alkalinity flux from sediments to the water column reaches\n",
    "approximately $45\\ \\text{mM\\ m}^{- 2}\\ d^{- 1}$ in July (Fig. 3 **A**).\n",
    "The maximum relative $\\text{TA}$ concentration is approximately\n",
    "$220\\ \\text{mM\\ m}^{- 2}$ in August (Fig. 3 **B**).\n",
    "\n",
    "Calculations show that $\\text{TA}$ fluxes are positive during the entire\n",
    "year, but relative $\\text{TA}$ concentrations in the water column do not\n",
    "always increase. For example, in Figs. 3 **A** and **B** the line for\n",
    "$kz_{\\text{dispersion}} = \\ 10 \\cdot 10^{- 9}\\text{\\ m}^{2}\\ s^{- 1}$\n",
    "(red) shows that the $\\text{TA}$ fluxes are approximately the same in\n",
    "May and October (a bit less than 10 $\\text{mM\\ m}^{- 2}\\ d^{- 1}$) but\n",
    "the relative $\\text{TA}$ increases in May and decreases in October."
   ]
  },
  {
   "cell_type": "code",
   "execution_count": null,
   "metadata": {},
   "outputs": [],
   "source": []
  }
 ],
 "metadata": {
  "kernelspec": {
   "display_name": "Python 3",
   "language": "python",
   "name": "python3"
  },
  "language_info": {
   "codemirror_mode": {
    "name": "ipython",
    "version": 3
   },
   "file_extension": ".py",
   "mimetype": "text/x-python",
   "name": "python",
   "nbconvert_exporter": "python",
   "pygments_lexer": "ipython3",
   "version": "3.7.3"
  }
 },
 "nbformat": 4,
 "nbformat_minor": 4
}
