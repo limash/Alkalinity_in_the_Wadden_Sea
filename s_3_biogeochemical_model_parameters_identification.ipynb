{
 "cells": [
  {
   "cell_type": "markdown",
   "metadata": {},
   "source": [
    "#### The biogeochemical model parameters identification (the biogeochemical model is in `brom_functions.py`)"
   ]
  },
  {
   "cell_type": "code",
   "execution_count": 1,
   "metadata": {},
   "outputs": [],
   "source": [
    "import numpy as np\n",
    "import pandas as pd\n",
    "import xarray as xr\n",
    "import brom_functions as bf\n",
    "import plot_functions as pf\n",
    "import lmfit as lf\n",
    "import non_linear_fit_functions as lff"
   ]
  },
  {
   "cell_type": "markdown",
   "metadata": {},
   "source": [
    "Open an initial dataset (observed values):"
   ]
  },
  {
   "cell_type": "code",
   "execution_count": 2,
   "metadata": {},
   "outputs": [],
   "source": [
    "ds = xr.open_dataset('wadden_sea_out.nc')\n",
    "df = ds.to_dataframe()"
   ]
  },
  {
   "cell_type": "code",
   "execution_count": 3,
   "metadata": {},
   "outputs": [],
   "source": [
    "levelcntr = df.groupby('levelcntr').get_group(0.625)\n",
    "levelface = levelcntr.groupby('levelface').get_group(0)"
   ]
  },
  {
   "cell_type": "code",
   "execution_count": 4,
   "metadata": {},
   "outputs": [],
   "source": [
    "par = levelface['par'].values[0:365].astype(np.float64)\n",
    "temperature = levelface['temperature'].values[0:365].astype(np.float64)\n",
    "nh4_data = levelface['ammonium'].values[0:365].astype(np.float64)\n",
    "no3_data = levelface['nitrate'].values[0:365].astype(np.float64)\n",
    "po4_data = levelface['phosphate'].values[0:365].astype(np.float64)\n",
    "si_data = levelface['silicate'].values[0:365].astype(np.float64)\n",
    "o2_data = levelface['oxygen'].values[0:365].astype(np.float64)\n",
    "chl_a_data = levelface['chl_a'].values[0:365].astype(np.float64)\n",
    "om_flux = levelface['om_flux'].values[0:365].astype(np.float64)\n",
    "irradiance = par*86400/1000000 # daily irradiance, convertion microM per second to M per day"
   ]
  },
  {
   "cell_type": "markdown",
   "metadata": {},
   "source": [
    "There are some initial data:"
   ]
  },
  {
   "cell_type": "code",
   "execution_count": 5,
   "metadata": {},
   "outputs": [],
   "source": [
    "#some common variables\n",
    "depth = 0.625; k=0; latitude=54.88; days = np.arange(0,364,1)\n",
    "#nutrients\n",
    "nh4 = np.zeros(365); nh4[0] = nh4_data[0]\n",
    "no2 = np.zeros(365); no2[0] = 0\n",
    "no3 = np.zeros(365); no3[0] = no3_data[0] \n",
    "si = np.zeros(365); si[0] = si_data[0] \n",
    "po4 = np.zeros(365); po4[0] = po4_data[0] \n",
    "o2 = np.zeros(365); o2[0] = o2_data[0] \n",
    "#phy\n",
    "phy = np.zeros(365); phy[0] = 1\n",
    "# daily irradiance, convertion microM per second to M per day\n",
    "irradiance = par*86400/1000000\n",
    "#het\n",
    "het = np.zeros(365); het[0] = 1\n",
    "#om\n",
    "pom = np.zeros(365); pom[0] = 100\n",
    "dom = np.zeros(365); dom[0] = 50"
   ]
  },
  {
   "cell_type": "markdown",
   "metadata": {},
   "source": [
    "There are some initial parameters (from the literature):"
   ]
  },
  {
   "cell_type": "code",
   "execution_count": 6,
   "metadata": {},
   "outputs": [],
   "source": [
    "#horizontal advection\n",
    "k_mix=900\n",
    "#phy\n",
    "knh4_lim=5; knox_lim=5; ksi_lim=0.1; kpo4_lim=0.1; pbm=3; alpha=0.075; kexc=0.015; kmortality=0.00001\n",
    "#het\n",
    "k_het_phy_gro=0.2; k_het_phy_lim=0.3; k_het_pom_gro=0.2; k_het_pom_lim=0.3\n",
    "k_het_res=0.015; k_het_mort=0.1; uz=0.5; hz=0.5\n",
    "#nitrification\n",
    "k_nfix = 0.4; k_nitrif1=0.1; k_nitrif2=0.1; o2s_nf=5; k_anammox=0.8; o2s_dn=10\n",
    "#om respiration\n",
    "k_pom_dom=0.15; k_omox_o2=1; tref=0\n",
    "k_dom_ox=0.1; k_pom_ox=0.002"
   ]
  },
  {
   "cell_type": "markdown",
   "metadata": {},
   "source": [
    "Run a test simulation:"
   ]
  },
  {
   "cell_type": "code",
   "execution_count": 7,
   "metadata": {},
   "outputs": [],
   "source": [
    "chl_a, phy_dgrate, rations = bf.calculate(\n",
    "    depth, k, k_mix, latitude, days, temperature, \n",
    "    nh4, no2, no3, si, po4, o2,\n",
    "    nh4_data, no3_data, si_data, po4_data, o2_data,\n",
    "    phy, par, irradiance, \n",
    "    knh4_lim, knox_lim, ksi_lim, kpo4_lim, pbm, alpha, kexc, kmortality,\n",
    "    het,\n",
    "    k_het_phy_gro, k_het_phy_lim, k_het_pom_gro, k_het_pom_lim, k_het_res, k_het_mort, uz, hz,\n",
    "    k_nfix, k_nitrif1, k_nitrif2, o2s_nf, k_anammox, o2s_dn,\n",
    "    pom, dom, om_flux,\n",
    "    k_pom_dom, k_omox_o2, tref, k_dom_ox, k_pom_ox)"
   ]
  },
  {
   "cell_type": "markdown",
   "metadata": {},
   "source": [
    "The initial (with average parameters from the literature) chlorophyll a distribution, model vs data:"
   ]
  },
  {
   "cell_type": "code",
   "execution_count": 8,
   "metadata": {},
   "outputs": [
    {
     "data": {
      "image/png": "[encoded data removed]",
      "text/plain": [
       "<Figure size 576x216 with 1 Axes>"
      ]
     },
     "metadata": {},
     "output_type": "display_data"
    }
   ],
   "source": [
    "pf.plot_year_multi((chl_a,'Chlorophyll a'),(chl_a_data,'Chlorophyll a - data'))"
   ]
  },
  {
   "cell_type": "markdown",
   "metadata": {},
   "source": [
    "Run the least squares to identify some parameters, a resudial function is constructed according to chl_a data.\n",
    "This step was performed several times with different set of parameters."
   ]
  },
  {
   "cell_type": "code",
   "execution_count": 9,
   "metadata": {},
   "outputs": [],
   "source": [
    "params = lf.Parameters()\n",
    "#horizontal advection\n",
    "params.add('k_mix', value=k_mix, min=700, max=1100)\n",
    "#phy\n",
    "params.add('knh4_lim', value=knh4_lim, min=1, max=15)\n",
    "params.add('knox_lim', value=knox_lim, min=1, max=15)\n",
    "params.add('ksi_lim', value=ksi_lim, min=0.1)\n",
    "params.add('kpo4_lim', value=kpo4_lim, min=0.1)\n",
    "params.add('pbm', value=pbm, min=1, max=5)\n",
    "params.add('alpha', value=alpha, min=0.05, max=0.09)\n",
    "params.add('kexc', value=kexc, vary=False)\n",
    "params.add('kmort', value=kmortality, vary=False)\n",
    "#het\n",
    "params.add('k_het_phy_gro', value=k_het_phy_gro, vary=False)\n",
    "params.add('k_het_phy_lim', value=k_het_phy_lim, vary=False)\n",
    "params.add('k_het_pom_gro', value=k_het_pom_gro, vary=False)\n",
    "params.add('k_het_pom_lim', value=k_het_pom_lim, vary=False)\n",
    "params.add('k_het_res', value=k_het_res, vary=False)\n",
    "params.add('k_het_mort', value=k_het_mort, vary=False)\n",
    "params.add('uz', value=uz, vary=False)\n",
    "params.add('hz', value=hz, vary=False)\n",
    "#nitrification\n",
    "params.add('k_nfix', value=k_nfix, vary=False)\n",
    "params.add('k_nitrif1', value=k_nitrif1, vary=False)\n",
    "params.add('k_nitrif2', value=k_nitrif2, vary=False)\n",
    "params.add('o2s_nf', value=o2s_nf, vary=False)\n",
    "params.add('k_anammox', value=k_anammox, vary=False)\n",
    "params.add('o2s_dn', value=o2s_dn,vary=False)\n",
    "#OM\n",
    "params.add('k_pom_dom', value=k_pom_dom, vary=False)\n",
    "params.add('k_omox_o2', value=k_omox_o2, vary=False)\n",
    "params.add('tref', value=tref, vary=False)\n",
    "params.add('k_dom_ox', value=k_dom_ox, vary=False)\n",
    "params.add('k_pom_ox', value=k_pom_ox, vary=False)"
   ]
  },
  {
   "cell_type": "code",
   "execution_count": 10,
   "metadata": {},
   "outputs": [],
   "source": [
    "mini = lf.Minimizer(lff.residual_phy, params,\n",
    "                    fcn_args=(depth, k, latitude, days, temperature,\n",
    "                              nh4, no2, no3, si, po4, o2,\n",
    "                              nh4_data, no3_data, si_data, po4_data, o2_data,\n",
    "                              phy, par, irradiance,\n",
    "                              het,\n",
    "                              pom, dom, om_flux,\n",
    "                              chl_a_data))"
   ]
  },
  {
   "cell_type": "code",
   "execution_count": 11,
   "metadata": {},
   "outputs": [],
   "source": [
    "foo = lff.run_least_squares(mini)"
   ]
  },
  {
   "cell_type": "markdown",
   "metadata": {},
   "source": [
    "Update the parameters with new values:"
   ]
  },
  {
   "cell_type": "code",
   "execution_count": 12,
   "metadata": {},
   "outputs": [],
   "source": [
    "k_mix = lff.return_par_values(foo, 'k_mix')\n",
    "knh4_lim = lff.return_par_values(foo, 'knh4_lim')\n",
    "knox_lim = lff.return_par_values(foo, 'knox_lim')\n",
    "ksi_lim = lff.return_par_values(foo, 'ksi_lim')\n",
    "kpo4_lim = lff.return_par_values(foo, 'kpo4_lim')\n",
    "pbm    = lff.return_par_values(foo, 'pbm')\n",
    "alpha    = lff.return_par_values(foo, 'alpha')\n",
    "k_het_phy_gro = lff.return_par_values(foo, 'k_het_phy_gro')\n",
    "k_het_phy_lim = lff.return_par_values(foo, 'k_het_phy_lim')\n",
    "k_het_pom_gro = lff.return_par_values(foo, 'k_het_pom_gro')\n",
    "k_het_pom_lim = lff.return_par_values(foo, 'k_het_pom_lim')"
   ]
  },
  {
   "cell_type": "code",
   "execution_count": 13,
   "metadata": {},
   "outputs": [
    {
     "name": "stdout",
     "output_type": "stream",
     "text": [
      "704.256791921495\n",
      "6.8900870489502735\n",
      "14.753508524562498\n",
      "0.1\n",
      "0.1\n",
      "2.7269642192296613\n",
      "0.0884237333891914\n"
     ]
    }
   ],
   "source": [
    "print(k_mix)\n",
    "print(knh4_lim); print(knox_lim);\n",
    "print(ksi_lim); print(kpo4_lim)\n",
    "print(pbm); print(alpha)\n",
    "#print(k_het_phy_gro); print(k_het_phy_lim)\n",
    "#print(k_het_pom_gro); print(k_het_pom_lim)"
   ]
  },
  {
   "cell_type": "markdown",
   "metadata": {},
   "source": [
    "Run the model with the new parameters' values:"
   ]
  },
  {
   "cell_type": "code",
   "execution_count": 14,
   "metadata": {},
   "outputs": [],
   "source": [
    "chl_a, phy_dgrate, rations = bf.calculate(\n",
    "    depth, k, k_mix, latitude, days, temperature, \n",
    "    nh4, no2, no3, si, po4, o2,\n",
    "    nh4_data, no3_data, si_data, po4_data, o2_data,\n",
    "    phy, par, irradiance, \n",
    "    knh4_lim, knox_lim, ksi_lim, kpo4_lim, pbm, alpha, kexc, kmortality,\n",
    "    het,\n",
    "    k_het_phy_gro, k_het_phy_lim, k_het_pom_gro, k_het_pom_lim, k_het_res, k_het_mort, uz, hz,\n",
    "    k_nfix, k_nitrif1, k_nitrif2, o2s_nf, k_anammox, o2s_dn,\n",
    "    pom, dom, om_flux, \n",
    "    k_pom_dom, k_omox_o2, tref, k_dom_ox, k_pom_ox)"
   ]
  },
  {
   "cell_type": "markdown",
   "metadata": {},
   "source": [
    "Chlorophyll a distribution, model vs data (with some parameters established with LMFIT):"
   ]
  },
  {
   "cell_type": "code",
   "execution_count": 15,
   "metadata": {},
   "outputs": [
    {
     "data": {
      "image/png": "[encoded data removed]",
      "text/plain": [
       "<Figure size 576x216 with 1 Axes>"
      ]
     },
     "metadata": {},
     "output_type": "display_data"
    }
   ],
   "source": [
    "pf.plot_year_multi((chl_a,'Chlorophyll a'),(chl_a_data,'Chlorophyll a - data'))"
   ]
  },
  {
   "cell_type": "code",
   "execution_count": null,
   "metadata": {},
   "outputs": [],
   "source": []
  }
 ],
 "metadata": {
  "jupytext": {
   "text_representation": {
    "extension": ".Rmd",
    "format_name": "rmarkdown",
    "format_version": "1.0",
    "jupytext_version": "0.8.6"
   }
  },
  "kernelspec": {
   "display_name": "Python 3",
   "language": "python",
   "name": "python3"
  },
  "language_info": {
   "codemirror_mode": {
    "name": "ipython",
    "version": 3
   },
   "file_extension": ".py",
   "mimetype": "text/x-python",
   "name": "python",
   "nbconvert_exporter": "python",
   "pygments_lexer": "ipython3",
   "version": "3.7.3"
  }
 },
 "nbformat": 4,
 "nbformat_minor": 4
}
