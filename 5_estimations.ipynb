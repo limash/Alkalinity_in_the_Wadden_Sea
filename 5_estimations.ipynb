{
 "cells": [
  {
   "cell_type": "markdown",
   "metadata": {},
   "source": [
    "### Some calculations prepared for the manuscript"
   ]
  },
  {
   "cell_type": "code",
   "execution_count": 1,
   "metadata": {},
   "outputs": [],
   "source": [
    "import numpy as np\n",
    "import pandas as pd\n",
    "import xarray as xr"
   ]
  },
  {
   "cell_type": "markdown",
   "metadata": {},
   "source": [
    "####  Porosity distribution calculations"
   ]
  },
  {
   "cell_type": "code",
   "execution_count": 6,
   "metadata": {},
   "outputs": [],
   "source": [
    "def porosity(z, z_swi, phi_swi, phi_inf):\n",
    "    \"\"\"Calculates porosity on depth z according to depth at SWI (z_swi),\n",
    "                  porosity at SWI (phi_swi),\n",
    "              and porosity at 'infinite depth' layer )phi_inf\"\"\"\n",
    "    k_phi = 0.04\n",
    "    k = -(z-z_swi)/k_phi\n",
    "    return (phi_inf+(phi_swi-phi_inf)*np.exp(k))"
   ]
  },
  {
   "cell_type": "code",
   "execution_count": 7,
   "metadata": {},
   "outputs": [
    {
     "data": {
      "text/plain": "0.691248451292299"
     },
     "execution_count": 7,
     "metadata": {},
     "output_type": "execute_result"
    }
   ],
   "source": [
    "porosity(2.505, 2.5, 0.75, 0.25)"
   ]
  },
  {
   "cell_type": "code",
   "execution_count": 8,
   "metadata": {},
   "outputs": [],
   "source": [
    "z = np.linspace(2.505, 2.595, 10)\n",
    "phi_inf_array = np.arange(0.05, 0.36, 0.01)\n",
    "phi_swi_array = np.arange(0.45, 0.86, 0.01)"
   ]
  },
  {
   "cell_type": "markdown",
   "metadata": {},
   "source": [
    "which combinations of phi_swi and phi_inf match appoximately 0.43:"
   ]
  },
  {
   "cell_type": "code",
   "execution_count": 9,
   "metadata": {},
   "outputs": [
    {
     "name": "stdout",
     "output_type": "stream",
     "text": "0.6100000000000001 0.33\n0.6300000000000001 0.32000000000000006\n0.6800000000000002 0.29000000000000004\n0.7000000000000002 0.28\n0.7300000000000002 0.26000000000000006\n0.7500000000000002 0.25000000000000006\n0.8000000000000003 0.22000000000000003\n0.8200000000000003 0.21000000000000002\n"
    }
   ],
   "source": [
    "for phi_swi in phi_swi_array:\n",
    "    for phi_inf in phi_inf_array:\n",
    "        if (0.432 < sum(porosity(z, 2.5, phi_swi, phi_inf))/10 < 0.434):\n",
    "            print(phi_swi, phi_inf)"
   ]
  },
  {
   "cell_type": "markdown",
   "metadata": {},
   "source": [
    "#### Alkalinity fluxes compounds"
   ]
  },
  {
   "cell_type": "code",
   "execution_count": 10,
   "metadata": {},
   "outputs": [],
   "source": [
    "ds = xr.open_dataset('data/low_sulfate_reduction_rate/5_po75-25_di10e-9/water.nc')\n",
    "alkflux_df = ds['B_C_Alk   _flux'].to_dataframe()\n",
    "nh4flux_df = ds['B_NUT_NH4 _flux'].to_dataframe()\n",
    "no2flux_df = ds['B_NUT_NO2 _flux'].to_dataframe()\n",
    "no3flux_df = ds['B_NUT_NO3 _flux'].to_dataframe()\n",
    "po4flux_df = ds['B_NUT_PO4 _flux'].to_dataframe()\n",
    "so4flux_df = ds['B_S_SO4   _flux'].to_dataframe()\n",
    "alkflux_bottom = alkflux_df.groupby('z_faces').get_group(2.5)\n",
    "nh4flux_bottom = nh4flux_df.groupby('z_faces').get_group(2.5)\n",
    "no2flux_bottom = no2flux_df.groupby('z_faces').get_group(2.5)\n",
    "no3flux_bottom = no3flux_df.groupby('z_faces').get_group(2.5)\n",
    "po4flux_bottom = po4flux_df.groupby('z_faces').get_group(2.5)\n",
    "so4flux_bottom = so4flux_df.groupby('z_faces').get_group(2.5)"
   ]
  },
  {
   "cell_type": "code",
   "execution_count": 11,
   "metadata": {},
   "outputs": [],
   "source": [
    "year = (('2011-01-01','2011-01-31'), ('2011-02-01','2011-02-28'), ('2011-03-01','2011-03-31'), ('2011-04-01','2011-04-30'), \n",
    "        ('2011-05-01','2011-05-31'), ('2011-06-01','2011-06-30'), ('2011-07-01','2011-07-31'), ('2011-08-01','2011-08-31'),\n",
    "        ('2011-09-01','2011-09-30'), ('2011-10-01','2011-10-31'), ('2011-11-01','2011-11-30'), ('2011-12-01','2011-12-31'))"
   ]
  },
  {
   "cell_type": "code",
   "execution_count": 12,
   "metadata": {},
   "outputs": [],
   "source": [
    "year_days = [31, 28, 31, 30, 31, 30, 31, 31, 30, 31, 30, 31]"
   ]
  },
  {
   "cell_type": "code",
   "execution_count": 13,
   "metadata": {},
   "outputs": [],
   "source": [
    "alk_year = []\n",
    "nh4_year = []\n",
    "no2_year = []\n",
    "no3_year = []\n",
    "po4_year = []\n",
    "so4_year = []\n",
    "for month in year:\n",
    "    alk_month = alkflux_bottom.loc[month[0]:month[1]]\n",
    "    nh4_month = nh4flux_bottom.loc[month[0]:month[1]]\n",
    "    no2_month = no2flux_bottom.loc[month[0]:month[1]]\n",
    "    no3_month = no3flux_bottom.loc[month[0]:month[1]]\n",
    "    po4_month = po4flux_bottom.loc[month[0]:month[1]]\n",
    "    so4_month = so4flux_bottom.loc[month[0]:month[1]]\n",
    "    alk_year.append(alk_month['B_C_Alk   _flux'].mean())\n",
    "    nh4_year.append(nh4_month['B_NUT_NH4 _flux'].mean())\n",
    "    no2_year.append(no2_month['B_NUT_NO2 _flux'].mean())\n",
    "    no3_year.append(no3_month['B_NUT_NO3 _flux'].mean())\n",
    "    po4_year.append(po4_month['B_NUT_PO4 _flux'].mean())\n",
    "    so4_year.append(so4_month['B_S_SO4   _flux'].mean())"
   ]
  },
  {
   "cell_type": "code",
   "execution_count": 14,
   "metadata": {},
   "outputs": [],
   "source": [
    "alk = np.array(alk_year)\n",
    "nh4 = np.array(nh4_year)\n",
    "no2 = np.array(no2_year)\n",
    "no3 = np.array(no3_year)\n",
    "po4 = np.array(po4_year)\n",
    "so4 = np.array(so4_year)"
   ]
  },
  {
   "cell_type": "code",
   "execution_count": 15,
   "metadata": {},
   "outputs": [],
   "source": [
    "all_components = nh4-no2-no3-po4-2*so4"
   ]
  },
  {
   "cell_type": "code",
   "execution_count": 16,
   "metadata": {},
   "outputs": [
    {
     "data": {
      "text/plain": "array([-0.01794102, -0.02222979, -0.02716499, -0.02478754, -0.01680583,\n       -0.01177871, -0.01038317, -0.01019516, -0.01049379, -0.01108218,\n       -0.01119354, -0.01356398])"
     },
     "execution_count": 16,
     "metadata": {},
     "output_type": "execute_result"
    }
   ],
   "source": [
    "po4_quota = -po4/all_components\n",
    "po4_quota"
   ]
  },
  {
   "cell_type": "code",
   "execution_count": 17,
   "metadata": {},
   "outputs": [
    {
     "data": {
      "text/plain": "array([0.20131813, 0.25774758, 0.2866659 , 0.24793261, 0.16267455,\n       0.13330767, 0.1198205 , 0.11347282, 0.10583136, 0.09334922,\n       0.10839223, 0.14702111])"
     },
     "execution_count": 17,
     "metadata": {},
     "output_type": "execute_result"
    }
   ],
   "source": [
    "nh4_quota = nh4/all_components\n",
    "nh4_quota"
   ]
  },
  {
   "cell_type": "code",
   "execution_count": 18,
   "metadata": {},
   "outputs": [
    {
     "data": {
      "text/plain": "array([-0.05400868, -0.07047941, -0.10579343, -0.08200902, -0.0219225 ,\n       -0.00469973,  0.00196204, -0.00569309, -0.00681203, -0.00428058,\n        0.00437502, -0.0191124 ])"
     },
     "execution_count": 18,
     "metadata": {},
     "output_type": "execute_result"
    }
   ],
   "source": [
    "no2_quota = -no2/all_components\n",
    "no2_quota"
   ]
  },
  {
   "cell_type": "code",
   "execution_count": 19,
   "metadata": {},
   "outputs": [
    {
     "data": {
      "text/plain": "array([0.25534668, 0.35926814, 0.37582072, 0.25124891, 0.06831768,\n       0.00655672, 0.00098253, 0.0007737 , 0.00177815, 0.00412344,\n       0.03451338, 0.11918447])"
     },
     "execution_count": 19,
     "metadata": {},
     "output_type": "execute_result"
    }
   ],
   "source": [
    "no3_quota = -no3/all_components\n",
    "no3_quota"
   ]
  },
  {
   "cell_type": "code",
   "execution_count": 20,
   "metadata": {},
   "outputs": [
    {
     "data": {
      "text/plain": "array([0.6152849 , 0.47569348, 0.4704718 , 0.60761504, 0.8077361 ,\n       0.87661405, 0.8876181 , 0.90164173, 0.90969631, 0.9178901 ,\n       0.86391291, 0.7664708 ])"
     },
     "execution_count": 20,
     "metadata": {},
     "output_type": "execute_result"
    }
   ],
   "source": [
    "so4_quota = -so4*2/all_components\n",
    "so4_quota"
   ]
  },
  {
   "cell_type": "code",
   "execution_count": 21,
   "metadata": {},
   "outputs": [
    {
     "data": {
      "text/plain": "array([1., 1., 1., 1., 1., 1., 1., 1., 1., 1., 1., 1.])"
     },
     "execution_count": 21,
     "metadata": {},
     "output_type": "execute_result"
    }
   ],
   "source": [
    "nh4_quota+no2_quota+no3_quota+po4_quota+so4_quota"
   ]
  },
  {
   "cell_type": "markdown",
   "metadata": {},
   "source": [
    "#### Alkalinity to reduced sulfur compounds fluxes fractions"
   ]
  },
  {
   "cell_type": "code",
   "execution_count": 22,
   "metadata": {},
   "outputs": [],
   "source": [
    "ds1 = xr.open_dataset('data/low_sulfate_reduction_rate/2_po75-25_di1e-9/sediments.nc')\n",
    "ds2 = xr.open_dataset('data/low_sulfate_reduction_rate/5_po75-25_di10e-9/sediments.nc')\n",
    "ds3 = xr.open_dataset('data/low_sulfate_reduction_rate/10_po75-25_di35e-9/sediments.nc')"
   ]
  },
  {
   "cell_type": "code",
   "execution_count": 23,
   "metadata": {},
   "outputs": [],
   "source": [
    "ds = ds2\n",
    "\n",
    "alkflux_df = ds['B_C_Alk   _flux'].to_dataframe()\n",
    "nh4flux_df = ds['B_NUT_NH4 _flux'].to_dataframe()\n",
    "no2flux_df = ds['B_NUT_NO2 _flux'].to_dataframe()\n",
    "no3flux_df = ds['B_NUT_NO3 _flux'].to_dataframe()\n",
    "po4flux_df = ds['B_NUT_PO4 _flux'].to_dataframe()\n",
    "so4flux_df = ds['B_S_SO4   _flux'].to_dataframe()\n",
    "h2s__flux_df = ds['B_S_H2S   _flux'].to_dataframe()\n",
    "s0___flux_df = ds['B_S_S0    _flux'].to_dataframe()\n",
    "s2o3_flux_df = ds['B_S_S2O3  _flux'].to_dataframe()\n",
    "\n",
    "alkflux_bottom = alkflux_df.groupby('z_faces').get_group(2.5)\n",
    "nh4flux_bottom = nh4flux_df.groupby('z_faces').get_group(2.5)\n",
    "no2flux_bottom = no2flux_df.groupby('z_faces').get_group(2.5)\n",
    "no3flux_bottom = no3flux_df.groupby('z_faces').get_group(2.5)\n",
    "po4flux_bottom = po4flux_df.groupby('z_faces').get_group(2.5)\n",
    "so4flux_bottom = so4flux_df.groupby('z_faces').get_group(2.5)\n",
    "h2sflux_bottom  = h2s__flux_df.groupby('z_faces').get_group(2.5)\n",
    "s0flux_bottom   = s0___flux_df.groupby('z_faces').get_group(2.5)\n",
    "s2o3flux_bottom = s2o3_flux_df.groupby('z_faces').get_group(2.5)"
   ]
  },
  {
   "cell_type": "code",
   "execution_count": 24,
   "metadata": {},
   "outputs": [
    {
     "data": {
      "text/plain": "2.5199999809265137"
     },
     "execution_count": 24,
     "metadata": {},
     "output_type": "execute_result"
    }
   ],
   "source": [
    "alkflux_df = alkflux_df.reset_index()\n",
    "alkflux_df.z_faces[38]"
   ]
  },
  {
   "cell_type": "code",
   "execution_count": 25,
   "metadata": {},
   "outputs": [],
   "source": [
    "year = (('2011-01-01','2011-01-31'), ('2011-02-01','2011-02-28'), ('2011-03-01','2011-03-31'), ('2011-04-01','2011-04-30'), \n",
    "        ('2011-05-01','2011-05-31'), ('2011-06-01','2011-06-30'), ('2011-07-01','2011-07-31'), ('2011-08-01','2011-08-31'),\n",
    "        ('2011-09-01','2011-09-30'), ('2011-10-01','2011-10-31'), ('2011-11-01','2011-11-30'), ('2011-12-01','2011-12-31'))"
   ]
  },
  {
   "cell_type": "code",
   "execution_count": 26,
   "metadata": {},
   "outputs": [],
   "source": [
    "alk_year = []\n",
    "nh4_year = []\n",
    "no2_year = []\n",
    "no3_year = []\n",
    "po4_year = []\n",
    "so4_year = []\n",
    "h2s_year = []\n",
    "s0_year = []\n",
    "s2o3_year = []\n",
    "for month in year:\n",
    "    alk_month = alkflux_bottom.loc[month[0]:month[1]]\n",
    "    nh4_month = nh4flux_bottom.loc[month[0]:month[1]]\n",
    "    no2_month = no2flux_bottom.loc[month[0]:month[1]]\n",
    "    no3_month = no3flux_bottom.loc[month[0]:month[1]]\n",
    "    po4_month = po4flux_bottom.loc[month[0]:month[1]]\n",
    "    so4_month = so4flux_bottom.loc[month[0]:month[1]]\n",
    "    h2s_month = h2sflux_bottom.loc[month[0]:month[1]]\n",
    "    s0_month = s0flux_bottom.loc[month[0]:month[1]]\n",
    "    s2o3_month = s2o3flux_bottom.loc[month[0]:month[1]]\n",
    "    alk_year.append(alk_month['B_C_Alk   _flux'].mean())\n",
    "    nh4_year.append(nh4_month['B_NUT_NH4 _flux'].mean())\n",
    "    no2_year.append(no2_month['B_NUT_NO2 _flux'].mean())\n",
    "    no3_year.append(no3_month['B_NUT_NO3 _flux'].mean())\n",
    "    po4_year.append(po4_month['B_NUT_PO4 _flux'].mean())\n",
    "    so4_year.append(so4_month['B_S_SO4   _flux'].mean())\n",
    "    h2s_year.append(h2s_month['B_S_H2S   _flux'].mean())\n",
    "    s0_year.append(s0_month['B_S_S0    _flux'].mean())\n",
    "    s2o3_year.append(s2o3_month['B_S_S2O3  _flux'].mean())"
   ]
  },
  {
   "cell_type": "code",
   "execution_count": 27,
   "metadata": {},
   "outputs": [],
   "source": [
    "alk = np.array(alk_year)\n",
    "nh4 = np.array(nh4_year)\n",
    "no2 = np.array(no2_year)\n",
    "no3 = np.array(no3_year)\n",
    "po4 = np.array(po4_year)\n",
    "so4 = np.array(so4_year)\n",
    "h2s = np.array(h2s_year)\n",
    "s0 = np.array(s0_year)\n",
    "s2o3 = np.array(s2o3_year)"
   ]
  },
  {
   "cell_type": "code",
   "execution_count": 28,
   "metadata": {},
   "outputs": [],
   "source": [
    "s_total = h2s + s0 + 2*s2o3"
   ]
  },
  {
   "cell_type": "code",
   "execution_count": 29,
   "metadata": {},
   "outputs": [],
   "source": [
    "so4direct_quota = -2*so4"
   ]
  },
  {
   "cell_type": "code",
   "execution_count": 30,
   "metadata": {},
   "outputs": [
    {
     "data": {
      "text/plain": "array([ 1.30717671,  0.79401398,  0.67029887,  1.1521666 ,  3.35178661,\n        7.92447186, 10.8350687 ,  9.7854023 ,  7.42817974,  6.08274937,\n        5.43908501,  3.14279342])"
     },
     "execution_count": 30,
     "metadata": {},
     "output_type": "execute_result"
    }
   ],
   "source": [
    "so4direct_quota"
   ]
  },
  {
   "cell_type": "code",
   "execution_count": 31,
   "metadata": {},
   "outputs": [],
   "source": [
    "sulfurquota = s_total*2"
   ]
  },
  {
   "cell_type": "code",
   "execution_count": 32,
   "metadata": {},
   "outputs": [
    {
     "data": {
      "text/plain": "array([2.03801749, 1.17398097, 0.81777972, 0.8962803 , 2.20720802,\n       5.68820846, 8.71311671, 7.65851259, 6.15646052, 5.37332326,\n       4.92504215, 3.70756191])"
     },
     "execution_count": 32,
     "metadata": {},
     "output_type": "execute_result"
    }
   ],
   "source": [
    "sulfurquota"
   ]
  },
  {
   "cell_type": "code",
   "execution_count": 33,
   "metadata": {},
   "outputs": [
    {
     "data": {
      "text/plain": "8.557701054029167"
     },
     "execution_count": 33,
     "metadata": {},
     "output_type": "execute_result"
    }
   ],
   "source": [
    "sum(so4direct_quota)-sum(sulfurquota)"
   ]
  },
  {
   "cell_type": "markdown",
   "execution_count": null,
   "metadata": {},
   "outputs": [],
   "source": [
    "#### Calculation of the average alkalinity values"
   ]
  },
  {
   "cell_type": "code",
   "execution_count": 2,
   "metadata": {},
   "outputs": [
    {
     "name": "stdout",
     "output_type": "stream",
     "text": "\u001b[0m\u001b[01;34m10_po75-25_di35e-9\u001b[0m/  \u001b[01;34m3_po75-25_di2e-9\u001b[0m/   \u001b[01;34m6_po75-25_di15e-9\u001b[0m/  \u001b[01;34m9_po75-25_di30e-9\u001b[0m/\n\u001b[01;34m1_po75-25_di0e-9\u001b[0m/    \u001b[01;34m4_po75-25_di5e-9\u001b[0m/   \u001b[01;34m7_po75-25_di20e-9\u001b[0m/\n\u001b[01;34m2_po75-25_di1e-9\u001b[0m/    \u001b[01;34m5_po75-25_di10e-9\u001b[0m/  \u001b[01;34m8_po75-25_di25e-9\u001b[0m/\n"
    }
   ],
   "source": [
    "ls data/low_sulfate_reduction_rate/"
   ]
  },
  {
   "cell_type": "code",
   "execution_count": 3,
   "metadata": {},
   "outputs": [],
   "source": [
    "base_path = 'data/low_sulfate_reduction_rate'"
   ]
  },
  {
   "cell_type": "code",
   "execution_count": 4,
   "metadata": {},
   "outputs": [],
   "source": [
    "ds1 = xr.open_dataset('{}/1_po75-25_di0e-9/water.nc'.format(base_path))\n",
    "ds2 = xr.open_dataset('{}/2_po75-25_di1e-9/water.nc'.format(base_path))\n",
    "ds3 = xr.open_dataset('{}/3_po75-25_di2e-9/water.nc'.format(base_path))\n",
    "ds4 = xr.open_dataset('{}/4_po75-25_di5e-9/water.nc'.format(base_path))\n",
    "ds5 = xr.open_dataset('{}/5_po75-25_di10e-9/water.nc'.format(base_path))\n",
    "ds6 = xr.open_dataset('{}/6_po75-25_di15e-9/water.nc'.format(base_path))\n",
    "ds7 = xr.open_dataset('{}/7_po75-25_di20e-9/water.nc'.format(base_path))\n",
    "ds8 = xr.open_dataset('{}/8_po75-25_di25e-9/water.nc'.format(base_path))\n",
    "ds9 = xr.open_dataset('{}/9_po75-25_di30e-9/water.nc'.format(base_path))\n",
    "ds10 = xr.open_dataset('{}/10_po75-25_di35e-9/water.nc'.format(base_path))"
   ]
  },
  {
   "cell_type": "code",
   "execution_count": 45,
   "metadata": {},
   "outputs": [],
   "source": [
    "ds = ds10"
   ]
  },
  {
   "cell_type": "code",
   "execution_count": 46,
   "metadata": {},
   "outputs": [],
   "source": [
    "alk_df     = ds['B_C_Alk'].to_dataframe()\n",
    "alk_surface    = alk_df.groupby('z').get_group(0.625)\n",
    "alk_surface_year = alk_surface.loc['2011-01-01':'2011-12-31']"
   ]
  },
  {
   "cell_type": "code",
   "execution_count": 47,
   "metadata": {},
   "outputs": [],
   "source": [
    "alk_surface_year = alk_surface_year.reset_index()"
   ]
  },
  {
   "cell_type": "code",
   "execution_count": 48,
   "metadata": {},
   "outputs": [
    {
     "data": {
      "text/plain": "2372.77197265625"
     },
     "execution_count": 48,
     "metadata": {},
     "output_type": "execute_result"
    }
   ],
   "source": [
    "alk_surface_year['B_C_Alk'].mean()"
   ]
  },
  {
   "cell_type": "code",
   "execution_count": null,
   "metadata": {},
   "outputs": [],
   "source": []
  }
 ],
 "metadata": {
  "jupytext": {
   "text_representation": {
    "extension": ".Rmd",
    "format_name": "rmarkdown",
    "format_version": "1.0",
    "jupytext_version": "0.8.6"
   }
  },
  "kernelspec": {
   "display_name": "Python 3",
   "language": "python",
   "name": "python3"
  },
  "language_info": {
   "codemirror_mode": {
    "name": "ipython",
    "version": 3
   },
   "file_extension": ".py",
   "mimetype": "text/x-python",
   "name": "python",
   "nbconvert_exporter": "python",
   "pygments_lexer": "ipython3",
   "version": "3.7.2"
  }
 },
 "nbformat": 4,
 "nbformat_minor": 2
}