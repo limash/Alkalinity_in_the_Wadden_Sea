{
 "cells": [
  {
   "cell_type": "markdown",
   "metadata": {},
   "source": [
    "### Some calculations prepared for the manuscript"
   ]
  },
  {
   "cell_type": "code",
   "execution_count": 1,
   "metadata": {},
   "outputs": [],
   "source": [
    "%matplotlib inline \n",
    "\n",
    "import numpy as np\n",
    "import matplotlib.pyplot as plt\n",
    "import plot_functions as pf\n",
    "import pandas as pd\n",
    "import xarray as xr\n",
    "import seaborn as sns #sets up styles and gives us more plotting options\n",
    "sns.set()"
   ]
  },
  {
   "cell_type": "markdown",
   "metadata": {},
   "source": [
    "####  Porosity distribution calculations"
   ]
  },
  {
   "cell_type": "code",
   "execution_count": 2,
   "metadata": {},
   "outputs": [],
   "source": [
    "def porosity(z, z_swi, phi_swi, phi_inf):\n",
    "    \"\"\"Calculates porosity on depth z according to depth at SWI (z_swi),\n",
    "                  porosity at SWI (phi_swi),\n",
    "              and porosity at 'infinite depth' layer )phi_inf\"\"\"\n",
    "    k_phi = 0.04\n",
    "    k = -(z-z_swi)/k_phi\n",
    "    return (phi_inf+(phi_swi-phi_inf)*np.exp(k))"
   ]
  },
  {
   "cell_type": "code",
   "execution_count": 3,
   "metadata": {},
   "outputs": [
    {
     "data": {
      "text/plain": [
       "0.691248451292299"
      ]
     },
     "execution_count": 3,
     "metadata": {},
     "output_type": "execute_result"
    }
   ],
   "source": [
    "porosity(2.505, 2.5, 0.75, 0.25)"
   ]
  },
  {
   "cell_type": "code",
   "execution_count": 4,
   "metadata": {},
   "outputs": [],
   "source": [
    "z = np.linspace(2.505, 2.595, 10)"
   ]
  },
  {
   "cell_type": "code",
   "execution_count": 5,
   "metadata": {},
   "outputs": [],
   "source": [
    "phi_inf_array = np.arange(0.05, 0.36, 0.01)"
   ]
  },
  {
   "cell_type": "code",
   "execution_count": 6,
   "metadata": {},
   "outputs": [],
   "source": [
    "phi_swi_array = np.arange(0.45, 0.86, 0.01)"
   ]
  },
  {
   "cell_type": "markdown",
   "metadata": {},
   "source": [
    "which combinations of phi_swi and phi_inf match appoximately 0.43:"
   ]
  },
  {
   "cell_type": "code",
   "execution_count": 7,
   "metadata": {},
   "outputs": [
    {
     "name": "stdout",
     "output_type": "stream",
     "text": [
      "0.6100000000000001 0.33\n",
      "0.6300000000000001 0.32000000000000006\n",
      "0.6800000000000002 0.29000000000000004\n",
      "0.7000000000000002 0.28\n",
      "0.7300000000000002 0.26000000000000006\n",
      "0.7500000000000002 0.25000000000000006\n",
      "0.8000000000000003 0.22000000000000003\n",
      "0.8200000000000003 0.21000000000000002\n"
     ]
    }
   ],
   "source": [
    "for phi_swi in phi_swi_array:\n",
    "    for phi_inf in phi_inf_array:\n",
    "        if (0.432 < sum(porosity(z, 2.5, phi_swi, phi_inf))/10 < 0.434):\n",
    "            print(phi_swi, phi_inf)"
   ]
  },
  {
   "cell_type": "markdown",
   "metadata": {},
   "source": [
    "#### Carbonates dissolution and precipitation estimation"
   ]
  },
  {
   "cell_type": "markdown",
   "metadata": {},
   "source": [
    "Open a model output file with average kz dispersion coefficient. We will assume that precipitation is proportional to phytoplankton growth and dissolution is proportional to OM oxigen respiration"
   ]
  },
  {
   "cell_type": "code",
   "execution_count": 8,
   "metadata": {},
   "outputs": [],
   "source": [
    "ds = xr.open_dataset('data/low_sulfate_reduction_rate/5_po75-25_di10e-9/water.nc')\n",
    "alkflux_df = ds['B_C_Alk   _flux'].to_dataframe()\n",
    "biogrow_df = ds['B_BIO_GrowthPhy'].to_dataframe()\n",
    "omresp_df  = ds['B_BIO_DcPOC_O2'].to_dataframe()\n",
    "alk_df     = ds['B_C_Alk'].to_dataframe()\n",
    "alkflux_bottom = alkflux_df.groupby('z_faces').get_group(2.5)\n",
    "omresp_bottom  = omresp_df.groupby('z').get_group(2.4749999046325684)\n",
    "biogrow_surfac = biogrow_df.groupby('z').get_group(0.625)\n",
    "alk_surface    = alk_df.groupby('z').get_group(0.625)\n",
    "alk_surface_year = alk_surface.loc['2011-01-01':'2011-12-31']"
   ]
  },
  {
   "cell_type": "code",
   "execution_count": 9,
   "metadata": {},
   "outputs": [],
   "source": [
    "year = (('2011-01-01','2011-01-31'), ('2011-02-01','2011-02-28'), ('2011-03-01','2011-03-31'), ('2011-04-01','2011-04-30'), \n",
    "        ('2011-05-01','2011-05-31'), ('2011-06-01','2011-06-30'), ('2011-07-01','2011-07-31'), ('2011-08-01','2011-08-31'),\n",
    "        ('2011-09-01','2011-09-30'), ('2011-10-01','2011-10-31'), ('2011-11-01','2011-11-30'), ('2011-12-01','2011-12-31'))"
   ]
  },
  {
   "cell_type": "code",
   "execution_count": 10,
   "metadata": {},
   "outputs": [],
   "source": [
    "year_days = [31, 28, 31, 30, 31, 30, 31, 31, 30, 31, 30, 31]"
   ]
  },
  {
   "cell_type": "code",
   "execution_count": 11,
   "metadata": {},
   "outputs": [
    {
     "data": {
      "text/plain": [
       "array([ 31,  59,  90, 120, 151, 181, 212, 243, 273, 304, 334, 365])"
      ]
     },
     "execution_count": 11,
     "metadata": {},
     "output_type": "execute_result"
    }
   ],
   "source": [
    "year_acc_days = np.cumsum(year_days)\n",
    "year_acc_days"
   ]
  },
  {
   "cell_type": "code",
   "execution_count": 12,
   "metadata": {},
   "outputs": [],
   "source": [
    "alk_year_delta = []\n",
    "alk_year = []\n",
    "bio_year = []\n",
    "res_year = []\n",
    "for month in year:\n",
    "    alk_delta_month = alk_surface.loc[month[0]:month[1]]\n",
    "    alk_month = alkflux_bottom.loc[month[0]:month[1]]\n",
    "    bio_month = biogrow_surfac.loc[month[0]:month[1]]\n",
    "    res_month =  omresp_bottom.loc[month[0]:month[1]]\n",
    "    alk_year_delta.append(alk_delta_month['B_C_Alk'][0])\n",
    "    alk_year.append(alk_month['B_C_Alk   _flux'].mean())\n",
    "    bio_year.append(bio_month['B_BIO_GrowthPhy'].mean())\n",
    "    res_year.append(res_month['B_BIO_DcPOC_O2'].mean())"
   ]
  },
  {
   "cell_type": "code",
   "execution_count": 13,
   "metadata": {},
   "outputs": [],
   "source": [
    "bio_year_quotas = np.array(bio_year)/sum(bio_year)\n",
    "alk_year_quotas = np.array(alk_year)/sum(alk_year)\n",
    "res_year_quotas = np.array(res_year)/sum(res_year)"
   ]
  },
  {
   "cell_type": "markdown",
   "metadata": {},
   "source": [
    "According to Beukema the production/dissolution of CaCO$_3$ is approximately 1 M"
   ]
  },
  {
   "cell_type": "code",
   "execution_count": 14,
   "metadata": {},
   "outputs": [
    {
     "data": {
      "text/plain": [
       "array([0.06591641, 0.07615452, 0.3328146 , 4.60330779, 4.75019771,\n",
       "       4.50845977, 4.89712587, 4.39132298, 4.06138277, 3.49720824,\n",
       "       1.39452357, 0.15694502])"
      ]
     },
     "execution_count": 14,
     "metadata": {},
     "output_type": "execute_result"
    }
   ],
   "source": [
    "caco3_precipitation = bio_year_quotas*1000/year_days #mM day-1\n",
    "caco3_precipitation"
   ]
  },
  {
   "cell_type": "code",
   "execution_count": 15,
   "metadata": {},
   "outputs": [
    {
     "data": {
      "text/plain": [
       "array([0.71606399, 1.67373148, 1.92953585, 2.77043634, 4.34911983,\n",
       "       5.93712477, 5.24333561, 3.73863469, 2.96444336, 1.73688719,\n",
       "       1.25562211, 0.52212352])"
      ]
     },
     "execution_count": 15,
     "metadata": {},
     "output_type": "execute_result"
    }
   ],
   "source": [
    "caco3_dissolution = res_year_quotas*1000/year_days #mM day-1\n",
    "caco3_dissolution"
   ]
  },
  {
   "cell_type": "code",
   "execution_count": 16,
   "metadata": {},
   "outputs": [],
   "source": [
    "ca_flux = caco3_dissolution - caco3_precipitation"
   ]
  },
  {
   "cell_type": "code",
   "execution_count": 17,
   "metadata": {},
   "outputs": [
    {
     "data": {
      "text/plain": [
       "array([ 0.65014758,  1.59757696,  1.59672124, -1.83287145, -0.40107788,\n",
       "        1.42866501,  0.34620973, -0.65268829, -1.09693941, -1.76032105,\n",
       "       -0.13890146,  0.3651785 ])"
      ]
     },
     "execution_count": 17,
     "metadata": {},
     "output_type": "execute_result"
    }
   ],
   "source": [
    "ca_flux"
   ]
  },
  {
   "cell_type": "markdown",
   "metadata": {},
   "source": [
    "Calculate TA flux according to the depth of the Wadden Sea (2.5 m) and the fact that CaCO$_3$ participation/dissolution change TA by 2 moles per 1 mole of CaCO$_3$ precipitated/dissolved"
   ]
  },
  {
   "cell_type": "code",
   "execution_count": 18,
   "metadata": {},
   "outputs": [],
   "source": [
    "ca_array = np.array(ca_flux)/2.5*2"
   ]
  },
  {
   "cell_type": "code",
   "execution_count": 19,
   "metadata": {},
   "outputs": [
    {
     "data": {
      "text/plain": [
       "array([ 0.52011806,  1.27806157,  1.277377  , -1.46629716, -0.3208623 ,\n",
       "        1.142932  ,  0.27696779, -0.52215064, -0.87755153, -1.40825684,\n",
       "       -0.11112117,  0.2921428 ])"
      ]
     },
     "execution_count": 19,
     "metadata": {},
     "output_type": "execute_result"
    }
   ],
   "source": [
    "ca_array"
   ]
  },
  {
   "cell_type": "code",
   "execution_count": 20,
   "metadata": {},
   "outputs": [],
   "source": [
    "alk_surface_year = alk_surface_year.reset_index()\n",
    "alk_array = np.array(alk_surface_year['B_C_Alk'])\n",
    "alkflux_bottom_year = alkflux_bottom.loc['2011-01-01':'2011-12-31']\n",
    "alkflux_bottom_year = alkflux_bottom_year.reset_index()"
   ]
  },
  {
   "cell_type": "markdown",
   "metadata": {},
   "source": [
    "#### Calculate and plot a total increment of Ca$^{2+}$ concentration changes due to fluxes previously estimated"
   ]
  },
  {
   "cell_type": "markdown",
   "metadata": {},
   "source": [
    "Calculate TA anomaly due to CaCO$_3$ changes:"
   ]
  },
  {
   "cell_type": "code",
   "execution_count": 21,
   "metadata": {},
   "outputs": [],
   "source": [
    "calpart = np.zeros(365)\n",
    "day = 0\n",
    "last_entry = 0\n",
    "for month, increment in zip(year_days, ca_array):\n",
    "    temp = np.linspace(last_entry+increment, last_entry+increment*month, num=month)\n",
    "    calpart[day:day+month] = temp\n",
    "    last_entry = temp[-1]\n",
    "    day += month"
   ]
  },
  {
   "cell_type": "markdown",
   "metadata": {},
   "source": [
    "Monthly fluxes, see picture"
   ]
  },
  {
   "cell_type": "code",
   "execution_count": 22,
   "metadata": {},
   "outputs": [],
   "source": [
    "caco3_dis = np.zeros(365)\n",
    "day = 0\n",
    "for month, increment in zip(year_days, caco3_dissolution):\n",
    "    caco3_dis[day:day+month] = increment\n",
    "    day += month"
   ]
  },
  {
   "cell_type": "code",
   "execution_count": 23,
   "metadata": {},
   "outputs": [],
   "source": [
    "caco3_pre = np.zeros(365)\n",
    "day = 0\n",
    "for month, increment in zip(year_days, caco3_precipitation):\n",
    "    caco3_pre[day:day+month] = increment\n",
    "    day += month"
   ]
  },
  {
   "cell_type": "code",
   "execution_count": 24,
   "metadata": {},
   "outputs": [],
   "source": [
    "result_array = alk_array + calpart"
   ]
  },
  {
   "cell_type": "code",
   "execution_count": 25,
   "metadata": {},
   "outputs": [
    {
     "name": "stderr",
     "output_type": "stream",
     "text": [
      "/home/shamil/anaconda3/lib/python3.7/site-packages/pandas/plotting/_converter.py:129: FutureWarning: Using an implicitly registered datetime converter for a matplotlib plotting method. The converter was registered by pandas on import. Future versions of pandas will require you to explicitly register matplotlib converters.\n",
      "\n",
      "To register the converters:\n",
      "\t>>> from pandas.plotting import register_matplotlib_converters\n",
      "\t>>> register_matplotlib_converters()\n",
      "  warnings.warn(msg, FutureWarning)\n"
     ]
    },
    {
     "data": {
      "image/png": "[encoded data removed]",
      "text/plain": [
       "<Figure size 1008x288 with 2 Axes>"
      ]
     },
     "metadata": {
      "needs_background": "light"
     },
     "output_type": "display_data"
    }
   ],
   "source": [
    "import matplotlib.dates as mdates\n",
    "\n",
    "fig = plt.figure(figsize=(14, 4))\n",
    "ax1 = fig.add_subplot(1, 2, 1)\n",
    "ax1.plot(alk_surface_year['time'], caco3_dis*2, linewidth=2, label=r'CaCO$_3$ dissolution')\n",
    "ax1.plot(alk_surface_year['time'], caco3_pre*2, linewidth=2, label=r'CaCO$_3$ precipitation')\n",
    "ax1.plot(alk_surface_year['time'], alkflux_bottom_year['B_C_Alk   _flux'], linewidth=2, label=r'Modelled TA flux at the SWI')\n",
    "ax1.plot(alk_surface_year['time'], caco3_dis*2+alkflux_bottom_year['B_C_Alk   _flux'], linewidth=2, \n",
    "         label=r'CaCO$_3$ dissolution + TA flux at the SWI')\n",
    "ax1.set_ylabel('TA fluxes, mmol m$^{-2}$ d$^{-1}$', fontsize=16)\n",
    "ax1.legend(loc='upper left')\n",
    "ax1.grid(True)\n",
    "ax = fig.add_subplot(1, 2, 2)\n",
    "ax.plot(alk_surface_year['time'], calpart-calpart.min(), linewidth=2, label=r'Due to CaCO$_3$ dissolution/precipitation')\n",
    "ax.plot(alk_surface_year['time'], alk_array-alk_array.min(), linewidth=2, label=r'From the model calculations')\n",
    "ax.plot(alk_surface_year['time'], result_array - result_array.min(), linewidth=2, label=r'CaCO$_3$ + model calculations')\n",
    "ax.set_ylabel('Relative TA, mmol m$^{-3}$', fontsize=16)\n",
    "ax.legend(loc='upper left')\n",
    "fntsz = 16\n",
    "x_text = 0.97\n",
    "y_text = 0.98\n",
    "labels = ('(A)', '(B)')\n",
    "for i,axis in enumerate((ax1,ax)):\n",
    "    axis.xaxis.set_major_formatter(mdates.DateFormatter('%b'))\n",
    "    axis.text(x_text, y_text, labels[i], transform=axis.transAxes,\n",
    "              fontsize=fntsz, fontweight='bold', va='top', ha='right')  \n",
    "fig.tight_layout(pad=1)\n",
    "plt.show()"
   ]
  },
  {
   "cell_type": "code",
   "execution_count": 26,
   "metadata": {},
   "outputs": [
    {
     "data": {
      "text/plain": [
       "array([ 0.52011806,  1.27806157,  1.277377  , -1.46629716, -0.3208623 ,\n",
       "        1.142932  ,  0.27696779, -0.52215064, -0.87755153, -1.40825684,\n",
       "       -0.11112117,  0.2921428 ])"
      ]
     },
     "execution_count": 26,
     "metadata": {},
     "output_type": "execute_result"
    }
   ],
   "source": [
    "ca_array"
   ]
  },
  {
   "cell_type": "code",
   "execution_count": 27,
   "metadata": {},
   "outputs": [
    {
     "data": {
      "text/plain": [
       "array([ 16.12365996,  35.78572383,  39.59868686, -43.98891487,\n",
       "        -9.94673145,  34.28796014,   8.58600134, -16.18666971,\n",
       "       -26.32654583, -43.65596205,  -3.33363504,   9.05642681])"
      ]
     },
     "execution_count": 27,
     "metadata": {},
     "output_type": "execute_result"
    }
   ],
   "source": [
    "ca_array_monthly = ca_array*year_days\n",
    "ca_array_monthly"
   ]
  },
  {
   "cell_type": "code",
   "execution_count": 28,
   "metadata": {},
   "outputs": [],
   "source": [
    "alk_array = np.array(alk_year_delta)"
   ]
  },
  {
   "cell_type": "code",
   "execution_count": 29,
   "metadata": {},
   "outputs": [
    {
     "data": {
      "text/plain": [
       "array([ 75.07739 ,  40.81958 ,  16.935059,   0.      ,   2.230957,\n",
       "        20.923096,  47.810547,  66.718994,  87.87427 , 105.78027 ,\n",
       "       116.468506, 104.0957  ], dtype=float32)"
      ]
     },
     "execution_count": 29,
     "metadata": {},
     "output_type": "execute_result"
    }
   ],
   "source": [
    "alk_array = alk_array - alk_array.min()\n",
    "alk_array"
   ]
  },
  {
   "cell_type": "markdown",
   "metadata": {},
   "source": [
    "#### Alkalinity fluxes compounds"
   ]
  },
  {
   "cell_type": "code",
   "execution_count": 30,
   "metadata": {},
   "outputs": [],
   "source": [
    "ds = xr.open_dataset('data/low_sulfate_reduction_rate/5_po75-25_di10e-9/water.nc')\n",
    "alkflux_df = ds['B_C_Alk   _flux'].to_dataframe()\n",
    "nh4flux_df = ds['B_NUT_NH4 _flux'].to_dataframe()\n",
    "no2flux_df = ds['B_NUT_NO2 _flux'].to_dataframe()\n",
    "no3flux_df = ds['B_NUT_NO3 _flux'].to_dataframe()\n",
    "po4flux_df = ds['B_NUT_PO4 _flux'].to_dataframe()\n",
    "so4flux_df = ds['B_S_SO4   _flux'].to_dataframe()\n",
    "alkflux_bottom = alkflux_df.groupby('z_faces').get_group(2.5)\n",
    "nh4flux_bottom = nh4flux_df.groupby('z_faces').get_group(2.5)\n",
    "no2flux_bottom = no2flux_df.groupby('z_faces').get_group(2.5)\n",
    "no3flux_bottom = no3flux_df.groupby('z_faces').get_group(2.5)\n",
    "po4flux_bottom = po4flux_df.groupby('z_faces').get_group(2.5)\n",
    "so4flux_bottom = so4flux_df.groupby('z_faces').get_group(2.5)"
   ]
  },
  {
   "cell_type": "code",
   "execution_count": 31,
   "metadata": {},
   "outputs": [],
   "source": [
    "year = (('2011-01-01','2011-01-31'), ('2011-02-01','2011-02-28'), ('2011-03-01','2011-03-31'), ('2011-04-01','2011-04-30'), \n",
    "        ('2011-05-01','2011-05-31'), ('2011-06-01','2011-06-30'), ('2011-07-01','2011-07-31'), ('2011-08-01','2011-08-31'),\n",
    "        ('2011-09-01','2011-09-30'), ('2011-10-01','2011-10-31'), ('2011-11-01','2011-11-30'), ('2011-12-01','2011-12-31'))"
   ]
  },
  {
   "cell_type": "code",
   "execution_count": 32,
   "metadata": {},
   "outputs": [],
   "source": [
    "year_days = [31, 28, 31, 30, 31, 30, 31, 31, 30, 31, 30, 31]"
   ]
  },
  {
   "cell_type": "code",
   "execution_count": 33,
   "metadata": {},
   "outputs": [],
   "source": [
    "alk_year = []\n",
    "nh4_year = []\n",
    "no2_year = []\n",
    "no3_year = []\n",
    "po4_year = []\n",
    "so4_year = []\n",
    "for month in year:\n",
    "    alk_month = alkflux_bottom.loc[month[0]:month[1]]\n",
    "    nh4_month = nh4flux_bottom.loc[month[0]:month[1]]\n",
    "    no2_month = no2flux_bottom.loc[month[0]:month[1]]\n",
    "    no3_month = no3flux_bottom.loc[month[0]:month[1]]\n",
    "    po4_month = po4flux_bottom.loc[month[0]:month[1]]\n",
    "    so4_month = so4flux_bottom.loc[month[0]:month[1]]\n",
    "    alk_year.append(alk_month['B_C_Alk   _flux'].mean())\n",
    "    nh4_year.append(nh4_month['B_NUT_NH4 _flux'].mean())\n",
    "    no2_year.append(no2_month['B_NUT_NO2 _flux'].mean())\n",
    "    no3_year.append(no3_month['B_NUT_NO3 _flux'].mean())\n",
    "    po4_year.append(po4_month['B_NUT_PO4 _flux'].mean())\n",
    "    so4_year.append(so4_month['B_S_SO4   _flux'].mean())"
   ]
  },
  {
   "cell_type": "code",
   "execution_count": 34,
   "metadata": {},
   "outputs": [],
   "source": [
    "alk = np.array(alk_year)\n",
    "nh4 = np.array(nh4_year)\n",
    "no2 = np.array(no2_year)\n",
    "no3 = np.array(no3_year)\n",
    "po4 = np.array(po4_year)\n",
    "so4 = np.array(so4_year)"
   ]
  },
  {
   "cell_type": "code",
   "execution_count": 35,
   "metadata": {},
   "outputs": [],
   "source": [
    "all_components = nh4-no2-no3-po4-2*so4"
   ]
  },
  {
   "cell_type": "code",
   "execution_count": 36,
   "metadata": {},
   "outputs": [
    {
     "data": {
      "text/plain": [
       "array([0.12761769, 0.14015886, 0.14685221, 0.14037821, 0.14172562,\n",
       "       0.11023074, 0.09720021, 0.08789225, 0.09185691, 0.09640039,\n",
       "       0.1047076 , 0.11332254])"
      ]
     },
     "execution_count": 36,
     "metadata": {},
     "output_type": "execute_result"
    }
   ],
   "source": [
    "nh4_quota = nh4/all_components\n",
    "nh4_quota"
   ]
  },
  {
   "cell_type": "code",
   "execution_count": 37,
   "metadata": {},
   "outputs": [
    {
     "data": {
      "text/plain": [
       "array([-0.00042005, -0.00080647, -0.001686  , -0.00230512,  0.00031057,\n",
       "        0.00120826,  0.00013709,  0.00013442,  0.00033019,  0.00042988,\n",
       "        0.00280258,  0.00182244])"
      ]
     },
     "execution_count": 37,
     "metadata": {},
     "output_type": "execute_result"
    }
   ],
   "source": [
    "no2_quota = -no2/all_components\n",
    "no2_quota"
   ]
  },
  {
   "cell_type": "code",
   "execution_count": 38,
   "metadata": {},
   "outputs": [
    {
     "data": {
      "text/plain": [
       "array([0.07953435, 0.11249185, 0.13687219, 0.09518522, 0.0326903 ,\n",
       "       0.00513885, 0.00082546, 0.00022191, 0.00035428, 0.00071845,\n",
       "       0.00523538, 0.03760013])"
      ]
     },
     "execution_count": 38,
     "metadata": {},
     "output_type": "execute_result"
    }
   ],
   "source": [
    "no3_quota = -no3/all_components\n",
    "no3_quota"
   ]
  },
  {
   "cell_type": "code",
   "execution_count": 39,
   "metadata": {},
   "outputs": [
    {
     "data": {
      "text/plain": [
       "array([-0.00453248, -0.00367439, -0.0027573 , -0.00452861, -0.00782811,\n",
       "       -0.00693703, -0.00620746, -0.00565129, -0.0059348 , -0.00625626,\n",
       "       -0.00679275, -0.00589359])"
      ]
     },
     "execution_count": 39,
     "metadata": {},
     "output_type": "execute_result"
    }
   ],
   "source": [
    "po4_quota = -po4/all_components\n",
    "po4_quota"
   ]
  },
  {
   "cell_type": "code",
   "execution_count": 40,
   "metadata": {},
   "outputs": [
    {
     "data": {
      "text/plain": [
       "array([0.79780048, 0.75183015, 0.7207189 , 0.7712703 , 0.83310162,\n",
       "       0.89035918, 0.90804471, 0.91740271, 0.91339342, 0.90870753,\n",
       "       0.89404719, 0.85314848])"
      ]
     },
     "execution_count": 40,
     "metadata": {},
     "output_type": "execute_result"
    }
   ],
   "source": [
    "so4_quota = -so4*2/all_components\n",
    "so4_quota"
   ]
  },
  {
   "cell_type": "code",
   "execution_count": 41,
   "metadata": {},
   "outputs": [
    {
     "data": {
      "text/plain": [
       "array([1., 1., 1., 1., 1., 1., 1., 1., 1., 1., 1., 1.])"
      ]
     },
     "execution_count": 41,
     "metadata": {},
     "output_type": "execute_result"
    }
   ],
   "source": [
    "nh4_quota+no2_quota+no3_quota+po4_quota+so4_quota"
   ]
  },
  {
   "cell_type": "markdown",
   "metadata": {},
   "source": [
    "#### Alkalinity to reduced sulfur compounds fluxes fractions"
   ]
  },
  {
   "cell_type": "code",
   "execution_count": 152,
   "metadata": {},
   "outputs": [],
   "source": [
    "ds1 = xr.open_dataset('data/low_sulfate_reduction_rate/2_po75-25_di1e-9/sediments.nc')\n",
    "ds2 = xr.open_dataset('data/low_sulfate_reduction_rate/5_po75-25_di10e-9/sediments.nc')\n",
    "ds3 = xr.open_dataset('data/low_sulfate_reduction_rate/10_po75-25_di35e-9/sediments.nc')"
   ]
  },
  {
   "cell_type": "code",
   "execution_count": 153,
   "metadata": {},
   "outputs": [],
   "source": [
    "ds = ds1\n",
    "\n",
    "alkflux_df = ds['B_C_Alk   _flux'].to_dataframe()\n",
    "nh4flux_df = ds['B_NUT_NH4 _flux'].to_dataframe()\n",
    "no2flux_df = ds['B_NUT_NO2 _flux'].to_dataframe()\n",
    "no3flux_df = ds['B_NUT_NO3 _flux'].to_dataframe()\n",
    "po4flux_df = ds['B_NUT_PO4 _flux'].to_dataframe()\n",
    "so4flux_df = ds['B_S_SO4   _flux'].to_dataframe()\n",
    "h2s__flux_df = ds['B_S_H2S   _flux'].to_dataframe()\n",
    "s0___flux_df = ds['B_S_S0    _flux'].to_dataframe()\n",
    "s2o3_flux_df = ds['B_S_S2O3  _flux'].to_dataframe()\n",
    "\n",
    "alkflux_bottom = alkflux_df.groupby('z_faces').get_group(2.5)\n",
    "nh4flux_bottom = nh4flux_df.groupby('z_faces').get_group(2.5)\n",
    "no2flux_bottom = no2flux_df.groupby('z_faces').get_group(2.5)\n",
    "no3flux_bottom = no3flux_df.groupby('z_faces').get_group(2.5)\n",
    "po4flux_bottom = po4flux_df.groupby('z_faces').get_group(2.5)\n",
    "so4flux_bottom = so4flux_df.groupby('z_faces').get_group(2.5)\n",
    "h2sflux_bottom  = h2s__flux_df.groupby('z_faces').get_group(2.5)\n",
    "s0flux_bottom   = s0___flux_df.groupby('z_faces').get_group(2.5)\n",
    "s2o3flux_bottom = s2o3_flux_df.groupby('z_faces').get_group(2.5)"
   ]
  },
  {
   "cell_type": "code",
   "execution_count": 154,
   "metadata": {},
   "outputs": [
    {
     "data": {
      "text/plain": [
       "2.5199999809265137"
      ]
     },
     "execution_count": 154,
     "metadata": {},
     "output_type": "execute_result"
    }
   ],
   "source": [
    "alkflux_df = alkflux_df.reset_index()\n",
    "alkflux_df.z_faces[38]"
   ]
  },
  {
   "cell_type": "code",
   "execution_count": 155,
   "metadata": {},
   "outputs": [],
   "source": [
    "year = (('2011-01-01','2011-01-31'), ('2011-02-01','2011-02-28'), ('2011-03-01','2011-03-31'), ('2011-04-01','2011-04-30'), \n",
    "        ('2011-05-01','2011-05-31'), ('2011-06-01','2011-06-30'), ('2011-07-01','2011-07-31'), ('2011-08-01','2011-08-31'),\n",
    "        ('2011-09-01','2011-09-30'), ('2011-10-01','2011-10-31'), ('2011-11-01','2011-11-30'), ('2011-12-01','2011-12-31'))"
   ]
  },
  {
   "cell_type": "code",
   "execution_count": 156,
   "metadata": {},
   "outputs": [],
   "source": [
    "alk_year = []\n",
    "nh4_year = []\n",
    "no2_year = []\n",
    "no3_year = []\n",
    "po4_year = []\n",
    "so4_year = []\n",
    "h2s_year = []\n",
    "s0_year = []\n",
    "s2o3_year = []\n",
    "for month in year:\n",
    "    alk_month = alkflux_bottom.loc[month[0]:month[1]]\n",
    "    nh4_month = nh4flux_bottom.loc[month[0]:month[1]]\n",
    "    no2_month = no2flux_bottom.loc[month[0]:month[1]]\n",
    "    no3_month = no3flux_bottom.loc[month[0]:month[1]]\n",
    "    po4_month = po4flux_bottom.loc[month[0]:month[1]]\n",
    "    so4_month = so4flux_bottom.loc[month[0]:month[1]]\n",
    "    h2s_month = h2sflux_bottom.loc[month[0]:month[1]]\n",
    "    s0_month = s0flux_bottom.loc[month[0]:month[1]]\n",
    "    s2o3_month = s2o3flux_bottom.loc[month[0]:month[1]]\n",
    "    alk_year.append(alk_month['B_C_Alk   _flux'].mean())\n",
    "    nh4_year.append(nh4_month['B_NUT_NH4 _flux'].mean())\n",
    "    no2_year.append(no2_month['B_NUT_NO2 _flux'].mean())\n",
    "    no3_year.append(no3_month['B_NUT_NO3 _flux'].mean())\n",
    "    po4_year.append(po4_month['B_NUT_PO4 _flux'].mean())\n",
    "    so4_year.append(so4_month['B_S_SO4   _flux'].mean())\n",
    "    h2s_year.append(h2s_month['B_S_H2S   _flux'].mean())\n",
    "    s0_year.append(s0_month['B_S_S0    _flux'].mean())\n",
    "    s2o3_year.append(s2o3_month['B_S_S2O3  _flux'].mean())"
   ]
  },
  {
   "cell_type": "code",
   "execution_count": 157,
   "metadata": {},
   "outputs": [],
   "source": [
    "alk = np.array(alk_year)\n",
    "nh4 = np.array(nh4_year)\n",
    "no2 = np.array(no2_year)\n",
    "no3 = np.array(no3_year)\n",
    "po4 = np.array(po4_year)\n",
    "so4 = np.array(so4_year)\n",
    "h2s = np.array(h2s_year)\n",
    "s0 = np.array(s0_year)\n",
    "s2o3 = np.array(s2o3_year)"
   ]
  },
  {
   "cell_type": "code",
   "execution_count": 158,
   "metadata": {},
   "outputs": [],
   "source": [
    "s_total = h2s + s0 + 2*s2o3"
   ]
  },
  {
   "cell_type": "code",
   "execution_count": 159,
   "metadata": {},
   "outputs": [],
   "source": [
    "so4direct_quota = -2*so4"
   ]
  },
  {
   "cell_type": "code",
   "execution_count": 160,
   "metadata": {},
   "outputs": [
    {
     "data": {
      "text/plain": [
       "array([2.35925555, 2.19339037, 2.26728201, 2.48274851, 2.9621284 ,\n",
       "       3.70206475, 4.37491894, 4.50708961, 4.17103577, 3.72517586,\n",
       "       3.30154586, 2.82282472])"
      ]
     },
     "execution_count": 160,
     "metadata": {},
     "output_type": "execute_result"
    }
   ],
   "source": [
    "so4direct_quota"
   ]
  },
  {
   "cell_type": "code",
   "execution_count": 161,
   "metadata": {},
   "outputs": [],
   "source": [
    "sulfurquota = s_total*2"
   ]
  },
  {
   "cell_type": "code",
   "execution_count": 162,
   "metadata": {},
   "outputs": [
    {
     "data": {
      "text/plain": [
       "array([1.46716894, 1.36686411, 1.38448322, 1.57948667, 2.51684254,\n",
       "       3.3318434 , 3.95644206, 4.06627689, 3.70018016, 3.05503491,\n",
       "       2.44361214, 1.58050954])"
      ]
     },
     "execution_count": 162,
     "metadata": {},
     "output_type": "execute_result"
    }
   ],
   "source": [
    "sulfurquota"
   ]
  },
  {
   "cell_type": "code",
   "execution_count": 163,
   "metadata": {},
   "outputs": [
    {
     "data": {
      "text/plain": [
       "8.420715749263763"
      ]
     },
     "execution_count": 163,
     "metadata": {},
     "output_type": "execute_result"
    }
   ],
   "source": [
    "sum(so4direct_quota)-sum(sulfurquota)"
   ]
  },
  {
   "cell_type": "markdown",
   "metadata": {},
   "source": [
    "#### Advection TA change"
   ]
  },
  {
   "cell_type": "code",
   "execution_count": 26,
   "metadata": {},
   "outputs": [],
   "source": [
    "ds = xr.open_dataset('data/advective_ta/1_10e-9/water.nc')"
   ]
  },
  {
   "cell_type": "code",
   "execution_count": 27,
   "metadata": {},
   "outputs": [],
   "source": [
    "nh4ta_df = ds['TA_due_to_NH4'].to_dataframe()\n",
    "no3ta_df = ds['TA_due_to_NO3'].to_dataframe()\n",
    "po4ta_df = ds['TA_due_to_PO4'].to_dataframe()\n",
    "so4ta_df = ds['TA_due_to_SO4'].to_dataframe()"
   ]
  },
  {
   "cell_type": "code",
   "execution_count": 28,
   "metadata": {},
   "outputs": [],
   "source": [
    "year = (('2011-01-01','2011-01-31'), ('2011-02-01','2011-02-28'), ('2011-03-01','2011-03-31'), ('2011-04-01','2011-04-30'), \n",
    "        ('2011-05-01','2011-05-31'), ('2011-06-01','2011-06-30'), ('2011-07-01','2011-07-31'), ('2011-08-01','2011-08-31'),\n",
    "        ('2011-09-01','2011-09-30'), ('2011-10-01','2011-10-31'), ('2011-11-01','2011-11-30'), ('2011-12-01','2011-12-31'))"
   ]
  },
  {
   "cell_type": "code",
   "execution_count": 29,
   "metadata": {},
   "outputs": [],
   "source": [
    "nh4ta_year = []\n",
    "no3ta_year = []\n",
    "po4ta_year = []\n",
    "so4ta_year = []\n",
    "for month in year:\n",
    "    nh4ta_month = nh4ta_df.loc[month[0]:month[1]]\n",
    "    no3ta_month = no3ta_df.loc[month[0]:month[1]]\n",
    "    po4ta_month = po4ta_df.loc[month[0]:month[1]]\n",
    "    so4ta_month = so4ta_df.loc[month[0]:month[1]]\n",
    "    nh4ta_year.append(nh4ta_month['TA_due_to_NH4'].sum())\n",
    "    no3ta_year.append(no3ta_month['TA_due_to_NO3'].sum())\n",
    "    po4ta_year.append(po4ta_month['TA_due_to_PO4'].sum())\n",
    "    so4ta_year.append(so4ta_month['TA_due_to_SO4'].sum())"
   ]
  },
  {
   "cell_type": "code",
   "execution_count": 30,
   "metadata": {},
   "outputs": [],
   "source": [
    "nh4ta = np.array(nh4ta_year)\n",
    "no3ta = np.array(no3ta_year)\n",
    "po4ta = np.array(po4ta_year)\n",
    "so4ta = np.array(so4ta_year)\n",
    "total = nh4ta+no3ta+po4ta+so4ta"
   ]
  },
  {
   "cell_type": "markdown",
   "metadata": {},
   "source": [
    "here and further, units: mmol m$^{-2}$"
   ]
  },
  {
   "cell_type": "code",
   "execution_count": 31,
   "metadata": {},
   "outputs": [
    {
     "data": {
      "text/plain": [
       "array([ -57.724472,  -34.445347,  -28.580479,  -20.3435  ,  -58.750626,\n",
       "        -46.986984,  -10.831028,  -11.092403,  -17.808699,  -40.038433,\n",
       "       -134.03366 , -111.75628 ], dtype=float32)"
      ]
     },
     "execution_count": 31,
     "metadata": {},
     "output_type": "execute_result"
    }
   ],
   "source": [
    "nh4ta"
   ]
  },
  {
   "cell_type": "code",
   "execution_count": 32,
   "metadata": {},
   "outputs": [
    {
     "data": {
      "text/plain": [
       "array([ -37.92114  ,  -30.888847 ,  -46.29358  , -207.19183  ,\n",
       "        -95.33879  ,  -43.96344  ,  -39.63102  ,   -2.0348601,\n",
       "         -4.0063643,   -5.9150224,  -52.22854  ,  -52.83625  ],\n",
       "      dtype=float32)"
      ]
     },
     "execution_count": 32,
     "metadata": {},
     "output_type": "execute_result"
    }
   ],
   "source": [
    "no3ta"
   ]
  },
  {
   "cell_type": "code",
   "execution_count": 33,
   "metadata": {},
   "outputs": [
    {
     "data": {
      "text/plain": [
       "array([  2.1312208 ,   1.7261665 ,   0.18515338, -11.876101  ,\n",
       "        -3.0395825 ,  -1.5026454 ,  -2.4156194 ,   0.24018678,\n",
       "         0.84317803,   2.4042192 ,   6.0775366 ,   5.3426166 ],\n",
       "      dtype=float32)"
      ]
     },
     "execution_count": 33,
     "metadata": {},
     "output_type": "execute_result"
    }
   ],
   "source": [
    "po4ta"
   ]
  },
  {
   "cell_type": "code",
   "execution_count": 34,
   "metadata": {},
   "outputs": [
    {
     "data": {
      "text/plain": [
       "array([ 59.228233 ,  45.42288  ,  39.374523 ,  18.765333 , -17.390285 ,\n",
       "       -27.899496 , -39.025265 , -51.667156 , -41.036697 , -30.321947 ,\n",
       "        -3.5132053,  36.002663 ], dtype=float32)"
      ]
     },
     "execution_count": 34,
     "metadata": {},
     "output_type": "execute_result"
    }
   ],
   "source": [
    "so4ta"
   ]
  },
  {
   "cell_type": "code",
   "execution_count": 35,
   "metadata": {},
   "outputs": [
    {
     "data": {
      "text/plain": [
       "array([ -34.286163,  -18.185154,  -35.31438 , -220.6461  , -174.51929 ,\n",
       "       -120.35257 ,  -91.90293 ,  -64.55423 ,  -62.008583,  -73.871185,\n",
       "       -183.69788 , -123.247246], dtype=float32)"
      ]
     },
     "execution_count": 35,
     "metadata": {},
     "output_type": "execute_result"
    }
   ],
   "source": [
    "total"
   ]
  },
  {
   "cell_type": "code",
   "execution_count": 36,
   "metadata": {},
   "outputs": [
    {
     "data": {
      "text/plain": [
       "-12.060421705245972"
      ]
     },
     "execution_count": 36,
     "metadata": {},
     "output_type": "execute_result"
    }
   ],
   "source": [
    "sum(so4ta)"
   ]
  },
  {
   "cell_type": "code",
   "execution_count": 37,
   "metadata": {},
   "outputs": [
    {
     "data": {
      "text/plain": [
       "-1202.585708618164"
      ]
     },
     "execution_count": 37,
     "metadata": {},
     "output_type": "execute_result"
    }
   ],
   "source": [
    "sum(total)"
   ]
  },
  {
   "cell_type": "code",
   "execution_count": null,
   "metadata": {},
   "outputs": [],
   "source": []
  }
 ],
 "metadata": {
  "jupytext": {
   "text_representation": {
    "extension": ".Rmd",
    "format_name": "rmarkdown",
    "format_version": "1.0",
    "jupytext_version": "0.8.6"
   }
  },
  "kernelspec": {
   "display_name": "Python 3",
   "language": "python",
   "name": "python3"
  },
  "language_info": {
   "codemirror_mode": {
    "name": "ipython",
    "version": 3
   },
   "file_extension": ".py",
   "mimetype": "text/x-python",
   "name": "python",
   "nbconvert_exporter": "python",
   "pygments_lexer": "ipython3",
   "version": "3.7.2"
  }
 },
 "nbformat": 4,
 "nbformat_minor": 2
}
