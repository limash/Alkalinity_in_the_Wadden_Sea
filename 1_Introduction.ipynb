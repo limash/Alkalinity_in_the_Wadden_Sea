{
 "cells": [
  {
   "cell_type": "markdown",
   "metadata": {},
   "source": [
    "title:\n",
    "## Alkalinity generation in coastal area sediments, the case of the Wadden Sea\n",
    "v. 0.1"
   ]
  },
  {
   "cell_type": "markdown",
   "metadata": {},
   "source": [
    "**Correspondence:**\n",
    "Shamil Yakubov, shamil.yakubov@hzg.de"
   ]
  },
  {
   "cell_type": "markdown",
   "metadata": {},
   "source": [
    "### Introduction 1\n",
    "\n",
    "We propose a work performed in an [IPython] notebook format.\n",
    "You can find the original up-to-date work [here].\n",
    "The capabilities of this format grants to make research more interactive.\n",
    "Following the link, there are several IPython and Python files along with some data files.\n",
    "In addition to the IPython notebooks representing the usual for a research article structure, there are the supplementary IPython notebooks with calculations performed for this research which in turn use some code from Python files.\n",
    "One can easily run all of the calculations and use them for their own purposes.\n",
    "Also, a version control system lets to make research upgradable.\n",
    "\n",
    "[IPython]: https://ipython.org/\n",
    "[here]: https://github.com/limash/ws_notebook"
   ]
  },
  {
   "cell_type": "markdown",
   "metadata": {},
   "source": [
    "### Introduction 2\n",
    "\n",
    "In the literature regarding sedimentary alkalinity generation there is a rather frequently used term - 'Irreversible alkalinity'.\n",
    "[Thomas et al. (2009)] defined it as alkalinity generated due to \"denitrification, and to some extent, sulfate reduction, ... if their products are buried or escape to the atmosphere\" and used it to describe high alkalinity values in the Wadden Sea.\n",
    "Different authors use 'Irreversible alkalinity' interchangably with 'Net alkalinity gain\" or just 'Net alkalinity' and propose different ways how to calculate it (Thomas et al. 2009, Hu et al. 2011, Brenner et al. 2016).\n",
    "'Irreversible alkalinity' utilize the idea that alkalinity generation in some areas can exceed alkalinity consumption and this uncompensated alkalinity can be filled with carbon dioxide.\n",
    "According to the textbook about seawater carbon chemistry by Zeebe and Wolf-Gladrow (2001) \"the imbalance of the charge of the conservative ions is responsible for alkalinity\".\n",
    "Here conservative ions are ions of strong acids and bases, which concentrations are unaffected by changes in pH, pressure, or temperature (the same textbook by Zeebe and Wolf-Gladrow (2001)).\n",
    "So we can assume that 'Irreversible alkalinity' is an increasing \"imbalance of the charge of the conservative ions\".\n",
    "If understand 'Irrreversible alkalinity' as uncompensated alkalinity filled with carbon dioxide it means that anions of carbon (weak) acid constantly replace conservative ions, what is hardly possible.\n",
    "\n",
    "[Thomas et al. (2009)]: https://www.biogeosciences.net/6/267/2009/"
   ]
  },
  {
   "cell_type": "markdown",
   "metadata": {},
   "source": [
    "Alkalinity generation in some coastal areas is well known.\n",
    "For example seasonal total alkalinity (TA) variations and yearly mean total alkalinity values in the German Bight (South-east of the North Sea) are much larger than in the center of the North Sea (Thomas et al., 2009; Voynova et al., 2019).\n",
    "These features can be caused by for example riverine influence, pelagic and benthic activities in the German Bight, pelagic and benthic activities in the adjoining Wadden Sea.\n",
    "In this study, we focus on the alkalinity release from the Wadden Sea.\n",
    "The Wadden Sea is a heterotrophic reservoir where organic matter (OM) oxidation prevails over OM production (van Beusekom et al., 1999), enhancing anaerobic alkalinity generation in coastal sediments.\n",
    "Also, tides induce additional mixing in sediments, which provides additional input of OM to sediments and therefore can, even more, enhance alkalinity fluxes through the sediment-water interface SWI (Beck et al., 2008).\n",
    "The goals of this study are to\n",
    "a) estimate the maximum value of TA that can be generated in the Wadden Sea sediments accounting for local OM input, and\n",
    "b) investigate which biogeochemical processes contribute to this value and if is it possible to describe it without implying a 'Irreversible alkalinity' notion."
   ]
  },
  {
   "cell_type": "markdown",
   "metadata": {},
   "source": [
    "The \"explicitly conservative form of total alkalinity\" ($\\text{TA}_{\\text{ec}}$) proposed by (Wolf-Gladrow et al., 2007) contains the following terms:\n",
    "\n",
    "$\\text{TA}_{\\text{ec}} = \\lbrack\\text{Na}^{+}\\rbrack + 2\\lbrack\\text{Mg}^{2 +}\\rbrack + 2\\lbrack\\text{Ca}^{2 +}\\rbrack + \\lbrack \\text{K}^{+}\\rbrack + 2\\lbrack\\text{Sr}^{2 +}\\rbrack + \\text{TNH}_{3} - \\lbrack\\text{Cl}^{-}\\rbrack - \\lbrack\\text{Br}^{-}\\rbrack - \\lbrack\\text{NO}_{3}^{-}\\rbrack - \\text{TPO}_{4} - 2\\text{TSO}_{4} - \\text{THF} - \\text{THNO}_{2}$\n",
    "(Eq. 1)\n",
    "\n",
    ", where\n",
    "$\\text{TNH}_{3} = \\lbrack\\text{NH}_{3}\\rbrack + \\lbrack\\text{NH}_{4}^{+}\\rbrack$,\n",
    "$\\text{TPO}_{4} = \\lbrack\\text{H}_{3}\\text{PO}_{4}\\rbrack + \\lbrack \\text{H}_{2}\\text{PO}_{4}^{-}\\rbrack + \\lbrack\\text{HPO}_{4}^{2 -}\\rbrack + \\lbrack\\text{PO}_{4}^{3 -}\\rbrack$,\n",
    "$\\text{TSO}_{4} = \\lbrack\\text{SO}_{4}^{2 -}\\rbrack + \\lbrack\\text{HSO}_{4}^{-}\\rbrack$,\n",
    "$\\text{THF} = \\lbrack \\text{F}^{-}\\rbrack + \\lbrack\\text{HF}\\rbrack$, and\n",
    "$\\text{THNO}_{2} = \\lbrack\\text{NO}_{2}^{-}\\rbrack + \\lbrack\\text{HNO}_{2}\\rbrack$."
   ]
  },
  {
   "cell_type": "markdown",
   "metadata": {},
   "source": [
    "Increase or decrease of concentrations of any of the $\\text{TA}_{\\text{ec}}$ compounds will change alkalinity.\n",
    "These can be biogeochemical reactions or other sources like freshwater fluxes, reverrine inputs, fluxes to and from sediments (see for example Zeebe and Wolf-Gladrow (2001), Follows et al. (2006), Wolf-Gladrow et al. (2007)).\n",
    "Therefore, we should consider the processes that can change the species concentrations in Eq. 1.\n",
    "Biogeochemical transformations are enlisted for example in Wolf-Gladrow et al. (2007), adding some transport processes within and between water column and sediments we will be able to estimate alkalinity generation."
   ]
  },
  {
   "cell_type": "markdown",
   "metadata": {},
   "source": [
    "In this study, we consider the water column and sediments of the Wadden Sea as two different domains and we parametrize the exchange between them. As a first approximation, we only consider the vertical distribution since the exchange between the water column and the sediments occurs mainly vertically.\n",
    "To calculate alkalinity, we split the water column and sediments into different layers (to resolve a vertical resolution),\n",
    "calculate the necessary biogeochemical reactions increments for each layer, and evaluate the mixing between these layers.\n",
    "We present such a model set consisting of a 1-D transport model and a biogeochemical model and use this set to calculate the range of possible $\\text{TA}$ production rates in a large intertidal region, the Wadden Sea.\n",
    "The model is also used to distinguish which biogeochemical processes prevail under different vertical mixing conditions in sediments."
   ]
  },
  {
   "cell_type": "code",
   "execution_count": null,
   "metadata": {},
   "outputs": [],
   "source": []
  }
 ],
 "metadata": {
  "file_extension": ".py",
  "kernelspec": {
   "display_name": "Python 3",
   "language": "python",
   "name": "python3"
  },
  "language_info": {
   "codemirror_mode": {
    "name": "ipython",
    "version": 3
   },
   "file_extension": ".py",
   "mimetype": "text/x-python",
   "name": "python",
   "nbconvert_exporter": "python",
   "pygments_lexer": "ipython3",
   "version": "3.7.3"
  },
  "mimetype": "text/x-python",
  "name": "python",
  "npconvert_exporter": "python",
  "pygments_lexer": "ipython3",
  "version": 3
 },
 "nbformat": 4,
 "nbformat_minor": 4
}
