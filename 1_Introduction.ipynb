{
 "cells": [
  {
   "cell_type": "markdown",
   "metadata": {},
   "source": [
    "title:\n",
    "## Alkalinity generation in coastal area sediments, the case of the Wadden Sea\n",
    "v. 0.1"
   ]
  },
  {
   "cell_type": "markdown",
   "metadata": {},
   "source": [
    "**Correspondence:**\n",
    "Shamil Yakubov, yakubov.sha@gmail.com"
   ]
  },
  {
   "cell_type": "markdown",
   "metadata": {},
   "source": [
    "### Introduction 1\n",
    "\n",
    "We propose a work performed in a [IPython] notebook format.\n",
    "One can find the original, up-to-date work [here].\n",
    "The capabilities of this format grants to make research more interactive.\n",
    "Following the link, there are several IPython and Python files along with some data files.\n",
    "In addition to the IPython notebooks representing the usual for a research article structure, there are the supplementary IPython notebooks with calculations performed for this research, which in turn use some code from Python files.\n",
    "One can quickly run all of the calculations and use them for their purposes.\n",
    "Also, a version control system lets to make research upgradable.\n",
    "\n",
    "[IPython]: https://ipython.org/\n",
    "[here]: https://github.com/limash/ws_notebook"
   ]
  },
  {
   "cell_type": "markdown",
   "metadata": {},
   "source": [
    "### Introduction 2\n",
    "\n",
    "There is a notion described in the literature - alkalinity generation from anaerobic degradation in coastal sediments (see for example [Patsch et al. (2018)]).\n",
    "Since sometimes it is called a net alkalinity gain due to irreversible processes, we will refer to this alkalinity generation as 'Irreversible alkalinity.'\n",
    "[Thomas et al. (2009)] defined it as alkalinity generated due to \"denitrification, and to some extent, sulfate reduction, ... if their products are buried or escape to the atmosphere\" and used it to describe high alkalinity values in the Wadden Sea.\n",
    "The notion of 'Irreversible alkalinity' is interesting because it is used to calculate CO$_2$ absorbtion by seawater.\n",
    "In the same article by [Thomas et al. (2009)] authors described the effect of 'Irreversible alkalinity' as \"... anaerobic degradation of organic matter constitutes a net AT gain at the annual scale. This net gain of AT then facilitates net CO$_2$ uptake from the atmosphere.\"\n",
    "Thus, the term 'Irreversible alkalinity' utilizes the idea that in some areas the generation of alkalinity can exceed the consumption of alkalinity and this difference can be partially compensated by incoming carbon dioxide.\n",
    "Along with ([Thomas et al., 2009]) some other studies also use this concept (for example [Hu and Cai (2011)], [Brenner et al. (2016)]), but the methods of how to calculate 'Irreversible alkalinity' proposed in these papers are different.\n",
    "According to the textbook about seawater carbon chemistry by [Zeebe and Wolf-Gladrow (2001)] \"the imbalance of the charge of the conservative ions is responsible for alkalinity\".\n",
    "Conservative ions are ions of strong acids and bases, which concentrations are unaffected by changes in pH, pressure, or temperature (the same textbook by [Zeebe and Wolf-Gladrow (2001)]).\n",
    "Existing of 'Irreversible alkalinity' suggests an increase of the alkalinity at the annual scale and therefore it should be caused by an increase of the \"imbalance of the charge of the conservative ions\".\n",
    "But if 'Irreversible alkalinity' is considered as uncompensated alkalinity filled with carbon dioxide it means that non-coservative anions of carbon (weak) acid constantly replace (or supplement) conservative ions, which means steadily increasing alkalinity values on the global scale.\n",
    "One of the ideas lying behind this work is to check if it is possible to calculate the alkalinity in a coastal area without using the idea of 'Irreversible alkalinity'.\n",
    "\n",
    "[Thomas et al., 2009]: https://doi.org/10.5194/bg-6-267-2009\n",
    "[Thomas et al. (2009)]: https://doi.org/10.5194/bg-6-267-2009\n",
    "[Hu and Cai (2011)]: https://doi.org/10.1029/2010GB003859\n",
    "[Brenner et al. (2016)]: https://doi.org/10.5194/bg-13-841-2016\n",
    "[Zeebe and Wolf-Gladrow (2001)]: https://www.elsevier.com/books/co2-in-seawater-equilibrium-kinetics-isotopes/zeebe/978-0-444-50946-8\n",
    "[Patsch et al. (2018)]: https://doi.org/10.5194/bg-15-3293-2018"
   ]
  },
  {
   "cell_type": "markdown",
   "metadata": {},
   "source": [
    "Alkalinity generation in some coastal areas is well known.\n",
    "For example, seasonal total alkalinity (TA) variations and yearly mean total alkalinity values in the German Bight (South-east of the North Sea) are much larger than in the center of the North Sea ([Thomas et al., 2009]).\n",
    "These features can be caused by for example riverine influence, pelagic and benthic activities in the German Bight, pelagic and benthic activities in the adjoining Wadden Sea.\n",
    "In this study, we focus on the alkalinity release from the Wadden Sea.\n",
    "The Wadden Sea is a heterotrophic reservoir where organic matter (OM) oxidation prevails over OM production ([van Beusekom et al., 1999]), enhancing anaerobic alkalinity generation in coastal sediments.\n",
    "Also, tides induce additional mixing in sediments, which provides additional input of OM to sediments and therefore can, even more, enhance alkalinity fluxes through the sediment-water interface (SWI) ([Beck et al., 2008]).\n",
    "Therefore, the goals of this study are\n",
    "a) to estimate the maximum value of TA that can be generated in the Wadden Sea sediments accounting for local OM input, and\n",
    "b) to investigate which biogeochemical processes contribute to this value and if is it possible to generate additional alkalinity without implying an 'Irreversible alkalinity' notion (Are elevated values of alkalinity in the Wadden Sea possible without any irreversible processes?).\n",
    "\n",
    "[Thomas et al., 2009]: https://doi.org/10.5194/bg-6-267-2009\n",
    "[van Beusekom et al., 1999]: https://doi.org/10.1007/BF02764176\n",
    "[Beck et al., 2008]: https://doi.org/10.1007/s10533-008-9215-6"
   ]
  },
  {
   "cell_type": "markdown",
   "metadata": {},
   "source": [
    "The \"explicitly conservative form of total alkalinity\" ($\\text{TA}_{\\text{ec}}$) proposed by ([Wolf-Gladrow et al., 2007]) contains the following terms:\n",
    "\n",
    "$\\text{TA}_{\\text{ec}} = \\lbrack\\text{Na}^{+}\\rbrack + 2\\lbrack\\text{Mg}^{2 +}\\rbrack + 2\\lbrack\\text{Ca}^{2 +}\\rbrack + \\lbrack \\text{K}^{+}\\rbrack + 2\\lbrack\\text{Sr}^{2 +}\\rbrack + \\text{TNH}_{3} - \\lbrack\\text{Cl}^{-}\\rbrack - \\lbrack\\text{Br}^{-}\\rbrack - \\lbrack\\text{NO}_{3}^{-}\\rbrack - \\text{TPO}_{4} - 2\\text{TSO}_{4} - \\text{THF} - \\text{THNO}_{2}$\n",
    "(Eq. 1)\n",
    "\n",
    ", where\n",
    "$\\text{TNH}_{3} = \\lbrack\\text{NH}_{3}\\rbrack + \\lbrack\\text{NH}_{4}^{+}\\rbrack$,\n",
    "$\\text{TPO}_{4} = \\lbrack\\text{H}_{3}\\text{PO}_{4}\\rbrack + \\lbrack \\text{H}_{2}\\text{PO}_{4}^{-}\\rbrack + \\lbrack\\text{HPO}_{4}^{2 -}\\rbrack + \\lbrack\\text{PO}_{4}^{3 -}\\rbrack$,\n",
    "$\\text{TSO}_{4} = \\lbrack\\text{SO}_{4}^{2 -}\\rbrack + \\lbrack\\text{HSO}_{4}^{-}\\rbrack$,\n",
    "$\\text{THF} = \\lbrack \\text{F}^{-}\\rbrack + \\lbrack\\text{HF}\\rbrack$, and\n",
    "$\\text{THNO}_{2} = \\lbrack\\text{NO}_{2}^{-}\\rbrack + \\lbrack\\text{HNO}_{2}\\rbrack$.\n",
    "\n",
    "[Wolf-Gladrow et al., 2007]: https://doi.org/10.1016/j.marchem.2007.01.006"
   ]
  },
  {
   "cell_type": "markdown",
   "metadata": {},
   "source": [
    "Increase or decrease of concentrations of any of the $\\text{TA}_{\\text{ec}}$ compounds will change alkalinity.\n",
    "These changes can be caused by biogeochemical reactions or other sources like freshwater fluxes, reverrine inputs, fluxes to and from sediments (see for example [Zeebe and Wolf-Gladrow (2001)], [Follows et al. (2006)], [Wolf-Gladrow et al. (2007)]).\n",
    "In order to to estimate alkalinity generation, we should consider all processes that can change the concentrations of  species in Eq. 1.\n",
    "These processes are biogeochemical transformations listed in [Wolf-Gladrow et al. (2007)], transport processes within and between water column and sediments, advective exchange.\n",
    "\n",
    "[Zeebe and Wolf-Gladrow (2001)]: https://www.elsevier.com/books/co2-in-seawater-equilibrium-kinetics-isotopes/zeebe/978-0-444-50946-8\n",
    "[Follows et al. (2006)]: https://doi.org/10.1016/j.ocemod.2005.05.004\n",
    "[Wolf-Gladrow et al. (2007)]: https://doi.org/10.1016/j.marchem.2007.01.006"
   ]
  },
  {
   "cell_type": "markdown",
   "metadata": {},
   "source": [
    "In this study, to calculate alkalinity, we consider the water column and sediments of the Wadden Sea as two different domains, split them into different layers (to resolve a vertical resolution), calculate the necessary biogeochemical reactions increments for each layer, and evaluate the mixing between these layers.\n",
    "Also, we account for exchange of the water column of the Wadden Sea with an external pool (the North Sea).\n",
    "We present such a model setup consisting of a 1-D transport model and a biogeochemical model and use this setup to calculate the range of possible $\\text{TA}$ production rates in the Wadden Sea.\n",
    "The model is also used to distinguish which biogeochemical processes prevail under different vertical mixing conditions in sediments."
   ]
  },
  {
   "cell_type": "code",
   "execution_count": null,
   "metadata": {},
   "outputs": [],
   "source": []
  }
 ],
 "metadata": {
  "file_extension": ".py",
  "kernelspec": {
   "display_name": "Python 3",
   "language": "python",
   "name": "python3"
  },
  "language_info": {
   "codemirror_mode": {
    "name": "ipython",
    "version": 3
   },
   "file_extension": ".py",
   "mimetype": "text/x-python",
   "name": "python",
   "nbconvert_exporter": "python",
   "pygments_lexer": "ipython3",
   "version": "3.7.6"
  },
  "mimetype": "text/x-python",
  "name": "python",
  "npconvert_exporter": "python",
  "pygments_lexer": "ipython3",
  "version": 3
 },
 "nbformat": 4,
 "nbformat_minor": 4
}
