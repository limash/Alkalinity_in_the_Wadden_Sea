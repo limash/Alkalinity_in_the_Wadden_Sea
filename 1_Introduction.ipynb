{
 "cells": [
  {
   "cell_type": "markdown",
   "metadata": {},
   "source": [
    "title:\n",
    "## Alkalinity generation in coastal area sediments, the case of the Wadden Sea\n",
    "v. 0.1"
   ]
  },
  {
   "cell_type": "markdown",
   "metadata": {},
   "source": [
    "**Correspondence:**\n",
    "Shamil Yakubov, yakubov.sha@gmail.com"
   ]
  },
  {
   "cell_type": "markdown",
   "metadata": {},
   "source": [
    "### Introduction 1\n",
    "\n",
    "This paper is written in [IPython] notebook.\n",
    "The capabilities of this format grants to make research more interactive and reproducible.\n",
    "Also, a version control system makes research upgradable.\n",
    "One can find the original, up-to-date work [here].\n",
    "Following the link, there are several IPython and Python files along with data files.\n",
    "IPython notebooks represent the usual for a research article structure.\n",
    "The supplementary IPython notebooks provide some calculations for this research.\n",
    "By running these notebooks, one can repeat the calculations described in this study.\n",
    "\n",
    "[IPython]: https://ipython.org/\n",
    "[here]: https://github.com/limash/ws_notebook"
   ]
  },
  {
   "cell_type": "markdown",
   "metadata": {},
   "source": [
    "### Introduction 2\n",
    "\n",
    "There is a notion described in the literature - alkalinity generation from anaerobic organic matter degradation in coastal sediments which favors the seawater CO$_2$ uptake capacity (see, for example, [Patsch et al. (2018)]).\n",
    "Since sometimes it is called a net alkalinity gain due to irreversible biogeochemical processes, we will refer to this alkalinity generation as 'Irreversible alkalinity.'\n",
    "[Thomas et al. (2009)] defined it as alkalinity generated due to \"denitrification, and to some extent, sulfate reduction, ... if their products are buried or escape to the atmosphere\".\n",
    "The notion of 'Irreversible alkalinity' is interesting because it is used to calculate CO$_2$ absorption by seawater.\n",
    "In the same article by [Thomas et al. (2009)], the authors described the effect of 'Irreversible alkalinity' as \n",
    "\"... anaerobic degradation of organic matter constitutes a net total alkalinity gain at the annual scale. This net gain of total alkalinity then facilitates net CO$_2$ uptake from the atmosphere.\"\n",
    "Thus, the term 'Irreversible alkalinity' utilizes the idea that in some areas the generation of alkalinity can exceed the consumption of alkalinity and this difference can be partially filled by incoming carbon dioxide.\n",
    "Along with ([Thomas et al., 2009]) some other studies also use this concept (for example [Hu and Cai (2011)], [Brenner et al. (2016)]), but they propose different methods of how to calculate 'Irreversible alkalinity'.\n",
    "\n",
    "[Thomas et al., 2009]: https://doi.org/10.5194/bg-6-267-2009\n",
    "[Thomas et al. (2009)]: https://doi.org/10.5194/bg-6-267-2009\n",
    "[Hu and Cai (2011)]: https://doi.org/10.1029/2010GB003859\n",
    "[Brenner et al. (2016)]: https://doi.org/10.5194/bg-13-841-2016\n",
    "[Patsch et al. (2018)]: https://doi.org/10.5194/bg-15-3293-2018"
   ]
  },
  {
   "cell_type": "markdown",
   "metadata": {},
   "source": [
    "Seasonal total alkalinity (TA) variations and yearly mean total alkalinity values in the German Bight (South-east of the North Sea) are much larger than in the center of the North Sea ([Thomas et al., 2009]).\n",
    "[Thomas et al., (2009)] concluded that the alkalinity values in the German Bight are increased due to inflow from the Wadden Sea, where alkalinity values are high. \n",
    "The Wadden Sea is a heterotrophic reservoir where organic matter (OM) oxidation prevails over OM production ([van Beusekom et al., 1999]), enhancing anaerobic alkalinity generation in coastal sediments.\n",
    "Also, tides induce additional mixing in sediments, which provides additional input of OM to sediments and therefore can, even more, enhance alkalinity fluxes through the sediment-water interface (SWI) ([Beck et al., 2008]).\n",
    "[Thomas et al., (2009)] used the 'Irreversible alkalinity' notion to describe high alkalinity values in the Wadden Sea (denitrification, sulfate reduction with consequent burying or degassing sulfides are the reasons of elevated alkalinity values in the Wadden Sea).\n",
    "\n",
    "[Thomas et al., 2009]: https://doi.org/10.5194/bg-6-267-2009\n",
    "[Thomas et al., (2009)]: https://doi.org/10.5194/bg-6-267-2009\n",
    "[van Beusekom et al., 1999]: https://doi.org/10.1007/BF02764176\n",
    "[Beck et al., 2008]: https://doi.org/10.1007/s10533-008-9215-6"
   ]
  },
  {
   "cell_type": "markdown",
   "metadata": {},
   "source": [
    "One of the ideas of this study is to check whether the processes other than irreversible can increase the average value of alkalinity of the Wadden Sea and become a source of alkalinity to the North Sea.\n",
    "The goals of this study are\n",
    "1) to estimate the maximum value of TA that can be generated in the Wadden Sea sediments accounting for local and allochthonous OM input, and\n",
    "2) to investigate which biogeochemical processes contribute to this value and if is it possible to generate additional alkalinity without implying an 'Irreversible alkalinity' notion (Are elevated values of alkalinity in the Wadden Sea possible without any irreversible processes?).\n",
    "To answer these questions, we use a model setup consisting of a 1-D transport model and a biogeochemical model."
   ]
  }
 ],
 "metadata": {
  "file_extension": ".py",
  "kernelspec": {
   "display_name": "Python 3",
   "language": "python",
   "name": "python3"
  },
  "language_info": {
   "codemirror_mode": {
    "name": "ipython",
    "version": 3
   },
   "file_extension": ".py",
   "mimetype": "text/x-python",
   "name": "python",
   "nbconvert_exporter": "python",
   "pygments_lexer": "ipython3",
   "version": "3.7.6"
  },
  "mimetype": "text/x-python",
  "name": "python",
  "npconvert_exporter": "python",
  "pygments_lexer": "ipython3",
  "version": 3
 },
 "nbformat": 4,
 "nbformat_minor": 4
}
