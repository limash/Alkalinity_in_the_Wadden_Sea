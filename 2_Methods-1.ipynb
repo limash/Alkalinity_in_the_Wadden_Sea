{
 "cells": [
  {
   "cell_type": "markdown",
   "metadata": {},
   "source": [
    "### Methods 1 - A model set\n",
    "\n",
    "According to the goals of the study we need to calculate the range of alkalinity fluxes at the sediment-water interface (SWI) and the corresponding variations in the water column of the Wadden Sea.\n",
    "For calculations we use the software written in Fortran.\n",
    "It consist of:\n",
    "1) a governing program resolving a transport equation (diffusive and vertical advective terms) between and within water column and sediments plus horizontal exchange with an external pool - the 1-D Sympagic-Pelagic-Benthic transport Model, SPBM (Yakubov et al., 2019); \n",
    "2) a biogeochemical model part sending sources minus sinks to the transport equation governing program.\n",
    "The SPBM and biogeochemical model are linked through the Framework for Aquatic Biogeochemical Models, FABM (Bruggeman and Bolding, 2014).\n"
   ]
  },
  {
   "cell_type": "markdown",
   "metadata": {},
   "source": [
    "The transport and biogeochemical models operate with the following *state variables*:\n",
    "autotrophs ($\\text{Phy}$), heterotrophs ($\\text{Het}$), $\\text{NH}_{4}^{+}$, $\\text{NO}_{2}^{-}$, $\\text{NO}_{3}^{-}$,\n",
    "$\\text{Si}$, $\\text{PO}_{4}^{3 -}$, $O_{2}$, $\\text{SO}_{4}^{2 -}$, $\\text{S}_{2}O_{3}^{2 -}$, $\\text{S}^{0}$, $\\text{H}_{2}\\text{S}$, dissolved inorganic carbon\n",
    "($\\text{DIC}$), dissolved OM ($\\text{DOM}$), particulate OM ($\\text{POM}$), and total alkalinity ($\\text{TA}$).\n",
    "$\\text{Phy}$, $\\text{Het}$, and $\\text{POM}$ are particulates and have an ability to sink."
   ]
  },
  {
   "cell_type": "markdown",
   "metadata": {},
   "source": [
    "#### The grid\n",
    "\n",
    "For calculations we should at first determine the grid we want to use as a proxy of the Wadden Sea.\n",
    "Assuming a mean depth of the Wadden Sea of 2.5 m (van Beusekom et al., 1999), we split the water domain into two layers\n",
    "of 1.25 m and 1.15 m depth.\n",
    "Near the bottom, we have a benthic boundary layer (BBL) consisting of 2 layers of 0.05 m depth each.\n",
    "The BBL is a layer with eddy diffusion coefficients decreasing linearly to zero at the SWI.\n",
    "The sediment domain has 40 layers of 0.01 m depth each.\n",
    "Therefore, to study sedimentary alkalinity generation in the Wadden Sea we use the vertically resolved box containing the water domain and sediment domain."
   ]
  },
  {
   "cell_type": "markdown",
   "metadata": {},
   "source": [
    "![Image](Grid.png \"icon\")"
   ]
  },
  {
   "cell_type": "markdown",
   "metadata": {},
   "source": [
    "The transport program (SPBM) updates the concenstrations of the state variables in the center of each layer due to sources minus sinks terms from the biogeochemical model, diffusive and advective terms plus horizontal exchange with an external pool each time step (300 sec).\n"
   ]
  },
  {
   "cell_type": "markdown",
   "metadata": {},
   "source": [
    "#### Forcing, initial and boundary conditions\n",
    "\n",
    "The functioning of the transport and the biogeochemical models needs some forcing (for example, to calculate souces minus sinks terms the biogeochemical model requires data of seawater temperature, salinity, and photosynthetically active radiation (PAR)), also we have to establish state variables initial conditions and conditions on the boundaries of the modeling box.\n",
    "The data for forcing (seawater temperature, salinity, density) and initial conditions are averaged to one year from the World Ocean Database (WOD) for the years 2000 - 2010 from a rectangular region (the Southern North Sea, 54.35-55.37$^{\\circ}$N 6.65-8.53$^{\\circ}$E) that is adjacent to the North Frisian Wadden Sea.\n",
    "The data from WOD are stored in `wadden_sea.nc` file.\n",
    "The data of Chlorophyll a are taken from Loebl et al. (2007).\n",
    "The data of $\\text{NH}_{4}^{+}$ are taken from van Beusekom et al. (2009).\n",
    "Boundary conditions are set up for carbon and $O_{2}$ at the surface boundary as an exchange with the atmosphere according to (Yakushev et al., 2017).\n",
    "For all other species, boundary conditions at the bottom and the surface interfaces of the model box are set to zero fluxes."
   ]
  },
  {
   "cell_type": "markdown",
   "metadata": {},
   "source": [
    "For diffusive updates SPBM needs to know the vertical diffusion coefficients in the water column and the dispersion coefficients in sediments (which are analogs to vertical diffusion coefficients in the water column).\n",
    "The vertical diffusion coefficients in the water column are calculated according to the vertical density distributions following Gargett (1984).\n",
    "Vertical advective updates in the water column (sinking of the particles) are calculated according to sinking velocities of particles.\n",
    "The dispersion coefficients in sediments and sinking velocities of particles are discussed in Methods 3.\n",
    "Vertical advective updates in the sediments (burification) are neglected (no burification)."
   ]
  },
  {
   "cell_type": "markdown",
   "metadata": {},
   "source": [
    "SPBM also calculates state variables horizontal exchange with an external pool and allochthonous organic matter influx to the modelling box.\n",
    "*Horizontal exchange.*\n",
    "To supply the model water domain with nutrients for the proper functioning of the phytoplankton model, we introduce an horizontal exchange of phosphates, ammonium, nitrates, and silicates with external concentrations (data from the World Ocean Database and van Beusekom et al. (2009)) controlled by the horizontal diffusivity coefficient$\\ K_{h}$ (Okubo, 1976).\n",
    "Along with concentrations of the corresponding elements, phosphate, ammonium and nitrate exchange also affect alkalinity according to Eq. 1.\n",
    "*Organic matter influx.* To reflect the heterotrophic nature of the Wadden Sea (van Beusekom et al., 1999) we add an additional advective influx of $\\text{POM}$.\n",
    "This $\\text{POM}$ input is adopted from the value for the net import of OM to the Sylt-Rømø basin in the North Frisian Wadden Sea (110 $g\\ m^{- 2}\\ \\text{year}^{- 1}$) reported in (van Beusekom et al., 1999) as a sinusoidal curve with a maximum in May (Joint and Pomroy, 1993; de Beer et al., 2005).\n",
    "This value is also close to the Wadden Sea average OM input (100 $g\\ m^{- 2}\\ \\text{year}^{- 1}$) from the North Sea (van Beusekom et al., 1999)."
   ]
  },
  {
   "cell_type": "markdown",
   "metadata": {},
   "source": [
    "`s_1_generate_netcdf.ipynb` reads the data from WOD (`wadden_sea.nc`) and forms another NetCDF data file `wadden_sea_out.nc` with the data filtered and averaged to one year, calculated diffusion coefficients, calculated theoretical surface PAR values for the region of the Wadden Sea, and calculated OM influx.\n",
    "The governing program SPBM uses `wadden_sea_out.nc` to get all nessesary information. There is an ipython notebook to check the data written in `wadden_sea_out.nc` - `s_2_check_data.ipynb`"
   ]
  },
  {
   "cell_type": "code",
   "execution_count": null,
   "metadata": {},
   "outputs": [],
   "source": []
  },
  {
   "cell_type": "markdown",
   "metadata": {},
   "source": [
    "In introduction we noticed the equation to describe which processes can contribute to alkalinity change.\n",
    "There are thirteen terms in it and the most abundant biogeochemical processes in the coastal ocean can change the concentrations of six of them:\n",
    "$2\\lbrack\\text{Ca}^{2 +}\\rbrack, \\text{TNH}_{3}, \\lbrack\\text{NO}_{3}^{-}\\rbrack, \\text{TPO}_{4}, 2\\text{TSO}_{4}, \\text{THNO}_{2}$.\n",
    "Now we can try to estimate which of them can be the most important ones.\n",
    "At first we can write down the mean concentrations of alkalinity and the mentioned compounds in the area of interest."
   ]
  },
  {
   "cell_type": "code",
   "execution_count": null,
   "metadata": {},
   "outputs": [],
   "source": []
  }
 ],
 "metadata": {
  "file_extension": ".py",
  "kernelspec": {
   "display_name": "Python 3",
   "language": "python",
   "name": "python3"
  },
  "language_info": {
   "codemirror_mode": {
    "name": "ipython",
    "version": 3
   },
   "file_extension": ".py",
   "mimetype": "text/x-python",
   "name": "python",
   "nbconvert_exporter": "python",
   "pygments_lexer": "ipython3",
   "version": "3.7.3"
  },
  "mimetype": "text/x-python",
  "name": "python",
  "npconvert_exporter": "python",
  "pygments_lexer": "ipython3",
  "version": 3
 },
 "nbformat": 4,
 "nbformat_minor": 4
}
