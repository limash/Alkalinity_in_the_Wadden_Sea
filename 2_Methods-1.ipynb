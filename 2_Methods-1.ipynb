{
 "cells": [
  {
   "cell_type": "code",
   "execution_count": 1,
   "metadata": {},
   "outputs": [],
   "source": [
    "import utilities2 as ut2\n",
    "import numpy as np\n",
    "import matplotlib.pyplot as plt\n",
    "import seaborn as sns\n",
    "sns.set()"
   ]
  },
  {
   "cell_type": "markdown",
   "metadata": {},
   "source": [
    "### Methods 1 - A model setup\n",
    "\n",
    "According to the goals of the study we need to calculate the range of alkalinity fluxes at the sediment-water interface (SWI) and the corresponding variations in the water column of the Wadden Sea.\n",
    "For calculations we use the software written in Fortran.\n",
    "It consist of:\n",
    "1) a governing program resolving a transport equation (diffusive and vertical advective (sinking, burying) terms) between and within water column and sediments plus horizontal exchange with an external pool - the 1-D Sympagic-Pelagic-Benthic transport Model, SPBM [(Yakubov et al., 2019)]; \n",
    "2) a biogeochemical model sending sources minus sinks to the transport equation governing program.\n",
    "The SPBM and biogeochemical model are linked through the Framework for Aquatic Biogeochemical Models, FABM [(Bruggeman and Bolding, 2014)].\n",
    "\n",
    "[(Yakubov et al., 2019)]: https://doi.org/10.3390/w11081582\n",
    "[(Bruggeman and Bolding, 2014)]: https://doi.org/10.1016/j.envsoft.2014.04.002"
   ]
  },
  {
   "cell_type": "markdown",
   "metadata": {},
   "source": [
    "The transport and biogeochemical models operate with the following **state variables**:\n",
    "autotrophs ($\\text{Phy}$), heterotrophs ($\\text{Het}$), $\\text{NH}_{4}^{+}$, $\\text{NO}_{2}^{-}$, $\\text{NO}_{3}^{-}$,\n",
    "$\\text{Si}$, $\\text{PO}_{4}^{3 -}$, $\\text{O}_{2}$, $\\text{SO}_{4}^{2 -}$, $\\text{S}_{2}\\text{O}_{3}^{2 -}$, $\\text{S}^{0}$, $\\text{H}_{2}\\text{S}$, dissolved inorganic carbon\n",
    "($\\text{DIC}$), dissolved OM ($\\text{DOM}$), particulate OM ($\\text{POM}$), and total alkalinity ($\\text{TA}$).\n",
    "$\\text{Phy}$, $\\text{Het}$, and $\\text{POM}$ are particulates and can sink."
   ]
  },
  {
   "cell_type": "markdown",
   "metadata": {},
   "source": [
    "#### The grid\n",
    "\n",
    "For calculations, we should first determine a proxy of the Wadden Sea.\n",
    "We will use a 1-d multilayer model with the following grid.\n",
    "Assuming a mean depth of the Wadden Sea of 2.5 m [(van Beusekom et al., 1999)], we split the water domain into two layers of 1.25 m and 1.15 m depth.\n",
    "Near the bottom, we have a benthic boundary layer (BBL) consisting of 2 layers of 0.05 m depth each.\n",
    "The BBL is a layer with eddy diffusion coefficients decreasing linearly to zero at the SWI.\n",
    "The sediment domain has 40 layers of 0.01 m depth each.\n",
    "Therefore, to study sedimentary alkalinity generation in the Wadden Sea we use the vertically resolved box containing the water and sediment domains.\n",
    "\n",
    "[(van Beusekom et al., 1999)]: https://link.springer.com/article/10.1007/BF02764176"
   ]
  },
  {
   "cell_type": "markdown",
   "metadata": {},
   "source": [
    "![Image](Grid.png \"grid\")"
   ]
  },
  {
   "cell_type": "markdown",
   "metadata": {},
   "source": [
    "The transport program (SPBM) updates the concentrations of the state variables in the center of each layer due to sources minus sinks terms from the biogeochemical model, diffusive and advective terms plus horizontal exchange with an external pool (which represent the North Sea) each time step (300 sec.)."
   ]
  },
  {
   "cell_type": "markdown",
   "metadata": {},
   "source": [
    "#### Forcing, initial and boundary conditions\n",
    "\n",
    "The functioning of the transport and biogeochemical models needs some forcing (for example, to calculate sources minus sinks terms the biogeochemical model requires data of seawater temperature, salinity, and photosynthetically active radiation (PAR)), also we have to establish state variables initial conditions and conditions on the boundaries of the modeling box.\n",
    "The data for forcing (seawater temperature, salinity, density) and initial conditions are averaged to one year from the World Ocean Database (WOD) for the years 2000 - 2010 from a rectangular region (the Southern North Sea, 54.35-55.37$^{\\circ}$N 6.65-8.53$^{\\circ}$E) that is adjacent to the North Frisian Wadden Sea.\n",
    "The data from WOD are stored in `wadden_sea.nc` file.\n",
    "The data of Chlorophyll-a are taken from [Loebl et al. (2007)].\n",
    "The data of $\\text{NH}_{4}^{+}$ are taken from [van Beusekom et al. (2009)].\n",
    "Boundary conditions are set up for carbon and $\\text{O}_{2}$ at the surface boundary as an exchange with the atmosphere according to [(Yakushev et al., 2017)].\n",
    "For all other species, boundary conditions at the bottom and the surface interfaces of the model box are set to zero fluxes.\n",
    "\n",
    "[Loebl et al. (2007)]: https://doi.org/10.1016/j.seares.2007.06.003\n",
    "[van Beusekom et al. (2009)]: https://doi.org/10.1016/j.seares.2008.06.005\n",
    "[(Yakushev et al., 2017)]: https://doi.org/10.5194/gmd-10-453-2017"
   ]
  },
  {
   "cell_type": "markdown",
   "metadata": {},
   "source": [
    "For diffusive updates, SPBM needs to know the vertical diffusion coefficients in the water column and the dispersion coefficients in sediments (which are analogs to vertical diffusion coefficients in the water column).\n",
    "The vertical diffusion coefficients in the water column are calculated according to the vertical density distributions following [Gargett (1984)].\n",
    "Vertical advective updates in the water column (sinking of the particles) are calculated according to the sinking velocities of particles.\n",
    "The dispersion coefficients in sediments and sinking velocities of particles are discussed in **Methods 3**.\n",
    "Vertical advective updates in the sediments (burying) are neglected (no burying).\n",
    "\n",
    "[Gargett (1984)]: https://doi.org/10.1357/002224084788502756"
   ]
  },
  {
   "cell_type": "markdown",
   "metadata": {},
   "source": [
    "SPBM also calculates state variables horizontal exchange with an external pool (it represent the North Sea) and allochthonous organic matter influx to the modeling box.\n",
    "To supply the model water domain with nutrients for the proper functioning of the phytoplankton model, we introduce an horizontal exchange of phosphates, ammonium, nitrates, and silicates with external concentrations (data from the World Ocean Database and [van Beusekom et al. (2009)]) controlled by the horizontal diffusivity coefficient$\\ K_{h}$ ([Okubo, 1971], [Okubo, 1976]).\n",
    "Along with concentrations of the corresponding elements, phosphate, ammonium and nitrate exchange also affect alkalinity according to $\\text{TA}_{\\text{ec}}$ expression.\n",
    "To reflect the heterotrophic nature of the Wadden Sea ([van Beusekom et al., 1999]) we add an additional advective influx of $\\text{POM}$.\n",
    "This $\\text{POM}$ input is adopted from the value for the net import of OM to the Sylt-Rømø basin in the North Frisian Wadden Sea (110 $\\text{g}\\ \\text{m}^{- 2}\\ \\text{year}^{- 1}$) reported in [(van Beusekom et al., 1999)] as a sinusoidal curve with a maximum in May ([Joint and Pomroy, 1993]; [de Beer et al., 2005]).\n",
    "This value is also close to the Wadden Sea average OM input (100 $\\text{g}\\ \\text{m}^{- 2}\\ \\text{year}^{- 1}$) from the North Sea ([van Beusekom et al., 1999]).\n",
    "\n",
    "[van Beusekom et al. (2009)]: https://doi.org/10.1016/j.seares.2008.06.005\n",
    "[Okubo, 1971]: https://doi.org/10.1016/0011-7471(71)90046-5\n",
    "[Okubo, 1976]: https://doi.org/10.1016/0011-7471(76)90897-4\n",
    "[van Beusekom et al., 1999]: https://doi.org/10.1007/BF02764176\n",
    "[Joint and Pomroy, 1993]: https://www.int-res.com/articles/meps/99/m099p169.pdf\n",
    "[de Beer et al., 2005]: https://doi.org/10.4319/lo.2005.50.1.0113"
   ]
  },
  {
   "cell_type": "markdown",
   "metadata": {},
   "source": [
    "`s_1_generate_netcdf.ipynb` reads the data from WOD (`wadden_sea.nc`) and forms another NetCDF data file `wadden_sea_out.nc` which contains the data filtered and averaged to one year, calculated diffusion coefficients, calculated theoretical surface PAR values for the region of the Wadden Sea, and calculated OM influx.\n",
    "The governing program SPBM uses `wadden_sea_out.nc` to get all the necessary information.\n",
    "There is an IPython notebook to check the data written in `wadden_sea_out.nc` - `s_2_check_data.ipynb`"
   ]
  },
  {
   "cell_type": "markdown",
   "metadata": {},
   "source": [
    "#### Preliminary evaluations"
   ]
  },
  {
   "cell_type": "markdown",
   "metadata": {},
   "source": [
    "Now we know how to calculate the transport of the state variables in our multilayer box representing the Wadden Sea, but we still missing a biogeochemical model to update concentration of the state variables due to biogeochemical reactions.\n",
    "Here we provide some reasoning for the inclusion of some reactions and skipping other.\n",
    "In the introduction, we gave the $\\text{TA}_{\\text{ec}}$ expression to describe which processes can contribute to alkalinity change.\n",
    "There are thirteen terms in it and the most abundant biogeochemical processes in the coastal ocean can change the concentrations of six of them:\n",
    "$2\\lbrack\\text{Ca}^{2 +}\\rbrack$, $\\text{TNH}_{3}$, $\\lbrack\\text{NO}_{3}^{-}\\rbrack$, $\\text{TPO}_{4}$, $2\\text{TSO}_{4}$, $\\text{THNO}_{2}$.\n",
    "Now we can try to estimate which of them can be the most important ones.\n",
    "At first, we can write down the mean concentrations of alkalinity and the mentioned compounds in the area of interest (all concentration are in $\\text{mM m}^{- 3}$)."
   ]
  },
  {
   "cell_type": "code",
   "execution_count": 2,
   "metadata": {},
   "outputs": [],
   "source": [
    "# get some data from WOD\n",
    "par, temperature, no3, ammonium, po4, si, irradiance = ut2.get_data()"
   ]
  },
  {
   "cell_type": "code",
   "execution_count": 3,
   "metadata": {},
   "outputs": [
    {
     "name": "stdout",
     "output_type": "stream",
     "text": [
      "NH4=3.43013698630137; NO3=16.124231302432, PO4=0.6163383757363852\n"
     ]
    }
   ],
   "source": [
    "NH4 = ammonium.mean(); NO3 = no3.mean(); PO4 = po4.mean()\n",
    "print('NH4={0}; NO3={1}, PO4={2}'.format(NH4, NO3, PO4))"
   ]
  },
  {
   "cell_type": "markdown",
   "metadata": {},
   "source": [
    "Nitrites' concentration is negligibly small.\n",
    "Also, we assume TA equal 2300.\n",
    "$\\text{Ca}^{2 +}$ and $\\text{TSO}_{4}$ are the mayor ions of seawater with the following approximate concentrations (in $\\text{mM m}^{- 3}$):"
   ]
  },
  {
   "cell_type": "code",
   "execution_count": 4,
   "metadata": {},
   "outputs": [],
   "source": [
    "Ca = 10000; SO4 = 25000"
   ]
  },
  {
   "cell_type": "markdown",
   "metadata": {},
   "source": [
    "To understand how biogeochemical reactions can affect TA we make a function calculating TA changes according to $\\text{TA}_{\\text{ec}}$ expression.\n",
    "Then providing a change of a particular compound we can track a TA change."
   ]
  },
  {
   "cell_type": "code",
   "execution_count": 5,
   "metadata": {},
   "outputs": [],
   "source": [
    "def alk_change(TA, dCa=0, dSO4=0, dNH4=0, dNO3=0, dPO4=0):\n",
    "    return TA + 2*dCa - 2*dSO4 + dNH4 - dNO3 - dPO4"
   ]
  },
  {
   "cell_type": "code",
   "execution_count": 6,
   "metadata": {},
   "outputs": [],
   "source": [
    "def sinusoidal(max_value):\n",
    "    \"\"\"Creates a sinusoidal line with a period of 365,\n",
    "       minimum value of zero,\n",
    "       and a maximum value of max_value\"\"\"\n",
    "    day=np.arange(0,365,1)\n",
    "    return (1/2)*max_value*(1+np.sin(2*np.pi*((day-90)/365)))"
   ]
  },
  {
   "cell_type": "markdown",
   "metadata": {},
   "source": [
    "Let's test a TA change due to a change of $\\text{Ca}^{2 +}$ concentration.\n",
    "For example, calcifiers consume 100 $\\text{mM m}^{- 3}$ of $\\text{Ca}^{2 +}$ during a year, and then the equal amount of calcifiers skeletons dissolve restoring the concentration of $\\text{Ca}^{2 +}$ at the end of the year."
   ]
  },
  {
   "cell_type": "code",
   "execution_count": 7,
   "metadata": {},
   "outputs": [],
   "source": [
    "dCa = -sinusoidal(100); Ca_year = Ca + dCa\n",
    "TA_year = alk_change(TA = 2300, dCa = dCa)\n",
    "ox = np.arange(0,365,1)"
   ]
  },
  {
   "cell_type": "code",
   "execution_count": 8,
   "metadata": {},
   "outputs": [
    {
     "data": {
      "image/png": "[encoded data removed]",
      "text/plain": [
       "<Figure size 864x216 with 2 Axes>"
      ]
     },
     "metadata": {
      "needs_background": "light"
     },
     "output_type": "display_data"
    }
   ],
   "source": [
    "fig = plt.figure(figsize=(12, 3))\n",
    "ax = fig.add_subplot(1, 2, 1) # row-col-num\n",
    "ax1 = fig.add_subplot(1, 2, 2)\n",
    "ax.plot(ox, Ca_year); ax1.plot(ox, TA_year)\n",
    "ax.set_ylabel('Ca$^{2+}$'); ax1.set_ylabel('TA');"
   ]
  },
  {
   "cell_type": "markdown",
   "metadata": {},
   "source": [
    "We see that consuming of 100 $\\text{mM m}^{- 3}$ of $\\text{Ca}^{2 +}$ decreases alkalinity by 200 $\\text{mM m}^{- 3}$, which is obviously clear from $\\text{TA}_{\\text{ec}}$ expression.\n",
    "Also it is clear that the local activities of calcifiers cannot increase alkalinity above 2300 $\\text{mM m}^{- 3}$.\n",
    "To increase TA we need an input of $\\text{Ca}^{2 +}$, which can come in form of $\\text{Ca}^{2 +}$ or $\\text{CaCO}_3$.\n",
    "Additional $\\text{Ca}^{2 +}$ can come with terrestial input which we do not consider here.\n",
    "The supply of allochthonuous $\\text{CaCO}_3$ to the Wadden Sea has not yet been reported ([Thomas et al., 2009]).\n",
    "Therefore according to the goal to calculate the maximum alkalinity generation in the Wadden Sea due to biogeochemical processes as a first approximation we can skip $\\text{CaCO}_3$ precipitation / dissolution while preparing a biogeochemical model.\n",
    "\n",
    "[Thomas et al., 2009]: https://doi.org/10.5194/bg-6-267-2009"
   ]
  },
  {
   "cell_type": "markdown",
   "metadata": {},
   "source": [
    "Now let's assume that sulfate reduction decreases $\\text{SO}_{4}^{2 -}$ by 100 $\\text{mM m}^{- 3}$."
   ]
  },
  {
   "cell_type": "code",
   "execution_count": 19,
   "metadata": {},
   "outputs": [],
   "source": [
    "dSO4 = -sinusoidal(100)\n",
    "SO4_year = SO4 + dSO4\n",
    "TA_year = alk_change(TA = 2300, dSO4 = dSO4)"
   ]
  },
  {
   "cell_type": "code",
   "execution_count": 20,
   "metadata": {},
   "outputs": [
    {
     "data": {
      "image/png": "[encoded data removed]",
      "text/plain": [
       "<Figure size 864x216 with 2 Axes>"
      ]
     },
     "metadata": {
      "needs_background": "light"
     },
     "output_type": "display_data"
    }
   ],
   "source": [
    "fig = plt.figure(figsize=(12, 3))\n",
    "ax = fig.add_subplot(1, 2, 1); ax1 = fig.add_subplot(1, 2, 2)\n",
    "ax.plot(ox, SO4_year); ax1.plot(ox, TA_year)\n",
    "ax.set_ylabel('SO$_4^{2-}$'); ax1.set_ylabel('TA');"
   ]
  },
  {
   "cell_type": "markdown",
   "metadata": {},
   "source": [
    "The main difference from $\\text{Ca}^{2 +}$ is that $\\text{SO}_{4}^{2 -}$ is negatively charged.\n",
    "So decrease of $\\text{SO}_{4}^{2 -}$ by 100 $\\text{mM m}^{- 3}$ increases TA by 200 $\\text{mM m}^{- 3}$.\n",
    "Also, since $\\text{SO}_{4}^{2 -}$ is a mayor ion and very abundant in seawater sulfate reduction has a tremendous potential to increase alkalinity.\n",
    "Therefore, sulfate reduction can be the most important reaction while considering alkalinity generation due to biogeochemical processes in the coastal area."
   ]
  },
  {
   "cell_type": "markdown",
   "metadata": {},
   "source": [
    "We have another quite abundant in the coastal area negatively charged conservative ion - $\\text{NO}_{3}^{-}$.\n",
    "But according to $\\text{TA}_{\\text{ec}}$ expression it changes TA only by one mole per mole of $\\text{NO}_{3}^{-}$ consumed / excreted.\n",
    "Also, the concentration of $\\text{NO}_{3}^{-}$ even being high are far lower comparing to $\\text{SO}_{4}^{2 -}$ ion.\n",
    "Anyway, we cannot ignore $\\text{NO}_{3}^{-}$ mainly because it precedes $\\text{SO}_{4}^{2 -}$ in a sequence of relative energetics of microbially mediated redox reactions (Stumm, W. S., and J. J. Morgan (1981). Aquatic Chemistry, John Wiley & Sons, Inc., p. 460)."
   ]
  },
  {
   "cell_type": "markdown",
   "metadata": {},
   "source": [
    "$\\text{MnO}_2$ and $\\text{FeOOH}$ electron acceptors are also energetically preferable to $\\text{SO}_{4}^{2 -}$ for OM oxidation.\n",
    "But in the biogeochemical model, we can omit $\\text{MnO}_2$ and $\\text{FeOOH}$ electron acceptors.\n",
    "With these processes, there will be less OM available for sulfate reduction, but since there is no $\\text{Fe}^{2+}$ and $\\text{Mn}^{2+}$ in $\\text{TA}_{\\text{ec}}$ expression iron and manganese reduction produces less alkalinity then sulfate reduction.\n",
    "Also, $\\text{MnO}_2$ and $\\text{FeOOH}$ can oxidize reduced sulfur compounds to sulfate, it will decrease TA according to $\\text{TA}_{\\text{ec}}$ expression.\n",
    "We can omit these variables since this assumption does not underestimate TA generation what is in the scope of our goals.\n",
    "Also, the contents of both $\\text{FeOOH}$ and $\\text{Mn}^{4+}$ in the sediments of the Wadden Sea are quite low ([de Beer et al., 2005]).\n",
    "\n",
    "\n",
    "[de Beer et al., 2005]: https://doi.org/10.4319/lo.2005.50.1.0113"
   ]
  }
 ],
 "metadata": {
  "file_extension": ".py",
  "kernelspec": {
   "display_name": "Python 3",
   "language": "python",
   "name": "python3"
  },
  "language_info": {
   "codemirror_mode": {
    "name": "ipython",
    "version": 3
   },
   "file_extension": ".py",
   "mimetype": "text/x-python",
   "name": "python",
   "nbconvert_exporter": "python",
   "pygments_lexer": "ipython3",
   "version": "3.7.4"
  },
  "mimetype": "text/x-python",
  "name": "python",
  "npconvert_exporter": "python",
  "pygments_lexer": "ipython3",
  "version": 3
 },
 "nbformat": 4,
 "nbformat_minor": 4
}
