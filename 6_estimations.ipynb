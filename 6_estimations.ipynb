{
 "cells": [
  {
   "cell_type": "markdown",
   "metadata": {},
   "source": [
    "### Some calculations prepared for the manuscript"
   ]
  },
  {
   "cell_type": "code",
   "execution_count": 81,
   "metadata": {},
   "outputs": [],
   "source": [
    "import pandas as pd\n",
    "import xarray as xr"
   ]
  },
  {
   "cell_type": "code",
   "execution_count": 82,
   "metadata": {},
   "outputs": [
    {
     "name": "stdout",
     "output_type": "stream",
     "text": "\u001b[0m\u001b[01;34m10_po75-25_di35e-9\u001b[0m/  \u001b[01;34m3_po75-25_di2e-9\u001b[0m/   \u001b[01;34m6_po75-25_di15e-9\u001b[0m/  \u001b[01;34m9_po75-25_di30e-9\u001b[0m/\n\u001b[01;34m1_po75-25_di0e-9\u001b[0m/    \u001b[01;34m4_po75-25_di5e-9\u001b[0m/   \u001b[01;34m7_po75-25_di20e-9\u001b[0m/\n\u001b[01;34m2_po75-25_di1e-9\u001b[0m/    \u001b[01;34m5_po75-25_di10e-9\u001b[0m/  \u001b[01;34m8_po75-25_di25e-9\u001b[0m/\n"
    }
   ],
   "source": [
    "ls data/low_sulfate_reduction_rate/"
   ]
  },
  {
   "cell_type": "code",
   "execution_count": 83,
   "metadata": {},
   "outputs": [],
   "source": [
    "base_path = 'data/low_sulfate_reduction_rate_2'"
   ]
  },
  {
   "cell_type": "code",
   "execution_count": 84,
   "metadata": {},
   "outputs": [],
   "source": [
    "ds1 = xr.open_dataset('{}/1_po75-25_di0e-9/water.nc'.format(base_path))\n",
    "ds2 = xr.open_dataset('{}/2_po75-25_di1e-9/water.nc'.format(base_path))\n",
    "ds3 = xr.open_dataset('{}/3_po75-25_di2e-9/water.nc'.format(base_path))\n",
    "ds4 = xr.open_dataset('{}/4_po75-25_di5e-9/water.nc'.format(base_path))\n",
    "ds5 = xr.open_dataset('{}/5_po75-25_di10e-9/water.nc'.format(base_path))\n",
    "ds6 = xr.open_dataset('{}/6_po75-25_di15e-9/water.nc'.format(base_path))\n",
    "ds7 = xr.open_dataset('{}/7_po75-25_di20e-9/water.nc'.format(base_path))\n",
    "ds8 = xr.open_dataset('{}/8_po75-25_di25e-9/water.nc'.format(base_path))\n",
    "ds9 = xr.open_dataset('{}/9_po75-25_di30e-9/water.nc'.format(base_path))\n",
    "ds10 = xr.open_dataset('{}/10_po75-25_di35e-9/water.nc'.format(base_path))"
   ]
  },
  {
   "cell_type": "code",
   "execution_count": 85,
   "metadata": {},
   "outputs": [],
   "source": [
    "ds = ds10"
   ]
  },
  {
   "cell_type": "code",
   "execution_count": 86,
   "metadata": {},
   "outputs": [],
   "source": [
    "alk_df     = ds['B_C_Alk'].to_dataframe()\n",
    "alk_surface    = alk_df.groupby('z').get_group(0.625)\n",
    "alk_surface_year = alk_surface.loc['2011-01-01':'2011-12-31']"
   ]
  },
  {
   "cell_type": "code",
   "execution_count": 87,
   "metadata": {},
   "outputs": [],
   "source": [
    "alk_surface_year = alk_surface_year.reset_index()"
   ]
  },
  {
   "cell_type": "code",
   "execution_count": 88,
   "metadata": {},
   "outputs": [
    {
     "data": {
      "text/plain": "2397.043212890625"
     },
     "execution_count": 88,
     "metadata": {},
     "output_type": "execute_result"
    }
   ],
   "source": [
    "alk_surface_year['B_C_Alk'].mean()"
   ]
  },
  {
   "cell_type": "code",
   "execution_count": null,
   "metadata": {},
   "outputs": [],
   "source": []
  }
 ],
 "metadata": {
  "jupytext": {
   "text_representation": {
    "extension": ".Rmd",
    "format_name": "rmarkdown",
    "format_version": "1.0",
    "jupytext_version": "0.8.6"
   }
  },
  "kernelspec": {
   "display_name": "Python 3",
   "language": "python",
   "name": "python3"
  },
  "language_info": {
   "codemirror_mode": {
    "name": "ipython",
    "version": 3
   },
   "file_extension": ".py",
   "mimetype": "text/x-python",
   "name": "python",
   "nbconvert_exporter": "python",
   "pygments_lexer": "ipython3",
   "version": "3.7.2"
  }
 },
 "nbformat": 4,
 "nbformat_minor": 2
}