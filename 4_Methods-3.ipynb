{
 "cells": [
  {
   "cell_type": "markdown",
   "metadata": {},
   "source": [
    "### Methods 3 - the biogeochemical and transport model parameters identification, validation"
   ]
  },
  {
   "cell_type": "markdown",
   "metadata": {},
   "source": [
    "The resulting biogeochemical model has 51 parameters in total whose values need identification.\n",
    "Also, we have to establish the parameters required by the transport model:\n",
    "1) the advective exchange coefficient $K_{h}$, which to a large degree limits OM production in the 1-dimensional model ($K_{h}$ defines nutrient inputs required for local primary production) and\n",
    "2) the sediment dispersion coefficient ($kz_{\\text{dispersion}}$) and sediment porosity ($\\phi$), which determine vertical mixing in the sediment domain."
   ]
  },
  {
   "cell_type": "markdown",
   "metadata": {},
   "source": [
    "#### Organic matter production and destruction parameter values\n",
    "\n",
    "The Non-Linear Least-Squares Fitting method is applied to find the horizontal diffusivity coefficient $K_{h}$,\n",
    "photosynthetic efficiency at low irradiance ($\\alpha$),\n",
    "the maximum hourly rate of photosynthesis normalized to chlorophyll biomass ($p_{m}^{B}$),\n",
    "half-saturation constants for nutrient uptake by autotrophs ($Ks_{PO_{4}^{3 -}}$, $Ks_{\\text{Si}}$, $Ks_{NH_{4}^{+}}$, $Ks_{NO_{x}}$), autotrophs mortality coefficient ($K_{phy\\_ mortality}$), and three coefficients controlling heterotroph rates of grazing and dying: heterotroph grazing on autotrophs\n",
    "$K_{het\\_ phy}$, a half-saturation constant of heterotroph to autotroph ratio $Ks_{het\\_ phy\\_ ratio}$, a heterotroph rate of mortality $K_{het\\_ mortality}$.\n",
    "A chi-square statistic (a cost function) is constructed using $\\text{Chlorophyll a}$ data as a target variable (output, or $y$).\n",
    "These parameters are responsible for the autotrophs' seasonality and primary production.\n",
    "The values of the heterotroph grazing on the $\\text{POM}$ rate $K_{het\\_ pom}$ and a half-saturation constant for the heterotroph to $\\text{POM}$ ratio\n",
    "$Ks_{het\\_ pom\\_ ratio}$ are not determined separately, but the corresponding values for phytoplankton are adopted.\n",
    "\n",
    "To use the Non-Linear Least-Squares Fitting method, the biogeochemical model is implemented in Python as a box model (which consists of only one layer) and then the LMFIT module ([Newville et al., 2014]) is applied.\n",
    "The biogeochemial model is in `brom_functions.py` file.\n",
    "Biogeochemical model parameters identification routines are in `s_3_biogeochemical_model_parameters_identification.ipynb`.\n",
    "In the Python box model, the same reactions responsible for autotroph growth are present as in the original model, but the grid is restricted to a single layer permanently mixed box.\n",
    "The parameters are identified for the box model and then applied to the multilayer model (which is written in Fortran).\n",
    "All results from multilayer model are tested to fit the Wadden Sea total OM production estimation approximately 300 $\\text{g m}^{- 2}\\ \\text{year}^{- 1}$ according to ([van Beusekom et al., 1999]) - `s_4_OM_production_validation.ipynb` (if not the production is adjusted by changing the maximum hourly rate of photosynthesis ($p_{m}^{B}$)).\n",
    "\n",
    "Along with additional advective input of OM (110 $\\text{g m}^{- 2}\\ \\text{year}^{- 1}$) according to (van Beusekom et al., 1999) the total OM input into the water domain during a year equals the total remineralization (419 $\\text{g m}^{2}\\ \\text{year}^{- 1}$) reported in a carbon budget of the Sylt-Rømø basin ([van Beusekom et al., 1999]).\n",
    "We use this value as an approximation of the total OM available for remineralization in the Wadden Sea.\n",
    "Thus, the model parameters related to organic matter production are identified to fit the seasonality of $\\text{Chlorophyll a}$ concentrations and the total OM input to the Wadden Sea.\n",
    "\n",
    "[Newville et al., 2014]: https://dx.doi.org/10.5281/zenodo.11813\n",
    "[van Beusekom et al., 1999]: https://link.springer.com/article/10.1007/BF02764176"
   ]
  },
  {
   "cell_type": "markdown",
   "metadata": {},
   "source": [
    "| Parameter   | Notation    | Units       | Value (Range)      | Source      |\n",
    "|:-----------:|:-----------:|:-----------:|:------------------:|:-----------:|\n",
    "| Photosynthetic effeciency at low irradiance | $\\alpha$ | $$\\text{mg}\\ C\\ (\\text{mg}\\ \\text{Chl a}\\ h)^{- 1}\\ (\\mu M\\ \\text{quanta}\\ m^{- 2}\\ s^{- 1})^{- 1}$$ | 0.089 | LMFIT |\n",
    "| Maximum hourly rate of photosynthesis | $p_{m}^{B}$ | $$\\text{mg}\\ C\\ (\\text{mg}\\ \\text{Chl a}\\ h)^{- 1}$$ | 2.6 - 2.96 | LMFIT |\n",
    "| Half-saturation constant of $\\text{PO}_{4}^{3 -}$ uptake by $\\text{Phy}$ | $Ks_{\\text{PO}_{4}^{3 -}}$ | $${\\text{mM }\\text{P m}}^{- 3}$$ | 0.1 | LMFIT |\n",
    "| Half-saturation constant of $\\text{Si}$ uptake by $\\text{Phy}$ | $Ks_{\\text{Si}}$ | $$\\text{mM Si m}^{-3}$$ | 0.1 | LMFIT |\n",
    "| Half-saturation constant of $\\text{NH}_{4}^{+}$ uptake by $\\text{Phy}$ | $Ks_{\\text{NH}_{4 }^{+}}$ | $${\\text{mM}\\text{N m}}^{- 3}$$ | 7 | LMFIT |\n",
    "| Half-saturation constant of $\\text{NO}_{2}^{-}$ and $\\text{NO}_{3}^{-}$ uptake by $\\text{Phy}$ | $Ks_{NO_{x}}$ | $${\\text{mM}\\text{N m}}^{- 3}$$ | 14.9 | LMFIT |\n",
    "| $\\text{Phy}$ rate of mortality | $K_{phy\\_mortality}$ | $d^{- 1}$ | 1e-5 | LMFIT |\n",
    "| $\\text{Phy}$ rate of excretion | $K_{phy\\_excrete}$ | $d^{- 1}$ | 0.015 | ([Yakushev et al., 2017]) |\n",
    "| $\\text{Het}$ grazing on $\\text{Phy}$ | $K_{het\\_phy}$ | $d^{- 1}$ | 0.2 | LMFIT |\n",
    "| Half-saturation constant of $\\text{Het}$ to $\\text{Phy}$ ratio | $Ks_{het\\_phy\\_ ratio}$ | - | 0.3 | LMFIT |\n",
    "| $\\text{Het}$ grazing on $\\text{POM}$ rate | $K_{het\\_pom}$ | $d^{- 1}$ | 0.2 | LMFIT |\n",
    "| Half-saturation constant of $\\text{Het}$ to $\\text{POM}$ ratio | $Ks_{het\\_pom\\_ ratio}$ | - | 0.3 | LMFIT |\n",
    "| $\\text{Het}$ rate of respiration | $K_{het\\_mortality}$ | $d^{- 1}$ | 0.015 | ([Yakushev et al., 2017]) |\n",
    "| $\\text{Het}$ rate of mortality | $K_{het\\_mortality}$ | $d^{- 1}$ | 0.0225 | LMFIT |\n",
    "| $\\text{Het}$ food absorbency | $\\text{Uz}$ | - | 0.5 | ([Yakushev et al., 2017]) |\n",
    "| $\\text{Het}$ ratio between dissolved and particulate excretion | $\\text{Hz}$ | - | 0.5 | ([Yakushev et al., 2017]) |\n",
    "\n",
    "\n",
    "[Yakushev et al., 2017]: https://doi.org/10.5194/gmd-10-453-2017"
   ]
  },
  {
   "cell_type": "markdown",
   "metadata": {},
   "source": [
    "OM oxygen respiration rate and sulfate reduction rate coefficients are adjusted to fit oxygen consumption rate and sulfate reduction rate measured in sandy intertidal sediments of Sylt-Rømø Basin, Wadden Sea reported by de Beer et al., (2005).\n",
    "Denitrification rate coefficients are adopted from relative cell yield values from Krumins et al., (2013)."
   ]
  },
  {
   "cell_type": "markdown",
   "metadata": {},
   "source": [
    "| Parameter   | Notation    | Units       | Value (Range)      | Source      |\n",
    "|:-----------:|:-----------:|:-----------:|:------------------:|:-----------:|\n",
    "| $\\text{POM}$ to $\\text{DOM}$ autolysis | $$K_{pom\\_ dom}$$ | $$d^{- 1}$$ | 0.15 | (Yakushev et al., 2017) |\n",
    "| $\\text{DOM}$ oxygen respiration | $$K_{O_{2}dom\\_ hydrolysis}$$ | $$d^{- 1}$$ | 0.1 | Section 2.3.1 |\n",
    "| $\\text{POM}$ oxygen respiration | $$K_{O_{2}pom\\_ hydrolysis}$$ | $$d^{- 1}$$ | 0.002 | Section 2.3.1 |\n",
    "| Half-saturation constant of $O_{2}$ for OM oxygen respiration | $$Ks_{O_{2}}$$ | $$\\text{mM O}_{2}\\ m^{- 3}$$ | 1 | (Yakushev et al., 2017) |\n",
    "| $\\text{DOM}$ denitrification 1st stage | $$K_{NO_{3}^{-}dom\\_ hydrolysis}$$ | $$d^{- 1}$$ | 0.075 | Section 2.3.1 |\n",
    "| $\\text{POM}$ denitrification 1st stage | $$K_{NO_{3}^{-}pom\\_ hydrolysis}$$ | $$d^{- 1}$$ | 0.0015 | Section 2.3.1 |\n",
    "| Half-saturation constant of $\\text{NO}_{3}^{-}$ for OM denitrification | $$Ks_{NO_{3}^{-}}$$ | $$\\text{mM NO}_{3}^{-}\\ m^{- 3}$$ | 0.1 | (Yakushev et al., 2017) |\n",
    "| Half-saturation constant of $O_{2}$ for OM denitrification | $$Ks_{O_{2}\\text{forN}O_{3}^{-}}$$ | $$\\text{mM O}_{2}\\ m^{- 3}$$ | 10 | (Yakushev et al., 2017) |\n",
    "| $\\text{DOM}$ denitrification 2st stage | $$K_{NO_{2}^{-}dom\\_ hydrolysis}$$ | $$d^{- 1}$$ | 0.075 | Section 2.3.1 |\n",
    "| $\\text{POM}$ denitrification 2st stage | $$K_{NO_{2}^{-}pom\\_ hydrolysis}$$ | $$d^{- 1}$$ | 0.0015 | Section 2.3.1 |\n",
    "| Half-saturation constant of $\\text{NO}_{2}^{-}$ for $\\text{OM}$ denitrification | $$Ks_{NO_{2}^{-}}$$ | $$\\text{mM\\ NO}_{2}^{-}\\ m^{- 3}$$ | 0.1 | (Yakushev et al., 2017) |\n",
    "| $\\text{DOM}$ sulfate reduction | $$K_{SO_{4}^{2 -}dom\\_ hydrolysis}$$ | $$d^{- 1}$$ | 0.1 | Section 2.3.1 |\n",
    "| $\\text{POM}$ sulfate reduction | $$K_{SO_{4}^{2 -}pom\\_ hydrolysis}$$ | $$d^{- 1}$$ | 0.002 | Section 2.3.1 |\n",
    "| Half-saturation constant of $\\text{SO}_{4}^{2 -}$ for OM sulfate reduction | $$Ks_{SO_{4}^{2 -}}$$ | $$\\text{mM SO}_{4}^{2 -}\\ m^{- 3}$$ | 1 | (Yakushev et al., 2017) |\n",
    "| Half-saturation constant of $O_{2}$ for OM sulfate reduction | $$Ks_{O_{2}\\text{forS}O_{4}^{2 -}}$$ | $$\\text{mM O}_{2}\\ m^{- 3}$$ | 25 | (Yakushev et al., 2017) |\n",
    "| Half-saturation constant of $\\text{NO}_{3}^{-}$ for OM sulfate reduction | $$Ks_{NO_{3}\\text{forS}O_{4}^{2 -}}$$ | $$\\text{mM NO}_{3}^{-}\\ m^{- 3}$$ | 5 | (Yakushev et al., 2017) |\n",
    "| Reference temperature | $$T_{\\text{ref}}$$ | $^{\\circ}$C | 2 |  |\n",
    "| Temperature factor | $$q_{10}$$ | - | 2 | (Soetaert and Herman, 2009) |"
   ]
  },
  {
   "cell_type": "markdown",
   "metadata": {},
   "source": [
    "#### Dispersion coefficient $\\mathbf{k}\\mathbf{z}_{\\mathbf{\\text{dispersion}}}$ and other parameter values\n",
    "\n",
    "We do not include explicit tidal dynamics into our calculations.\n",
    "Instead, we introduce a dispersion coefficient (Boudreau, 1997) in the\n",
    "sediment domain to reproduce different vertical mixing conditions. The\n",
    "Wadden sea sediments can be roughly separated into two zones with\n",
    "different permeability: sands cover approximately 70$\\%$, and muds cover\n",
    "approximately 30$\\%$ (de Beer et al., 2005). About 50$\\%$ of the\n",
    "sediments in the Wadden Sea are exposed during low tide, and tidal flats\n",
    "consist mostly of sands (de Beer et al., 2005). While the muddy\n",
    "environment is reported to have higher OM content, the sands are more\n",
    "permeable for electron acceptors and for new organic material from the\n",
    "overlying water (de Beer et al., 2005). Alkalinity generation, which\n",
    "needs both supply of electron acceptors and OM occurs mostly in sandy\n",
    "environments (de Beer et al., 2005). The average porosity ($\\phi$) of\n",
    "the upper 10 cm of sandy sediments in the Wadden Sea is approximately\n",
    "0.43 - roughly the average value of all porosity values found in (Jensen\n",
    "et al., 1996; de Beer et al., 2005). Many different vertical mixing\n",
    "regimes in sandy sediments of the Wadden Sea exist. (Neumann et al.,\n",
    "2017) using estimations of the vertical advective fluxes of nitrates in\n",
    "sediments of the German Bight calculated Peclet numbers for permeable\n",
    "sediments, which varied from 1 to 1000. Using a relation between\n",
    "dispersion coefficients and Peclet numbers (Boudreau, 1997) it is\n",
    "possible to evaluate the range for dispersion coefficient values. For\n",
    "Peclet numbers around 1, the dispersion coefficient is approximately\n",
    "equal to the molecular diffusion coefficient of\n",
    "approximately$\\ 1 \\cdot 10^{- 9}m^{2}\\text{se}c^{- 1}$. For Peclet\n",
    "numbers around 1000, the dispersion coefficient is approximately 2500\n",
    "times larger than the molecular diffusion coefficient. Therefore, we\n",
    "applied a wide range for $kz_{\\text{dispersion}}$ in our series of runs,\n",
    "simulating different vertical mixing conditions in sediments starting\n",
    "from 0. Hence, we can reproduce different alkalinity fluxes from those\n",
    "regions of the Wadden Sea with mostly advective vertical mixing\n",
    "conditions in sediments to regions with prevailing diffusive vertical\n",
    "mixing. We cannot apply these calculations to specific regions since the\n",
    "vertical advective conditions can change significantly within short\n",
    "distances. Using this approach, we can determine the possible range of\n",
    "values of $\\text{TA}$ and $\\text{TA}$ fluxes at the SWI in the Wadden\n",
    "Sea."
   ]
  },
  {
   "cell_type": "markdown",
   "metadata": {},
   "source": [
    "| Parameter   | Notation    | Units       | Value (Range)      | Source      |\n",
    "|:-----------:|:-----------:|:-----------:|:------------------:|:-----------:|\n",
    "| Horizontal diffusivity coefficient | $$K_{h}$$ | $$\\mathrm{m}^{\\mathrm{2}}\\mathrm{s}^{\\mathrm{- 1}}$$ | 713 | LMFIT |\n",
    "| Vertical dispersion coefficient in sediments | $$kz_{\\text{dispersion}}$$ | $$\\mathrm{m}^{\\mathrm{2}}\\mathrm{s}^{\\mathrm{- 1}}$$ | 1e-9 - 35e-9 | Section 2.3.2 |\n",
    "| Porosity | $$\\phi$$ | - | 0.43 | Section 2.3.2 |"
   ]
  },
  {
   "cell_type": "markdown",
   "metadata": {},
   "source": [
    "The reaction parameters for anammox, nitrification and the sulfur cycle\n",
    "are taken from (Yakushev et al., 2017). Anammox does not change\n",
    "$\\text{TA}$ directly (it does not affect the total charge in Eq. 1), the\n",
    "loss of nitrogen compounds is compensated by the horizontal advection\n",
    "reproduced in the transport model. Due to the same reasoning\n",
    "nitrification rates have a minor influence on our assessment. Sulfur\n",
    "cycle reaction rates are discussed in the section 3. The rest of the\n",
    "parameters are adapted from (Yakushev et al., 2017). Uncertainties due\n",
    "to adaptation of some parameters from literature are compensated by\n",
    "using parameter values identified explicitly by the Non-Linear\n",
    "Least-Squares Fitting method."
   ]
  },
  {
   "cell_type": "markdown",
   "metadata": {},
   "source": [
    "#### Validation\n",
    "\n",
    "According to reasoning provided in the Methods 1 section the most important reactions for alkalinity generation are OM degradation reactions.\n",
    "Therefore, for proper alkalinity evaluation, we should have the correct values of OM production and its timing.\n",
    "As mentioned previously, we identified the parameters (and forcing) of the transport and biogeochemical models to fit the seasonality of $\\text{Chlorophyll a}$ concentrations and the total OM input to the Wadden Sea.\n",
    "The rates of OM degradation reactions are also identified to fit the reported values.\n",
    "However, there are still several factors can influence our maximum alkalinity generation in the Wadden Sea assessment."
   ]
  },
  {
   "cell_type": "markdown",
   "metadata": {},
   "source": [
    "First, we skipped a fact of low tide for the sake of simplicity.\n",
    "The actual process of sedimentary alkalinity generation in the coastal area, such as the Wadden Sea is split into different stages depending on the tidal phase.\n",
    "Alkalinity generation requires new organics and oxidizers, which incoming tide delivers.\n",
    "During air exposure, there are stagnant conditions in the sediments ([de Beer et al., 2005]; Al-Raei et al., 2009), which means that no additional organic matter and electron acceptors are available.\n",
    "Therefore, low tide means sedimentary biogeochemical processes get fewer reagents for reactions so that it could mean less extensive reaction OM degradation rates but not necessary.\n",
    "\n",
    "[de Beer et al., 2005]: https://doi.org/10.4319/lo.2005.50.1.0113"
   ]
  },
  {
   "cell_type": "code",
   "execution_count": null,
   "metadata": {},
   "outputs": [],
   "source": []
  }
 ],
 "metadata": {
  "kernelspec": {
   "display_name": "Python 3",
   "language": "python",
   "name": "python3"
  },
  "language_info": {
   "codemirror_mode": {
    "name": "ipython",
    "version": 3
   },
   "file_extension": ".py",
   "mimetype": "text/x-python",
   "name": "python",
   "nbconvert_exporter": "python",
   "pygments_lexer": "ipython3",
   "version": "3.7.6"
  }
 },
 "nbformat": 4,
 "nbformat_minor": 4
}
